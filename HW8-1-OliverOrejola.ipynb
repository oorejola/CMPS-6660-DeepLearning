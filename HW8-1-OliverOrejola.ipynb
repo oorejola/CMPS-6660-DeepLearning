{
 "cells": [
  {
   "cell_type": "markdown",
   "id": "312de16c",
   "metadata": {},
   "source": [
    "# HW 8-1\n",
    "# Pretrained model: Computer Vision\n"
   ]
  },
  {
   "cell_type": "markdown",
   "id": "4cc1dfcc",
   "metadata": {},
   "source": [
    "For this assignment we study the processes transfer learning. That is, we train a convolutional network for one task as to obtain filters which we use for another task. In particular, here we train a model on digits 0-4, then we work towards training a model on a limited data set of digits 5-9. Through out we use a validation split of 20%.\n",
    "\n",
    "The code below includes 7 models.\n",
    "\n",
    "**Model 1** Is a convolutional network trained on digits 0-4. This model is used as the base for models 5, 6, and 7. We use an `RMSprop` optimizer with default learning rate of 0.001.\n",
    "\n",
    "Train accuracy: `0.998`\n",
    "Test accuracy: `0.998`\n",
    "\n",
    "The optimal number of epochs is `7`.\n",
    "\n",
    "**Model 2** Is a Naive convolutional network trained on limited data set of digits 5-9 (50 samples total). We use an `RMSprop` optimizer with default learning rate of 0.001.\n",
    "\n",
    "Train accuracy: `0.980`\n",
    "Test accuracy: `0.728`\n",
    "\n",
    "**Model 3** Is a convolutional network with an addition of a data augmentation layer trained on limited data set of digits 5-9 (50 samples total). We use an `RMSprop` optimizer with default learning rate of 0.001. The data augmentation layer uses a random flip, random rotation, and random zoom.\n",
    "\n",
    "Train accuracy: `0.800`\n",
    "Test accuracy: `0.580`\n",
    "\n",
    "As expected, with the addition of random flips this model preforms poorly. Flips remove the meaning of an image as orientation is important. For example flipping 6 removes the meaning of it being 6.\n",
    "\n",
    "**Model 4** Is a convolutional network with an addition of a data augmentation layer trained on limited data set of digits 5-9 (50 samples total). We use an `RMSprop` optimizer with default learning rate of 0.001. The data augmentation layer uses gaussian noise and random zoom.\n",
    "\n",
    "Train accuracy: `0.920`\n",
    "Test accuracy: `0.720`\n",
    "\n",
    "We see there is significant improvement over model 3 as the data augmentation preserves the meaning of each image. In particular we preserve the orientation of each image.\n",
    "\n",
    "\n",
    "**Model 5** This model uses a pretrained network, no fine tuning. Here we use the Convolutional layers trained in Model 1. A final dense layeris trained on limited data set of digits 5-9 (50 samples total). We use an `RMSprop` optimizer with default learning rate of 0.0001. The data augmentation layer uses gaussian noise and random zoom.\n",
    "\n",
    "Train accuracy: `0.980`\n",
    "Test accuracy: `0.852`\n",
    "\n",
    "\n",
    "**Model 6** This model uses a pretrained network and fine tuning (k=1). Here we use the Convolutional layers trained in Model 1 and we fine tune the last convolutional layer from Model 1. A final dense layeris trained on limited data set of digits 5-9 (50 samples total). We use an `RMSprop` optimizer with default learning rate of 0.0001. The data augmentation layer uses gaussian noise and random zoom.\n",
    "\n",
    "Train accuracy: `0.980`\n",
    "Test accuracy: `0.866`\n",
    "\n",
    "\n",
    "**Model 7** This model uses a pretrained network and fine tuning (k=2). Here we use the Convolutional layers trained in Model 1 and we fine tune the last two convolutional layers from Model 1. A final dense layeris trained on limited data set of digits 5-9 (50 samples total). We use an `RMSprop` optimizer with default learning rate of 0.0001. The data augmentation layer uses gaussian noise and random zoom.\n",
    "\n",
    "Train accuracy: `0.980`\n",
    "Test accuracy: `0.854`"
   ]
  },
  {
   "cell_type": "markdown",
   "id": "35a0ce0f",
   "metadata": {},
   "source": [
    "## Summary\n",
    "\n",
    "The use of a pretrained network and data augmentation proves to be a valid option for training on a limited data set. We observe that a Naive Model (Model 2) performs very poorly. i.e. very low test accuracy (0.728). Using a  the covolutional layers trained on 0-4 (Model 1) as well as orientation preserving data augmentation (Model 5) we can obtain significant improvement from Model 1, even though we are only training on a very limited data set. "
   ]
  },
  {
   "cell_type": "markdown",
   "id": "07c6b7ae",
   "metadata": {},
   "source": [
    "## Experiments"
   ]
  },
  {
   "cell_type": "code",
   "execution_count": 1,
   "id": "7c43a6b0",
   "metadata": {},
   "outputs": [],
   "source": [
    "import numpy as np\n",
    "from tensorflow.keras.datasets import mnist\n",
    "from tensorflow import keras\n",
    "import tensorflow as tf\n",
    "from tensorflow.keras import layers\n",
    "import matplotlib.pyplot as plt"
   ]
  },
  {
   "cell_type": "code",
   "execution_count": 2,
   "id": "cafd5892",
   "metadata": {},
   "outputs": [],
   "source": [
    "(train_images, train_labels), (test_images, test_labels) = mnist.load_data()\n",
    "train_images = train_images.reshape((60000, 28, 28,1)) ## Check the shape\n",
    "train_images = train_images.astype(\"float32\") / 255\n",
    "test_images = test_images.reshape((10000, 28, 28,1)) ## Check the shape\n",
    "test_images = test_images.astype(\"float32\") / 255"
   ]
  },
  {
   "cell_type": "markdown",
   "id": "b08ddd2f",
   "metadata": {},
   "source": [
    "**Training set 1:**\n",
    "Contains all examples of digits 0 – 4 from the original training set."
   ]
  },
  {
   "cell_type": "code",
   "execution_count": 3,
   "id": "16085013",
   "metadata": {},
   "outputs": [],
   "source": [
    "train_images_0 = train_images[np.where(train_labels==0)] #Get images with labeled 0\n",
    "train_images_1 = train_images[np.where(train_labels==1)] #Get images with labeled 1\n",
    "train_images_2 = train_images[np.where(train_labels==2)] #Get images with labeled 2\n",
    "train_images_3 = train_images[np.where(train_labels==3)] #Get images with labeled 3\n",
    "train_images_4 = train_images[np.where(train_labels==4)] #Get images with labeled 4\n",
    "\n",
    "train_set_1_images_ordered = np.concatenate((train_images_0,\n",
    "                                     train_images_1,\n",
    "                                     train_images_2,\n",
    "                                     train_images_3,\n",
    "                                     train_images_4))\n",
    "\n",
    "train_set_1_labels_ordered  = np.concatenate((np.repeat(0,train_images_0.shape[0]),\n",
    "                                    np.repeat(1,train_images_1.shape[0]),\n",
    "                                    np.repeat(2,train_images_2.shape[0]),\n",
    "                                    np.repeat(3,train_images_3.shape[0]),\n",
    "                                    np.repeat(4,train_images_4.shape[0])))\n",
    "\n",
    "\n",
    "#Let’s permute training data\n",
    "indices_permutation = np.random.permutation(len(train_set_1_labels_ordered))\n",
    "\n",
    "train_set_1_images = train_set_1_images_ordered[indices_permutation]\n",
    "train_set_1_labels = train_set_1_labels_ordered[indices_permutation]"
   ]
  },
  {
   "cell_type": "markdown",
   "id": "7a362cd3",
   "metadata": {},
   "source": [
    "**Test set 1:** Contains all examples of digits 0-4 from the original test set."
   ]
  },
  {
   "cell_type": "code",
   "execution_count": 4,
   "id": "267813b1",
   "metadata": {},
   "outputs": [],
   "source": [
    "test_images_0 = test_images[np.where(test_labels==0)] #Get images with labeled 0\n",
    "test_images_1 = test_images[np.where(test_labels==1)] #Get images with labeled 1\n",
    "test_images_2 = test_images[np.where(test_labels==2)] #Get images with labeled 2\n",
    "test_images_3 = test_images[np.where(test_labels==3)] #Get images with labeled 3\n",
    "test_images_4 = test_images[np.where(test_labels==4)] #Get images with labeled 4\n",
    "\n",
    "test_set_1_images_ordered = np.concatenate((test_images_0,\n",
    "                                     test_images_1,\n",
    "                                     test_images_2,\n",
    "                                     test_images_3,\n",
    "                                     test_images_4))\n",
    "\n",
    "test_set_1_labels_ordered  = np.concatenate((np.repeat(0,test_images_0.shape[0]),\n",
    "                                    np.repeat(1,test_images_1.shape[0]),\n",
    "                                    np.repeat(2,test_images_2.shape[0]),\n",
    "                                    np.repeat(3,test_images_3.shape[0]),\n",
    "                                    np.repeat(4,test_images_4.shape[0])))\n",
    "\n",
    "\n",
    "#Let’s permute test data\n",
    "indices_permutation = np.random.permutation(len(test_set_1_labels_ordered))\n",
    "\n",
    "test_set_1_images = test_set_1_images_ordered[indices_permutation]\n",
    "test_set_1_labels = test_set_1_labels_ordered[indices_permutation]"
   ]
  },
  {
   "cell_type": "markdown",
   "id": "a6815881",
   "metadata": {},
   "source": [
    "**Training set 2:**\n",
    "Contains the first 10 examples of digits 5 – 9 from the original training set."
   ]
  },
  {
   "cell_type": "code",
   "execution_count": 5,
   "id": "3534f6ae",
   "metadata": {},
   "outputs": [],
   "source": [
    "train_images_5 = train_images[np.where(train_labels==5)][0:10] #Get 10 images with labeled 5\n",
    "train_images_6 = train_images[np.where(train_labels==6)][0:10] #Get 10 images with labeled 6\n",
    "train_images_7 = train_images[np.where(train_labels==7)][0:10] #Get 10 images with labeled 7\n",
    "train_images_8 = train_images[np.where(train_labels==8)][0:10] #Get 10 images with labeled 8\n",
    "train_images_9 = train_images[np.where(train_labels==9)][0:10] #Get 10 images with labeled 9\n",
    "\n",
    "train_set_2_images_ordered = np.concatenate((train_images_5,\n",
    "                                     train_images_6,\n",
    "                                     train_images_7,\n",
    "                                     train_images_8,\n",
    "                                     train_images_9))\n",
    "\n",
    "train_set_2_labels_ordered  = np.concatenate((np.repeat(5,10),\n",
    "                                    np.repeat(6,10),\n",
    "                                    np.repeat(7,10),\n",
    "                                    np.repeat(8,10),\n",
    "                                    np.repeat(9,10)))\n",
    "\n",
    "\n",
    "#Let’s permute training data\n",
    "indices_permutation = np.random.permutation(len(train_set_2_labels_ordered))\n",
    "\n",
    "train_set_2_images = train_set_2_images_ordered[indices_permutation]\n",
    "train_set_2_labels = train_set_2_labels_ordered[indices_permutation]"
   ]
  },
  {
   "cell_type": "markdown",
   "id": "7525c599",
   "metadata": {},
   "source": [
    "**Test set 2:**\n",
    "Contains the first 10 examples of digits 5 – 9 from the original training set."
   ]
  },
  {
   "cell_type": "code",
   "execution_count": 6,
   "id": "ef255abd",
   "metadata": {},
   "outputs": [],
   "source": [
    "test_images_5 = test_images[np.where(test_labels==5)] #Get images with labeled 5\n",
    "test_images_6 = test_images[np.where(test_labels==6)] #Get images with labeled 6\n",
    "test_images_7 = test_images[np.where(test_labels==7)] #Get images with labeled 7\n",
    "test_images_8 = test_images[np.where(test_labels==8)] #Get images with labeled 8\n",
    "test_images_9 = test_images[np.where(test_labels==9)] #Get images with labeled 9\n",
    "\n",
    "test_set_2_images_ordered = np.concatenate((test_images_5,\n",
    "                                     test_images_6,\n",
    "                                     test_images_7,\n",
    "                                     test_images_8,\n",
    "                                     test_images_9))\n",
    "\n",
    "test_set_2_labels_ordered  = np.concatenate((np.repeat(5,test_images_5.shape[0]),\n",
    "                                    np.repeat(6,test_images_6.shape[0]),\n",
    "                                    np.repeat(7,test_images_7.shape[0]),\n",
    "                                    np.repeat(8,test_images_8.shape[0]),\n",
    "                                    np.repeat(9,test_images_9.shape[0])))\n",
    "\n",
    "\n",
    "#Let’s permute test data\n",
    "indices_permutation = np.random.permutation(len(test_set_2_labels_ordered))\n",
    "\n",
    "test_set_2_images = test_set_2_images_ordered[indices_permutation]\n",
    "test_set_2_labels = test_set_2_labels_ordered[indices_permutation]"
   ]
  },
  {
   "cell_type": "markdown",
   "id": "5ce1962b",
   "metadata": {},
   "source": [
    "## Base model training\n",
    "Here we fit with training set 1 using 20% validation to determine the optimal number of epochs."
   ]
  },
  {
   "cell_type": "code",
   "execution_count": 7,
   "id": "eb67210c",
   "metadata": {},
   "outputs": [
    {
     "name": "stdout",
     "output_type": "stream",
     "text": [
      "Metal device set to: Apple M1\n",
      "Model: \"model\"\n",
      "_________________________________________________________________\n",
      " Layer (type)                Output Shape              Param #   \n",
      "=================================================================\n",
      " input_1 (InputLayer)        [(None, 28, 28, 1)]       0         \n",
      "                                                                 \n",
      " conv2d (Conv2D)             (None, 26, 26, 32)        320       \n",
      "                                                                 \n",
      " max_pooling2d (MaxPooling2D  (None, 13, 13, 32)       0         \n",
      " )                                                               \n",
      "                                                                 \n",
      " conv2d_1 (Conv2D)           (None, 11, 11, 64)        18496     \n",
      "                                                                 \n",
      " max_pooling2d_1 (MaxPooling  (None, 5, 5, 64)         0         \n",
      " 2D)                                                             \n",
      "                                                                 \n",
      " conv2d_2 (Conv2D)           (None, 3, 3, 128)         73856     \n",
      "                                                                 \n",
      " flatten (Flatten)           (None, 1152)              0         \n",
      "                                                                 \n",
      " dense (Dense)               (None, 10)                11530     \n",
      "                                                                 \n",
      "=================================================================\n",
      "Total params: 104,202\n",
      "Trainable params: 104,202\n",
      "Non-trainable params: 0\n",
      "_________________________________________________________________\n"
     ]
    },
    {
     "name": "stderr",
     "output_type": "stream",
     "text": [
      "2022-03-26 16:46:08.489008: I tensorflow/core/common_runtime/pluggable_device/pluggable_device_factory.cc:305] Could not identify NUMA node of platform GPU ID 0, defaulting to 0. Your kernel may not have been built with NUMA support.\n",
      "2022-03-26 16:46:08.489149: I tensorflow/core/common_runtime/pluggable_device/pluggable_device_factory.cc:271] Created TensorFlow device (/job:localhost/replica:0/task:0/device:GPU:0 with 0 MB memory) -> physical PluggableDevice (device: 0, name: METAL, pci bus id: <undefined>)\n"
     ]
    }
   ],
   "source": [
    "inputs = keras.Input(shape=(28, 28, 1)) ## Different from densenet input\n",
    "x = layers.Conv2D(filters=32, kernel_size=3, activation=\"relu\")(inputs)\n",
    "x = layers.MaxPooling2D(pool_size=2)(x)\n",
    "x = layers.Conv2D(filters=64, kernel_size=3, activation=\"relu\")(x)\n",
    "x = layers.MaxPooling2D(pool_size=2)(x)\n",
    "x = layers.Conv2D(filters=128, kernel_size=3, activation=\"relu\")(x)\n",
    "x = layers.Flatten()(x)\n",
    "outputs = layers.Dense(10, activation=\"softmax\")(x)\n",
    "\n",
    "model = keras.Model(inputs=inputs, outputs=outputs)\n",
    "model.summary()"
   ]
  },
  {
   "cell_type": "code",
   "execution_count": 8,
   "id": "c4e78805",
   "metadata": {},
   "outputs": [],
   "source": [
    "model.compile(optimizer=\"rmsprop\",\n",
    "              loss=\"sparse_categorical_crossentropy\",\n",
    "              metrics=[\"accuracy\"])"
   ]
  },
  {
   "cell_type": "code",
   "execution_count": 9,
   "id": "4b10f9b7",
   "metadata": {
    "scrolled": true
   },
   "outputs": [
    {
     "name": "stderr",
     "output_type": "stream",
     "text": [
      "2022-03-26 16:46:08.646744: W tensorflow/core/platform/profile_utils/cpu_utils.cc:128] Failed to get CPU frequency: 0 Hz\n"
     ]
    },
    {
     "name": "stdout",
     "output_type": "stream",
     "text": [
      "Epoch 1/30\n"
     ]
    },
    {
     "name": "stderr",
     "output_type": "stream",
     "text": [
      "2022-03-26 16:46:08.852123: I tensorflow/core/grappler/optimizers/custom_graph_optimizer_registry.cc:112] Plugin optimizer for device_type GPU is enabled.\n"
     ]
    },
    {
     "name": "stdout",
     "output_type": "stream",
     "text": [
      "765/765 [==============================] - ETA: 0s - loss: 0.0829 - accuracy: 0.9736"
     ]
    },
    {
     "name": "stderr",
     "output_type": "stream",
     "text": [
      "2022-03-26 16:46:15.148675: I tensorflow/core/grappler/optimizers/custom_graph_optimizer_registry.cc:112] Plugin optimizer for device_type GPU is enabled.\n"
     ]
    },
    {
     "name": "stdout",
     "output_type": "stream",
     "text": [
      "765/765 [==============================] - 7s 9ms/step - loss: 0.0829 - accuracy: 0.9736 - val_loss: 0.0325 - val_accuracy: 0.9891\n",
      "Epoch 2/30\n",
      "765/765 [==============================] - 6s 8ms/step - loss: 0.0231 - accuracy: 0.9928 - val_loss: 0.0181 - val_accuracy: 0.9953\n",
      "Epoch 3/30\n",
      "765/765 [==============================] - 7s 9ms/step - loss: 0.0132 - accuracy: 0.9960 - val_loss: 0.0200 - val_accuracy: 0.9948\n",
      "Epoch 4/30\n",
      "765/765 [==============================] - 6s 8ms/step - loss: 0.0101 - accuracy: 0.9973 - val_loss: 0.0155 - val_accuracy: 0.9966\n",
      "Epoch 5/30\n",
      "765/765 [==============================] - 6s 8ms/step - loss: 0.0075 - accuracy: 0.9975 - val_loss: 0.0199 - val_accuracy: 0.9958\n",
      "Epoch 6/30\n",
      "765/765 [==============================] - 6s 8ms/step - loss: 0.0048 - accuracy: 0.9986 - val_loss: 0.0260 - val_accuracy: 0.9958\n",
      "Epoch 7/30\n",
      "765/765 [==============================] - 6s 8ms/step - loss: 0.0046 - accuracy: 0.9989 - val_loss: 0.0323 - val_accuracy: 0.9948\n",
      "Epoch 8/30\n",
      "765/765 [==============================] - 6s 8ms/step - loss: 0.0040 - accuracy: 0.9987 - val_loss: 0.0191 - val_accuracy: 0.9972\n",
      "Epoch 9/30\n",
      "765/765 [==============================] - 6s 8ms/step - loss: 0.0030 - accuracy: 0.9991 - val_loss: 0.0201 - val_accuracy: 0.9972\n",
      "Epoch 10/30\n",
      "765/765 [==============================] - 6s 8ms/step - loss: 0.0032 - accuracy: 0.9990 - val_loss: 0.0250 - val_accuracy: 0.9958\n",
      "Epoch 11/30\n",
      "765/765 [==============================] - 6s 8ms/step - loss: 0.0034 - accuracy: 0.9992 - val_loss: 0.0232 - val_accuracy: 0.9962\n",
      "Epoch 12/30\n",
      "765/765 [==============================] - 6s 8ms/step - loss: 0.0011 - accuracy: 0.9996 - val_loss: 0.0623 - val_accuracy: 0.9920\n",
      "Epoch 13/30\n",
      "765/765 [==============================] - 6s 8ms/step - loss: 0.0016 - accuracy: 0.9997 - val_loss: 0.0307 - val_accuracy: 0.9954\n",
      "Epoch 14/30\n",
      "765/765 [==============================] - 6s 8ms/step - loss: 0.0014 - accuracy: 0.9996 - val_loss: 0.0334 - val_accuracy: 0.9966\n",
      "Epoch 15/30\n",
      "765/765 [==============================] - 6s 8ms/step - loss: 4.7382e-04 - accuracy: 0.9998 - val_loss: 0.0283 - val_accuracy: 0.9975\n",
      "Epoch 16/30\n",
      "765/765 [==============================] - 6s 8ms/step - loss: 6.5036e-04 - accuracy: 0.9999 - val_loss: 0.0326 - val_accuracy: 0.9961\n",
      "Epoch 17/30\n",
      "765/765 [==============================] - 6s 8ms/step - loss: 8.7589e-04 - accuracy: 0.9998 - val_loss: 0.0395 - val_accuracy: 0.9962\n",
      "Epoch 18/30\n",
      "765/765 [==============================] - 6s 8ms/step - loss: 8.7974e-04 - accuracy: 0.9998 - val_loss: 0.0375 - val_accuracy: 0.9971\n",
      "Epoch 19/30\n",
      "765/765 [==============================] - 7s 9ms/step - loss: 8.8062e-04 - accuracy: 0.9999 - val_loss: 0.0413 - val_accuracy: 0.9962\n",
      "Epoch 20/30\n",
      "765/765 [==============================] - 7s 9ms/step - loss: 4.4781e-04 - accuracy: 0.9998 - val_loss: 0.0373 - val_accuracy: 0.9974\n",
      "Epoch 21/30\n",
      "765/765 [==============================] - 7s 9ms/step - loss: 8.3890e-04 - accuracy: 0.9998 - val_loss: 0.0450 - val_accuracy: 0.9969\n",
      "Epoch 22/30\n",
      "765/765 [==============================] - 6s 8ms/step - loss: 6.0605e-04 - accuracy: 0.9999 - val_loss: 0.0382 - val_accuracy: 0.9972\n",
      "Epoch 23/30\n",
      "765/765 [==============================] - 6s 8ms/step - loss: 7.8777e-05 - accuracy: 1.0000 - val_loss: 0.0386 - val_accuracy: 0.9967\n",
      "Epoch 24/30\n",
      "765/765 [==============================] - 7s 9ms/step - loss: 1.1935e-04 - accuracy: 1.0000 - val_loss: 0.0349 - val_accuracy: 0.9975\n",
      "Epoch 25/30\n",
      "765/765 [==============================] - 7s 9ms/step - loss: 1.2722e-05 - accuracy: 1.0000 - val_loss: 0.0397 - val_accuracy: 0.9971\n",
      "Epoch 26/30\n",
      "765/765 [==============================] - 6s 8ms/step - loss: 9.7616e-05 - accuracy: 1.0000 - val_loss: 0.0564 - val_accuracy: 0.9948\n",
      "Epoch 27/30\n",
      "765/765 [==============================] - 6s 8ms/step - loss: 3.6444e-04 - accuracy: 0.9998 - val_loss: 0.0508 - val_accuracy: 0.9969\n",
      "Epoch 28/30\n",
      "765/765 [==============================] - 6s 8ms/step - loss: 1.2386e-04 - accuracy: 1.0000 - val_loss: 0.0446 - val_accuracy: 0.9966\n",
      "Epoch 29/30\n",
      "765/765 [==============================] - 6s 8ms/step - loss: 3.6460e-10 - accuracy: 1.0000 - val_loss: 0.0483 - val_accuracy: 0.9971\n",
      "Epoch 30/30\n",
      "765/765 [==============================] - 6s 8ms/step - loss: 2.3632e-11 - accuracy: 1.0000 - val_loss: 0.0485 - val_accuracy: 0.9972\n"
     ]
    }
   ],
   "source": [
    "callbacks = [\n",
    "    keras.callbacks.ModelCheckpoint(\n",
    "        filepath=\"convnet_base_model.keras\", save_best_only=True, monitor=\"val_loss\")]\n",
    "\n",
    "history = model.fit(\n",
    "    train_set_1_images,train_set_1_labels,epochs=30, validation_split=0.2, callbacks=callbacks)"
   ]
  },
  {
   "cell_type": "code",
   "execution_count": 10,
   "id": "559e06ff",
   "metadata": {},
   "outputs": [
    {
     "data": {
      "image/png": "[encoded data removed]",
      "text/plain": [
       "<Figure size 432x288 with 1 Axes>"
      ]
     },
     "metadata": {
      "needs_background": "light"
     },
     "output_type": "display_data"
    },
    {
     "data": {
      "image/png": "[encoded data removed]",
      "text/plain": [
       "<Figure size 432x288 with 1 Axes>"
      ]
     },
     "metadata": {
      "needs_background": "light"
     },
     "output_type": "display_data"
    }
   ],
   "source": [
    "accuracy = history.history[\"accuracy\"]\n",
    "val_accuracy = history.history[\"val_accuracy\"]\n",
    "loss = history.history[\"loss\"]\n",
    "val_loss = history.history[\"val_loss\"]\n",
    "epochs = range(1, len(accuracy) + 1)\n",
    "plt.plot(epochs, accuracy, \"bo\", label=\"Training accuracy\") \n",
    "plt.plot(epochs, val_accuracy, \"b\", label=\"Validation accuracy\") \n",
    "plt.title(\"Training and validation accuracy\")\n",
    "plt.legend()\n",
    "plt.figure()\n",
    "plt.plot(epochs, loss, \"bo\", label=\"Training loss\")\n",
    "plt.plot(epochs, val_loss, \"b\", label=\"Validation loss\")\n",
    "plt.title(\"Training and validation loss\")\n",
    "plt.legend()\n",
    "plt.show()"
   ]
  },
  {
   "cell_type": "code",
   "execution_count": 11,
   "id": "e4418b07",
   "metadata": {},
   "outputs": [
    {
     "name": "stdout",
     "output_type": "stream",
     "text": [
      " 40/161 [======>.......................] - ETA: 0s - loss: 0.0014 - accuracy: 0.9992 "
     ]
    },
    {
     "name": "stderr",
     "output_type": "stream",
     "text": [
      "2022-03-26 16:49:22.292475: I tensorflow/core/grappler/optimizers/custom_graph_optimizer_registry.cc:112] Plugin optimizer for device_type GPU is enabled.\n"
     ]
    },
    {
     "name": "stdout",
     "output_type": "stream",
     "text": [
      "161/161 [==============================] - 1s 4ms/step - loss: 0.0063 - accuracy: 0.9977\n",
      "957/957 [==============================] - 4s 4ms/step - loss: 0.0067 - accuracy: 0.9981\n",
      "Train accuracy: 0.998\n",
      "Test accuracy: 0.998\n"
     ]
    }
   ],
   "source": [
    "test_model = keras.models.load_model(\"convnet_base_model.keras\") \n",
    "test_loss, test_acc = test_model.evaluate(test_set_1_images,test_set_1_labels)\n",
    "train_loss, train_acc = test_model.evaluate(train_set_1_images,train_set_1_labels)\n",
    "print(f\"Train accuracy: {train_acc:.3f}\")\n",
    "print(f\"Test accuracy: {test_acc:.3f}\")"
   ]
  },
  {
   "cell_type": "markdown",
   "id": "d5887f9a",
   "metadata": {},
   "source": [
    "## Naive approach\n",
    "Here we fit with training set 2 using 20% validation to determine the optimal number of epochs."
   ]
  },
  {
   "cell_type": "code",
   "execution_count": 12,
   "id": "2d6e5632",
   "metadata": {},
   "outputs": [],
   "source": [
    "inputs = keras.Input(shape=(28, 28, 1)) ## Different from densenet input\n",
    "x = layers.Conv2D(filters=32, kernel_size=3, activation=\"relu\")(inputs)\n",
    "x = layers.MaxPooling2D(pool_size=2)(x)\n",
    "x = layers.Conv2D(filters=64, kernel_size=3, activation=\"relu\")(x)\n",
    "x = layers.MaxPooling2D(pool_size=2)(x)\n",
    "x = layers.Conv2D(filters=128, kernel_size=3, activation=\"relu\")(x)\n",
    "x = layers.Flatten()(x)\n",
    "outputs = layers.Dense(10, activation=\"softmax\")(x)\n",
    "\n",
    "model = keras.Model(inputs=inputs, outputs=outputs)"
   ]
  },
  {
   "cell_type": "code",
   "execution_count": 13,
   "id": "39d5c391",
   "metadata": {},
   "outputs": [],
   "source": [
    "model.compile(optimizer=\"rmsprop\",\n",
    "              loss=\"sparse_categorical_crossentropy\",\n",
    "              metrics=[\"accuracy\"])"
   ]
  },
  {
   "cell_type": "code",
   "execution_count": 14,
   "id": "9b4d1572",
   "metadata": {
    "scrolled": true
   },
   "outputs": [
    {
     "name": "stdout",
     "output_type": "stream",
     "text": [
      "Epoch 1/30\n",
      "1/2 [==============>...............] - ETA: 0s - loss: 2.3071 - accuracy: 0.1250"
     ]
    },
    {
     "name": "stderr",
     "output_type": "stream",
     "text": [
      "2022-03-26 16:49:26.902694: I tensorflow/core/grappler/optimizers/custom_graph_optimizer_registry.cc:112] Plugin optimizer for device_type GPU is enabled.\n"
     ]
    },
    {
     "name": "stdout",
     "output_type": "stream",
     "text": [
      "2/2 [==============================] - 0s 142ms/step - loss: 2.2297 - accuracy: 0.1250 - val_loss: 2.1283 - val_accuracy: 0.1000\n",
      "Epoch 2/30\n",
      "2/2 [==============================] - 0s 38ms/step - loss: 1.7305 - accuracy: 0.2500 - val_loss: 2.0823 - val_accuracy: 0.2000\n",
      "Epoch 3/30\n",
      "2/2 [==============================] - 0s 34ms/step - loss: 1.5283 - accuracy: 0.4750 - val_loss: 1.5759 - val_accuracy: 0.3000\n",
      "Epoch 4/30\n",
      "2/2 [==============================] - 0s 32ms/step - loss: 1.1616 - accuracy: 0.5500 - val_loss: 1.0353 - val_accuracy: 0.6000\n"
     ]
    },
    {
     "name": "stderr",
     "output_type": "stream",
     "text": [
      "2022-03-26 16:49:27.131015: I tensorflow/core/grappler/optimizers/custom_graph_optimizer_registry.cc:112] Plugin optimizer for device_type GPU is enabled.\n"
     ]
    },
    {
     "name": "stdout",
     "output_type": "stream",
     "text": [
      "Epoch 5/30\n",
      "2/2 [==============================] - 0s 19ms/step - loss: 1.0511 - accuracy: 0.5250 - val_loss: 1.4011 - val_accuracy: 0.4000\n",
      "Epoch 6/30\n",
      "2/2 [==============================] - 0s 20ms/step - loss: 1.1307 - accuracy: 0.6000 - val_loss: 1.0705 - val_accuracy: 0.8000\n",
      "Epoch 7/30\n",
      "2/2 [==============================] - 0s 33ms/step - loss: 0.7268 - accuracy: 0.8000 - val_loss: 0.7561 - val_accuracy: 0.7000\n",
      "Epoch 8/30\n",
      "2/2 [==============================] - 0s 33ms/step - loss: 0.5920 - accuracy: 0.8250 - val_loss: 0.6349 - val_accuracy: 0.7000\n",
      "Epoch 9/30\n",
      "2/2 [==============================] - 0s 19ms/step - loss: 0.6887 - accuracy: 0.6500 - val_loss: 0.8099 - val_accuracy: 0.7000\n",
      "Epoch 10/30\n",
      "2/2 [==============================] - 0s 33ms/step - loss: 0.4265 - accuracy: 0.8500 - val_loss: 0.5925 - val_accuracy: 0.8000\n",
      "Epoch 11/30\n",
      "2/2 [==============================] - 0s 19ms/step - loss: 0.3022 - accuracy: 1.0000 - val_loss: 0.7991 - val_accuracy: 0.7000\n",
      "Epoch 12/30\n",
      "2/2 [==============================] - 0s 32ms/step - loss: 0.3467 - accuracy: 0.8500 - val_loss: 0.4900 - val_accuracy: 0.9000\n",
      "Epoch 13/30\n",
      "2/2 [==============================] - 0s 20ms/step - loss: 0.1777 - accuracy: 1.0000 - val_loss: 0.8532 - val_accuracy: 0.7000\n",
      "Epoch 14/30\n",
      "2/2 [==============================] - 0s 33ms/step - loss: 0.2511 - accuracy: 0.9000 - val_loss: 0.4657 - val_accuracy: 0.8000\n",
      "Epoch 15/30\n",
      "2/2 [==============================] - 0s 33ms/step - loss: 0.1416 - accuracy: 0.9750 - val_loss: 0.4608 - val_accuracy: 0.8000\n",
      "Epoch 16/30\n",
      "2/2 [==============================] - 0s 32ms/step - loss: 0.3132 - accuracy: 0.8500 - val_loss: 0.2292 - val_accuracy: 0.9000\n",
      "Epoch 17/30\n",
      "2/2 [==============================] - 0s 19ms/step - loss: 0.0783 - accuracy: 1.0000 - val_loss: 0.3462 - val_accuracy: 0.9000\n",
      "Epoch 18/30\n",
      "2/2 [==============================] - 0s 18ms/step - loss: 0.0539 - accuracy: 1.0000 - val_loss: 0.3805 - val_accuracy: 0.9000\n",
      "Epoch 19/30\n",
      "2/2 [==============================] - 0s 18ms/step - loss: 0.0415 - accuracy: 1.0000 - val_loss: 0.3168 - val_accuracy: 0.9000\n",
      "Epoch 20/30\n",
      "2/2 [==============================] - 0s 18ms/step - loss: 0.0376 - accuracy: 1.0000 - val_loss: 0.2904 - val_accuracy: 0.9000\n",
      "Epoch 21/30\n",
      "2/2 [==============================] - 0s 18ms/step - loss: 0.0329 - accuracy: 1.0000 - val_loss: 0.5150 - val_accuracy: 0.8000\n",
      "Epoch 22/30\n",
      "2/2 [==============================] - 0s 19ms/step - loss: 0.0328 - accuracy: 1.0000 - val_loss: 0.3717 - val_accuracy: 0.9000\n",
      "Epoch 23/30\n",
      "2/2 [==============================] - 0s 19ms/step - loss: 0.0204 - accuracy: 1.0000 - val_loss: 0.3512 - val_accuracy: 0.9000\n",
      "Epoch 24/30\n",
      "2/2 [==============================] - 0s 22ms/step - loss: 0.0176 - accuracy: 1.0000 - val_loss: 0.3972 - val_accuracy: 0.9000\n",
      "Epoch 25/30\n",
      "2/2 [==============================] - 0s 19ms/step - loss: 0.0160 - accuracy: 1.0000 - val_loss: 0.4253 - val_accuracy: 0.9000\n",
      "Epoch 26/30\n",
      "2/2 [==============================] - 0s 25ms/step - loss: 0.0136 - accuracy: 1.0000 - val_loss: 0.4373 - val_accuracy: 0.9000\n",
      "Epoch 27/30\n",
      "2/2 [==============================] - 0s 19ms/step - loss: 0.0165 - accuracy: 1.0000 - val_loss: 0.3895 - val_accuracy: 0.9000\n",
      "Epoch 28/30\n",
      "2/2 [==============================] - 0s 19ms/step - loss: 0.0097 - accuracy: 1.0000 - val_loss: 0.5164 - val_accuracy: 0.8000\n",
      "Epoch 29/30\n",
      "2/2 [==============================] - 0s 24ms/step - loss: 0.0094 - accuracy: 1.0000 - val_loss: 0.4992 - val_accuracy: 0.9000\n",
      "Epoch 30/30\n",
      "2/2 [==============================] - 0s 19ms/step - loss: 0.0091 - accuracy: 1.0000 - val_loss: 0.3719 - val_accuracy: 0.9000\n"
     ]
    }
   ],
   "source": [
    "callbacks = [\n",
    "    keras.callbacks.ModelCheckpoint(\n",
    "        filepath=\"convnet_naive_model.keras\", save_best_only=True, monitor=\"val_loss\")]\n",
    "\n",
    "history = model.fit(\n",
    "    train_set_2_images,train_set_2_labels,epochs=30, validation_split=0.2, callbacks=callbacks)"
   ]
  },
  {
   "cell_type": "code",
   "execution_count": 15,
   "id": "e0d465c1",
   "metadata": {},
   "outputs": [
    {
     "data": {
      "image/png": "[encoded data removed]",
      "text/plain": [
       "<Figure size 432x288 with 1 Axes>"
      ]
     },
     "metadata": {
      "needs_background": "light"
     },
     "output_type": "display_data"
    },
    {
     "data": {
      "image/png": "[encoded data removed]",
      "text/plain": [
       "<Figure size 432x288 with 1 Axes>"
      ]
     },
     "metadata": {
      "needs_background": "light"
     },
     "output_type": "display_data"
    }
   ],
   "source": [
    "accuracy = history.history[\"accuracy\"]\n",
    "val_accuracy = history.history[\"val_accuracy\"]\n",
    "loss = history.history[\"loss\"]\n",
    "val_loss = history.history[\"val_loss\"]\n",
    "epochs = range(1, len(accuracy) + 1)\n",
    "plt.plot(epochs, accuracy, \"bo\", label=\"Training accuracy\") \n",
    "plt.plot(epochs, val_accuracy, \"b\", label=\"Validation accuracy\") \n",
    "plt.title(\"Training and validation accuracy\")\n",
    "plt.legend()\n",
    "plt.figure()\n",
    "plt.plot(epochs, loss, \"bo\", label=\"Training loss\")\n",
    "plt.plot(epochs, val_loss, \"b\", label=\"Validation loss\")\n",
    "plt.title(\"Training and validation loss\")\n",
    "plt.legend()\n",
    "plt.show()"
   ]
  },
  {
   "cell_type": "code",
   "execution_count": 16,
   "id": "c8b2f52d",
   "metadata": {},
   "outputs": [
    {
     "name": "stdout",
     "output_type": "stream",
     "text": [
      " 28/152 [====>.........................] - ETA: 0s - loss: 0.7738 - accuracy: 0.7344"
     ]
    },
    {
     "name": "stderr",
     "output_type": "stream",
     "text": [
      "2022-03-26 16:49:28.358844: I tensorflow/core/grappler/optimizers/custom_graph_optimizer_registry.cc:112] Plugin optimizer for device_type GPU is enabled.\n"
     ]
    },
    {
     "name": "stdout",
     "output_type": "stream",
     "text": [
      "152/152 [==============================] - 1s 4ms/step - loss: 0.7800 - accuracy: 0.7280\n",
      "2/2 [==============================] - 0s 19ms/step - loss: 0.1082 - accuracy: 0.9800\n",
      "Train accuracy: 0.980\n",
      "Test accuracy: 0.728\n"
     ]
    }
   ],
   "source": [
    "test_model = keras.models.load_model(\"convnet_naive_model.keras\") \n",
    "test_loss, test_acc = test_model.evaluate(test_set_2_images,test_set_2_labels)\n",
    "train_loss, train_acc = test_model.evaluate(train_set_2_images,train_set_2_labels)\n",
    "print(f\"Train accuracy: {train_acc:.3f}\")\n",
    "print(f\"Test accuracy: {test_acc:.3f}\")"
   ]
  },
  {
   "cell_type": "markdown",
   "id": "096dd976",
   "metadata": {},
   "source": [
    "## Data Augmentation"
   ]
  },
  {
   "cell_type": "markdown",
   "id": "84691ea5",
   "metadata": {},
   "source": [
    "Use data augmentation as in class using Random Flip, Random Rotation, and Random Zoom\n",
    "\n",
    "\n",
    "Note: A hack is required to work on my local machine.\n"
   ]
  },
  {
   "cell_type": "code",
   "execution_count": 17,
   "id": "e489100b",
   "metadata": {},
   "outputs": [],
   "source": [
    "data_augmentation_from_class = keras.Sequential([\n",
    "    layers.experimental.preprocessing.RandomFlip(\"horizontal\"),\n",
    "    layers.RandomRotation(0.1),\n",
    "    layers.RandomZoom(0.2)\n",
    "    ])\n",
    "\n",
    "\n",
    "with tf.device('/cpu:0'): # Required to hack the cpu \n",
    "    digit = data_augmentation_from_class(train_set_2_images[:2]) # Required to hack the cpu \n",
    "#digit.shape"
   ]
  },
  {
   "cell_type": "code",
   "execution_count": 18,
   "id": "20b32a9d",
   "metadata": {},
   "outputs": [
    {
     "data": {
      "image/png": "[encoded data removed]",
      "text/plain": [
       "<Figure size 432x288 with 1 Axes>"
      ]
     },
     "metadata": {
      "needs_background": "light"
     },
     "output_type": "display_data"
    }
   ],
   "source": [
    "\n",
    "plt.imshow(digit[0], cmap=plt.cm.binary) \n",
    "plt.show()"
   ]
  },
  {
   "cell_type": "code",
   "execution_count": 19,
   "id": "210a31dc",
   "metadata": {},
   "outputs": [
    {
     "name": "stdout",
     "output_type": "stream",
     "text": [
      "Model: \"model_2\"\n",
      "_________________________________________________________________\n",
      " Layer (type)                Output Shape              Param #   \n",
      "=================================================================\n",
      " input_3 (InputLayer)        [(None, 28, 28, 1)]       0         \n",
      "                                                                 \n",
      " sequential (Sequential)     (None, 28, 28, 1)         0         \n",
      "                                                                 \n",
      " conv2d_6 (Conv2D)           (None, 26, 26, 32)        320       \n",
      "                                                                 \n",
      " max_pooling2d_4 (MaxPooling  (None, 13, 13, 32)       0         \n",
      " 2D)                                                             \n",
      "                                                                 \n",
      " conv2d_7 (Conv2D)           (None, 11, 11, 64)        18496     \n",
      "                                                                 \n",
      " max_pooling2d_5 (MaxPooling  (None, 5, 5, 64)         0         \n",
      " 2D)                                                             \n",
      "                                                                 \n",
      " conv2d_8 (Conv2D)           (None, 3, 3, 128)         73856     \n",
      "                                                                 \n",
      " flatten_2 (Flatten)         (None, 1152)              0         \n",
      "                                                                 \n",
      " dense_2 (Dense)             (None, 10)                11530     \n",
      "                                                                 \n",
      "=================================================================\n",
      "Total params: 104,202\n",
      "Trainable params: 104,202\n",
      "Non-trainable params: 0\n",
      "_________________________________________________________________\n"
     ]
    }
   ],
   "source": [
    "inputs = keras.Input(shape=(28, 28, 1)) \n",
    "x = data_augmentation_from_class(inputs)\n",
    "x = layers.Conv2D(filters=32, kernel_size=3, activation=\"relu\")(x)\n",
    "x = layers.MaxPooling2D(pool_size=2)(x)\n",
    "x = layers.Conv2D(filters=64, kernel_size=3, activation=\"relu\")(x)\n",
    "x = layers.MaxPooling2D(pool_size=2)(x)\n",
    "x = layers.Conv2D(filters=128, kernel_size=3, activation=\"relu\")(x)\n",
    "x = layers.Flatten()(x)\n",
    "outputs = layers.Dense(10, activation=\"softmax\")(x)\n",
    "model = keras.Model(inputs=inputs, outputs=outputs)\n",
    "model.summary()"
   ]
  },
  {
   "cell_type": "code",
   "execution_count": 20,
   "id": "412fd769",
   "metadata": {},
   "outputs": [],
   "source": [
    "model.compile(optimizer=\"rmsprop\",\n",
    "              loss=\"sparse_categorical_crossentropy\",\n",
    "              metrics=[\"accuracy\"])"
   ]
  },
  {
   "cell_type": "code",
   "execution_count": 21,
   "id": "a7a5667a",
   "metadata": {
    "scrolled": true
   },
   "outputs": [
    {
     "name": "stdout",
     "output_type": "stream",
     "text": [
      "Epoch 1/30\n"
     ]
    },
    {
     "name": "stderr",
     "output_type": "stream",
     "text": [
      "2022-03-26 16:49:29.488428: I tensorflow/core/grappler/optimizers/custom_graph_optimizer_registry.cc:112] Plugin optimizer for device_type GPU is enabled.\n"
     ]
    },
    {
     "name": "stdout",
     "output_type": "stream",
     "text": [
      "2/2 [==============================] - 1s 146ms/step - loss: 2.2545 - accuracy: 0.1750 - val_loss: 1.8508 - val_accuracy: 0.1000\n",
      "Epoch 2/30\n",
      "2/2 [==============================] - 0s 46ms/step - loss: 1.8130 - accuracy: 0.2250 - val_loss: 1.8036 - val_accuracy: 0.2000\n",
      "Epoch 3/30\n",
      "2/2 [==============================] - 0s 29ms/step - loss: 1.6760 - accuracy: 0.3000 - val_loss: 1.8198 - val_accuracy: 0.3000\n",
      "Epoch 4/30\n",
      "1/2 [==============>...............] - ETA: 0s - loss: 1.5776 - accuracy: 0.3125"
     ]
    },
    {
     "name": "stderr",
     "output_type": "stream",
     "text": [
      "2022-03-26 16:49:29.829394: I tensorflow/core/grappler/optimizers/custom_graph_optimizer_registry.cc:112] Plugin optimizer for device_type GPU is enabled.\n"
     ]
    },
    {
     "name": "stdout",
     "output_type": "stream",
     "text": [
      "2/2 [==============================] - 0s 33ms/step - loss: 1.5819 - accuracy: 0.3250 - val_loss: 1.9203 - val_accuracy: 0.2000\n",
      "Epoch 5/30\n",
      "2/2 [==============================] - 0s 43ms/step - loss: 1.6187 - accuracy: 0.2500 - val_loss: 1.7056 - val_accuracy: 0.3000\n",
      "Epoch 6/30\n",
      "2/2 [==============================] - 0s 41ms/step - loss: 1.4652 - accuracy: 0.3500 - val_loss: 1.2900 - val_accuracy: 0.6000\n",
      "Epoch 7/30\n",
      "2/2 [==============================] - 0s 26ms/step - loss: 1.3850 - accuracy: 0.5250 - val_loss: 1.5349 - val_accuracy: 0.3000\n",
      "Epoch 8/30\n",
      "2/2 [==============================] - 0s 25ms/step - loss: 1.3885 - accuracy: 0.4000 - val_loss: 1.3353 - val_accuracy: 0.4000\n",
      "Epoch 9/30\n",
      "2/2 [==============================] - 0s 26ms/step - loss: 1.3495 - accuracy: 0.4500 - val_loss: 1.5349 - val_accuracy: 0.3000\n",
      "Epoch 10/30\n",
      "2/2 [==============================] - 0s 27ms/step - loss: 1.2876 - accuracy: 0.5250 - val_loss: 1.5085 - val_accuracy: 0.4000\n",
      "Epoch 11/30\n",
      "2/2 [==============================] - 0s 26ms/step - loss: 1.2652 - accuracy: 0.4750 - val_loss: 1.4559 - val_accuracy: 0.3000\n",
      "Epoch 12/30\n",
      "2/2 [==============================] - 0s 39ms/step - loss: 1.3981 - accuracy: 0.3500 - val_loss: 0.9411 - val_accuracy: 0.7000\n",
      "Epoch 13/30\n",
      "2/2 [==============================] - 0s 25ms/step - loss: 1.1386 - accuracy: 0.5750 - val_loss: 1.1330 - val_accuracy: 0.6000\n",
      "Epoch 14/30\n",
      "2/2 [==============================] - 0s 25ms/step - loss: 1.0486 - accuracy: 0.5750 - val_loss: 1.0403 - val_accuracy: 0.5000\n",
      "Epoch 15/30\n",
      "2/2 [==============================] - 0s 25ms/step - loss: 0.9365 - accuracy: 0.6750 - val_loss: 1.5773 - val_accuracy: 0.4000\n",
      "Epoch 16/30\n",
      "2/2 [==============================] - 0s 25ms/step - loss: 1.2008 - accuracy: 0.5250 - val_loss: 1.0834 - val_accuracy: 0.6000\n",
      "Epoch 17/30\n",
      "2/2 [==============================] - 0s 25ms/step - loss: 0.8854 - accuracy: 0.7250 - val_loss: 1.0234 - val_accuracy: 0.6000\n",
      "Epoch 18/30\n",
      "2/2 [==============================] - 0s 40ms/step - loss: 0.9178 - accuracy: 0.7000 - val_loss: 0.6041 - val_accuracy: 0.9000\n",
      "Epoch 19/30\n",
      "2/2 [==============================] - 0s 25ms/step - loss: 0.8460 - accuracy: 0.6500 - val_loss: 1.7653 - val_accuracy: 0.4000\n",
      "Epoch 20/30\n",
      "2/2 [==============================] - 0s 25ms/step - loss: 0.9053 - accuracy: 0.7000 - val_loss: 0.8612 - val_accuracy: 0.6000\n",
      "Epoch 21/30\n",
      "2/2 [==============================] - 0s 26ms/step - loss: 0.9435 - accuracy: 0.6250 - val_loss: 1.1104 - val_accuracy: 0.6000\n",
      "Epoch 22/30\n",
      "2/2 [==============================] - 0s 25ms/step - loss: 0.9883 - accuracy: 0.6250 - val_loss: 0.8186 - val_accuracy: 0.5000\n",
      "Epoch 23/30\n",
      "2/2 [==============================] - 0s 25ms/step - loss: 0.6066 - accuracy: 0.8250 - val_loss: 0.7603 - val_accuracy: 0.6000\n",
      "Epoch 24/30\n",
      "2/2 [==============================] - 0s 40ms/step - loss: 0.5560 - accuracy: 0.8500 - val_loss: 0.4322 - val_accuracy: 0.9000\n",
      "Epoch 25/30\n",
      "2/2 [==============================] - 0s 25ms/step - loss: 0.6366 - accuracy: 0.7750 - val_loss: 1.0936 - val_accuracy: 0.5000\n",
      "Epoch 26/30\n",
      "2/2 [==============================] - 0s 26ms/step - loss: 0.6774 - accuracy: 0.7250 - val_loss: 1.1192 - val_accuracy: 0.5000\n",
      "Epoch 27/30\n",
      "2/2 [==============================] - 0s 25ms/step - loss: 0.9220 - accuracy: 0.6500 - val_loss: 0.4388 - val_accuracy: 0.8000\n",
      "Epoch 28/30\n",
      "2/2 [==============================] - 0s 39ms/step - loss: 0.6900 - accuracy: 0.7750 - val_loss: 0.3987 - val_accuracy: 0.9000\n",
      "Epoch 29/30\n",
      "2/2 [==============================] - 0s 39ms/step - loss: 0.5551 - accuracy: 0.8750 - val_loss: 0.2829 - val_accuracy: 0.9000\n",
      "Epoch 30/30\n",
      "2/2 [==============================] - 0s 27ms/step - loss: 0.7199 - accuracy: 0.7000 - val_loss: 0.5257 - val_accuracy: 0.8000\n"
     ]
    }
   ],
   "source": [
    "callbacks_naive_model_augmentation_1 = [\n",
    "    keras.callbacks.ModelCheckpoint(\n",
    "        filepath=\"convnet_naive_model_augmentation_1.keras\", save_best_only=True, monitor=\"val_loss\")]\n",
    "\n",
    "history = model.fit(train_set_2_images,train_set_2_labels,\n",
    "                    epochs=30, validation_split=0.2, callbacks=callbacks_naive_model_augmentation_1)"
   ]
  },
  {
   "cell_type": "code",
   "execution_count": 22,
   "id": "eb46ca26",
   "metadata": {},
   "outputs": [
    {
     "name": "stdout",
     "output_type": "stream",
     "text": [
      " 27/152 [====>.........................] - ETA: 0s - loss: 0.9880 - accuracy: 0.5984"
     ]
    },
    {
     "name": "stderr",
     "output_type": "stream",
     "text": [
      "2022-03-26 16:49:31.392521: I tensorflow/core/grappler/optimizers/custom_graph_optimizer_registry.cc:112] Plugin optimizer for device_type GPU is enabled.\n"
     ]
    },
    {
     "name": "stdout",
     "output_type": "stream",
     "text": [
      "152/152 [==============================] - 1s 4ms/step - loss: 1.0143 - accuracy: 0.5799\n",
      "2/2 [==============================] - 0s 19ms/step - loss: 0.4619 - accuracy: 0.8000\n",
      "Train accuracy: 0.800\n",
      "Test accuracy: 0.580\n"
     ]
    }
   ],
   "source": [
    "## Evaluate\n",
    "model = keras.models.load_model(\"convnet_naive_model_augmentation_1.keras\") \n",
    "test_loss, test_acc = model.evaluate(test_set_2_images,test_set_2_labels) \n",
    "train_loss, train_acc = model.evaluate(train_set_2_images,train_set_2_labels) \n",
    "\n",
    "print(f\"Train accuracy: {train_acc:.3f}\")\n",
    "print(f\"Test accuracy: {test_acc:.3f}\")\n",
    "\n"
   ]
  },
  {
   "cell_type": "markdown",
   "id": "ab09347b",
   "metadata": {},
   "source": [
    "**Data augmentation with out flips**"
   ]
  },
  {
   "cell_type": "code",
   "execution_count": 51,
   "id": "56d36120",
   "metadata": {},
   "outputs": [],
   "source": [
    "data_augmentation = keras.Sequential([\n",
    "    layers.GaussianNoise(1),\n",
    "    layers.RandomZoom(0.2)\n",
    "    ])\n",
    "\n",
    "\n",
    "with tf.device('/cpu:0'): # Required to hack the cpu \n",
    "    digit = data_augmentation(train_set_2_images[:2]) # Required to hack the cpu \n",
    "#digit.shape"
   ]
  },
  {
   "cell_type": "code",
   "execution_count": 52,
   "id": "d40a2652",
   "metadata": {},
   "outputs": [
    {
     "name": "stdout",
     "output_type": "stream",
     "text": [
      "Model: \"model_9\"\n",
      "_________________________________________________________________\n",
      " Layer (type)                Output Shape              Param #   \n",
      "=================================================================\n",
      " input_10 (InputLayer)       [(None, 28, 28, 1)]       0         \n",
      "                                                                 \n",
      " sequential_7 (Sequential)   (None, 28, 28, 1)         0         \n",
      "                                                                 \n",
      " conv2d_21 (Conv2D)          (None, 26, 26, 32)        320       \n",
      "                                                                 \n",
      " max_pooling2d_13 (MaxPoolin  (None, 13, 13, 32)       0         \n",
      " g2D)                                                            \n",
      "                                                                 \n",
      " conv2d_22 (Conv2D)          (None, 11, 11, 64)        18496     \n",
      "                                                                 \n",
      " max_pooling2d_14 (MaxPoolin  (None, 5, 5, 64)         0         \n",
      " g2D)                                                            \n",
      "                                                                 \n",
      " conv2d_23 (Conv2D)          (None, 3, 3, 128)         73856     \n",
      "                                                                 \n",
      " flatten_8 (Flatten)         (None, 1152)              0         \n",
      "                                                                 \n",
      " dense_9 (Dense)             (None, 10)                11530     \n",
      "                                                                 \n",
      "=================================================================\n",
      "Total params: 104,202\n",
      "Trainable params: 104,202\n",
      "Non-trainable params: 0\n",
      "_________________________________________________________________\n"
     ]
    }
   ],
   "source": [
    "inputs = keras.Input(shape=(28, 28, 1)) \n",
    "x = data_augmentation(inputs)\n",
    "x = layers.Conv2D(filters=32, kernel_size=3, activation=\"relu\")(x)\n",
    "x = layers.MaxPooling2D(pool_size=2)(x)\n",
    "x = layers.Conv2D(filters=64, kernel_size=3, activation=\"relu\")(x)\n",
    "x = layers.MaxPooling2D(pool_size=2)(x)\n",
    "x = layers.Conv2D(filters=128, kernel_size=3, activation=\"relu\")(x)\n",
    "x = layers.Flatten()(x)\n",
    "outputs = layers.Dense(10, activation=\"softmax\")(x)\n",
    "model = keras.Model(inputs=inputs, outputs=outputs)\n",
    "model.summary()"
   ]
  },
  {
   "cell_type": "code",
   "execution_count": 53,
   "id": "f212ce0d",
   "metadata": {},
   "outputs": [],
   "source": [
    "model.compile(optimizer=\"rmsprop\",\n",
    "              loss=\"sparse_categorical_crossentropy\",\n",
    "              metrics=[\"accuracy\"])"
   ]
  },
  {
   "cell_type": "code",
   "execution_count": 54,
   "id": "15ce3690",
   "metadata": {
    "scrolled": true
   },
   "outputs": [
    {
     "name": "stdout",
     "output_type": "stream",
     "text": [
      "Epoch 1/30\n"
     ]
    },
    {
     "name": "stderr",
     "output_type": "stream",
     "text": [
      "2022-03-26 17:23:32.822116: I tensorflow/core/grappler/optimizers/custom_graph_optimizer_registry.cc:112] Plugin optimizer for device_type GPU is enabled.\n"
     ]
    },
    {
     "name": "stdout",
     "output_type": "stream",
     "text": [
      "2/2 [==============================] - 1s 156ms/step - loss: 2.1828 - accuracy: 0.2250 - val_loss: 2.0264 - val_accuracy: 0.1000\n",
      "Epoch 2/30\n",
      "2/2 [==============================] - 0s 61ms/step - loss: 2.1219 - accuracy: 0.2000 - val_loss: 1.8771 - val_accuracy: 0.2000\n",
      "Epoch 3/30\n",
      "1/2 [==============>...............] - ETA: 0s - loss: 1.6833 - accuracy: 0.2188"
     ]
    },
    {
     "name": "stderr",
     "output_type": "stream",
     "text": [
      "2022-03-26 17:23:33.197258: I tensorflow/core/grappler/optimizers/custom_graph_optimizer_registry.cc:112] Plugin optimizer for device_type GPU is enabled.\n"
     ]
    },
    {
     "name": "stdout",
     "output_type": "stream",
     "text": [
      "2/2 [==============================] - 0s 44ms/step - loss: 1.6956 - accuracy: 0.2000 - val_loss: 1.8685 - val_accuracy: 0.1000\n",
      "Epoch 4/30\n",
      "2/2 [==============================] - 0s 78ms/step - loss: 1.6939 - accuracy: 0.2000 - val_loss: 1.7682 - val_accuracy: 0.1000\n",
      "Epoch 5/30\n",
      "2/2 [==============================] - 0s 46ms/step - loss: 1.5455 - accuracy: 0.3250 - val_loss: 1.6766 - val_accuracy: 0.2000\n",
      "Epoch 6/30\n",
      "2/2 [==============================] - 0s 26ms/step - loss: 1.5559 - accuracy: 0.4000 - val_loss: 1.7055 - val_accuracy: 0.2000\n",
      "Epoch 7/30\n",
      "2/2 [==============================] - 0s 59ms/step - loss: 1.4766 - accuracy: 0.4250 - val_loss: 1.6614 - val_accuracy: 0.3000\n",
      "Epoch 8/30\n",
      "2/2 [==============================] - 0s 45ms/step - loss: 1.3863 - accuracy: 0.5750 - val_loss: 1.5342 - val_accuracy: 0.4000\n",
      "Epoch 9/30\n",
      "2/2 [==============================] - 0s 36ms/step - loss: 1.4466 - accuracy: 0.3000 - val_loss: 1.4913 - val_accuracy: 0.2000\n",
      "Epoch 10/30\n",
      "2/2 [==============================] - 0s 36ms/step - loss: 1.5122 - accuracy: 0.3500 - val_loss: 1.4236 - val_accuracy: 0.3000\n",
      "Epoch 11/30\n",
      "2/2 [==============================] - 0s 24ms/step - loss: 1.3380 - accuracy: 0.5500 - val_loss: 1.4355 - val_accuracy: 0.2000\n",
      "Epoch 12/30\n",
      "2/2 [==============================] - 0s 39ms/step - loss: 1.3906 - accuracy: 0.4000 - val_loss: 1.3151 - val_accuracy: 0.4000\n",
      "Epoch 13/30\n",
      "2/2 [==============================] - 0s 23ms/step - loss: 1.5121 - accuracy: 0.3000 - val_loss: 1.3307 - val_accuracy: 0.5000\n",
      "Epoch 14/30\n",
      "2/2 [==============================] - 0s 38ms/step - loss: 1.1350 - accuracy: 0.6750 - val_loss: 1.1996 - val_accuracy: 0.5000\n",
      "Epoch 15/30\n",
      "2/2 [==============================] - 0s 24ms/step - loss: 1.0509 - accuracy: 0.7250 - val_loss: 1.4250 - val_accuracy: 0.3000\n",
      "Epoch 16/30\n",
      "2/2 [==============================] - 0s 24ms/step - loss: 1.0985 - accuracy: 0.5500 - val_loss: 1.2226 - val_accuracy: 0.3000\n",
      "Epoch 17/30\n",
      "2/2 [==============================] - 0s 37ms/step - loss: 1.2231 - accuracy: 0.5000 - val_loss: 1.1412 - val_accuracy: 0.4000\n",
      "Epoch 18/30\n",
      "2/2 [==============================] - 0s 24ms/step - loss: 1.0730 - accuracy: 0.5750 - val_loss: 1.2430 - val_accuracy: 0.5000\n",
      "Epoch 19/30\n",
      "2/2 [==============================] - 0s 42ms/step - loss: 0.8641 - accuracy: 0.7750 - val_loss: 0.9731 - val_accuracy: 0.7000\n",
      "Epoch 20/30\n",
      "2/2 [==============================] - 0s 24ms/step - loss: 0.9360 - accuracy: 0.6250 - val_loss: 1.3045 - val_accuracy: 0.3000\n",
      "Epoch 21/30\n",
      "2/2 [==============================] - 0s 24ms/step - loss: 0.8030 - accuracy: 0.6000 - val_loss: 1.0039 - val_accuracy: 0.6000\n",
      "Epoch 22/30\n",
      "2/2 [==============================] - 0s 26ms/step - loss: 0.7977 - accuracy: 0.7000 - val_loss: 1.2660 - val_accuracy: 0.4000\n",
      "Epoch 23/30\n",
      "2/2 [==============================] - 0s 25ms/step - loss: 0.7916 - accuracy: 0.7250 - val_loss: 1.1961 - val_accuracy: 0.6000\n",
      "Epoch 24/30\n",
      "2/2 [==============================] - 0s 23ms/step - loss: 0.8065 - accuracy: 0.7000 - val_loss: 1.2321 - val_accuracy: 0.4000\n",
      "Epoch 25/30\n",
      "2/2 [==============================] - 0s 23ms/step - loss: 0.8203 - accuracy: 0.6250 - val_loss: 1.3015 - val_accuracy: 0.3000\n",
      "Epoch 26/30\n",
      "2/2 [==============================] - 0s 39ms/step - loss: 0.9047 - accuracy: 0.6750 - val_loss: 0.8350 - val_accuracy: 0.7000\n",
      "Epoch 27/30\n",
      "2/2 [==============================] - 0s 25ms/step - loss: 0.9508 - accuracy: 0.6750 - val_loss: 0.9323 - val_accuracy: 0.5000\n",
      "Epoch 28/30\n",
      "2/2 [==============================] - 0s 24ms/step - loss: 0.8108 - accuracy: 0.7750 - val_loss: 1.2418 - val_accuracy: 0.4000\n",
      "Epoch 29/30\n",
      "2/2 [==============================] - 0s 39ms/step - loss: 0.7328 - accuracy: 0.7500 - val_loss: 0.7741 - val_accuracy: 0.8000\n",
      "Epoch 30/30\n",
      "2/2 [==============================] - 0s 36ms/step - loss: 1.1655 - accuracy: 0.5000 - val_loss: 0.7052 - val_accuracy: 0.8000\n"
     ]
    }
   ],
   "source": [
    "callbacks_naive_model_augmentation_2 = [\n",
    "    keras.callbacks.ModelCheckpoint(\n",
    "        filepath=\"convnet_naive_model_augmentation_2.keras\", save_best_only=True, monitor=\"val_loss\")]\n",
    "\n",
    "history = model.fit(train_set_2_images,train_set_2_labels,\n",
    "                    epochs=30, validation_split=0.2, callbacks=callbacks_naive_model_augmentation_2)"
   ]
  },
  {
   "cell_type": "code",
   "execution_count": 55,
   "id": "0b5141a1",
   "metadata": {},
   "outputs": [
    {
     "name": "stdout",
     "output_type": "stream",
     "text": [
      " 25/152 [===>..........................] - ETA: 0s - loss: 0.9136 - accuracy: 0.7175"
     ]
    },
    {
     "name": "stderr",
     "output_type": "stream",
     "text": [
      "2022-03-26 17:23:34.807032: I tensorflow/core/grappler/optimizers/custom_graph_optimizer_registry.cc:112] Plugin optimizer for device_type GPU is enabled.\n"
     ]
    },
    {
     "name": "stdout",
     "output_type": "stream",
     "text": [
      "152/152 [==============================] - 1s 4ms/step - loss: 0.9010 - accuracy: 0.7198\n",
      "2/2 [==============================] - 0s 27ms/step - loss: 0.5712 - accuracy: 0.9200\n",
      "Train accuracy: 0.920\n",
      "Test accuracy: 0.720\n"
     ]
    }
   ],
   "source": [
    "## Evaluate\n",
    "model = keras.models.load_model(\"convnet_naive_model_augmentation_2.keras\") \n",
    "test_loss, test_acc = model.evaluate(test_set_2_images,test_set_2_labels) \n",
    "train_loss, train_acc = model.evaluate(train_set_2_images,train_set_2_labels) \n",
    "\n",
    "print(f\"Train accuracy: {train_acc:.3f}\")\n",
    "print(f\"Test accuracy: {test_acc:.3f}\")\n"
   ]
  },
  {
   "cell_type": "markdown",
   "id": "31f562aa",
   "metadata": {},
   "source": [
    "## Pretrain without fine tuning"
   ]
  },
  {
   "cell_type": "code",
   "execution_count": 61,
   "id": "f6834923",
   "metadata": {},
   "outputs": [],
   "source": [
    "model = keras.models.load_model(\"convnet_base_model.keras\") \n",
    "conv_base = keras.Sequential(model.layers[:7])\n",
    "conv_base.trainable = False"
   ]
  },
  {
   "cell_type": "code",
   "execution_count": 62,
   "id": "d43658f4",
   "metadata": {},
   "outputs": [
    {
     "name": "stdout",
     "output_type": "stream",
     "text": [
      "Model: \"model_11\"\n",
      "_________________________________________________________________\n",
      " Layer (type)                Output Shape              Param #   \n",
      "=================================================================\n",
      " input_12 (InputLayer)       [(None, 28, 28, 1)]       0         \n",
      "                                                                 \n",
      " sequential_7 (Sequential)   (None, 28, 28, 1)         0         \n",
      "                                                                 \n",
      " sequential_9 (Sequential)   (None, 1152)              92672     \n",
      "                                                                 \n",
      " dense_11 (Dense)            (None, 10)                11530     \n",
      "                                                                 \n",
      "=================================================================\n",
      "Total params: 104,202\n",
      "Trainable params: 11,530\n",
      "Non-trainable params: 92,672\n",
      "_________________________________________________________________\n"
     ]
    }
   ],
   "source": [
    "inputs = keras.Input(shape=(28, 28, 1)) \n",
    "x = data_augmentation(inputs)\n",
    "x = conv_base(x)\n",
    "outputs = layers.Dense(10, activation=\"softmax\")(x)\n",
    "\n",
    "conv_model_fine_tuning_0 = keras.Model(inputs=inputs, outputs=outputs)\n",
    "conv_model_fine_tuning_0.summary()"
   ]
  },
  {
   "cell_type": "code",
   "execution_count": 63,
   "id": "2488869a",
   "metadata": {},
   "outputs": [],
   "source": [
    "conv_model_fine_tuning_0.compile(optimizer=keras.optimizers.RMSprop(learning_rate=0.0001),\n",
    "              loss=\"sparse_categorical_crossentropy\",\n",
    "              metrics=[\"accuracy\"])"
   ]
  },
  {
   "cell_type": "code",
   "execution_count": 64,
   "id": "81cb06eb",
   "metadata": {
    "scrolled": true
   },
   "outputs": [
    {
     "name": "stdout",
     "output_type": "stream",
     "text": [
      "Epoch 1/30\n"
     ]
    },
    {
     "name": "stderr",
     "output_type": "stream",
     "text": [
      "2022-03-26 17:27:37.412371: I tensorflow/core/grappler/optimizers/custom_graph_optimizer_registry.cc:112] Plugin optimizer for device_type GPU is enabled.\n"
     ]
    },
    {
     "name": "stdout",
     "output_type": "stream",
     "text": [
      "2/2 [==============================] - 1s 190ms/step - loss: 17.4135 - accuracy: 0.0000e+00 - val_loss: 6.0751 - val_accuracy: 0.0000e+00\n",
      "Epoch 2/30\n",
      "2/2 [==============================] - 0s 56ms/step - loss: 5.7086 - accuracy: 0.0000e+00 - val_loss: 2.3268 - val_accuracy: 0.0000e+00\n",
      "Epoch 3/30\n",
      "1/2 [==============>...............] - ETA: 0s - loss: 2.2522 - accuracy: 0.1875"
     ]
    },
    {
     "name": "stderr",
     "output_type": "stream",
     "text": [
      "2022-03-26 17:27:37.839841: I tensorflow/core/grappler/optimizers/custom_graph_optimizer_registry.cc:112] Plugin optimizer for device_type GPU is enabled.\n"
     ]
    },
    {
     "name": "stdout",
     "output_type": "stream",
     "text": [
      "2/2 [==============================] - 0s 45ms/step - loss: 2.1545 - accuracy: 0.2250 - val_loss: 1.4064 - val_accuracy: 0.6000\n",
      "Epoch 4/30\n",
      "2/2 [==============================] - 0s 39ms/step - loss: 1.2923 - accuracy: 0.7000 - val_loss: 1.1946 - val_accuracy: 0.7000\n",
      "Epoch 5/30\n",
      "2/2 [==============================] - 0s 37ms/step - loss: 1.0176 - accuracy: 0.8000 - val_loss: 0.9916 - val_accuracy: 0.8000\n",
      "Epoch 6/30\n",
      "2/2 [==============================] - 0s 36ms/step - loss: 0.8350 - accuracy: 0.8250 - val_loss: 0.9758 - val_accuracy: 0.7000\n",
      "Epoch 7/30\n",
      "2/2 [==============================] - 0s 65ms/step - loss: 0.6814 - accuracy: 0.9000 - val_loss: 0.8487 - val_accuracy: 0.8000\n",
      "Epoch 8/30\n",
      "2/2 [==============================] - 0s 38ms/step - loss: 0.5408 - accuracy: 0.9750 - val_loss: 0.6941 - val_accuracy: 0.9000\n",
      "Epoch 9/30\n",
      "2/2 [==============================] - 0s 36ms/step - loss: 0.4420 - accuracy: 0.9750 - val_loss: 0.5632 - val_accuracy: 0.9000\n",
      "Epoch 10/30\n",
      "2/2 [==============================] - 0s 33ms/step - loss: 0.3604 - accuracy: 0.9750 - val_loss: 0.4537 - val_accuracy: 0.9000\n",
      "Epoch 11/30\n",
      "2/2 [==============================] - 0s 20ms/step - loss: 0.2934 - accuracy: 1.0000 - val_loss: 0.5387 - val_accuracy: 0.9000\n",
      "Epoch 12/30\n",
      "2/2 [==============================] - 0s 34ms/step - loss: 0.2332 - accuracy: 1.0000 - val_loss: 0.4526 - val_accuracy: 0.9000\n",
      "Epoch 13/30\n",
      "2/2 [==============================] - 0s 20ms/step - loss: 0.1883 - accuracy: 1.0000 - val_loss: 0.4623 - val_accuracy: 0.9000\n",
      "Epoch 14/30\n",
      "2/2 [==============================] - 0s 35ms/step - loss: 0.1501 - accuracy: 1.0000 - val_loss: 0.4236 - val_accuracy: 0.9000\n",
      "Epoch 15/30\n",
      "2/2 [==============================] - 0s 34ms/step - loss: 0.1210 - accuracy: 1.0000 - val_loss: 0.3727 - val_accuracy: 0.9000\n",
      "Epoch 16/30\n",
      "2/2 [==============================] - 0s 21ms/step - loss: 0.0980 - accuracy: 1.0000 - val_loss: 0.3932 - val_accuracy: 0.9000\n",
      "Epoch 17/30\n",
      "2/2 [==============================] - 0s 34ms/step - loss: 0.0797 - accuracy: 1.0000 - val_loss: 0.2891 - val_accuracy: 0.9000\n",
      "Epoch 18/30\n",
      "2/2 [==============================] - 0s 36ms/step - loss: 0.0629 - accuracy: 1.0000 - val_loss: 0.2535 - val_accuracy: 0.9000\n",
      "Epoch 19/30\n",
      "2/2 [==============================] - 0s 31ms/step - loss: 0.0530 - accuracy: 1.0000 - val_loss: 0.2745 - val_accuracy: 0.9000\n",
      "Epoch 20/30\n",
      "2/2 [==============================] - 0s 20ms/step - loss: 0.0412 - accuracy: 1.0000 - val_loss: 0.3079 - val_accuracy: 0.9000\n",
      "Epoch 21/30\n",
      "2/2 [==============================] - 0s 37ms/step - loss: 0.0393 - accuracy: 1.0000 - val_loss: 0.2342 - val_accuracy: 0.9000\n",
      "Epoch 22/30\n",
      "2/2 [==============================] - 0s 22ms/step - loss: 0.0284 - accuracy: 1.0000 - val_loss: 0.2555 - val_accuracy: 0.9000\n",
      "Epoch 23/30\n",
      "2/2 [==============================] - 0s 30ms/step - loss: 0.0237 - accuracy: 1.0000 - val_loss: 0.2475 - val_accuracy: 0.9000\n",
      "Epoch 24/30\n",
      "2/2 [==============================] - 0s 21ms/step - loss: 0.0204 - accuracy: 1.0000 - val_loss: 0.3005 - val_accuracy: 0.9000\n",
      "Epoch 25/30\n",
      "2/2 [==============================] - 0s 21ms/step - loss: 0.0172 - accuracy: 1.0000 - val_loss: 0.2881 - val_accuracy: 0.9000\n",
      "Epoch 26/30\n",
      "2/2 [==============================] - 0s 23ms/step - loss: 0.0131 - accuracy: 1.0000 - val_loss: 0.2447 - val_accuracy: 0.9000\n",
      "Epoch 27/30\n",
      "2/2 [==============================] - 0s 24ms/step - loss: 0.0114 - accuracy: 1.0000 - val_loss: 0.2772 - val_accuracy: 0.9000\n",
      "Epoch 28/30\n",
      "2/2 [==============================] - 0s 23ms/step - loss: 0.0094 - accuracy: 1.0000 - val_loss: 0.2645 - val_accuracy: 0.9000\n",
      "Epoch 29/30\n",
      "2/2 [==============================] - 0s 22ms/step - loss: 0.0084 - accuracy: 1.0000 - val_loss: 0.3196 - val_accuracy: 0.9000\n",
      "Epoch 30/30\n",
      "2/2 [==============================] - 0s 21ms/step - loss: 0.0067 - accuracy: 1.0000 - val_loss: 0.2833 - val_accuracy: 0.9000\n"
     ]
    }
   ],
   "source": [
    "callbacks = [\n",
    "    keras.callbacks.ModelCheckpoint(\n",
    "        filepath=\"conv_model_fine_tuning_0.keras\", save_best_only=True, monitor=\"val_loss\")]\n",
    "\n",
    "history = model.fit(train_set_2_images,train_set_2_labels,\n",
    "                    epochs=30, validation_split=0.2, callbacks=callbacks)"
   ]
  },
  {
   "cell_type": "code",
   "execution_count": 65,
   "id": "6c66a7dd",
   "metadata": {},
   "outputs": [
    {
     "name": "stdout",
     "output_type": "stream",
     "text": [
      " 26/152 [====>.........................] - ETA: 0s - loss: 0.4291 - accuracy: 0.8534"
     ]
    },
    {
     "name": "stderr",
     "output_type": "stream",
     "text": [
      "2022-03-26 17:27:39.235082: I tensorflow/core/grappler/optimizers/custom_graph_optimizer_registry.cc:112] Plugin optimizer for device_type GPU is enabled.\n"
     ]
    },
    {
     "name": "stdout",
     "output_type": "stream",
     "text": [
      "152/152 [==============================] - 1s 4ms/step - loss: 0.4228 - accuracy: 0.8519\n",
      "2/2 [==============================] - 0s 35ms/step - loss: 0.0694 - accuracy: 0.9800\n",
      "Train accuracy: 0.980\n",
      "Test accuracy: 0.852\n"
     ]
    }
   ],
   "source": [
    "## Evaluate\n",
    "model = keras.models.load_model(\"conv_model_fine_tuning_0.keras\") \n",
    "test_loss, test_acc = model.evaluate(test_set_2_images,test_set_2_labels) \n",
    "train_loss, train_acc = model.evaluate(train_set_2_images,train_set_2_labels) \n",
    "\n",
    "print(f\"Train accuracy: {train_acc:.3f}\")\n",
    "print(f\"Test accuracy: {test_acc:.3f}\")"
   ]
  },
  {
   "cell_type": "markdown",
   "id": "f08123ba",
   "metadata": {},
   "source": [
    "## Pretrain with fine tuning\n",
    "\n",
    "**Fine tuning 1 convolutional  layer (k=1)**"
   ]
  },
  {
   "cell_type": "code",
   "execution_count": 66,
   "id": "1c9e8d6d",
   "metadata": {},
   "outputs": [],
   "source": [
    "model = keras.models.load_model(\"convnet_base_model.keras\") \n",
    "conv_base = keras.Sequential(model.layers[:5])\n",
    "conv_base.trainable = False"
   ]
  },
  {
   "cell_type": "code",
   "execution_count": 67,
   "id": "f45db728",
   "metadata": {},
   "outputs": [
    {
     "name": "stdout",
     "output_type": "stream",
     "text": [
      "Model: \"model_12\"\n",
      "_________________________________________________________________\n",
      " Layer (type)                Output Shape              Param #   \n",
      "=================================================================\n",
      " input_13 (InputLayer)       [(None, 28, 28, 1)]       0         \n",
      "                                                                 \n",
      " sequential_7 (Sequential)   (None, 28, 28, 1)         0         \n",
      "                                                                 \n",
      " sequential_10 (Sequential)  (None, 5, 5, 64)          18816     \n",
      "                                                                 \n",
      " conv2d_24 (Conv2D)          (None, 3, 3, 128)         73856     \n",
      "                                                                 \n",
      " flatten_9 (Flatten)         (None, 1152)              0         \n",
      "                                                                 \n",
      " dense_12 (Dense)            (None, 10)                11530     \n",
      "                                                                 \n",
      "=================================================================\n",
      "Total params: 104,202\n",
      "Trainable params: 85,386\n",
      "Non-trainable params: 18,816\n",
      "_________________________________________________________________\n"
     ]
    }
   ],
   "source": [
    "inputs = keras.Input(shape=(28, 28, 1)) \n",
    "x = data_augmentation(inputs)\n",
    "x = conv_base(x)\n",
    "x = layers.Conv2D(filters=128, kernel_size=3, activation=\"relu\")(x)\n",
    "x = layers.Flatten()(x)\n",
    "outputs = layers.Dense(10, activation=\"softmax\")(x)\n",
    "\n",
    "conv_model_fine_tuning_1 = keras.Model(inputs=inputs, outputs=outputs)\n",
    "conv_model_fine_tuning_1.summary()"
   ]
  },
  {
   "cell_type": "code",
   "execution_count": 68,
   "id": "a7587380",
   "metadata": {},
   "outputs": [],
   "source": [
    "conv_model_fine_tuning_1.compile(optimizer=keras.optimizers.RMSprop(learning_rate=0.0001),\n",
    "              loss=\"sparse_categorical_crossentropy\",\n",
    "              metrics=[\"accuracy\"])"
   ]
  },
  {
   "cell_type": "code",
   "execution_count": 69,
   "id": "f8478d90",
   "metadata": {
    "scrolled": true
   },
   "outputs": [
    {
     "name": "stdout",
     "output_type": "stream",
     "text": [
      "Epoch 1/30\n"
     ]
    },
    {
     "name": "stderr",
     "output_type": "stream",
     "text": [
      "2022-03-26 17:30:30.570897: I tensorflow/core/grappler/optimizers/custom_graph_optimizer_registry.cc:112] Plugin optimizer for device_type GPU is enabled.\n"
     ]
    },
    {
     "name": "stdout",
     "output_type": "stream",
     "text": [
      "2/2 [==============================] - 1s 180ms/step - loss: 17.2839 - accuracy: 0.0000e+00 - val_loss: 5.8914 - val_accuracy: 0.0000e+00\n",
      "Epoch 2/30\n",
      "2/2 [==============================] - 0s 41ms/step - loss: 5.4661 - accuracy: 0.0000e+00 - val_loss: 2.1190 - val_accuracy: 0.1000\n",
      "Epoch 3/30\n",
      "1/2 [==============>...............] - ETA: 0s - loss: 2.1856 - accuracy: 0.2188"
     ]
    },
    {
     "name": "stderr",
     "output_type": "stream",
     "text": [
      "2022-03-26 17:30:31.010762: I tensorflow/core/grappler/optimizers/custom_graph_optimizer_registry.cc:112] Plugin optimizer for device_type GPU is enabled.\n"
     ]
    },
    {
     "name": "stdout",
     "output_type": "stream",
     "text": [
      "2/2 [==============================] - 0s 64ms/step - loss: 2.0674 - accuracy: 0.2750 - val_loss: 1.3100 - val_accuracy: 0.7000\n",
      "Epoch 4/30\n",
      "2/2 [==============================] - 0s 41ms/step - loss: 1.2837 - accuracy: 0.7000 - val_loss: 1.0960 - val_accuracy: 0.8000\n",
      "Epoch 5/30\n",
      "2/2 [==============================] - 0s 68ms/step - loss: 0.9670 - accuracy: 0.7750 - val_loss: 1.0750 - val_accuracy: 0.7000\n",
      "Epoch 6/30\n",
      "2/2 [==============================] - 0s 36ms/step - loss: 0.7991 - accuracy: 0.8250 - val_loss: 0.8526 - val_accuracy: 0.9000\n",
      "Epoch 7/30\n",
      "2/2 [==============================] - 0s 40ms/step - loss: 0.6535 - accuracy: 0.9250 - val_loss: 0.7609 - val_accuracy: 0.9000\n",
      "Epoch 8/30\n",
      "2/2 [==============================] - 0s 43ms/step - loss: 0.5383 - accuracy: 0.9500 - val_loss: 0.6999 - val_accuracy: 0.8000\n",
      "Epoch 9/30\n",
      "2/2 [==============================] - 0s 34ms/step - loss: 0.4413 - accuracy: 0.9750 - val_loss: 0.6921 - val_accuracy: 0.8000\n",
      "Epoch 10/30\n",
      "2/2 [==============================] - 0s 35ms/step - loss: 0.3672 - accuracy: 0.9500 - val_loss: 0.4365 - val_accuracy: 0.9000\n",
      "Epoch 11/30\n",
      "2/2 [==============================] - 0s 22ms/step - loss: 0.2859 - accuracy: 1.0000 - val_loss: 0.4854 - val_accuracy: 0.9000\n",
      "Epoch 12/30\n",
      "2/2 [==============================] - 0s 37ms/step - loss: 0.2299 - accuracy: 1.0000 - val_loss: 0.3751 - val_accuracy: 0.9000\n",
      "Epoch 13/30\n",
      "2/2 [==============================] - 0s 35ms/step - loss: 0.2067 - accuracy: 1.0000 - val_loss: 0.3228 - val_accuracy: 0.9000\n",
      "Epoch 14/30\n",
      "2/2 [==============================] - 0s 21ms/step - loss: 0.1565 - accuracy: 1.0000 - val_loss: 0.3617 - val_accuracy: 0.9000\n",
      "Epoch 15/30\n",
      "2/2 [==============================] - 0s 20ms/step - loss: 0.1206 - accuracy: 1.0000 - val_loss: 0.3520 - val_accuracy: 0.9000\n",
      "Epoch 16/30\n",
      "2/2 [==============================] - 0s 22ms/step - loss: 0.0988 - accuracy: 1.0000 - val_loss: 0.3476 - val_accuracy: 0.9000\n",
      "Epoch 17/30\n",
      "2/2 [==============================] - 0s 22ms/step - loss: 0.0793 - accuracy: 1.0000 - val_loss: 0.3672 - val_accuracy: 0.9000\n",
      "Epoch 18/30\n",
      "2/2 [==============================] - 0s 22ms/step - loss: 0.0662 - accuracy: 1.0000 - val_loss: 0.3324 - val_accuracy: 0.9000\n",
      "Epoch 19/30\n",
      "2/2 [==============================] - 0s 21ms/step - loss: 0.0522 - accuracy: 1.0000 - val_loss: 0.3372 - val_accuracy: 0.9000\n",
      "Epoch 20/30\n",
      "2/2 [==============================] - 0s 23ms/step - loss: 0.0421 - accuracy: 1.0000 - val_loss: 0.3274 - val_accuracy: 0.9000\n",
      "Epoch 21/30\n",
      "2/2 [==============================] - 0s 20ms/step - loss: 0.0354 - accuracy: 1.0000 - val_loss: 0.3760 - val_accuracy: 0.9000\n",
      "Epoch 22/30\n",
      "2/2 [==============================] - 0s 36ms/step - loss: 0.0306 - accuracy: 1.0000 - val_loss: 0.3087 - val_accuracy: 0.9000\n",
      "Epoch 23/30\n",
      "2/2 [==============================] - 0s 23ms/step - loss: 0.0229 - accuracy: 1.0000 - val_loss: 0.3391 - val_accuracy: 0.9000\n",
      "Epoch 24/30\n",
      "2/2 [==============================] - 0s 27ms/step - loss: 0.0220 - accuracy: 1.0000 - val_loss: 0.3174 - val_accuracy: 0.9000\n",
      "Epoch 25/30\n",
      "2/2 [==============================] - 0s 38ms/step - loss: 0.0167 - accuracy: 1.0000 - val_loss: 0.3079 - val_accuracy: 0.9000\n",
      "Epoch 26/30\n",
      "2/2 [==============================] - 0s 39ms/step - loss: 0.0129 - accuracy: 1.0000 - val_loss: 0.2874 - val_accuracy: 0.9000\n",
      "Epoch 27/30\n",
      "2/2 [==============================] - 0s 24ms/step - loss: 0.0110 - accuracy: 1.0000 - val_loss: 0.3005 - val_accuracy: 0.9000\n",
      "Epoch 28/30\n",
      "2/2 [==============================] - 0s 33ms/step - loss: 0.0093 - accuracy: 1.0000 - val_loss: 0.2902 - val_accuracy: 0.9000\n",
      "Epoch 29/30\n",
      "2/2 [==============================] - 0s 41ms/step - loss: 0.0086 - accuracy: 1.0000 - val_loss: 0.2198 - val_accuracy: 0.9000\n",
      "Epoch 30/30\n",
      "2/2 [==============================] - 0s 22ms/step - loss: 0.0084 - accuracy: 1.0000 - val_loss: 0.3086 - val_accuracy: 0.9000\n"
     ]
    }
   ],
   "source": [
    "callbacks = [\n",
    "    keras.callbacks.ModelCheckpoint(\n",
    "        filepath=\"conv_model_fine_tuning_1.keras\", save_best_only=True, monitor=\"val_loss\")]\n",
    "\n",
    "history = model.fit(train_set_2_images,train_set_2_labels,\n",
    "                    epochs=30, validation_split=0.2, callbacks=callbacks)"
   ]
  },
  {
   "cell_type": "code",
   "execution_count": 70,
   "id": "65692a8a",
   "metadata": {},
   "outputs": [
    {
     "name": "stdout",
     "output_type": "stream",
     "text": [
      " 23/152 [===>..........................] - ETA: 0s - loss: 0.4271 - accuracy: 0.8723"
     ]
    },
    {
     "name": "stderr",
     "output_type": "stream",
     "text": [
      "2022-03-26 17:30:32.487201: I tensorflow/core/grappler/optimizers/custom_graph_optimizer_registry.cc:112] Plugin optimizer for device_type GPU is enabled.\n"
     ]
    },
    {
     "name": "stdout",
     "output_type": "stream",
     "text": [
      "152/152 [==============================] - 1s 4ms/step - loss: 0.4081 - accuracy: 0.8665\n",
      "2/2 [==============================] - 0s 38ms/step - loss: 0.0512 - accuracy: 0.9800\n",
      "Train accuracy: 0.980\n",
      "Test accuracy: 0.866\n"
     ]
    }
   ],
   "source": [
    "## Evaluate\n",
    "model = keras.models.load_model(\"conv_model_fine_tuning_1.keras\") \n",
    "test_loss, test_acc = model.evaluate(test_set_2_images,test_set_2_labels) \n",
    "train_loss, train_acc = model.evaluate(train_set_2_images,train_set_2_labels) \n",
    "\n",
    "print(f\"Train accuracy: {train_acc:.3f}\")\n",
    "print(f\"Test accuracy: {test_acc:.3f}\")"
   ]
  },
  {
   "cell_type": "markdown",
   "id": "369442c4",
   "metadata": {},
   "source": [
    "**Fine tuning 2 convolutional  layers (k=2)**"
   ]
  },
  {
   "cell_type": "code",
   "execution_count": 71,
   "id": "daa11af1",
   "metadata": {},
   "outputs": [],
   "source": [
    "model = keras.models.load_model(\"convnet_base_model.keras\") \n",
    "conv_base = keras.Sequential(model.layers[:3])\n",
    "conv_base.trainable = False"
   ]
  },
  {
   "cell_type": "code",
   "execution_count": 72,
   "id": "dd618bd9",
   "metadata": {},
   "outputs": [
    {
     "name": "stdout",
     "output_type": "stream",
     "text": [
      "Model: \"model_13\"\n",
      "_________________________________________________________________\n",
      " Layer (type)                Output Shape              Param #   \n",
      "=================================================================\n",
      " input_14 (InputLayer)       [(None, 28, 28, 1)]       0         \n",
      "                                                                 \n",
      " sequential_7 (Sequential)   (None, 28, 28, 1)         0         \n",
      "                                                                 \n",
      " sequential_11 (Sequential)  (None, 13, 13, 32)        320       \n",
      "                                                                 \n",
      " conv2d_25 (Conv2D)          (None, 11, 11, 64)        18496     \n",
      "                                                                 \n",
      " max_pooling2d_15 (MaxPoolin  (None, 5, 5, 64)         0         \n",
      " g2D)                                                            \n",
      "                                                                 \n",
      " conv2d_26 (Conv2D)          (None, 3, 3, 128)         73856     \n",
      "                                                                 \n",
      " flatten_10 (Flatten)        (None, 1152)              0         \n",
      "                                                                 \n",
      " dense_13 (Dense)            (None, 10)                11530     \n",
      "                                                                 \n",
      "=================================================================\n",
      "Total params: 104,202\n",
      "Trainable params: 103,882\n",
      "Non-trainable params: 320\n",
      "_________________________________________________________________\n"
     ]
    }
   ],
   "source": [
    "inputs = keras.Input(shape=(28, 28, 1)) \n",
    "x = data_augmentation(inputs)\n",
    "x = conv_base(x)\n",
    "x = layers.Conv2D(filters=64, kernel_size=3, activation=\"relu\")(x)\n",
    "x = layers.MaxPooling2D(pool_size=2)(x)\n",
    "x = layers.Conv2D(filters=128, kernel_size=3, activation=\"relu\")(x)\n",
    "x = layers.Flatten()(x)\n",
    "outputs = layers.Dense(10, activation=\"softmax\")(x)\n",
    "\n",
    "conv_model_fine_tuning_2 = keras.Model(inputs=inputs, outputs=outputs)\n",
    "conv_model_fine_tuning_2.summary()"
   ]
  },
  {
   "cell_type": "code",
   "execution_count": 73,
   "id": "51caf681",
   "metadata": {},
   "outputs": [],
   "source": [
    "conv_model_fine_tuning_2.compile(optimizer=keras.optimizers.RMSprop(learning_rate=0.00001),\n",
    "              loss=\"sparse_categorical_crossentropy\",\n",
    "              metrics=[\"accuracy\"])"
   ]
  },
  {
   "cell_type": "code",
   "execution_count": 74,
   "id": "44b7ef80",
   "metadata": {
    "scrolled": false
   },
   "outputs": [
    {
     "name": "stdout",
     "output_type": "stream",
     "text": [
      "Epoch 1/30\n"
     ]
    },
    {
     "name": "stderr",
     "output_type": "stream",
     "text": [
      "2022-03-26 17:32:07.194809: I tensorflow/core/grappler/optimizers/custom_graph_optimizer_registry.cc:112] Plugin optimizer for device_type GPU is enabled.\n"
     ]
    },
    {
     "name": "stdout",
     "output_type": "stream",
     "text": [
      "2/2 [==============================] - 1s 180ms/step - loss: 17.2474 - accuracy: 0.0000e+00 - val_loss: 5.5876 - val_accuracy: 0.0000e+00\n",
      "Epoch 2/30\n",
      "2/2 [==============================] - 0s 40ms/step - loss: 5.0778 - accuracy: 0.0250 - val_loss: 1.9466 - val_accuracy: 0.1000\n",
      "Epoch 3/30\n",
      "1/2 [==============>...............] - ETA: 0s - loss: 2.0317 - accuracy: 0.2500"
     ]
    },
    {
     "name": "stderr",
     "output_type": "stream",
     "text": [
      "2022-03-26 17:32:07.614145: I tensorflow/core/grappler/optimizers/custom_graph_optimizer_registry.cc:112] Plugin optimizer for device_type GPU is enabled.\n"
     ]
    },
    {
     "name": "stdout",
     "output_type": "stream",
     "text": [
      "2/2 [==============================] - 0s 55ms/step - loss: 1.9369 - accuracy: 0.3000 - val_loss: 1.3928 - val_accuracy: 0.5000\n",
      "Epoch 4/30\n",
      "2/2 [==============================] - 0s 44ms/step - loss: 1.2284 - accuracy: 0.5750 - val_loss: 1.1222 - val_accuracy: 0.7000\n",
      "Epoch 5/30\n",
      "2/2 [==============================] - 0s 55ms/step - loss: 0.9373 - accuracy: 0.8250 - val_loss: 0.9634 - val_accuracy: 0.8000\n",
      "Epoch 6/30\n",
      "2/2 [==============================] - 0s 46ms/step - loss: 0.7715 - accuracy: 0.8250 - val_loss: 0.8322 - val_accuracy: 0.9000\n",
      "Epoch 7/30\n",
      "2/2 [==============================] - 0s 54ms/step - loss: 0.6150 - accuracy: 0.9750 - val_loss: 0.8387 - val_accuracy: 0.8000\n",
      "Epoch 8/30\n",
      "2/2 [==============================] - 0s 42ms/step - loss: 0.5072 - accuracy: 0.9500 - val_loss: 0.6289 - val_accuracy: 0.9000\n",
      "Epoch 9/30\n",
      "2/2 [==============================] - 0s 41ms/step - loss: 0.4085 - accuracy: 0.9750 - val_loss: 0.5983 - val_accuracy: 0.9000\n",
      "Epoch 10/30\n",
      "2/2 [==============================] - 0s 54ms/step - loss: 0.3466 - accuracy: 0.9750 - val_loss: 0.5221 - val_accuracy: 0.9000\n",
      "Epoch 11/30\n",
      "2/2 [==============================] - 0s 37ms/step - loss: 0.2773 - accuracy: 0.9750 - val_loss: 0.4582 - val_accuracy: 0.9000\n",
      "Epoch 12/30\n",
      "2/2 [==============================] - 0s 22ms/step - loss: 0.2251 - accuracy: 1.0000 - val_loss: 0.4754 - val_accuracy: 0.9000\n",
      "Epoch 13/30\n",
      "2/2 [==============================] - 0s 30ms/step - loss: 0.1829 - accuracy: 1.0000 - val_loss: 0.4678 - val_accuracy: 0.8000\n",
      "Epoch 14/30\n",
      "2/2 [==============================] - 0s 37ms/step - loss: 0.1746 - accuracy: 1.0000 - val_loss: 0.3840 - val_accuracy: 0.9000\n",
      "Epoch 15/30\n",
      "2/2 [==============================] - 0s 36ms/step - loss: 0.1124 - accuracy: 1.0000 - val_loss: 0.3383 - val_accuracy: 0.9000\n",
      "Epoch 16/30\n",
      "2/2 [==============================] - 0s 23ms/step - loss: 0.0826 - accuracy: 1.0000 - val_loss: 0.3666 - val_accuracy: 0.9000\n",
      "Epoch 17/30\n",
      "2/2 [==============================] - 0s 35ms/step - loss: 0.0700 - accuracy: 1.0000 - val_loss: 0.2775 - val_accuracy: 0.9000\n",
      "Epoch 18/30\n",
      "2/2 [==============================] - 0s 22ms/step - loss: 0.0553 - accuracy: 1.0000 - val_loss: 0.3308 - val_accuracy: 0.9000\n",
      "Epoch 19/30\n",
      "2/2 [==============================] - 0s 24ms/step - loss: 0.0456 - accuracy: 1.0000 - val_loss: 0.2841 - val_accuracy: 0.9000\n",
      "Epoch 20/30\n",
      "2/2 [==============================] - 0s 24ms/step - loss: 0.0366 - accuracy: 1.0000 - val_loss: 0.3155 - val_accuracy: 0.9000\n",
      "Epoch 21/30\n",
      "2/2 [==============================] - 0s 24ms/step - loss: 0.0308 - accuracy: 1.0000 - val_loss: 0.2890 - val_accuracy: 0.9000\n",
      "Epoch 22/30\n",
      "2/2 [==============================] - 0s 33ms/step - loss: 0.0263 - accuracy: 1.0000 - val_loss: 0.3165 - val_accuracy: 0.9000\n",
      "Epoch 23/30\n",
      "2/2 [==============================] - 0s 24ms/step - loss: 0.0215 - accuracy: 1.0000 - val_loss: 0.3033 - val_accuracy: 0.9000\n",
      "Epoch 24/30\n",
      "2/2 [==============================] - 0s 21ms/step - loss: 0.0182 - accuracy: 1.0000 - val_loss: 0.3399 - val_accuracy: 0.9000\n",
      "Epoch 25/30\n",
      "2/2 [==============================] - 0s 21ms/step - loss: 0.0163 - accuracy: 1.0000 - val_loss: 0.3051 - val_accuracy: 0.9000\n",
      "Epoch 26/30\n",
      "2/2 [==============================] - 0s 35ms/step - loss: 0.0120 - accuracy: 1.0000 - val_loss: 0.2690 - val_accuracy: 0.9000\n",
      "Epoch 27/30\n",
      "2/2 [==============================] - 0s 38ms/step - loss: 0.0100 - accuracy: 1.0000 - val_loss: 0.2493 - val_accuracy: 0.9000\n",
      "Epoch 28/30\n",
      "2/2 [==============================] - 0s 25ms/step - loss: 0.0087 - accuracy: 1.0000 - val_loss: 0.3134 - val_accuracy: 0.9000\n",
      "Epoch 29/30\n",
      "2/2 [==============================] - 0s 26ms/step - loss: 0.0070 - accuracy: 1.0000 - val_loss: 0.2813 - val_accuracy: 0.9000\n",
      "Epoch 30/30\n",
      "2/2 [==============================] - 0s 26ms/step - loss: 0.0060 - accuracy: 1.0000 - val_loss: 0.3094 - val_accuracy: 0.9000\n"
     ]
    }
   ],
   "source": [
    "callbacks = [\n",
    "    keras.callbacks.ModelCheckpoint(\n",
    "        filepath=\"conv_model_fine_tuning_2.keras\", save_best_only=True, monitor=\"val_loss\")]\n",
    "\n",
    "history = model.fit(train_set_2_images,train_set_2_labels,\n",
    "                    epochs=30, validation_split=0.2, callbacks=callbacks)"
   ]
  },
  {
   "cell_type": "code",
   "execution_count": 75,
   "id": "7b61d33d",
   "metadata": {},
   "outputs": [
    {
     "name": "stdout",
     "output_type": "stream",
     "text": [
      " 16/152 [==>...........................] - ETA: 0s - loss: 0.4563 - accuracy: 0.8496"
     ]
    },
    {
     "name": "stderr",
     "output_type": "stream",
     "text": [
      "2022-03-26 17:32:09.870999: I tensorflow/core/grappler/optimizers/custom_graph_optimizer_registry.cc:112] Plugin optimizer for device_type GPU is enabled.\n"
     ]
    },
    {
     "name": "stdout",
     "output_type": "stream",
     "text": [
      "152/152 [==============================] - 1s 5ms/step - loss: 0.4213 - accuracy: 0.8541\n",
      "2/2 [==============================] - 0s 29ms/step - loss: 0.0569 - accuracy: 0.9800\n",
      "Train accuracy: 0.980\n",
      "Test accuracy: 0.854\n"
     ]
    }
   ],
   "source": [
    "## Evaluate\n",
    "model = keras.models.load_model(\"conv_model_fine_tuning_2.keras\") \n",
    "test_loss, test_acc = model.evaluate(test_set_2_images,test_set_2_labels) \n",
    "train_loss, train_acc = model.evaluate(train_set_2_images,train_set_2_labels) \n",
    "\n",
    "print(f\"Train accuracy: {train_acc:.3f}\")\n",
    "print(f\"Test accuracy: {test_acc:.3f}\")"
   ]
  },
  {
   "cell_type": "code",
   "execution_count": null,
   "id": "5035abe9",
   "metadata": {},
   "outputs": [],
   "source": []
  },
  {
   "cell_type": "code",
   "execution_count": null,
   "id": "b9d9b3e0",
   "metadata": {},
   "outputs": [],
   "source": []
  }
 ],
 "metadata": {
  "kernelspec": {
   "display_name": "Python 3 (ipykernel)",
   "language": "python",
   "name": "python3"
  },
  "language_info": {
   "codemirror_mode": {
    "name": "ipython",
    "version": 3
   },
   "file_extension": ".py",
   "mimetype": "text/x-python",
   "name": "python",
   "nbconvert_exporter": "python",
   "pygments_lexer": "ipython3",
   "version": "3.9.7"
  }
 },
 "nbformat": 4,
 "nbformat_minor": 5
}
