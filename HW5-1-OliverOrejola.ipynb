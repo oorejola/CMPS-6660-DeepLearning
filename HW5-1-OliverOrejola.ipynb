{
 "cells": [
  {
   "cell_type": "markdown",
   "id": "f3be32ac",
   "metadata": {},
   "source": [
    "# HW 5-1\n",
    "\n",
    "## Boston Housing Prices: Regression\n"
   ]
  },
  {
   "cell_type": "markdown",
   "id": "d6af561c",
   "metadata": {},
   "source": [
    "## Summary\n",
    "\n",
    "The data in the table below summarizes the training, and testing mean absolute error (MAE) at the optimal number of epochs for the 6 models. Below these tables the code can be found along with training/validation MAE and plots for each model.\n",
    "\n",
    " Model |number of layers |units per layer |Batch size | optimal number of epochs | training MAE | testing MAE \n",
    ":---:|:---:|:---:|:---:|:---:|:---:|:---:\n",
    "Model 1| 1 | 64 | 16| 150 | 1.770| 2.714\n",
    "Model 2| 3 | 64 | 16 | 175 | 0.984| 2.320\n",
    "Model 3| 2 | 32 | 16| 150 | 1.705| 2.841\n",
    "Model 4| 2 | 128 | 16 | 90 | 1.643| 2.910\n",
    "Model 5| 2 | 64 | 8| 50 | 1.838| 2.894\n",
    "Model 6| 2 | 64 | 32| 150 | 1.591| 2.923\n",
    "\n"
   ]
  },
  {
   "cell_type": "markdown",
   "id": "b969eed1",
   "metadata": {},
   "source": [
    "**Import the relevant libraries**"
   ]
  },
  {
   "cell_type": "code",
   "execution_count": 1,
   "id": "41235520",
   "metadata": {},
   "outputs": [],
   "source": [
    "import numpy as np\n",
    "import matplotlib.pyplot as plt\n",
    "from tensorflow import keras\n",
    "from tensorflow.keras import layers\n"
   ]
  },
  {
   "cell_type": "markdown",
   "id": "c7e3ad31",
   "metadata": {},
   "source": [
    "**Import the boston housing price dataset and pre process data (normalize)**"
   ]
  },
  {
   "cell_type": "code",
   "execution_count": 38,
   "id": "314b6d90",
   "metadata": {},
   "outputs": [],
   "source": [
    "from tensorflow.keras.datasets import boston_housing\n",
    "(train_data, train_targets), (test_data, test_targets) = boston_housing.load_data()\n",
    "\n",
    "mean = train_data.mean(axis=0)\n",
    "train_data -= mean\n",
    "std = train_data.std(axis=0)\n",
    "train_data /= std\n",
    "test_data -= mean\n",
    "test_data /= std"
   ]
  },
  {
   "cell_type": "markdown",
   "id": "2d7320cd",
   "metadata": {},
   "source": [
    "### Models and testing"
   ]
  },
  {
   "cell_type": "code",
   "execution_count": 3,
   "id": "caa1414a",
   "metadata": {},
   "outputs": [],
   "source": [
    "def build_model_one_layer():\n",
    "    model = keras.Sequential([layers.Dense(64, activation=\"relu\"),\n",
    "                              layers.Dense(1) ])\n",
    "    model.compile(optimizer=\"rmsprop\", loss=\"mse\", metrics=[\"mae\"])\n",
    "    return model\n",
    "\n",
    "def build_model_three_layers():\n",
    "    model = keras.Sequential([layers.Dense(64, activation=\"relu\"),\n",
    "                              layers.Dense(64, activation=\"relu\"),\n",
    "                              layers.Dense(64, activation=\"relu\"),\n",
    "                              layers.Dense(1) ])\n",
    "    model.compile(optimizer=\"rmsprop\", loss=\"mse\", metrics=[\"mae\"])\n",
    "    return model\n",
    "\n",
    "def build_model_32_units():\n",
    "    model = keras.Sequential([layers.Dense(32, activation=\"relu\"),\n",
    "                              layers.Dense(32, activation=\"relu\"),\n",
    "                              layers.Dense(1) ])\n",
    "    model.compile(optimizer=\"rmsprop\", loss=\"mse\", metrics=[\"mae\"])\n",
    "    return model\n",
    "\n",
    "def build_model_128_units():\n",
    "    model = keras.Sequential([layers.Dense(128, activation=\"relu\"),\n",
    "                              layers.Dense(128, activation=\"relu\"),\n",
    "                              layers.Dense(1) ])\n",
    "    model.compile(optimizer=\"rmsprop\", loss=\"mse\", metrics=[\"mae\"])\n",
    "    return model\n",
    "\n",
    "def build_model():\n",
    "    model = keras.Sequential([layers.Dense(64, activation=\"relu\"),\n",
    "                              layers.Dense(64, activation=\"relu\"),\n",
    "                              layers.Dense(1) ])\n",
    "    model.compile(optimizer=\"rmsprop\", loss=\"mse\", metrics=[\"mae\"])\n",
    "    return model\n"
   ]
  },
  {
   "cell_type": "markdown",
   "id": "c381945c",
   "metadata": {},
   "source": [
    "### 4-fold cross validation"
   ]
  },
  {
   "cell_type": "code",
   "execution_count": 7,
   "id": "85f93cdf",
   "metadata": {},
   "outputs": [],
   "source": [
    "k=4\n",
    "num_val_samples = len(train_data) // k\n",
    "num_epochs = 500"
   ]
  },
  {
   "cell_type": "markdown",
   "id": "7654a672",
   "metadata": {},
   "source": [
    "**one intermediate layer**"
   ]
  },
  {
   "cell_type": "code",
   "execution_count": 9,
   "id": "49b7aaa2",
   "metadata": {},
   "outputs": [
    {
     "name": "stdout",
     "output_type": "stream",
     "text": [
      "Processing fold #0\n"
     ]
    },
    {
     "name": "stderr",
     "output_type": "stream",
     "text": [
      "2022-03-14 15:18:47.335831: I tensorflow/core/grappler/optimizers/custom_graph_optimizer_registry.cc:112] Plugin optimizer for device_type GPU is enabled.\n",
      "2022-03-14 15:18:47.588331: I tensorflow/core/grappler/optimizers/custom_graph_optimizer_registry.cc:112] Plugin optimizer for device_type GPU is enabled.\n"
     ]
    },
    {
     "name": "stdout",
     "output_type": "stream",
     "text": [
      "Processing fold #1\n"
     ]
    },
    {
     "name": "stderr",
     "output_type": "stream",
     "text": [
      "2022-03-14 15:19:31.770033: I tensorflow/core/grappler/optimizers/custom_graph_optimizer_registry.cc:112] Plugin optimizer for device_type GPU is enabled.\n",
      "2022-03-14 15:19:32.018733: I tensorflow/core/grappler/optimizers/custom_graph_optimizer_registry.cc:112] Plugin optimizer for device_type GPU is enabled.\n"
     ]
    },
    {
     "name": "stdout",
     "output_type": "stream",
     "text": [
      "Processing fold #2\n"
     ]
    },
    {
     "name": "stderr",
     "output_type": "stream",
     "text": [
      "2022-03-14 15:20:15.939660: I tensorflow/core/grappler/optimizers/custom_graph_optimizer_registry.cc:112] Plugin optimizer for device_type GPU is enabled.\n",
      "2022-03-14 15:20:16.199624: I tensorflow/core/grappler/optimizers/custom_graph_optimizer_registry.cc:112] Plugin optimizer for device_type GPU is enabled.\n"
     ]
    },
    {
     "name": "stdout",
     "output_type": "stream",
     "text": [
      "Processing fold #3\n"
     ]
    },
    {
     "name": "stderr",
     "output_type": "stream",
     "text": [
      "2022-03-14 15:21:01.374335: I tensorflow/core/grappler/optimizers/custom_graph_optimizer_registry.cc:112] Plugin optimizer for device_type GPU is enabled.\n",
      "2022-03-14 15:21:01.566227: I tensorflow/core/grappler/optimizers/custom_graph_optimizer_registry.cc:112] Plugin optimizer for device_type GPU is enabled.\n"
     ]
    }
   ],
   "source": [
    "all_mae_histories_one_layer = []\n",
    "for i in range(k):\n",
    "    print(f\"Processing fold #{i}\")\n",
    "    val_data = train_data[i*num_val_samples:(i+1)*num_val_samples] \n",
    "    val_targets = train_targets[i*num_val_samples:(i+1)*num_val_samples] \n",
    "    partial_train_data = np.concatenate(\n",
    "        [train_data[:i*num_val_samples],\n",
    "         train_data[(i+1)*num_val_samples:]],\n",
    "        axis=0)\n",
    "    partial_train_targets = np.concatenate(\n",
    "        [train_targets[:i*num_val_samples],\n",
    "        train_targets[(i+1)*num_val_samples:]],\n",
    "        axis=0)\n",
    "    model = build_model_one_layer()\n",
    "    history = model.fit(partial_train_data, partial_train_targets,\n",
    "                        validation_data=(val_data, val_targets),\n",
    "                        epochs=num_epochs, batch_size=16, verbose=0) \n",
    "    mae_history = history.history[\"val_mae\"]\n",
    "    all_mae_histories_one_layer.append(mae_history)"
   ]
  },
  {
   "cell_type": "code",
   "execution_count": 19,
   "id": "c8729621",
   "metadata": {},
   "outputs": [
    {
     "data": {
      "image/png": "[encoded data removed]",
      "text/plain": [
       "<Figure size 432x288 with 1 Axes>"
      ]
     },
     "metadata": {
      "needs_background": "light"
     },
     "output_type": "display_data"
    }
   ],
   "source": [
    "average_mae_history = [np.mean([x[i] for x in all_mae_histories_one_layer]) for i in range(num_epochs)]\n",
    "\n",
    "truncated_mae_history = average_mae_history[10:] ## Remove first 10 values \n",
    "plt.plot(range(1, len(truncated_mae_history) + 1), truncated_mae_history)\n",
    "plt.title(\"One intermediate layers\")\n",
    "plt.xlabel(\"Epochs\")\n",
    "plt.ylabel(\"Validation MAE\")\n",
    "plt.show()"
   ]
  },
  {
   "cell_type": "markdown",
   "id": "edee62fb",
   "metadata": {},
   "source": [
    "The optimal number of Epochs appears to be about 150."
   ]
  },
  {
   "cell_type": "code",
   "execution_count": 41,
   "id": "6f536ead",
   "metadata": {},
   "outputs": [
    {
     "name": "stderr",
     "output_type": "stream",
     "text": [
      "2022-03-14 16:37:03.369795: I tensorflow/core/grappler/optimizers/custom_graph_optimizer_registry.cc:112] Plugin optimizer for device_type GPU is enabled.\n"
     ]
    },
    {
     "name": "stdout",
     "output_type": "stream",
     "text": [
      "4/4 [==============================] - 0s 11ms/step - loss: 18.7592 - mae: 2.7146\n",
      "13/13 [==============================] - 0s 5ms/step - loss: 6.6033 - mae: 1.7697\n",
      "Testing MAE: 2.7145745754241943\n",
      "Training MAE: 1.7697166204452515\n"
     ]
    },
    {
     "name": "stderr",
     "output_type": "stream",
     "text": [
      "2022-03-14 16:37:17.792207: I tensorflow/core/grappler/optimizers/custom_graph_optimizer_registry.cc:112] Plugin optimizer for device_type GPU is enabled.\n"
     ]
    }
   ],
   "source": [
    "opt_num_epochs = 150\n",
    "model = build_model_one_layer()\n",
    "model.fit(train_data,\n",
    "          train_targets,\n",
    "          epochs=opt_num_epochs,# Use 150 epochs\n",
    "          batch_size=16, verbose=0)\n",
    "\n",
    "test_mse_score, test_mae_score = model.evaluate(test_data, test_targets)\n",
    "train_mse_score, train_mae_score = model.evaluate(train_data, train_targets)\n",
    "print(f\"Testing MAE: {test_mae_score}\")\n",
    "print(f\"Training MAE: {train_mae_score}\")"
   ]
  },
  {
   "cell_type": "markdown",
   "id": "83152cc3",
   "metadata": {},
   "source": [
    "**Three intermediate layers**"
   ]
  },
  {
   "cell_type": "code",
   "execution_count": 10,
   "id": "bd753655",
   "metadata": {},
   "outputs": [
    {
     "name": "stdout",
     "output_type": "stream",
     "text": [
      "Processing fold #0\n"
     ]
    },
    {
     "name": "stderr",
     "output_type": "stream",
     "text": [
      "2022-03-14 15:21:45.453135: I tensorflow/core/grappler/optimizers/custom_graph_optimizer_registry.cc:112] Plugin optimizer for device_type GPU is enabled.\n",
      "2022-03-14 15:21:45.984582: I tensorflow/core/grappler/optimizers/custom_graph_optimizer_registry.cc:112] Plugin optimizer for device_type GPU is enabled.\n"
     ]
    },
    {
     "name": "stdout",
     "output_type": "stream",
     "text": [
      "Processing fold #1\n"
     ]
    },
    {
     "name": "stderr",
     "output_type": "stream",
     "text": [
      "2022-03-14 15:22:42.000889: I tensorflow/core/grappler/optimizers/custom_graph_optimizer_registry.cc:112] Plugin optimizer for device_type GPU is enabled.\n",
      "2022-03-14 15:22:42.377699: I tensorflow/core/grappler/optimizers/custom_graph_optimizer_registry.cc:112] Plugin optimizer for device_type GPU is enabled.\n"
     ]
    },
    {
     "name": "stdout",
     "output_type": "stream",
     "text": [
      "Processing fold #2\n"
     ]
    },
    {
     "name": "stderr",
     "output_type": "stream",
     "text": [
      "2022-03-14 15:23:37.320589: I tensorflow/core/grappler/optimizers/custom_graph_optimizer_registry.cc:112] Plugin optimizer for device_type GPU is enabled.\n",
      "2022-03-14 15:23:37.707373: I tensorflow/core/grappler/optimizers/custom_graph_optimizer_registry.cc:112] Plugin optimizer for device_type GPU is enabled.\n"
     ]
    },
    {
     "name": "stdout",
     "output_type": "stream",
     "text": [
      "Processing fold #3\n"
     ]
    },
    {
     "name": "stderr",
     "output_type": "stream",
     "text": [
      "2022-03-14 15:24:32.873298: I tensorflow/core/grappler/optimizers/custom_graph_optimizer_registry.cc:112] Plugin optimizer for device_type GPU is enabled.\n",
      "2022-03-14 15:24:33.235239: I tensorflow/core/grappler/optimizers/custom_graph_optimizer_registry.cc:112] Plugin optimizer for device_type GPU is enabled.\n"
     ]
    }
   ],
   "source": [
    "all_mae_histories_three_layers = []\n",
    "for i in range(k):\n",
    "    print(f\"Processing fold #{i}\")\n",
    "    val_data = train_data[i*num_val_samples:(i+1)*num_val_samples] \n",
    "    val_targets = train_targets[i*num_val_samples:(i+1)*num_val_samples] \n",
    "    partial_train_data = np.concatenate(\n",
    "        [train_data[:i*num_val_samples],\n",
    "         train_data[(i+1)*num_val_samples:]],\n",
    "        axis=0)\n",
    "    partial_train_targets = np.concatenate(\n",
    "        [train_targets[:i*num_val_samples],\n",
    "        train_targets[(i+1)*num_val_samples:]],\n",
    "        axis=0)\n",
    "    model = build_model_three_layers()\n",
    "    history = model.fit(partial_train_data, partial_train_targets,\n",
    "                        validation_data=(val_data, val_targets),\n",
    "                        epochs=num_epochs, batch_size=16, verbose=0) \n",
    "    mae_history = history.history[\"val_mae\"]\n",
    "    all_mae_histories_three_layers.append(mae_history)"
   ]
  },
  {
   "cell_type": "code",
   "execution_count": 39,
   "id": "d65a685e",
   "metadata": {},
   "outputs": [
    {
     "data": {
      "image/png": "[encoded data removed]",
      "text/plain": [
       "<Figure size 432x288 with 1 Axes>"
      ]
     },
     "metadata": {
      "needs_background": "light"
     },
     "output_type": "display_data"
    }
   ],
   "source": [
    "average_mae_history = [np.mean([x[i] for x in all_mae_histories_three_layers]) for i in range(num_epochs)]\n",
    "\n",
    "truncated_mae_history = average_mae_history[10:] ## Remove first 10 values \n",
    "plt.plot(range(1, len(truncated_mae_history) + 1), truncated_mae_history)\n",
    "plt.title(\"Three intermediate layers\")\n",
    "plt.xlabel(\"Epochs\")\n",
    "plt.ylabel(\"Validation MAE\")\n",
    "plt.show()"
   ]
  },
  {
   "cell_type": "markdown",
   "id": "5d58dc90",
   "metadata": {},
   "source": [
    "The optimal number of Epochs appears to be about 175."
   ]
  },
  {
   "cell_type": "code",
   "execution_count": 40,
   "id": "f8f23ae2",
   "metadata": {},
   "outputs": [
    {
     "name": "stderr",
     "output_type": "stream",
     "text": [
      "2022-03-14 16:36:41.077052: I tensorflow/core/grappler/optimizers/custom_graph_optimizer_registry.cc:112] Plugin optimizer for device_type GPU is enabled.\n"
     ]
    },
    {
     "name": "stdout",
     "output_type": "stream",
     "text": [
      "4/4 [==============================] - 0s 9ms/step - loss: 14.6206 - mae: 2.3198\n",
      "13/13 [==============================] - 0s 4ms/step - loss: 1.8605 - mae: 0.9839\n",
      "Testing MAE: 2.3197944164276123\n",
      "Training MAE: 0.9838833212852478\n"
     ]
    },
    {
     "name": "stderr",
     "output_type": "stream",
     "text": [
      "2022-03-14 16:37:03.090549: I tensorflow/core/grappler/optimizers/custom_graph_optimizer_registry.cc:112] Plugin optimizer for device_type GPU is enabled.\n"
     ]
    }
   ],
   "source": [
    "opt_num_epochs = 175\n",
    "model = build_model_three_layers()\n",
    "model.fit(train_data,\n",
    "          train_targets,\n",
    "          epochs=opt_num_epochs,# Use 175 epochs\n",
    "          batch_size=16, verbose=0)\n",
    "\n",
    "test_mse_score, test_mae_score = model.evaluate(test_data, test_targets)\n",
    "train_mse_score, train_mae_score = model.evaluate(train_data, train_targets)\n",
    "print(f\"Testing MAE: {test_mae_score}\")\n",
    "print(f\"Training MAE: {train_mae_score}\")"
   ]
  },
  {
   "cell_type": "markdown",
   "id": "a90d8a63",
   "metadata": {},
   "source": [
    "**32 units**"
   ]
  },
  {
   "cell_type": "code",
   "execution_count": 11,
   "id": "19b9d94d",
   "metadata": {},
   "outputs": [
    {
     "name": "stdout",
     "output_type": "stream",
     "text": [
      "Processing fold #0\n"
     ]
    },
    {
     "name": "stderr",
     "output_type": "stream",
     "text": [
      "2022-03-14 15:25:28.428167: I tensorflow/core/grappler/optimizers/custom_graph_optimizer_registry.cc:112] Plugin optimizer for device_type GPU is enabled.\n",
      "2022-03-14 15:25:28.869772: I tensorflow/core/grappler/optimizers/custom_graph_optimizer_registry.cc:112] Plugin optimizer for device_type GPU is enabled.\n"
     ]
    },
    {
     "name": "stdout",
     "output_type": "stream",
     "text": [
      "Processing fold #1\n"
     ]
    },
    {
     "name": "stderr",
     "output_type": "stream",
     "text": [
      "2022-03-14 15:26:17.910871: I tensorflow/core/grappler/optimizers/custom_graph_optimizer_registry.cc:112] Plugin optimizer for device_type GPU is enabled.\n",
      "2022-03-14 15:26:18.284187: I tensorflow/core/grappler/optimizers/custom_graph_optimizer_registry.cc:112] Plugin optimizer for device_type GPU is enabled.\n"
     ]
    },
    {
     "name": "stdout",
     "output_type": "stream",
     "text": [
      "Processing fold #2\n"
     ]
    },
    {
     "name": "stderr",
     "output_type": "stream",
     "text": [
      "2022-03-14 15:27:07.153381: I tensorflow/core/grappler/optimizers/custom_graph_optimizer_registry.cc:112] Plugin optimizer for device_type GPU is enabled.\n",
      "2022-03-14 15:27:07.527350: I tensorflow/core/grappler/optimizers/custom_graph_optimizer_registry.cc:112] Plugin optimizer for device_type GPU is enabled.\n"
     ]
    },
    {
     "name": "stdout",
     "output_type": "stream",
     "text": [
      "Processing fold #3\n"
     ]
    },
    {
     "name": "stderr",
     "output_type": "stream",
     "text": [
      "2022-03-14 15:27:56.510906: I tensorflow/core/grappler/optimizers/custom_graph_optimizer_registry.cc:112] Plugin optimizer for device_type GPU is enabled.\n",
      "2022-03-14 15:27:56.894134: I tensorflow/core/grappler/optimizers/custom_graph_optimizer_registry.cc:112] Plugin optimizer for device_type GPU is enabled.\n"
     ]
    }
   ],
   "source": [
    "all_mae_histories_32_units= []\n",
    "for i in range(k):\n",
    "    print(f\"Processing fold #{i}\")\n",
    "    val_data = train_data[i*num_val_samples:(i+1)*num_val_samples] \n",
    "    val_targets = train_targets[i*num_val_samples:(i+1)*num_val_samples] \n",
    "    partial_train_data = np.concatenate(\n",
    "        [train_data[:i*num_val_samples],\n",
    "         train_data[(i+1)*num_val_samples:]],\n",
    "        axis=0)\n",
    "    partial_train_targets = np.concatenate(\n",
    "        [train_targets[:i*num_val_samples],\n",
    "        train_targets[(i+1)*num_val_samples:]],\n",
    "        axis=0)\n",
    "    model = build_model_32_units()\n",
    "    history = model.fit(partial_train_data, partial_train_targets,\n",
    "                        validation_data=(val_data, val_targets),\n",
    "                        epochs=num_epochs, batch_size=16, verbose=0) \n",
    "    mae_history = history.history[\"val_mae\"]\n",
    "    all_mae_histories_32_units.append(mae_history)"
   ]
  },
  {
   "cell_type": "code",
   "execution_count": 21,
   "id": "ef2ce49c",
   "metadata": {},
   "outputs": [
    {
     "data": {
      "image/png": "[encoded data removed]",
      "text/plain": [
       "<Figure size 432x288 with 1 Axes>"
      ]
     },
     "metadata": {
      "needs_background": "light"
     },
     "output_type": "display_data"
    }
   ],
   "source": [
    "average_mae_history = [np.mean([x[i] for x in all_mae_histories_32_units]) for i in range(num_epochs)]\n",
    "\n",
    "truncated_mae_history = average_mae_history[10:] ## Remove first 10 values \n",
    "plt.plot(range(1, len(truncated_mae_history) + 1), truncated_mae_history)\n",
    "plt.title(\"32 units\")\n",
    "plt.xlabel(\"Epochs\")\n",
    "plt.ylabel(\"Validation MAE\")\n",
    "plt.show()"
   ]
  },
  {
   "cell_type": "markdown",
   "id": "5bc15731",
   "metadata": {},
   "source": [
    "The optimal number of Epochs appears to be about 150."
   ]
  },
  {
   "cell_type": "code",
   "execution_count": 42,
   "id": "ff83a70c",
   "metadata": {},
   "outputs": [
    {
     "name": "stderr",
     "output_type": "stream",
     "text": [
      "2022-03-14 16:37:18.113664: I tensorflow/core/grappler/optimizers/custom_graph_optimizer_registry.cc:112] Plugin optimizer for device_type GPU is enabled.\n"
     ]
    },
    {
     "name": "stdout",
     "output_type": "stream",
     "text": [
      "4/4 [==============================] - 0s 6ms/step - loss: 20.2991 - mae: 2.8408\n",
      "13/13 [==============================] - 0s 4ms/step - loss: 5.6024 - mae: 1.7049\n",
      "Testing MAE: 2.8407540321350098\n",
      "Training MAE: 1.7048572301864624\n"
     ]
    },
    {
     "name": "stderr",
     "output_type": "stream",
     "text": [
      "2022-03-14 16:37:34.308898: I tensorflow/core/grappler/optimizers/custom_graph_optimizer_registry.cc:112] Plugin optimizer for device_type GPU is enabled.\n"
     ]
    }
   ],
   "source": [
    "opt_num_epochs = 150\n",
    "model = build_model_32_units()\n",
    "model.fit(train_data,\n",
    "          train_targets,\n",
    "          epochs=opt_num_epochs,# Use 150 epochs\n",
    "          batch_size=16, verbose=0)\n",
    "\n",
    "test_mse_score, test_mae_score = model.evaluate(test_data, test_targets)\n",
    "train_mse_score, train_mae_score = model.evaluate(train_data, train_targets)\n",
    "print(f\"Testing MAE: {test_mae_score}\")\n",
    "print(f\"Training MAE: {train_mae_score}\")"
   ]
  },
  {
   "cell_type": "markdown",
   "id": "6b3b0e90",
   "metadata": {},
   "source": [
    "**128 units**"
   ]
  },
  {
   "cell_type": "code",
   "execution_count": 12,
   "id": "8544a390",
   "metadata": {},
   "outputs": [
    {
     "name": "stdout",
     "output_type": "stream",
     "text": [
      "Processing fold #0\n"
     ]
    },
    {
     "name": "stderr",
     "output_type": "stream",
     "text": [
      "2022-03-14 15:28:46.517135: I tensorflow/core/grappler/optimizers/custom_graph_optimizer_registry.cc:112] Plugin optimizer for device_type GPU is enabled.\n",
      "2022-03-14 15:28:46.915553: I tensorflow/core/grappler/optimizers/custom_graph_optimizer_registry.cc:112] Plugin optimizer for device_type GPU is enabled.\n"
     ]
    },
    {
     "name": "stdout",
     "output_type": "stream",
     "text": [
      "Processing fold #1\n"
     ]
    },
    {
     "name": "stderr",
     "output_type": "stream",
     "text": [
      "2022-03-14 15:29:36.314415: I tensorflow/core/grappler/optimizers/custom_graph_optimizer_registry.cc:112] Plugin optimizer for device_type GPU is enabled.\n",
      "2022-03-14 15:29:36.641250: I tensorflow/core/grappler/optimizers/custom_graph_optimizer_registry.cc:112] Plugin optimizer for device_type GPU is enabled.\n"
     ]
    },
    {
     "name": "stdout",
     "output_type": "stream",
     "text": [
      "Processing fold #2\n"
     ]
    },
    {
     "name": "stderr",
     "output_type": "stream",
     "text": [
      "2022-03-14 15:30:25.961902: I tensorflow/core/grappler/optimizers/custom_graph_optimizer_registry.cc:112] Plugin optimizer for device_type GPU is enabled.\n",
      "2022-03-14 15:30:26.295467: I tensorflow/core/grappler/optimizers/custom_graph_optimizer_registry.cc:112] Plugin optimizer for device_type GPU is enabled.\n"
     ]
    },
    {
     "name": "stdout",
     "output_type": "stream",
     "text": [
      "Processing fold #3\n"
     ]
    },
    {
     "name": "stderr",
     "output_type": "stream",
     "text": [
      "2022-03-14 15:31:15.385570: I tensorflow/core/grappler/optimizers/custom_graph_optimizer_registry.cc:112] Plugin optimizer for device_type GPU is enabled.\n",
      "2022-03-14 15:31:15.736457: I tensorflow/core/grappler/optimizers/custom_graph_optimizer_registry.cc:112] Plugin optimizer for device_type GPU is enabled.\n"
     ]
    }
   ],
   "source": [
    "all_mae_histories_128_units= []\n",
    "for i in range(k):\n",
    "    print(f\"Processing fold #{i}\")\n",
    "    val_data = train_data[i*num_val_samples:(i+1)*num_val_samples] \n",
    "    val_targets = train_targets[i*num_val_samples:(i+1)*num_val_samples] \n",
    "    partial_train_data = np.concatenate(\n",
    "        [train_data[:i*num_val_samples],\n",
    "         train_data[(i+1)*num_val_samples:]],\n",
    "        axis=0)\n",
    "    partial_train_targets = np.concatenate(\n",
    "        [train_targets[:i*num_val_samples],\n",
    "        train_targets[(i+1)*num_val_samples:]],\n",
    "        axis=0)\n",
    "    model = build_model_128_units()\n",
    "    history = model.fit(partial_train_data, partial_train_targets,\n",
    "                        validation_data=(val_data, val_targets),\n",
    "                        epochs=num_epochs, batch_size=16, verbose=0) \n",
    "    mae_history = history.history[\"val_mae\"]\n",
    "    all_mae_histories_128_units.append(mae_history)"
   ]
  },
  {
   "cell_type": "code",
   "execution_count": 22,
   "id": "af71af9d",
   "metadata": {},
   "outputs": [
    {
     "data": {
      "image/png": "[encoded data removed]",
      "text/plain": [
       "<Figure size 432x288 with 1 Axes>"
      ]
     },
     "metadata": {
      "needs_background": "light"
     },
     "output_type": "display_data"
    }
   ],
   "source": [
    "average_mae_history = [np.mean([x[i] for x in all_mae_histories_128_units]) for i in range(num_epochs)]\n",
    "\n",
    "truncated_mae_history = average_mae_history[10:] ## Remove first 10 values \n",
    "plt.plot(range(1, len(truncated_mae_history) + 1), truncated_mae_history)\n",
    "plt.title(\"128 units\")\n",
    "plt.xlabel(\"Epochs\")\n",
    "plt.ylabel(\"Validation MAE\")\n",
    "plt.show()"
   ]
  },
  {
   "cell_type": "markdown",
   "id": "be1bfd32",
   "metadata": {},
   "source": [
    "The optimal number of Epochs appears to be about 90."
   ]
  },
  {
   "cell_type": "code",
   "execution_count": 45,
   "id": "3435b139",
   "metadata": {},
   "outputs": [
    {
     "name": "stderr",
     "output_type": "stream",
     "text": [
      "2022-03-14 16:39:53.030064: I tensorflow/core/grappler/optimizers/custom_graph_optimizer_registry.cc:112] Plugin optimizer for device_type GPU is enabled.\n"
     ]
    },
    {
     "name": "stdout",
     "output_type": "stream",
     "text": [
      "4/4 [==============================] - 0s 6ms/step - loss: 17.7714 - mae: 2.9096\n",
      "13/13 [==============================] - 0s 5ms/step - loss: 4.9779 - mae: 1.6433\n",
      "Testing MAE: 2.909583806991577\n",
      "Training MAE: 1.6433337926864624\n"
     ]
    },
    {
     "name": "stderr",
     "output_type": "stream",
     "text": [
      "2022-03-14 16:40:03.226873: I tensorflow/core/grappler/optimizers/custom_graph_optimizer_registry.cc:112] Plugin optimizer for device_type GPU is enabled.\n"
     ]
    }
   ],
   "source": [
    "opt_num_epochs = 90\n",
    "model = build_model_128_units()\n",
    "model.fit(train_data,\n",
    "          train_targets,\n",
    "          epochs=opt_num_epochs,# Use 90 epochs\n",
    "          batch_size=16, verbose=0)\n",
    "\n",
    "test_mse_score, test_mae_score = model.evaluate(test_data, test_targets)\n",
    "train_mse_score, train_mae_score = model.evaluate(train_data, train_targets)\n",
    "print(f\"Testing MAE: {test_mae_score}\")\n",
    "print(f\"Training MAE: {train_mae_score}\")"
   ]
  },
  {
   "cell_type": "markdown",
   "id": "de6489d6",
   "metadata": {},
   "source": [
    "**Batch size of 8**"
   ]
  },
  {
   "cell_type": "code",
   "execution_count": 13,
   "id": "69dbd04f",
   "metadata": {},
   "outputs": [
    {
     "name": "stdout",
     "output_type": "stream",
     "text": [
      "Processing fold #0\n"
     ]
    },
    {
     "name": "stderr",
     "output_type": "stream",
     "text": [
      "2022-03-14 15:32:04.990655: I tensorflow/core/grappler/optimizers/custom_graph_optimizer_registry.cc:112] Plugin optimizer for device_type GPU is enabled.\n",
      "2022-03-14 15:32:05.922885: I tensorflow/core/grappler/optimizers/custom_graph_optimizer_registry.cc:112] Plugin optimizer for device_type GPU is enabled.\n"
     ]
    },
    {
     "name": "stdout",
     "output_type": "stream",
     "text": [
      "Processing fold #1\n"
     ]
    },
    {
     "name": "stderr",
     "output_type": "stream",
     "text": [
      "2022-03-14 15:33:36.975755: I tensorflow/core/grappler/optimizers/custom_graph_optimizer_registry.cc:112] Plugin optimizer for device_type GPU is enabled.\n",
      "2022-03-14 15:33:37.413007: I tensorflow/core/grappler/optimizers/custom_graph_optimizer_registry.cc:112] Plugin optimizer for device_type GPU is enabled.\n"
     ]
    },
    {
     "name": "stdout",
     "output_type": "stream",
     "text": [
      "Processing fold #2\n"
     ]
    },
    {
     "name": "stderr",
     "output_type": "stream",
     "text": [
      "2022-03-14 15:35:07.469361: I tensorflow/core/grappler/optimizers/custom_graph_optimizer_registry.cc:112] Plugin optimizer for device_type GPU is enabled.\n",
      "2022-03-14 15:35:07.919450: I tensorflow/core/grappler/optimizers/custom_graph_optimizer_registry.cc:112] Plugin optimizer for device_type GPU is enabled.\n"
     ]
    },
    {
     "name": "stdout",
     "output_type": "stream",
     "text": [
      "Processing fold #3\n"
     ]
    },
    {
     "name": "stderr",
     "output_type": "stream",
     "text": [
      "2022-03-14 15:36:38.181831: I tensorflow/core/grappler/optimizers/custom_graph_optimizer_registry.cc:112] Plugin optimizer for device_type GPU is enabled.\n",
      "2022-03-14 15:36:38.673433: I tensorflow/core/grappler/optimizers/custom_graph_optimizer_registry.cc:112] Plugin optimizer for device_type GPU is enabled.\n"
     ]
    }
   ],
   "source": [
    "all_mae_histories_batch_size_8= []\n",
    "for i in range(k):\n",
    "    print(f\"Processing fold #{i}\")\n",
    "    val_data = train_data[i*num_val_samples:(i+1)*num_val_samples] \n",
    "    val_targets = train_targets[i*num_val_samples:(i+1)*num_val_samples] \n",
    "    partial_train_data = np.concatenate(\n",
    "        [train_data[:i*num_val_samples],\n",
    "         train_data[(i+1)*num_val_samples:]],\n",
    "        axis=0)\n",
    "    partial_train_targets = np.concatenate(\n",
    "        [train_targets[:i*num_val_samples],\n",
    "        train_targets[(i+1)*num_val_samples:]],\n",
    "        axis=0)\n",
    "    model = build_model()\n",
    "    history = model.fit(partial_train_data, partial_train_targets,\n",
    "                        validation_data=(val_data, val_targets),\n",
    "                        epochs=num_epochs,\n",
    "                        batch_size=8, # Batch size is 8\n",
    "                        verbose=0) \n",
    "    mae_history = history.history[\"val_mae\"]\n",
    "    all_mae_histories_batch_size_8.append(mae_history)"
   ]
  },
  {
   "cell_type": "code",
   "execution_count": 24,
   "id": "e6ef056a",
   "metadata": {},
   "outputs": [
    {
     "data": {
      "image/png": "[encoded data removed]",
      "text/plain": [
       "<Figure size 432x288 with 1 Axes>"
      ]
     },
     "metadata": {
      "needs_background": "light"
     },
     "output_type": "display_data"
    }
   ],
   "source": [
    "average_mae_history = [np.mean([x[i] for x in all_mae_histories_batch_size_8]) for i in range(num_epochs)]\n",
    "\n",
    "truncated_mae_history = average_mae_history[10:] ## Remove first 10 values \n",
    "plt.plot(range(1, len(truncated_mae_history) + 1), truncated_mae_history)\n",
    "plt.title(\"Batch size 8\")\n",
    "plt.xlabel(\"Epochs\")\n",
    "plt.ylabel(\"Validation MAE\")\n",
    "plt.show()"
   ]
  },
  {
   "cell_type": "markdown",
   "id": "dccca942",
   "metadata": {},
   "source": [
    "The optimal number of Epochs appears to be about 50."
   ]
  },
  {
   "cell_type": "code",
   "execution_count": 43,
   "id": "9c88a357",
   "metadata": {},
   "outputs": [
    {
     "name": "stderr",
     "output_type": "stream",
     "text": [
      "2022-03-14 16:37:34.582511: I tensorflow/core/grappler/optimizers/custom_graph_optimizer_registry.cc:112] Plugin optimizer for device_type GPU is enabled.\n"
     ]
    },
    {
     "name": "stdout",
     "output_type": "stream",
     "text": [
      "4/4 [==============================] - 0s 8ms/step - loss: 23.3176 - mae: 2.8937\n",
      "13/13 [==============================] - 0s 4ms/step - loss: 6.5678 - mae: 1.8376\n",
      "Testing MAE: 2.893740177154541\n",
      "Training MAE: 1.837634801864624\n"
     ]
    },
    {
     "name": "stderr",
     "output_type": "stream",
     "text": [
      "2022-03-14 16:37:44.952772: I tensorflow/core/grappler/optimizers/custom_graph_optimizer_registry.cc:112] Plugin optimizer for device_type GPU is enabled.\n"
     ]
    }
   ],
   "source": [
    "opt_num_epochs = 50\n",
    "model = build_model()\n",
    "model.fit(train_data,\n",
    "          train_targets,\n",
    "          epochs=opt_num_epochs,# Use 50 epochs\n",
    "          batch_size=8, #Use batch size 8\n",
    "          verbose=0)\n",
    "\n",
    "test_mse_score, test_mae_score = model.evaluate(test_data, test_targets)\n",
    "train_mse_score, train_mae_score = model.evaluate(train_data, train_targets)\n",
    "print(f\"Testing MAE: {test_mae_score}\")\n",
    "print(f\"Training MAE: {train_mae_score}\")"
   ]
  },
  {
   "cell_type": "markdown",
   "id": "43f5cece",
   "metadata": {},
   "source": [
    "**Batch size of 32**"
   ]
  },
  {
   "cell_type": "code",
   "execution_count": 14,
   "id": "cba8c09c",
   "metadata": {},
   "outputs": [
    {
     "name": "stdout",
     "output_type": "stream",
     "text": [
      "Processing fold #0\n"
     ]
    },
    {
     "name": "stderr",
     "output_type": "stream",
     "text": [
      "2022-03-14 15:38:08.861515: I tensorflow/core/grappler/optimizers/custom_graph_optimizer_registry.cc:112] Plugin optimizer for device_type GPU is enabled.\n",
      "2022-03-14 15:38:09.224370: I tensorflow/core/grappler/optimizers/custom_graph_optimizer_registry.cc:112] Plugin optimizer for device_type GPU is enabled.\n"
     ]
    },
    {
     "name": "stdout",
     "output_type": "stream",
     "text": [
      "Processing fold #1\n"
     ]
    },
    {
     "name": "stderr",
     "output_type": "stream",
     "text": [
      "2022-03-14 15:38:38.843397: I tensorflow/core/grappler/optimizers/custom_graph_optimizer_registry.cc:112] Plugin optimizer for device_type GPU is enabled.\n",
      "2022-03-14 15:38:39.083411: I tensorflow/core/grappler/optimizers/custom_graph_optimizer_registry.cc:112] Plugin optimizer for device_type GPU is enabled.\n"
     ]
    },
    {
     "name": "stdout",
     "output_type": "stream",
     "text": [
      "Processing fold #2\n"
     ]
    },
    {
     "name": "stderr",
     "output_type": "stream",
     "text": [
      "2022-03-14 15:39:07.784265: I tensorflow/core/grappler/optimizers/custom_graph_optimizer_registry.cc:112] Plugin optimizer for device_type GPU is enabled.\n",
      "2022-03-14 15:39:08.042028: I tensorflow/core/grappler/optimizers/custom_graph_optimizer_registry.cc:112] Plugin optimizer for device_type GPU is enabled.\n"
     ]
    },
    {
     "name": "stdout",
     "output_type": "stream",
     "text": [
      "Processing fold #3\n"
     ]
    },
    {
     "name": "stderr",
     "output_type": "stream",
     "text": [
      "2022-03-14 15:39:36.895397: I tensorflow/core/grappler/optimizers/custom_graph_optimizer_registry.cc:112] Plugin optimizer for device_type GPU is enabled.\n",
      "2022-03-14 15:39:37.165568: I tensorflow/core/grappler/optimizers/custom_graph_optimizer_registry.cc:112] Plugin optimizer for device_type GPU is enabled.\n"
     ]
    }
   ],
   "source": [
    "all_mae_histories_batch_size_32= []\n",
    "for i in range(k):\n",
    "    print(f\"Processing fold #{i}\")\n",
    "    val_data = train_data[i*num_val_samples:(i+1)*num_val_samples] \n",
    "    val_targets = train_targets[i*num_val_samples:(i+1)*num_val_samples] \n",
    "    partial_train_data = np.concatenate(\n",
    "        [train_data[:i*num_val_samples],\n",
    "         train_data[(i+1)*num_val_samples:]],\n",
    "        axis=0)\n",
    "    partial_train_targets = np.concatenate(\n",
    "        [train_targets[:i*num_val_samples],\n",
    "        train_targets[(i+1)*num_val_samples:]],\n",
    "        axis=0)\n",
    "    model = build_model()\n",
    "    history = model.fit(partial_train_data, partial_train_targets,\n",
    "                        validation_data=(val_data, val_targets),\n",
    "                        epochs=num_epochs,\n",
    "                        batch_size=32, # Batch size is 32\n",
    "                        verbose=0) \n",
    "    mae_history = history.history[\"val_mae\"]\n",
    "    all_mae_histories_batch_size_32.append(mae_history)"
   ]
  },
  {
   "cell_type": "code",
   "execution_count": 25,
   "id": "f0dc71e4",
   "metadata": {},
   "outputs": [
    {
     "data": {
      "image/png": "[encoded data removed]",
      "text/plain": [
       "<Figure size 432x288 with 1 Axes>"
      ]
     },
     "metadata": {
      "needs_background": "light"
     },
     "output_type": "display_data"
    }
   ],
   "source": [
    "average_mae_history = [np.mean([x[i] for x in all_mae_histories_batch_size_32]) for i in range(num_epochs)]\n",
    "\n",
    "truncated_mae_history = average_mae_history[10:] ## Remove first 10 values \n",
    "plt.plot(range(1, len(truncated_mae_history) + 1), truncated_mae_history)\n",
    "plt.title(\"Batch size 32\")\n",
    "plt.xlabel(\"Epochs\")\n",
    "plt.ylabel(\"Validation MAE\")\n",
    "plt.show()"
   ]
  },
  {
   "cell_type": "markdown",
   "id": "53747844",
   "metadata": {},
   "source": [
    "The optimal number of epochs appears to be 150."
   ]
  },
  {
   "cell_type": "code",
   "execution_count": 44,
   "id": "4a1b71ee",
   "metadata": {},
   "outputs": [
    {
     "name": "stderr",
     "output_type": "stream",
     "text": [
      "2022-03-14 16:37:45.242833: I tensorflow/core/grappler/optimizers/custom_graph_optimizer_registry.cc:112] Plugin optimizer for device_type GPU is enabled.\n"
     ]
    },
    {
     "name": "stdout",
     "output_type": "stream",
     "text": [
      "4/4 [==============================] - 0s 8ms/step - loss: 22.4776 - mae: 2.9226\n",
      "13/13 [==============================] - 0s 5ms/step - loss: 4.7838 - mae: 1.5907\n",
      "Testing MAE: 2.9225854873657227\n",
      "Training MAE: 1.5906789302825928\n"
     ]
    },
    {
     "name": "stderr",
     "output_type": "stream",
     "text": [
      "2022-03-14 16:37:54.050101: I tensorflow/core/grappler/optimizers/custom_graph_optimizer_registry.cc:112] Plugin optimizer for device_type GPU is enabled.\n"
     ]
    }
   ],
   "source": [
    "opt_num_epochs = 150\n",
    "model = build_model()\n",
    "model.fit(train_data,\n",
    "          train_targets,\n",
    "          epochs=opt_num_epochs,# Use 150 epochs\n",
    "          batch_size=32, #Use batch size 32\n",
    "          verbose=0)\n",
    "\n",
    "test_mse_score, test_mae_score = model.evaluate(test_data, test_targets)\n",
    "train_mse_score, train_mae_score = model.evaluate(train_data, train_targets)\n",
    "\n",
    "print(f\"Testing MAE: {test_mae_score}\")\n",
    "print(f\"Training MAE: {train_mae_score}\")"
   ]
  },
  {
   "cell_type": "code",
   "execution_count": null,
   "id": "9d59b133",
   "metadata": {},
   "outputs": [],
   "source": []
  }
 ],
 "metadata": {
  "kernelspec": {
   "display_name": "Python 3 (ipykernel)",
   "language": "python",
   "name": "python3"
  },
  "language_info": {
   "codemirror_mode": {
    "name": "ipython",
    "version": 3
   },
   "file_extension": ".py",
   "mimetype": "text/x-python",
   "name": "python",
   "nbconvert_exporter": "python",
   "pygments_lexer": "ipython3",
   "version": "3.9.7"
  }
 },
 "nbformat": 4,
 "nbformat_minor": 5
}
