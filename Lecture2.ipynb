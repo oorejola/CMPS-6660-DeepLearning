{
 "cells": [
  {
   "cell_type": "markdown",
   "id": "01dad047",
   "metadata": {},
   "source": [
    "# Lecture 2\n",
    "# Building blocks of Neural Networks"
   ]
  },
  {
   "cell_type": "markdown",
   "id": "72eec1f7",
   "metadata": {},
   "source": [
    "**Notes on January 27 2022**"
   ]
  },
  {
   "cell_type": "code",
   "execution_count": 2,
   "id": "19dd2687",
   "metadata": {},
   "outputs": [],
   "source": [
    "from tensorflow.keras.datasets import mnist\n",
    "(train_images, train_labels), (test_images, test_labels) = mnist.load_data()"
   ]
  },
  {
   "cell_type": "code",
   "execution_count": 3,
   "id": "3dc13c7f",
   "metadata": {},
   "outputs": [
    {
     "name": "stdout",
     "output_type": "stream",
     "text": [
      "(60000, 28, 28)\n",
      "(60000,)\n"
     ]
    }
   ],
   "source": [
    "# Size of training images\n",
    "print(train_images.shape)\n",
    "\n",
    "# Size of training labels\n",
    "print(train_labels.shape)"
   ]
  },
  {
   "cell_type": "code",
   "execution_count": 4,
   "id": "d09fadd2",
   "metadata": {},
   "outputs": [
    {
     "name": "stdout",
     "output_type": "stream",
     "text": [
      "(10000, 28, 28)\n",
      "(10000,)\n"
     ]
    }
   ],
   "source": [
    "# Size of training images\n",
    "print(test_images.shape)\n",
    "\n",
    "# Size of training labels\n",
    "print(test_labels.shape)"
   ]
  },
  {
   "cell_type": "markdown",
   "id": "b80a78f8",
   "metadata": {},
   "source": [
    "## Build first model"
   ]
  },
  {
   "cell_type": "code",
   "execution_count": 5,
   "id": "eba05ab5",
   "metadata": {},
   "outputs": [
    {
     "name": "stdout",
     "output_type": "stream",
     "text": [
      "Metal device set to: Apple M1\n"
     ]
    },
    {
     "name": "stderr",
     "output_type": "stream",
     "text": [
      "2022-02-01 09:21:02.038044: I tensorflow/core/common_runtime/pluggable_device/pluggable_device_factory.cc:305] Could not identify NUMA node of platform GPU ID 0, defaulting to 0. Your kernel may not have been built with NUMA support.\n",
      "2022-02-01 09:21:02.038204: I tensorflow/core/common_runtime/pluggable_device/pluggable_device_factory.cc:271] Created TensorFlow device (/job:localhost/replica:0/task:0/device:GPU:0 with 0 MB memory) -> physical PluggableDevice (device: 0, name: METAL, pci bus id: <undefined>)\n"
     ]
    }
   ],
   "source": [
    "from tensorflow import keras\n",
    "from tensorflow.keras import layers\n",
    "\n",
    "model = keras.Sequential([layers.Dense(512,activation=\"relu\"),layers.Dense(10,activation=\"softmax\")])"
   ]
  },
  {
   "cell_type": "markdown",
   "id": "9c6893d0",
   "metadata": {},
   "source": [
    "Model compilation step (Three minimum necessary things)\n",
    "* Optimizer - Mechanism through which the model will update itself based on the training data\n",
    "* Loss function - measures performance as feedback to optimizer\n",
    "* Metrics - Monitor performace during training and testing\n",
    "    * Classification accuracy = fraction of images correctly classified"
   ]
  },
  {
   "cell_type": "code",
   "execution_count": 7,
   "id": "6a7a320f",
   "metadata": {},
   "outputs": [],
   "source": [
    "model.compile(optimizer=\"rmsprop\",\n",
    "loss=\"sparse_categorical_crossentropy\",\n",
    "metrics=[\"accuracy\"])"
   ]
  },
  {
   "cell_type": "markdown",
   "id": "0340d4eb",
   "metadata": {},
   "source": [
    "Prepare Image Data\n",
    "Inparticular, reshape the data into a common form\n",
    "* Shape: number of training samples x dim\n",
    "* Values: floating points between [0,1]"
   ]
  },
  {
   "cell_type": "code",
   "execution_count": 8,
   "id": "40fc5500",
   "metadata": {},
   "outputs": [],
   "source": [
    "train_images = train_images.reshape((60000, 28 * 28)) #Flatting 2 dim image data to vector\n",
    "train_images = train_images.astype(\"float32\") / 255\n",
    "test_images = test_images.reshape((10000, 28 * 28))\n",
    "test_images = test_images.astype(\"float32\") / 255"
   ]
  },
  {
   "cell_type": "markdown",
   "id": "813d67e5",
   "metadata": {},
   "source": [
    "\"Fitting the Model\"\n",
    "* Training images\n",
    "* Training labes\n",
    "* \\# of epochs\n",
    "* batch_size (Partition of Training set)"
   ]
  },
  {
   "cell_type": "code",
   "execution_count": 9,
   "id": "533a9c70",
   "metadata": {
    "scrolled": true
   },
   "outputs": [
    {
     "name": "stderr",
     "output_type": "stream",
     "text": [
      "2022-02-01 09:21:13.809936: W tensorflow/core/platform/profile_utils/cpu_utils.cc:128] Failed to get CPU frequency: 0 Hz\n"
     ]
    },
    {
     "name": "stdout",
     "output_type": "stream",
     "text": [
      "Epoch 1/5\n"
     ]
    },
    {
     "name": "stderr",
     "output_type": "stream",
     "text": [
      "2022-02-01 09:21:14.220322: I tensorflow/core/grappler/optimizers/custom_graph_optimizer_registry.cc:112] Plugin optimizer for device_type GPU is enabled.\n"
     ]
    },
    {
     "name": "stdout",
     "output_type": "stream",
     "text": [
      "469/469 [==============================] - 5s 5ms/step - loss: 0.2516 - accuracy: 0.9275\n",
      "Epoch 2/5\n",
      "469/469 [==============================] - 2s 5ms/step - loss: 0.1028 - accuracy: 0.9702\n",
      "Epoch 3/5\n",
      "469/469 [==============================] - 2s 5ms/step - loss: 0.0675 - accuracy: 0.9792\n",
      "Epoch 4/5\n",
      "469/469 [==============================] - 2s 5ms/step - loss: 0.0498 - accuracy: 0.9849\n",
      "Epoch 5/5\n",
      "469/469 [==============================] - 2s 5ms/step - loss: 0.0375 - accuracy: 0.9886\n"
     ]
    },
    {
     "data": {
      "text/plain": [
       "<keras.callbacks.History at 0x145f88460>"
      ]
     },
     "execution_count": 9,
     "metadata": {},
     "output_type": "execute_result"
    }
   ],
   "source": [
    "model.fit(train_images, train_labels, epochs=5, batch_size=128)"
   ]
  },
  {
   "cell_type": "markdown",
   "id": "e72228ae",
   "metadata": {},
   "source": [
    "Test on the first 10 images of the testing set"
   ]
  },
  {
   "cell_type": "code",
   "execution_count": 10,
   "id": "e95b9f0b",
   "metadata": {},
   "outputs": [
    {
     "name": "stderr",
     "output_type": "stream",
     "text": [
      "2022-02-01 09:21:33.241174: I tensorflow/core/grappler/optimizers/custom_graph_optimizer_registry.cc:112] Plugin optimizer for device_type GPU is enabled.\n"
     ]
    }
   ],
   "source": [
    "test_digits = test_images[0:10] # Select first 10 images\n",
    "predictions = model.predict(test_digits) # Make prediction"
   ]
  },
  {
   "cell_type": "code",
   "execution_count": 11,
   "id": "ee7eb3bd",
   "metadata": {},
   "outputs": [
    {
     "name": "stdout",
     "output_type": "stream",
     "text": [
      "[6.26227115e-09 7.26554983e-10 4.02140358e-06 3.60172766e-04\n",
      " 2.36978822e-11 5.71585801e-08 1.90400687e-13 9.99630451e-01\n",
      " 1.00732535e-07 5.14277144e-06]\n",
      "7\n",
      "0.99963045\n"
     ]
    }
   ],
   "source": [
    "# See prediction of first \n",
    "print(predictions[0]) #See predicited probability of image being in one class\n",
    "print(predictions[0].argmax())\n",
    "print(predictions[0][7]) #Probability of sample coming from the class 7"
   ]
  },
  {
   "cell_type": "code",
   "execution_count": 30,
   "id": "9d83bade",
   "metadata": {},
   "outputs": [
    {
     "name": "stdout",
     "output_type": "stream",
     "text": [
      "7\n"
     ]
    }
   ],
   "source": [
    "print(test_labels[0]) #Ground truth value matches prediction "
   ]
  },
  {
   "cell_type": "markdown",
   "id": "a0b5ffb2",
   "metadata": {},
   "source": [
    "Evaluate the model on the test set"
   ]
  },
  {
   "cell_type": "code",
   "execution_count": 12,
   "id": "e336927f",
   "metadata": {},
   "outputs": [
    {
     "name": "stdout",
     "output_type": "stream",
     "text": [
      " 31/313 [=>............................] - ETA: 0s - loss: 0.0683 - accuracy: 0.9758"
     ]
    },
    {
     "name": "stderr",
     "output_type": "stream",
     "text": [
      "2022-02-01 09:21:43.408924: I tensorflow/core/grappler/optimizers/custom_graph_optimizer_registry.cc:112] Plugin optimizer for device_type GPU is enabled.\n"
     ]
    },
    {
     "name": "stdout",
     "output_type": "stream",
     "text": [
      "313/313 [==============================] - 1s 3ms/step - loss: 0.0694 - accuracy: 0.9788\n",
      "test_acc: 0.9788000583648682\n"
     ]
    }
   ],
   "source": [
    "test_loss, test_acc = model.evaluate(test_images, test_labels)\n",
    "print(f\"test_acc: {test_acc}\")"
   ]
  },
  {
   "cell_type": "markdown",
   "id": "21753457",
   "metadata": {},
   "source": [
    "Observe the testing accuracy (0.9798) is less than that of the training accuracy (0.9886) and the tresting  and loss (0.0659) is greater than the training loss (0.0377) as expected. _(Values recorded on Jan 27 2022)_ "
   ]
  },
  {
   "cell_type": "markdown",
   "id": "5f6436ac",
   "metadata": {},
   "source": [
    "## Numpy Primer"
   ]
  },
  {
   "cell_type": "code",
   "execution_count": 33,
   "id": "7fd75242",
   "metadata": {},
   "outputs": [],
   "source": [
    "import numpy as np"
   ]
  },
  {
   "cell_type": "markdown",
   "id": "a66adfbb",
   "metadata": {},
   "source": [
    "Tensor is a d dimensional array\n",
    "* Rank = # of dimensions = # of axes \n",
    "* d = 0,1,2,3..."
   ]
  },
  {
   "cell_type": "code",
   "execution_count": 37,
   "id": "44642b92",
   "metadata": {},
   "outputs": [
    {
     "name": "stdout",
     "output_type": "stream",
     "text": [
      "0\n"
     ]
    }
   ],
   "source": [
    "# Scalar is rank 0\n",
    "x = np.array(12)\n",
    "print(x.ndim)"
   ]
  },
  {
   "cell_type": "code",
   "execution_count": 38,
   "id": "4bb9a13c",
   "metadata": {},
   "outputs": [
    {
     "name": "stdout",
     "output_type": "stream",
     "text": [
      "1\n"
     ]
    }
   ],
   "source": [
    "# Vector is rank 1\n",
    "x = np.array([12, 3, 6, 14, 7])\n",
    "print(x.ndim)"
   ]
  },
  {
   "cell_type": "code",
   "execution_count": 40,
   "id": "71fb438f",
   "metadata": {},
   "outputs": [
    {
     "name": "stdout",
     "output_type": "stream",
     "text": [
      "2\n"
     ]
    }
   ],
   "source": [
    "# Matrix is rank 2\n",
    "x = np.array([[5, 78, 2, 34, 0],[6, 79, 3, 35, 1],])\n",
    "print(x.ndim)"
   ]
  },
  {
   "cell_type": "markdown",
   "id": "7c7d12af",
   "metadata": {},
   "source": [
    "## Display the 4th digit"
   ]
  },
  {
   "cell_type": "code",
   "execution_count": 5,
   "id": "ca5215aa",
   "metadata": {},
   "outputs": [
    {
     "data": {
      "image/png": "[encoded data removed]",
      "text/plain": [
       "<Figure size 432x288 with 1 Axes>"
      ]
     },
     "metadata": {
      "needs_background": "light"
     },
     "output_type": "display_data"
    },
    {
     "data": {
      "text/plain": [
       "9"
      ]
     },
     "execution_count": 5,
     "metadata": {},
     "output_type": "execute_result"
    }
   ],
   "source": [
    "import matplotlib.pyplot as plt\n",
    "digit = train_images[4] \n",
    "plt.imshow(digit, cmap=plt.cm.binary) \n",
    "plt.show()\n",
    "train_labels[4]"
   ]
  },
  {
   "cell_type": "markdown",
   "id": "faaa311d",
   "metadata": {},
   "source": [
    "## Manipulating Tensors"
   ]
  },
  {
   "cell_type": "code",
   "execution_count": 9,
   "id": "da78a5db",
   "metadata": {},
   "outputs": [
    {
     "name": "stdout",
     "output_type": "stream",
     "text": [
      "(90, 28, 28)\n",
      "(90, 28, 28)\n"
     ]
    }
   ],
   "source": [
    "my_slice = train_images[10:100]\n",
    "print(my_slice.shape)\n",
    "my_slice = train_images[10:100, :, :]\n",
    "print(my_slice.shape)"
   ]
  },
  {
   "cell_type": "code",
   "execution_count": 10,
   "id": "5beaeb5a",
   "metadata": {},
   "outputs": [
    {
     "data": {
      "text/plain": [
       "(90, 28, 28)"
      ]
     },
     "execution_count": 10,
     "metadata": {},
     "output_type": "execute_result"
    }
   ],
   "source": [
    "my_slice = train_images[10:100, 0:28, 0:28] \n",
    "my_slice.shape"
   ]
  },
  {
   "cell_type": "code",
   "execution_count": 11,
   "id": "ce081605",
   "metadata": {},
   "outputs": [
    {
     "data": {
      "text/plain": [
       "(60000, 14, 14)"
      ]
     },
     "execution_count": 11,
     "metadata": {},
     "output_type": "execute_result"
    }
   ],
   "source": [
    "my_slice = train_images[:, 14:, 14:]\n",
    "my_slice.shape"
   ]
  },
  {
   "cell_type": "code",
   "execution_count": 12,
   "id": "7ea2c098",
   "metadata": {},
   "outputs": [
    {
     "data": {
      "text/plain": [
       "(60000, 14, 14)"
      ]
     },
     "execution_count": 12,
     "metadata": {},
     "output_type": "execute_result"
    }
   ],
   "source": [
    "my_slice = train_images[:, 7:-7, 7:-7]\n",
    "my_slice.shape"
   ]
  },
  {
   "cell_type": "markdown",
   "id": "ce105692",
   "metadata": {},
   "source": [
    "**Notes on February 1 2022**"
   ]
  },
  {
   "cell_type": "markdown",
   "id": "72e0bead",
   "metadata": {},
   "source": [
    "## Element-wise operations"
   ]
  },
  {
   "cell_type": "markdown",
   "id": "5cfbee2e",
   "metadata": {},
   "source": [
    "Naive relu \\& addition"
   ]
  },
  {
   "cell_type": "code",
   "execution_count": 9,
   "id": "bc4b6a19",
   "metadata": {},
   "outputs": [],
   "source": [
    "def naive_relu(x):\n",
    "    assert len(x.shape) == 2 # x is a rank-2 matrix\n",
    "    x = x.copy() # avoid overwriting the input tensor\n",
    "    for i in range(x.shape[0]):\n",
    "        for j in range(x.shape[1]):\n",
    "            x[i,j] = max(x[i,j],0)\n",
    "    return x"
   ]
  },
  {
   "cell_type": "code",
   "execution_count": 10,
   "id": "1a3be09c",
   "metadata": {},
   "outputs": [],
   "source": [
    "def naive_add(x,y):\n",
    "    assert len(x.shape)==2\n",
    "    assert x.shape == y.shape # both x and y are both rank 2 \n",
    "    x = x.copy()\n",
    "    for i in range(x.shape[0]):\n",
    "        for j in range(x.shape[1]):\n",
    "            x[i, j] += y[i, j]\n",
    "    return x"
   ]
  },
  {
   "cell_type": "markdown",
   "id": "50f278e8",
   "metadata": {},
   "source": [
    "Very slow! Scales with both x and y.\n",
    "* Massivly parallel implementaitons possible\n",
    "    * Basic Linear algebra Subprograms (BLAS) implementaiton for NumPy"
   ]
  },
  {
   "cell_type": "code",
   "execution_count": 12,
   "id": "1ab49f60",
   "metadata": {},
   "outputs": [
    {
     "name": "stdout",
     "output_type": "stream",
     "text": [
      "Took: 0.01 s\n",
      "Took: 1.17 s\n"
     ]
    }
   ],
   "source": [
    "import time\n",
    "import numpy as np\n",
    "x = np.random.random((20, 100))\n",
    "y = np.random.random((20, 100))\n",
    "t0 = time.time()\n",
    "\n",
    "for _ in range(1000): # \"_\" is a dummy receptical saves memory\n",
    "    z=x+y\n",
    "    z = np.maximum(z, 0.)\n",
    "print(\"Took: {0:.2f} s\".format(time.time() - t0))\n",
    "\n",
    "t0 = time.time()\n",
    "for _ in range(1000):\n",
    "    z = naive_add(x, y)\n",
    "    z = naive_relu(z)\n",
    "print(\"Took: {0:.2f} s\".format(time.time() - t0))"
   ]
  },
  {
   "cell_type": "markdown",
   "id": "d89c7281",
   "metadata": {},
   "source": [
    "## Broadcasting "
   ]
  },
  {
   "cell_type": "markdown",
   "id": "408e30ea",
   "metadata": {},
   "source": [
    "How do we add two tensors of different shapes?\n",
    "\n",
    "Broadcasting consits of two steps:\n",
    "* Axes (called broadcast axes) are added to the smaller dimension ot match the ndim of the larger tensor\n",
    "* The tensor is rpeaded along these new axes to match the full shape of the larger tensor"
   ]
  },
  {
   "cell_type": "code",
   "execution_count": 16,
   "id": "d35d7aa9",
   "metadata": {},
   "outputs": [],
   "source": [
    "import numpy as np\n",
    "X = np.random.random((32, 10))\n",
    "y = np.random.random((10,))\n",
    "y = np.expand_dims(y, axis=0)\n",
    "Y = np.concatenate([y] * 32, axis=0)"
   ]
  },
  {
   "cell_type": "code",
   "execution_count": 21,
   "id": "52d82e31",
   "metadata": {},
   "outputs": [],
   "source": [
    "def naive_add_matrix_and_vector(x, y): \n",
    "    assert len(x.shape) == 2\n",
    "    assert len(y.shape) == 1\n",
    "    assert x.shape[1] == y.shape[0]\n",
    "    x = x.copy()\n",
    "    for i in range(x.shape[0]):\n",
    "        for j in range(x.shape[1]):\n",
    "            x[i,j]+= y[j]\n",
    "    return x"
   ]
  },
  {
   "cell_type": "markdown",
   "id": "1b3ff023",
   "metadata": {},
   "source": [
    "## Tensor Product\n",
    "Non-element wise operation"
   ]
  },
  {
   "cell_type": "code",
   "execution_count": null,
   "id": "3fe32095",
   "metadata": {},
   "outputs": [],
   "source": [
    "def naive_vector_dot(x, y):\n",
    "    assert len(x.shape) == 1\n",
    "    assert len(y.shape) == 1\n",
    "    assert x.shape[0] == y.shape[0]\n",
    "    z = 0.\n",
    "    for i in range(x.shape[0]):\n",
    "        z += x[i] * y[i]\n",
    "    return z"
   ]
  },
  {
   "cell_type": "markdown",
   "id": "21afde6b",
   "metadata": {},
   "source": [
    "Matrix vector dot product. Two methods"
   ]
  },
  {
   "cell_type": "code",
   "execution_count": 24,
   "id": "ddfe8767",
   "metadata": {},
   "outputs": [],
   "source": [
    "def naive_matrix_vector_dot(x, y):\n",
    "    assert len(x.shape) == 2\n",
    "    assert len(y.shape) == 1\n",
    "    assert x.shape[1] == y.shape[0]\n",
    "    z = np.zeros(x.shape[0])\n",
    "    for i in range(x.shape[0]):\n",
    "        for j in range(x.shape[1]):\n",
    "            z[i] += x[i, j] * y[j]\n",
    "    return z\n",
    "\n",
    "def naive_matrix_vector_dot(x, y):\n",
    "    z = np.zeros(x.shape[0])\n",
    "    for i in range(x.shape[0]):\n",
    "        z[i] = naive_vector_dot(x[i, :], y)\n",
    "    return z"
   ]
  },
  {
   "cell_type": "markdown",
   "id": "cb8e0364",
   "metadata": {},
   "source": [
    "## Tensor Reshaping"
   ]
  },
  {
   "cell_type": "code",
   "execution_count": 27,
   "id": "cac1a548",
   "metadata": {},
   "outputs": [
    {
     "name": "stdout",
     "output_type": "stream",
     "text": [
      "(3, 2)\n",
      "[[0.]\n",
      " [1.]\n",
      " [2.]\n",
      " [3.]\n",
      " [4.]\n",
      " [5.]]\n",
      "(20, 300)\n"
     ]
    }
   ],
   "source": [
    "x = np.array([[0., 1.],\n",
    "             [2., 3.],\n",
    "             [4., 5.]])\n",
    "print(x.shape)\n",
    "x = x.reshape((6, 1))\n",
    "print(x)\n",
    "x = np.zeros((300, 20))\n",
    "x = np.transpose(x)\n",
    "print(x.shape)"
   ]
  },
  {
   "cell_type": "markdown",
   "id": "2d626705",
   "metadata": {},
   "source": [
    "## Practice 2-1"
   ]
  },
  {
   "cell_type": "code",
   "execution_count": 3,
   "id": "558f633b",
   "metadata": {},
   "outputs": [],
   "source": [
    "from tensorflow.keras.datasets import mnist\n",
    "import numpy as np\n",
    "(train_images, train_labels), (test_images, test_labels) = mnist.load_data()"
   ]
  },
  {
   "cell_type": "markdown",
   "id": "295db8c5",
   "metadata": {},
   "source": [
    "1. Perform element-wise multiplication of the first two\n",
    "images and plot it using plt.imshow()"
   ]
  },
  {
   "cell_type": "code",
   "execution_count": 4,
   "id": "8055251a",
   "metadata": {},
   "outputs": [],
   "source": [
    "product_elemnt_wise= np.multiply(train_images[0],train_images[1])\n"
   ]
  },
  {
   "cell_type": "code",
   "execution_count": 5,
   "id": "fc6f66f6",
   "metadata": {},
   "outputs": [
    {
     "data": {
      "image/png": "[encoded data removed]",
      "text/plain": [
       "<Figure size 432x288 with 1 Axes>"
      ]
     },
     "metadata": {
      "needs_background": "light"
     },
     "output_type": "display_data"
    }
   ],
   "source": [
    "import matplotlib.pyplot as plt\n",
    "plt.imshow(product_elemnt_wise, cmap=plt.cm.binary) \n",
    "plt.show()"
   ]
  },
  {
   "cell_type": "markdown",
   "id": "42ed03ea",
   "metadata": {},
   "source": [
    "2. Perform tensor multiplication of the first two images\n",
    "and plot it."
   ]
  },
  {
   "cell_type": "code",
   "execution_count": 6,
   "id": "87bee849",
   "metadata": {},
   "outputs": [],
   "source": [
    "product_tensor = np.dot(train_images[0],train_images[1])"
   ]
  },
  {
   "cell_type": "code",
   "execution_count": 42,
   "id": "15524994",
   "metadata": {},
   "outputs": [
    {
     "data": {
      "image/png": "[encoded data removed]",
      "text/plain": [
       "<Figure size 432x288 with 1 Axes>"
      ]
     },
     "metadata": {
      "needs_background": "light"
     },
     "output_type": "display_data"
    }
   ],
   "source": [
    "plt.imshow(product_tensor, cmap=plt.cm.binary) \n",
    "plt.show()"
   ]
  },
  {
   "cell_type": "markdown",
   "id": "c33889dd",
   "metadata": {},
   "source": [
    "3.\n",
    "Randomly generate 10 numbers $\\alpha_1, ... , \\alpha_{10}$ from the\n",
    "uniform distribution.\n",
    "Plot the weighted sum $\\alpha_1 x_1 + ... + \\alpha_{10} x_{10}$. "
   ]
  },
  {
   "cell_type": "code",
   "execution_count": 13,
   "id": "42752951",
   "metadata": {},
   "outputs": [],
   "source": [
    "indices = np.array(np.where(train_labels==0))[0,:10]"
   ]
  },
  {
   "cell_type": "code",
   "execution_count": 14,
   "id": "03c67023",
   "metadata": {},
   "outputs": [],
   "source": [
    "data = np.random.uniform(0,1,10)\n",
    "prob_dist = np.random.uniform(0,1,10)/ sum(data)"
   ]
  },
  {
   "cell_type": "code",
   "execution_count": 15,
   "id": "dafb3885",
   "metadata": {
    "scrolled": true
   },
   "outputs": [],
   "source": [
    "image = np.zeros((28,28))\n",
    "for idx, val in enumerate(indices):\n",
    "    image+= prob_dist[idx]*train_images[val]"
   ]
  },
  {
   "cell_type": "code",
   "execution_count": 16,
   "id": "356d5b7e",
   "metadata": {},
   "outputs": [
    {
     "data": {
      "image/png": "[encoded data removed]",
      "text/plain": [
       "<Figure size 432x288 with 1 Axes>"
      ]
     },
     "metadata": {
      "needs_background": "light"
     },
     "output_type": "display_data"
    }
   ],
   "source": [
    "plt.imshow(image, cmap=plt.cm.binary) \n",
    "plt.show()"
   ]
  },
  {
   "cell_type": "markdown",
   "id": "fffe24a8",
   "metadata": {},
   "source": [
    "**Notes on Februrary 3 2022**"
   ]
  },
  {
   "cell_type": "markdown",
   "id": "9863d2e3",
   "metadata": {},
   "source": [
    "## Gradient descent and backprop"
   ]
  },
  {
   "cell_type": "markdown",
   "id": "f727f5bf",
   "metadata": {},
   "source": [
    "What is a training loop?\n",
    "1. Draw of batch of traning samples `x` and corresponding targets, `y_true`. We do this because of memeory constraints. \n",
    "2. Run the model on `x` (called the *forward pass*) to obtain a prediction `y_pred`.\n",
    "3. Compute the loss of the model on the batch, a measure of the \\\"error\\\" between `y_pred` and `y_true`.\n",
    "4. Update all weights of the model in a way that slightly reduces the loss of this batch. "
   ]
  },
  {
   "cell_type": "markdown",
   "id": "520652a8",
   "metadata": {},
   "source": [
    "The *gradient* at a point $x:=[x_1,...,x_D]^\\top \\in \\mathbb{R}^D$ for a function $f$ is defined as\n",
    "$$\\nabla_x f:= [\\frac{df}{dx_1},...,\\frac{df}{dx_1}]^\\top$$"
   ]
  },
  {
   "cell_type": "markdown",
   "id": "e5c97d02",
   "metadata": {},
   "source": [
    "Gradient descent (GD), *try* and minimize the *loss* by repeating\n",
    "$$ w \\leftarrow w - \\eta \\nabla_W loss$$"
   ]
  },
  {
   "cell_type": "markdown",
   "id": "72b71ed5",
   "metadata": {},
   "source": [
    "Different versions:\n",
    "   * Gradient desent, batch size uses all training data\n",
    "   * Stochastic Gradient descent, batch size 1\n",
    "   * (mini)batch GD, batch size smaller than all training data (SGD is (mini)batch GD)\n",
    "   * Adaptive methods\n",
    "        * Adagrad, RMSprop\n",
    "\n",
    "Gradient Descent with Momentum\n",
    "\n",
    "```\n",
    "past_velocity = 0.\n",
    "momentum = 0.1\n",
    "while loss > 0.01:\n",
    "w, loss, gradient = get_current_parameters()\n",
    "velocity = past_velocity * momentum - learning_rate * gradient \n",
    "w = w + momentum * velocity - learning_rate * gradient  \n",
    "past_velocity = velocity\n",
    "update_parameter(w)\n",
    "```\n",
    "\n",
    "Given the forward computation graph,the backward computation graph can be generated automatically"
   ]
  },
  {
   "cell_type": "markdown",
   "id": "a5cac94d",
   "metadata": {},
   "source": [
    "## The gradient tape in TensoFlow\n",
    "Gradient tape\n",
    "* Python scope to infove TensorFlow's automatic differentiation"
   ]
  },
  {
   "cell_type": "code",
   "execution_count": null,
   "id": "f7ccec25",
   "metadata": {},
   "outputs": [],
   "source": [
    "import tensorflow as tf\n",
    "## Example 1\n",
    "x = tf.Variable(0.)\n",
    "with tf.GradientTape() as tape:\n",
    "    y=2*x+3\n",
    "grad_of_y_wrt_x = tape.gradient(y, x)"
   ]
  },
  {
   "cell_type": "code",
   "execution_count": 2,
   "id": "2ebe3d85",
   "metadata": {},
   "outputs": [
    {
     "name": "stdout",
     "output_type": "stream",
     "text": [
      "Metal device set to: Apple M1\n"
     ]
    },
    {
     "name": "stderr",
     "output_type": "stream",
     "text": [
      "2022-02-03 12:07:42.791017: I tensorflow/core/common_runtime/pluggable_device/pluggable_device_factory.cc:305] Could not identify NUMA node of platform GPU ID 0, defaulting to 0. Your kernel may not have been built with NUMA support.\n",
      "2022-02-03 12:07:42.791394: I tensorflow/core/common_runtime/pluggable_device/pluggable_device_factory.cc:271] Created TensorFlow device (/job:localhost/replica:0/task:0/device:GPU:0 with 0 MB memory) -> physical PluggableDevice (device: 0, name: METAL, pci bus id: <undefined>)\n"
     ]
    }
   ],
   "source": [
    "## Example 2\n",
    "x = tf.Variable(tf.random.uniform((2, 2))) \n",
    "with tf.GradientTape() as tape:\n",
    "    y=2*x+3\n",
    "grad_of_y_wrt_x = tape.gradient(y, x)"
   ]
  },
  {
   "cell_type": "code",
   "execution_count": 5,
   "id": "b9a96792",
   "metadata": {},
   "outputs": [
    {
     "data": {
      "text/plain": [
       "<tf.Tensor: shape=(2, 2), dtype=float32, numpy=\n",
       "array([[2., 2.],\n",
       "       [2., 2.]], dtype=float32)>"
      ]
     },
     "execution_count": 5,
     "metadata": {},
     "output_type": "execute_result"
    }
   ],
   "source": [
    "grad_of_y_wrt_x"
   ]
  },
  {
   "cell_type": "code",
   "execution_count": 18,
   "id": "b72287bc",
   "metadata": {},
   "outputs": [],
   "source": [
    "## Example 3\n",
    "W = tf.Variable(tf.random.uniform((2, 2))) \n",
    "b = tf.Variable(tf.zeros((2,)))\n",
    "x = tf.random.uniform((2, 2))\n",
    "with tf.GradientTape() as tape:\n",
    "    y = tf.matmul(x, W) + b \n",
    "grad_of_y_wrt_W_and_b = tape.gradient(y, [W, b])"
   ]
  },
  {
   "cell_type": "code",
   "execution_count": 19,
   "id": "9f493470",
   "metadata": {},
   "outputs": [
    {
     "data": {
      "text/plain": [
       "[<tf.Tensor: shape=(2, 2), dtype=float32, numpy=\n",
       " array([[0.91361475, 0.91361475],\n",
       "        [0.69635034, 0.69635034]], dtype=float32)>,\n",
       " <tf.Tensor: shape=(2,), dtype=float32, numpy=array([2., 2.], dtype=float32)>]"
      ]
     },
     "execution_count": 19,
     "metadata": {},
     "output_type": "execute_result"
    }
   ],
   "source": [
    "grad_of_y_wrt_W_and_b"
   ]
  },
  {
   "cell_type": "markdown",
   "id": "73172c1e",
   "metadata": {},
   "source": [
    "## Practice 2-2"
   ]
  },
  {
   "cell_type": "code",
   "execution_count": 17,
   "id": "afc6cc9f",
   "metadata": {},
   "outputs": [],
   "source": [
    "#Practice 2-2\n",
    "W = tf.Variable(3.) \n",
    "b = tf.Variable(1.)\n",
    "x = tf.Variable(2.)\n",
    "with tf.GradientTape() as tape:\n",
    "    y = x*W + b \n",
    "    loss_val = abs(y-4.)\n",
    "grad_of_y_wrt_W_and_b = tape.gradient(y, [W, b])"
   ]
  },
  {
   "cell_type": "code",
   "execution_count": 23,
   "id": "89766e5d",
   "metadata": {},
   "outputs": [
    {
     "name": "stdout",
     "output_type": "stream",
     "text": [
      "tf.Tensor(2.0, shape=(), dtype=float32)\n",
      "tf.Tensor(1.0, shape=(), dtype=float32)\n"
     ]
    }
   ],
   "source": [
    "#Gradient with respect to W\n",
    "print(grad_of_y_wrt_W_and_b[0])\n",
    "#Gradient with respect to b\n",
    "print(grad_of_y_wrt_W_and_b[1])"
   ]
  },
  {
   "cell_type": "markdown",
   "id": "8251cb5d",
   "metadata": {},
   "source": [
    "**Notes on February 8 2022**"
   ]
  },
  {
   "cell_type": "code",
   "execution_count": 16,
   "id": "cb69e25e",
   "metadata": {},
   "outputs": [
    {
     "name": "stdout",
     "output_type": "stream",
     "text": [
      "tf.Tensor(5.9999995, shape=(), dtype=float32)\n",
      "None\n",
      "None\n",
      "None\n"
     ]
    }
   ],
   "source": [
    "import tensorflow as tf\n",
    "x0 = tf.Variable(3.0, name='x0') # A trainable variable\n",
    "x1 = tf.Variable(3.0, name='x1', trainable=False) # Not trainable # Not a Variable: A variable + tensor returns a tensor.\n",
    "x2 = tf.Variable(2.0, name='x2') + 1.0 # Adding a constant makes it a constant tensor\n",
    "x3 = tf.constant(3.0, name='x3') # Not a variable\n",
    "with tf.GradientTape() as tape: \n",
    "    y = (x0**2) + (x1**2) + (x2**2)\n",
    "grad = tape.gradient(y, [x0, x1, x2, x3])\n",
    "for g in grad:\n",
    "  print(g)"
   ]
  },
  {
   "cell_type": "markdown",
   "id": "0e7a2c6f",
   "metadata": {},
   "source": [
    "Recall the first simple model using tensor flow"
   ]
  },
  {
   "cell_type": "code",
   "execution_count": null,
   "id": "1a9665b8",
   "metadata": {},
   "outputs": [],
   "source": [
    "from tensorflow.keras.datasets import mnist\n",
    "## Data\n",
    "(train_images, train_labels), (test_images, test_labels) = mnist.load_data(\n",
    ")\n",
    "train_images = train_images.reshape((60000, 28 * 28))\n",
    "train_images = train_images.astype(\"float32\") / 255 \n",
    "test_images = test_images.reshape((10000, 28 * 28)) \n",
    "test_images = test_images.astype(\"float32\") / 255\n",
    "## Model\n",
    "model = keras.Sequential([ layers.Dense(512, activation=\"relu\"), layers.Dense(10, activation=\"softmax\") ])\n",
    "## Compilation\n",
    "model.compile(optimizer=\"rmsprop\", loss=\"sparse_categorical_crossentropy\", metrics=[\"accuracy\"])\n",
    "## Training\n",
    "model.fit(train_images, train_labels, epochs=5, batch_size=128)"
   ]
  },
  {
   "cell_type": "markdown",
   "id": "3e4f45db",
   "metadata": {},
   "source": [
    "## Simple Model From Scratch"
   ]
  },
  {
   "cell_type": "markdown",
   "id": "df9435eb",
   "metadata": {},
   "source": [
    "**A simple dense class**\n",
    "* `output = activation(dot(W,input)+b)`"
   ]
  },
  {
   "cell_type": "code",
   "execution_count": 21,
   "id": "3ddbfd4f",
   "metadata": {},
   "outputs": [],
   "source": [
    "import tensorflow as tf\n",
    "class NaiveDense:\n",
    "    def __init__(self, input_size, output_size, activation):\n",
    "        self.activation = activation\n",
    "        w_shape = (input_size, output_size)\n",
    "        w_initial_value = tf.random.uniform(w_shape, minval=0, maxval=1e-1) \n",
    "        self.W = tf.Variable(w_initial_value)\n",
    "        b_shape = (output_size,)\n",
    "        b_initial_value = tf.zeros(b_shape)\n",
    "        self.b = tf.Variable(b_initial_value)\n",
    "    def __call__(self, inputs):\n",
    "        return self.activation(tf.matmul(inputs, self.W) + self.b)\n",
    "    \n",
    "    @property\n",
    "    def weights(self):\n",
    "        return [self.W, self.b]"
   ]
  },
  {
   "cell_type": "markdown",
   "id": "f6b2d53c",
   "metadata": {},
   "source": [
    "* A simple sequential class to chain the layers"
   ]
  },
  {
   "cell_type": "code",
   "execution_count": 24,
   "id": "fd957b9e",
   "metadata": {},
   "outputs": [],
   "source": [
    "class NaiveSequential:\n",
    "    def __init__(self, layers):\n",
    "        self.layers = layers\n",
    "    def __call__(self, inputs):\n",
    "        x = inputs\n",
    "        for layer in self.layers:\n",
    "           x = layer(x)\n",
    "        return x\n",
    "    \n",
    "    @property\n",
    "    def weights(self):\n",
    "       weights = []\n",
    "       for layer in self.layers:\n",
    "           weights += layer.weights\n",
    "       return weights"
   ]
  },
  {
   "cell_type": "markdown",
   "id": "faab16c7",
   "metadata": {},
   "source": [
    "Using this `NaiveDense` class and this `NaiveSequential` class, we can create a mock Keras model"
   ]
  },
  {
   "cell_type": "code",
   "execution_count": 27,
   "id": "62d710de",
   "metadata": {},
   "outputs": [],
   "source": [
    "model = NaiveSequential([\n",
    "NaiveDense(input_size=28 * 28, output_size=512, activation=tf.nn.relu),\n",
    "NaiveDense(input_size=512, output_size=10, activation=tf.nn.softmax) ])\n",
    "assert len(model.weights) == 4"
   ]
  },
  {
   "cell_type": "code",
   "execution_count": 31,
   "id": "aef06dfa",
   "metadata": {},
   "outputs": [],
   "source": [
    "import math\n",
    "class BatchGenerator:\n",
    "    def __init__(self, images, labels, batch_size=128):\n",
    "        assert len(images) == len(labels)\n",
    "        self.index = 0\n",
    "        self.images = images\n",
    "        self.labels = labels\n",
    "        self.batch_size = batch_size\n",
    "        self.num_batches = math.ceil(len(images) / batch_size)\n",
    "    def next(self):\n",
    "        images = self.images[self.index : self.index + self.batch_size]\n",
    "        labels = self.labels[self.index : self.index + self.batch_size]\n",
    "        self.index += self.batch_size\n",
    "        return images, labels"
   ]
  },
  {
   "cell_type": "code",
   "execution_count": 34,
   "id": "7bd9b49a",
   "metadata": {},
   "outputs": [],
   "source": [
    "def one_training_step(model, images_batch, labels_batch): \n",
    "    with tf.GradientTape() as tape:\n",
    "        predictions = model(images_batch)\n",
    "        per_sample_losses = tf.keras.losses.sparse_categorical_crossentropy(labels_batch, predictions)\n",
    "        average_loss = tf.reduce_mean(per_sample_losses)\n",
    "        \n",
    "    gradients = tape.gradient(average_loss, model.weights) \n",
    "    update_weights(gradients, model.weights)\n",
    "    return average_loss"
   ]
  },
  {
   "cell_type": "code",
   "execution_count": 35,
   "id": "5acca8bf",
   "metadata": {},
   "outputs": [],
   "source": [
    "from tensorflow.keras import optimizers\n",
    "\n",
    "optimizer = optimizers.SGD(learning_rate=1e-3)\n",
    "\n",
    "def update_weights(gradients, weights): \n",
    "    optimizer.apply_gradients(zip(gradients, weights))"
   ]
  },
  {
   "cell_type": "code",
   "execution_count": null,
   "id": "7ca3d140",
   "metadata": {},
   "outputs": [],
   "source": []
  }
 ],
 "metadata": {
  "kernelspec": {
   "display_name": "Python 3 (ipykernel)",
   "language": "python",
   "name": "python3"
  },
  "language_info": {
   "codemirror_mode": {
    "name": "ipython",
    "version": 3
   },
   "file_extension": ".py",
   "mimetype": "text/x-python",
   "name": "python",
   "nbconvert_exporter": "python",
   "pygments_lexer": "ipython3",
   "version": "3.9.7"
  }
 },
 "nbformat": 4,
 "nbformat_minor": 5
}
