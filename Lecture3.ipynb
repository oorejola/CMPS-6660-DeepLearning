{
 "cells": [
  {
   "cell_type": "markdown",
   "id": "b6b9192e",
   "metadata": {},
   "source": [
    "# Lecture 3\n",
    "# Keras and TensorFlow\n",
    "**Notes on February 10, 2022**\n",
    "\n",
    "Constant and random tensors"
   ]
  },
  {
   "cell_type": "code",
   "execution_count": 1,
   "id": "2da61885",
   "metadata": {},
   "outputs": [
    {
     "name": "stderr",
     "output_type": "stream",
     "text": [
      "2022-02-14 09:20:06.585919: I tensorflow/core/common_runtime/pluggable_device/pluggable_device_factory.cc:305] Could not identify NUMA node of platform GPU ID 0, defaulting to 0. Your kernel may not have been built with NUMA support.\n",
      "2022-02-14 09:20:06.586613: I tensorflow/core/common_runtime/pluggable_device/pluggable_device_factory.cc:271] Created TensorFlow device (/job:localhost/replica:0/task:0/device:GPU:0 with 0 MB memory) -> physical PluggableDevice (device: 0, name: METAL, pci bus id: <undefined>)\n"
     ]
    },
    {
     "name": "stdout",
     "output_type": "stream",
     "text": [
      "Metal device set to: Apple M1\n",
      "tf.Tensor(\n",
      "[[1.]\n",
      " [1.]], shape=(2, 1), dtype=float32)\n",
      "tf.Tensor(\n",
      "[[0.]\n",
      " [0.]], shape=(2, 1), dtype=float32)\n",
      "tf.Tensor(\n",
      "[[0.27782437]\n",
      " [0.5607336 ]\n",
      " [0.4312466 ]], shape=(3, 1), dtype=float32)\n",
      "tf.Tensor(\n",
      "[[0.11530221]\n",
      " [0.5780778 ]\n",
      " [0.82818615]], shape=(3, 1), dtype=float32)\n"
     ]
    }
   ],
   "source": [
    "##Constant tensors\n",
    "import tensorflow as tf\n",
    "x = tf.ones(shape=(2,1)) ## cf. np.ones((2,1))\n",
    "print(x)\n",
    "x = tf.zeros(shape=(2,1)) ## np.zeros((2,1))\n",
    "print(x)\n",
    "x = tf.random.normal(shape=(3,1),mean=0.,stddev=1.)\n",
    "print(x)\n",
    "x = tf.random.uniform(shape=(3,1),minval=0.,maxval=1.)\n",
    "print(x)"
   ]
  },
  {
   "cell_type": "markdown",
   "id": "d153b55f",
   "metadata": {},
   "source": [
    "NumPy tensors are assignable"
   ]
  },
  {
   "cell_type": "code",
   "execution_count": 6,
   "id": "1f3e2da1",
   "metadata": {},
   "outputs": [
    {
     "name": "stdout",
     "output_type": "stream",
     "text": [
      "x=array([[1., 1.],\n",
      "       [1., 1.]])\n",
      "x=array([[0., 1.],\n",
      "       [1., 1.]])\n"
     ]
    }
   ],
   "source": [
    "import numpy as np\n",
    "x = np.ones(shape=(2,2))\n",
    "print(f\"{x=}\")\n",
    "x[0,0]=0.\n",
    "print(f\"{x=}\")"
   ]
  },
  {
   "cell_type": "markdown",
   "id": "6b96855b",
   "metadata": {},
   "source": [
    "TensorFlow tensors are **note assignable**. See that the code below gives the error:\n",
    "\n",
    "`TypeError: 'tensorflow.python.framework.ops.EagerTensor' object does not support item assignment`"
   ]
  },
  {
   "cell_type": "code",
   "execution_count": 2,
   "id": "7bc9f3a5",
   "metadata": {},
   "outputs": [
    {
     "ename": "TypeError",
     "evalue": "'tensorflow.python.framework.ops.EagerTensor' object does not support item assignment",
     "output_type": "error",
     "traceback": [
      "\u001b[0;31m---------------------------------------------------------------------------\u001b[0m",
      "\u001b[0;31mTypeError\u001b[0m                                 Traceback (most recent call last)",
      "Input \u001b[0;32mIn [2]\u001b[0m, in \u001b[0;36m<module>\u001b[0;34m\u001b[0m\n\u001b[1;32m      3\u001b[0m x[\u001b[38;5;241m0\u001b[39m,\u001b[38;5;241m0\u001b[39m]\u001b[38;5;241m=\u001b[39m\u001b[38;5;241m0.\u001b[39m\n\u001b[1;32m      4\u001b[0m x \u001b[38;5;241m=\u001b[39m tf\u001b[38;5;241m.\u001b[39mones(shape\u001b[38;5;241m=\u001b[39m(\u001b[38;5;241m2\u001b[39m,\u001b[38;5;241m2\u001b[39m))\n\u001b[0;32m----> 5\u001b[0m x[\u001b[38;5;241m0\u001b[39m,\u001b[38;5;241m0\u001b[39m]\u001b[38;5;241m=\u001b[39m\u001b[38;5;241m0.\u001b[39m\n",
      "\u001b[0;31mTypeError\u001b[0m: 'tensorflow.python.framework.ops.EagerTensor' object does not support item assignment"
     ]
    }
   ],
   "source": [
    "x = tf.ones(shape=(2,2))\n",
    "x[0,0]=0."
   ]
  },
  {
   "cell_type": "markdown",
   "id": "cac9d014",
   "metadata": {},
   "source": [
    "A `tf.Variable` is assignable tensor"
   ]
  },
  {
   "cell_type": "code",
   "execution_count": 17,
   "id": "3e64fb65",
   "metadata": {},
   "outputs": [
    {
     "name": "stdout",
     "output_type": "stream",
     "text": [
      "v=<tf.Variable 'Variable:0' shape=(3, 1) dtype=float32, numpy=\n",
      "array([[ 0.9405165],\n",
      "       [-1.0810621],\n",
      "       [ 0.6207298]], dtype=float32)>\n",
      "v=<tf.Variable 'Variable:0' shape=(3, 1) dtype=float32, numpy=\n",
      "array([[1.],\n",
      "       [1.],\n",
      "       [1.]], dtype=float32)>\n",
      "X_var=<tf.Variable 'Variable:0' shape=(3, 1) dtype=float32, numpy=\n",
      "array([[9.],\n",
      "       [1.],\n",
      "       [1.]], dtype=float32)>\n"
     ]
    }
   ],
   "source": [
    "v = tf.Variable(initial_value=tf.random.normal(shape=(3,1)))\n",
    "print(f\"{v=}\")\n",
    "v.assign(tf.ones((3,1)))\n",
    "print(f\"{v=}\")\n",
    "\n",
    "with tf.device('/CPU:0'):\n",
    "    X_var = tf.Variable(v)\n",
    "    X_var[0, 0].assign(9)\n",
    "    \n",
    "print(f\"{X_var=}\")"
   ]
  },
  {
   "cell_type": "markdown",
   "id": "7204a833",
   "metadata": {},
   "source": [
    "`assign_add()` behaves like `+=`"
   ]
  },
  {
   "cell_type": "code",
   "execution_count": 23,
   "id": "526861e1",
   "metadata": {},
   "outputs": [
    {
     "name": "stdout",
     "output_type": "stream",
     "text": [
      "v=<tf.Variable 'Variable:0' shape=(3, 1) dtype=float32, numpy=\n",
      "array([[0.],\n",
      "       [0.],\n",
      "       [0.]], dtype=float32)>\n",
      "v=<tf.Variable 'Variable:0' shape=(3, 1) dtype=float32, numpy=\n",
      "array([[1.],\n",
      "       [1.],\n",
      "       [1.]], dtype=float32)>\n"
     ]
    }
   ],
   "source": [
    "v.assign(tf.zeros((3,1)))\n",
    "print(f\"{v=}\")\n",
    "\n",
    "v.assign_add(tf.ones((3,1))) \n",
    "print(f\"{v=}\")"
   ]
  },
  {
   "cell_type": "markdown",
   "id": "674c23f1",
   "metadata": {},
   "source": [
    "Basic math operations in TF.\n",
    "\n",
    "Many NumPy operations are already in TensorFlow"
   ]
  },
  {
   "cell_type": "code",
   "execution_count": 33,
   "id": "b705b3e1",
   "metadata": {},
   "outputs": [
    {
     "name": "stdout",
     "output_type": "stream",
     "text": [
      "a=<tf.Tensor: shape=(2, 2), dtype=float32, numpy=\n",
      "array([[1., 1.],\n",
      "       [1., 1.]], dtype=float32)>\n",
      "b=<tf.Tensor: shape=(2, 2), dtype=float32, numpy=\n",
      "array([[1., 1.],\n",
      "       [1., 1.]], dtype=float32)>\n",
      "c=<tf.Tensor: shape=(2, 2), dtype=float32, numpy=\n",
      "array([[1., 1.],\n",
      "       [1., 1.]], dtype=float32)>\n",
      "d=<tf.Tensor: shape=(2, 2), dtype=float32, numpy=\n",
      "array([[2., 2.],\n",
      "       [2., 2.]], dtype=float32)>\n",
      "e=<tf.Tensor: shape=(2, 2), dtype=float32, numpy=\n",
      "array([[2., 2.],\n",
      "       [2., 2.]], dtype=float32)>\n",
      "e=<tf.Tensor: shape=(2, 2), dtype=float32, numpy=\n",
      "array([[4., 4.],\n",
      "       [4., 4.]], dtype=float32)>\n"
     ]
    }
   ],
   "source": [
    "a = tf.ones((2,2)) # 2x2 matrix of ones\n",
    "print(f\"{a=}\")\n",
    "\n",
    "b = tf.square(a) # Element wise square\n",
    "print(f\"{b=}\")\n",
    "\n",
    "c = tf.sqrt(a) # Element wise squareroot\n",
    "print(f\"{c=}\")\n",
    "\n",
    "d = b + c # Element wise addition\n",
    "print(f\"{d=}\")\n",
    "\n",
    "e = tf.matmul(a,b) # Matrix multiplication\n",
    "print(f\"{e=}\")\n",
    "e *= d # Element wise Mulitiply AND i.e. e = e*d\n",
    "print(f\"{e=}\")"
   ]
  },
  {
   "cell_type": "markdown",
   "id": "a25f52c1",
   "metadata": {},
   "source": [
    "**More on the GradientTape API**"
   ]
  },
  {
   "cell_type": "markdown",
   "id": "7a1f7510",
   "metadata": {},
   "source": [
    "Gradient Tape with Variable"
   ]
  },
  {
   "cell_type": "code",
   "execution_count": 40,
   "id": "ae42c3b4",
   "metadata": {},
   "outputs": [
    {
     "name": "stdout",
     "output_type": "stream",
     "text": [
      "gradient=<tf.Tensor: shape=(), dtype=float32, numpy=6.0>\n"
     ]
    }
   ],
   "source": [
    "input_var = tf.Variable(initial_value=3.)\n",
    "with tf.GradientTape() as tape:\n",
    "    result = tf.square(input_var)\n",
    "gradient = tape.gradient(result,input_var)\n",
    "\n",
    "print(f\"{gradient=}\")"
   ]
  },
  {
   "cell_type": "markdown",
   "id": "4989fe2b",
   "metadata": {},
   "source": [
    "Gradient Tape with Constant. \n",
    "See that TF does not construct computational graph for `tf.constant`"
   ]
  },
  {
   "cell_type": "code",
   "execution_count": 42,
   "id": "12b9163e",
   "metadata": {},
   "outputs": [
    {
     "name": "stdout",
     "output_type": "stream",
     "text": [
      "gradient=None\n"
     ]
    }
   ],
   "source": [
    "\n",
    "input_const = tf.constant(3.)\n",
    "with tf.GradientTape() as tape:\n",
    "    tape.watch(input_const)\n",
    "gradient = tape.gradient(result,input_const)\n",
    "print(f\"{gradient=}\") #Gradient of a constant is None"
   ]
  },
  {
   "cell_type": "markdown",
   "id": "71376278",
   "metadata": {},
   "source": [
    "Use `tape.watch()` to construct computational graph for constant tensors"
   ]
  },
  {
   "cell_type": "code",
   "execution_count": 43,
   "id": "e9759e9c",
   "metadata": {},
   "outputs": [
    {
     "name": "stdout",
     "output_type": "stream",
     "text": [
      "gradient=<tf.Tensor: shape=(), dtype=float32, numpy=6.0>\n"
     ]
    }
   ],
   "source": [
    "input_const = tf.constant(3.)\n",
    "with tf.GradientTape() as tape:\n",
    "    tape.watch(input_const) #Build computational graph for input_const\n",
    "    result = tf.square(input_const)\n",
    "gradient = tape.gradient(result,input_const)\n",
    "print(f\"{gradient=}\")"
   ]
  },
  {
   "cell_type": "markdown",
   "id": "34d8f819",
   "metadata": {},
   "source": [
    "Use nested gradient tapes to compute second-order gradients"
   ]
  },
  {
   "cell_type": "code",
   "execution_count": 46,
   "id": "bd3f39d9",
   "metadata": {},
   "outputs": [
    {
     "name": "stdout",
     "output_type": "stream",
     "text": [
      "acceleration=<tf.Tensor: shape=(), dtype=float32, numpy=9.8>\n"
     ]
    }
   ],
   "source": [
    "time = tf.Variable(0.)\n",
    "\n",
    "with tf.GradientTape() as outer_tape:\n",
    "    with tf.GradientTape() as inner_tape:\n",
    "        position = 4.9*time**2\n",
    "    speed = inner_tape.gradient(position,time)\n",
    "acceleration = outer_tape.gradient(speed,time)\n",
    "\n",
    "print(f\"{acceleration=}\")"
   ]
  },
  {
   "cell_type": "markdown",
   "id": "4a912fa7",
   "metadata": {},
   "source": [
    "## End-to-end example: A linear classifier in pure TensorFlow"
   ]
  },
  {
   "cell_type": "markdown",
   "id": "5f7f7b22",
   "metadata": {},
   "source": [
    "Mock machine learning job interview question\n",
    "* Implement a linear classifier from scratch in TensorFlow using simple things like tensors, tensor operations, and gradients\n",
    "\n",
    "Details:\n",
    "* Generate two classes of random points in a 2D plane\n",
    "* Generate corresponding targest (0 and 1)\n",
    "* Plot the two-point classes \n",
    "* Define the linear classifier parameter variables\n",
    "* Define the model (=forward pass)\n",
    "* Define the mean squared error loss\n",
    "* Define the training step function\n",
    "* Run the training step for 40 times using all training data\n",
    "* Bonus: plot the learned classifier and predicted classes"
   ]
  },
  {
   "cell_type": "code",
   "execution_count": 2,
   "id": "21360685",
   "metadata": {},
   "outputs": [],
   "source": [
    "import numpy as np \n",
    "num_samples_per_class = 1000\n",
    "negative_samples = np.random.multivariate_normal(mean=[0,3],cov=[[1,0.5],[0.5,1]],size = num_samples_per_class)\n",
    "positive_samples = np.random.multivariate_normal(mean=[3,0],cov=[[1,0.5],[0.5,1]],size = num_samples_per_class)"
   ]
  },
  {
   "cell_type": "code",
   "execution_count": 51,
   "id": "087cc7ba",
   "metadata": {},
   "outputs": [],
   "source": [
    "inputs = np.vstack((negative_samples,positive_samples)).astype(np.float32)\n",
    "\n",
    "targets = np.vstack((np.zeros((num_samples_per_class,1),dtype=\"float32\"),np.ones((num_samples_per_class,1),dtype=\"float32\")))"
   ]
  },
  {
   "cell_type": "markdown",
   "id": "4c72b9e2",
   "metadata": {},
   "source": [
    "Plot the two-point classes"
   ]
  },
  {
   "cell_type": "code",
   "execution_count": 34,
   "id": "73b98cf5",
   "metadata": {},
   "outputs": [
    {
     "data": {
      "image/png": "[encoded data removed]",
      "text/plain": [
       "<Figure size 432x288 with 1 Axes>"
      ]
     },
     "metadata": {
      "needs_background": "light"
     },
     "output_type": "display_data"
    }
   ],
   "source": [
    "import matplotlib.pyplot as plt\n",
    "\n",
    "plt.scatter(inputs[:,0],inputs[:,1],c=targets[:,0])\n",
    "\n",
    "plt.show()"
   ]
  },
  {
   "cell_type": "markdown",
   "id": "fd09f237",
   "metadata": {},
   "source": [
    "Define the linear classifier parameter variables"
   ]
  },
  {
   "cell_type": "code",
   "execution_count": 55,
   "id": "c725db96",
   "metadata": {},
   "outputs": [],
   "source": [
    "input_dim = 2\n",
    "output_dim = 1\n",
    "W = tf.Variable(tf.random.uniform(shape=(input_dim,output_dim)))\n",
    "b = tf.Variable(tf.random.uniform(shape=(output_dim,)))"
   ]
  },
  {
   "cell_type": "markdown",
   "id": "5e3babc3",
   "metadata": {},
   "source": [
    "Define Model"
   ]
  },
  {
   "cell_type": "code",
   "execution_count": 57,
   "id": "ebb7fa35",
   "metadata": {},
   "outputs": [],
   "source": [
    "def model(inputs):\n",
    "    return tf.matmul(inputs,W)+b"
   ]
  },
  {
   "cell_type": "markdown",
   "id": "ae402d87",
   "metadata": {},
   "source": [
    "Define the mean squared error loss function"
   ]
  },
  {
   "cell_type": "code",
   "execution_count": 64,
   "id": "1559f4d2",
   "metadata": {},
   "outputs": [],
   "source": [
    "def square_loss(targets,predictions):\n",
    "    per_sample_losses = tf.square(targets-predictions) \n",
    "    return tf.reduce_mean(per_sample_losses)"
   ]
  },
  {
   "cell_type": "markdown",
   "id": "d996efc3",
   "metadata": {},
   "source": [
    "Define the training step function"
   ]
  },
  {
   "cell_type": "code",
   "execution_count": 65,
   "id": "7dcaf9e4",
   "metadata": {},
   "outputs": [],
   "source": [
    "learning_rate = 0.1\n",
    "\n",
    "def training_step(inputs,targets):\n",
    "    with tf.GradientTape() as tape:\n",
    "        predictions = model(inputs)\n",
    "        loss = square_loss(predictions,targets)\n",
    "    grad_loss_wrt_W, grad_loss_wrt_b = tape.gradient(loss,[W,b])\n",
    "    W.assign_sub(grad_loss_wrt_W * learning_rate)\n",
    "    b.assign_sub(grad_loss_wrt_b* learning_rate)\n",
    "    return loss"
   ]
  },
  {
   "cell_type": "markdown",
   "id": "d1b7e74d",
   "metadata": {},
   "source": [
    "Run the training step 40 times using all the training data"
   ]
  },
  {
   "cell_type": "code",
   "execution_count": 66,
   "id": "0d9a8a6b",
   "metadata": {},
   "outputs": [
    {
     "name": "stdout",
     "output_type": "stream",
     "text": [
      "loss at step 0: 2.284064\n",
      "loss at step 1: 0.201077\n",
      "loss at step 2: 0.096511\n",
      "loss at step 3: 0.077084\n",
      "loss at step 4: 0.070712\n",
      "loss at step 5: 0.066586\n",
      "loss at step 6: 0.063063\n",
      "loss at step 7: 0.059874\n",
      "loss at step 8: 0.056961\n",
      "loss at step 9: 0.054294\n",
      "loss at step 10: 0.051851\n",
      "loss at step 11: 0.049615\n",
      "loss at step 12: 0.047567\n",
      "loss at step 13: 0.045692\n",
      "loss at step 14: 0.043975\n",
      "loss at step 15: 0.042402\n",
      "loss at step 16: 0.040962\n",
      "loss at step 17: 0.039644\n",
      "loss at step 18: 0.038436\n",
      "loss at step 19: 0.037330\n",
      "loss at step 20: 0.036318\n",
      "loss at step 21: 0.035391\n",
      "loss at step 22: 0.034542\n",
      "loss at step 23: 0.033764\n",
      "loss at step 24: 0.033053\n",
      "loss at step 25: 0.032401\n",
      "loss at step 26: 0.031804\n",
      "loss at step 27: 0.031257\n",
      "loss at step 28: 0.030757\n",
      "loss at step 29: 0.030298\n",
      "loss at step 30: 0.029878\n",
      "loss at step 31: 0.029494\n",
      "loss at step 32: 0.029142\n",
      "loss at step 33: 0.028820\n",
      "loss at step 34: 0.028525\n",
      "loss at step 35: 0.028255\n",
      "loss at step 36: 0.028007\n",
      "loss at step 37: 0.027780\n",
      "loss at step 38: 0.027573\n",
      "loss at step 39: 0.027383\n"
     ]
    }
   ],
   "source": [
    "for step in range(40):\n",
    "    loss = training_step(inputs,targets)\n",
    "    print(f\"loss at step {step}: {loss:4f}\")"
   ]
  },
  {
   "cell_type": "markdown",
   "id": "572f837f",
   "metadata": {},
   "source": [
    "Bonus: Plot the learned classifier and predcted classes"
   ]
  },
  {
   "cell_type": "code",
   "execution_count": 70,
   "id": "0b0288ff",
   "metadata": {},
   "outputs": [
    {
     "data": {
      "image/png": "[encoded data removed]",
      "text/plain": [
       "<Figure size 432x288 with 1 Axes>"
      ]
     },
     "metadata": {
      "needs_background": "light"
     },
     "output_type": "display_data"
    }
   ],
   "source": [
    "predictions = model(inputs)\n",
    "x = np.linspace(-1,4,100)\n",
    "y = - W [0]/ W [1]*x +(0.5- b )/ W [1]\n",
    "plt.plot(x,y,\"-r\")\n",
    "#Classify as negative if model returns value > 1\n",
    "plt.scatter(inputs[:,0],inputs[:,1],c=predictions[:,0]>0.5) \n",
    "plt.show()"
   ]
  },
  {
   "cell_type": "markdown",
   "id": "1e304a88",
   "metadata": {},
   "source": [
    "## Practice 3-1\n",
    "* Add hidden layer with 5 nodes"
   ]
  },
  {
   "cell_type": "code",
   "execution_count": 4,
   "id": "6d97176f",
   "metadata": {},
   "outputs": [],
   "source": [
    "import numpy as np \n",
    "import tensorflow as tf\n",
    "num_samples_per_class = 1000\n",
    "negative_samples = np.random.multivariate_normal(mean=[0,3],cov=[[1,0.5],[0.5,1]],size = num_samples_per_class)\n",
    "positive_samples = np.random.multivariate_normal(mean=[3,0],cov=[[1,0.5],[0.5,1]],size = num_samples_per_class)\n",
    "\n",
    "inputs = np.vstack((negative_samples,positive_samples)).astype(np.float32)\n",
    "\n",
    "targets = np.vstack((np.zeros((num_samples_per_class,1),dtype=\"float32\"),np.ones((num_samples_per_class,1),dtype=\"float32\")))"
   ]
  },
  {
   "cell_type": "code",
   "execution_count": 42,
   "id": "09dc2054",
   "metadata": {},
   "outputs": [],
   "source": [
    "input_dim = 2\n",
    "hidden_dim = 5\n",
    "output_dim = 1\n",
    "W = tf.Variable(tf.random.uniform(shape=(input_dim,hidden_dim)))\n",
    "b = tf.Variable(tf.random.uniform(shape=(hidden_dim,)))\n",
    "\n",
    "W_hidden = tf.Variable(tf.random.uniform(shape=(hidden_dim,output_dim)))\n",
    "b_hidden = tf.Variable(tf.random.uniform(shape=(output_dim,)))"
   ]
  },
  {
   "cell_type": "code",
   "execution_count": 43,
   "id": "2e0438e9",
   "metadata": {},
   "outputs": [],
   "source": [
    "def model(inputs):\n",
    "    hidden = tf.matmul(inputs,W)+b\n",
    "    return tf.matmul(hidden,W_hidden)+b_hidden"
   ]
  },
  {
   "cell_type": "code",
   "execution_count": 44,
   "id": "bfaa826e",
   "metadata": {},
   "outputs": [],
   "source": [
    "def square_loss(targets,predictions):\n",
    "    per_sample_losses = tf.square(targets-predictions) \n",
    "    return tf.reduce_mean(per_sample_losses)"
   ]
  },
  {
   "cell_type": "code",
   "execution_count": 45,
   "id": "a0772d71",
   "metadata": {},
   "outputs": [],
   "source": [
    "learning_rate = 0.01\n",
    "\n",
    "def training_step(inputs,targets):\n",
    "    with tf.GradientTape() as tape:\n",
    "        predictions = model(inputs)\n",
    "        loss = square_loss(predictions,targets)\n",
    "    grad_loss_wrt_W, grad_loss_wrt_b,grad_loss_wrt_W_hidden, grad_loss_wrt_b_hidden  = tape.gradient(loss,[W,b,W_hidden,b_hidden])\n",
    "    W.assign_sub(grad_loss_wrt_W * learning_rate)\n",
    "    b.assign_sub(grad_loss_wrt_b* learning_rate)\n",
    "    W_hidden.assign_sub(grad_loss_wrt_W_hidden * learning_rate)\n",
    "    b_hidden.assign_sub(grad_loss_wrt_b_hidden* learning_rate)\n",
    "    return loss"
   ]
  },
  {
   "cell_type": "code",
   "execution_count": 46,
   "id": "f0be91e4",
   "metadata": {},
   "outputs": [
    {
     "name": "stdout",
     "output_type": "stream",
     "text": [
      "loss at step 0: 92.840736\n",
      "loss at step 1: 1.685995\n",
      "loss at step 2: 0.667621\n",
      "loss at step 3: 0.292744\n",
      "loss at step 4: 0.144794\n",
      "loss at step 5: 0.084121\n",
      "loss at step 6: 0.058328\n",
      "loss at step 7: 0.046782\n",
      "loss at step 8: 0.041170\n",
      "loss at step 9: 0.038098\n",
      "loss at step 10: 0.036164\n",
      "loss at step 11: 0.034781\n",
      "loss at step 12: 0.033697\n",
      "loss at step 13: 0.032798\n",
      "loss at step 14: 0.032029\n",
      "loss at step 15: 0.031361\n",
      "loss at step 16: 0.030775\n",
      "loss at step 17: 0.030260\n",
      "loss at step 18: 0.029805\n",
      "loss at step 19: 0.029403\n",
      "loss at step 20: 0.029047\n",
      "loss at step 21: 0.028730\n",
      "loss at step 22: 0.028449\n",
      "loss at step 23: 0.028200\n",
      "loss at step 24: 0.027977\n",
      "loss at step 25: 0.027779\n",
      "loss at step 26: 0.027601\n",
      "loss at step 27: 0.027443\n",
      "loss at step 28: 0.027301\n",
      "loss at step 29: 0.027174\n",
      "loss at step 30: 0.027060\n",
      "loss at step 31: 0.026957\n",
      "loss at step 32: 0.026864\n",
      "loss at step 33: 0.026781\n",
      "loss at step 34: 0.026705\n",
      "loss at step 35: 0.026636\n",
      "loss at step 36: 0.026574\n",
      "loss at step 37: 0.026518\n",
      "loss at step 38: 0.026466\n",
      "loss at step 39: 0.026419\n",
      "loss at step 40: 0.026375\n",
      "loss at step 41: 0.026335\n",
      "loss at step 42: 0.026299\n",
      "loss at step 43: 0.026265\n",
      "loss at step 44: 0.026233\n",
      "loss at step 45: 0.026204\n",
      "loss at step 46: 0.026177\n",
      "loss at step 47: 0.026151\n",
      "loss at step 48: 0.026127\n",
      "loss at step 49: 0.026105\n",
      "loss at step 50: 0.026084\n",
      "loss at step 51: 0.026064\n",
      "loss at step 52: 0.026044\n",
      "loss at step 53: 0.026026\n",
      "loss at step 54: 0.026009\n",
      "loss at step 55: 0.025992\n",
      "loss at step 56: 0.025976\n",
      "loss at step 57: 0.025961\n",
      "loss at step 58: 0.025946\n",
      "loss at step 59: 0.025932\n",
      "loss at step 60: 0.025918\n",
      "loss at step 61: 0.025905\n",
      "loss at step 62: 0.025892\n",
      "loss at step 63: 0.025879\n",
      "loss at step 64: 0.025866\n",
      "loss at step 65: 0.025854\n",
      "loss at step 66: 0.025842\n",
      "loss at step 67: 0.025830\n",
      "loss at step 68: 0.025819\n",
      "loss at step 69: 0.025808\n",
      "loss at step 70: 0.025797\n",
      "loss at step 71: 0.025786\n",
      "loss at step 72: 0.025775\n",
      "loss at step 73: 0.025764\n",
      "loss at step 74: 0.025754\n",
      "loss at step 75: 0.025744\n",
      "loss at step 76: 0.025733\n",
      "loss at step 77: 0.025723\n",
      "loss at step 78: 0.025713\n",
      "loss at step 79: 0.025703\n",
      "loss at step 80: 0.025693\n",
      "loss at step 81: 0.025684\n",
      "loss at step 82: 0.025674\n",
      "loss at step 83: 0.025665\n",
      "loss at step 84: 0.025655\n",
      "loss at step 85: 0.025646\n",
      "loss at step 86: 0.025637\n",
      "loss at step 87: 0.025627\n",
      "loss at step 88: 0.025618\n",
      "loss at step 89: 0.025609\n",
      "loss at step 90: 0.025600\n",
      "loss at step 91: 0.025591\n",
      "loss at step 92: 0.025582\n",
      "loss at step 93: 0.025574\n",
      "loss at step 94: 0.025565\n",
      "loss at step 95: 0.025556\n",
      "loss at step 96: 0.025548\n",
      "loss at step 97: 0.025539\n",
      "loss at step 98: 0.025531\n",
      "loss at step 99: 0.025522\n",
      "loss at step 100: 0.025514\n",
      "loss at step 101: 0.025505\n",
      "loss at step 102: 0.025497\n",
      "loss at step 103: 0.025489\n",
      "loss at step 104: 0.025481\n",
      "loss at step 105: 0.025473\n",
      "loss at step 106: 0.025465\n",
      "loss at step 107: 0.025457\n",
      "loss at step 108: 0.025449\n",
      "loss at step 109: 0.025441\n",
      "loss at step 110: 0.025433\n",
      "loss at step 111: 0.025425\n",
      "loss at step 112: 0.025418\n",
      "loss at step 113: 0.025410\n",
      "loss at step 114: 0.025402\n",
      "loss at step 115: 0.025395\n",
      "loss at step 116: 0.025387\n",
      "loss at step 117: 0.025380\n",
      "loss at step 118: 0.025372\n",
      "loss at step 119: 0.025365\n",
      "loss at step 120: 0.025358\n",
      "loss at step 121: 0.025350\n",
      "loss at step 122: 0.025343\n",
      "loss at step 123: 0.025336\n",
      "loss at step 124: 0.025329\n",
      "loss at step 125: 0.025322\n",
      "loss at step 126: 0.025315\n",
      "loss at step 127: 0.025308\n",
      "loss at step 128: 0.025301\n",
      "loss at step 129: 0.025294\n",
      "loss at step 130: 0.025287\n",
      "loss at step 131: 0.025280\n",
      "loss at step 132: 0.025273\n",
      "loss at step 133: 0.025267\n",
      "loss at step 134: 0.025260\n",
      "loss at step 135: 0.025253\n",
      "loss at step 136: 0.025247\n",
      "loss at step 137: 0.025240\n",
      "loss at step 138: 0.025234\n",
      "loss at step 139: 0.025227\n",
      "loss at step 140: 0.025221\n",
      "loss at step 141: 0.025214\n",
      "loss at step 142: 0.025208\n",
      "loss at step 143: 0.025202\n",
      "loss at step 144: 0.025195\n",
      "loss at step 145: 0.025189\n",
      "loss at step 146: 0.025183\n",
      "loss at step 147: 0.025177\n",
      "loss at step 148: 0.025171\n",
      "loss at step 149: 0.025165\n",
      "loss at step 150: 0.025159\n",
      "loss at step 151: 0.025153\n",
      "loss at step 152: 0.025147\n",
      "loss at step 153: 0.025141\n",
      "loss at step 154: 0.025135\n",
      "loss at step 155: 0.025129\n",
      "loss at step 156: 0.025123\n",
      "loss at step 157: 0.025117\n",
      "loss at step 158: 0.025112\n",
      "loss at step 159: 0.025106\n",
      "loss at step 160: 0.025100\n",
      "loss at step 161: 0.025095\n",
      "loss at step 162: 0.025089\n",
      "loss at step 163: 0.025083\n",
      "loss at step 164: 0.025078\n",
      "loss at step 165: 0.025073\n",
      "loss at step 166: 0.025067\n",
      "loss at step 167: 0.025062\n",
      "loss at step 168: 0.025056\n",
      "loss at step 169: 0.025051\n",
      "loss at step 170: 0.025046\n",
      "loss at step 171: 0.025040\n",
      "loss at step 172: 0.025035\n",
      "loss at step 173: 0.025030\n",
      "loss at step 174: 0.025025\n",
      "loss at step 175: 0.025020\n",
      "loss at step 176: 0.025014\n",
      "loss at step 177: 0.025009\n",
      "loss at step 178: 0.025004\n",
      "loss at step 179: 0.024999\n",
      "loss at step 180: 0.024994\n",
      "loss at step 181: 0.024989\n",
      "loss at step 182: 0.024985\n",
      "loss at step 183: 0.024980\n",
      "loss at step 184: 0.024975\n",
      "loss at step 185: 0.024970\n",
      "loss at step 186: 0.024965\n",
      "loss at step 187: 0.024960\n",
      "loss at step 188: 0.024956\n",
      "loss at step 189: 0.024951\n",
      "loss at step 190: 0.024946\n",
      "loss at step 191: 0.024942\n",
      "loss at step 192: 0.024937\n",
      "loss at step 193: 0.024933\n",
      "loss at step 194: 0.024928\n",
      "loss at step 195: 0.024923\n",
      "loss at step 196: 0.024919\n",
      "loss at step 197: 0.024914\n",
      "loss at step 198: 0.024910\n",
      "loss at step 199: 0.024906\n",
      "loss at step 200: 0.024901\n",
      "loss at step 201: 0.024897\n",
      "loss at step 202: 0.024893\n",
      "loss at step 203: 0.024888\n",
      "loss at step 204: 0.024884\n",
      "loss at step 205: 0.024880\n",
      "loss at step 206: 0.024876\n",
      "loss at step 207: 0.024871\n",
      "loss at step 208: 0.024867\n",
      "loss at step 209: 0.024863\n",
      "loss at step 210: 0.024859\n",
      "loss at step 211: 0.024855\n",
      "loss at step 212: 0.024851\n",
      "loss at step 213: 0.024847\n",
      "loss at step 214: 0.024843\n",
      "loss at step 215: 0.024839\n",
      "loss at step 216: 0.024835\n",
      "loss at step 217: 0.024831\n",
      "loss at step 218: 0.024827\n",
      "loss at step 219: 0.024823\n",
      "loss at step 220: 0.024819\n",
      "loss at step 221: 0.024816\n",
      "loss at step 222: 0.024812\n",
      "loss at step 223: 0.024808\n",
      "loss at step 224: 0.024804\n",
      "loss at step 225: 0.024800\n",
      "loss at step 226: 0.024797\n",
      "loss at step 227: 0.024793\n",
      "loss at step 228: 0.024789\n",
      "loss at step 229: 0.024786\n",
      "loss at step 230: 0.024782\n",
      "loss at step 231: 0.024779\n",
      "loss at step 232: 0.024775\n",
      "loss at step 233: 0.024771\n",
      "loss at step 234: 0.024768\n",
      "loss at step 235: 0.024764\n",
      "loss at step 236: 0.024761\n",
      "loss at step 237: 0.024758\n",
      "loss at step 238: 0.024754\n",
      "loss at step 239: 0.024751\n",
      "loss at step 240: 0.024747\n",
      "loss at step 241: 0.024744\n",
      "loss at step 242: 0.024741\n",
      "loss at step 243: 0.024737\n",
      "loss at step 244: 0.024734\n",
      "loss at step 245: 0.024731\n",
      "loss at step 246: 0.024727\n",
      "loss at step 247: 0.024724\n",
      "loss at step 248: 0.024721\n",
      "loss at step 249: 0.024718\n",
      "loss at step 250: 0.024715\n",
      "loss at step 251: 0.024711\n",
      "loss at step 252: 0.024708\n",
      "loss at step 253: 0.024705\n",
      "loss at step 254: 0.024702\n",
      "loss at step 255: 0.024699\n",
      "loss at step 256: 0.024696\n",
      "loss at step 257: 0.024693\n",
      "loss at step 258: 0.024690\n",
      "loss at step 259: 0.024687\n",
      "loss at step 260: 0.024684\n",
      "loss at step 261: 0.024681\n",
      "loss at step 262: 0.024678\n",
      "loss at step 263: 0.024675\n",
      "loss at step 264: 0.024672\n",
      "loss at step 265: 0.024669\n",
      "loss at step 266: 0.024666\n",
      "loss at step 267: 0.024664\n",
      "loss at step 268: 0.024661\n",
      "loss at step 269: 0.024658\n",
      "loss at step 270: 0.024655\n",
      "loss at step 271: 0.024652\n",
      "loss at step 272: 0.024650\n",
      "loss at step 273: 0.024647\n",
      "loss at step 274: 0.024644\n",
      "loss at step 275: 0.024641\n",
      "loss at step 276: 0.024639\n",
      "loss at step 277: 0.024636\n",
      "loss at step 278: 0.024633\n",
      "loss at step 279: 0.024631\n",
      "loss at step 280: 0.024628\n",
      "loss at step 281: 0.024626\n",
      "loss at step 282: 0.024623\n",
      "loss at step 283: 0.024620\n",
      "loss at step 284: 0.024618\n",
      "loss at step 285: 0.024615\n",
      "loss at step 286: 0.024613\n",
      "loss at step 287: 0.024610\n",
      "loss at step 288: 0.024608\n",
      "loss at step 289: 0.024605\n",
      "loss at step 290: 0.024603\n",
      "loss at step 291: 0.024600\n",
      "loss at step 292: 0.024598\n",
      "loss at step 293: 0.024596\n",
      "loss at step 294: 0.024593\n",
      "loss at step 295: 0.024591\n",
      "loss at step 296: 0.024588\n",
      "loss at step 297: 0.024586\n",
      "loss at step 298: 0.024584\n",
      "loss at step 299: 0.024581\n",
      "loss at step 300: 0.024579\n",
      "loss at step 301: 0.024577\n",
      "loss at step 302: 0.024574\n",
      "loss at step 303: 0.024572\n",
      "loss at step 304: 0.024570\n",
      "loss at step 305: 0.024568\n",
      "loss at step 306: 0.024565\n",
      "loss at step 307: 0.024563\n",
      "loss at step 308: 0.024561\n",
      "loss at step 309: 0.024559\n",
      "loss at step 310: 0.024557\n",
      "loss at step 311: 0.024555\n",
      "loss at step 312: 0.024552\n",
      "loss at step 313: 0.024550\n",
      "loss at step 314: 0.024548\n",
      "loss at step 315: 0.024546\n",
      "loss at step 316: 0.024544\n",
      "loss at step 317: 0.024542\n",
      "loss at step 318: 0.024540\n",
      "loss at step 319: 0.024538\n",
      "loss at step 320: 0.024536\n",
      "loss at step 321: 0.024534\n",
      "loss at step 322: 0.024532\n",
      "loss at step 323: 0.024530\n",
      "loss at step 324: 0.024528\n",
      "loss at step 325: 0.024526\n",
      "loss at step 326: 0.024524\n",
      "loss at step 327: 0.024522\n",
      "loss at step 328: 0.024520\n",
      "loss at step 329: 0.024518\n",
      "loss at step 330: 0.024516\n",
      "loss at step 331: 0.024514\n",
      "loss at step 332: 0.024512\n",
      "loss at step 333: 0.024511\n",
      "loss at step 334: 0.024509\n",
      "loss at step 335: 0.024507\n",
      "loss at step 336: 0.024505\n",
      "loss at step 337: 0.024503\n",
      "loss at step 338: 0.024501\n",
      "loss at step 339: 0.024500\n",
      "loss at step 340: 0.024498\n",
      "loss at step 341: 0.024496\n",
      "loss at step 342: 0.024494\n",
      "loss at step 343: 0.024492\n",
      "loss at step 344: 0.024491\n",
      "loss at step 345: 0.024489\n",
      "loss at step 346: 0.024487\n",
      "loss at step 347: 0.024486\n"
     ]
    },
    {
     "name": "stdout",
     "output_type": "stream",
     "text": [
      "loss at step 348: 0.024484\n",
      "loss at step 349: 0.024482\n",
      "loss at step 350: 0.024481\n",
      "loss at step 351: 0.024479\n",
      "loss at step 352: 0.024477\n",
      "loss at step 353: 0.024476\n",
      "loss at step 354: 0.024474\n",
      "loss at step 355: 0.024472\n",
      "loss at step 356: 0.024471\n",
      "loss at step 357: 0.024469\n",
      "loss at step 358: 0.024467\n",
      "loss at step 359: 0.024466\n",
      "loss at step 360: 0.024464\n",
      "loss at step 361: 0.024463\n",
      "loss at step 362: 0.024461\n",
      "loss at step 363: 0.024460\n",
      "loss at step 364: 0.024458\n",
      "loss at step 365: 0.024457\n",
      "loss at step 366: 0.024455\n",
      "loss at step 367: 0.024454\n",
      "loss at step 368: 0.024452\n",
      "loss at step 369: 0.024451\n",
      "loss at step 370: 0.024449\n",
      "loss at step 371: 0.024448\n",
      "loss at step 372: 0.024446\n",
      "loss at step 373: 0.024445\n",
      "loss at step 374: 0.024443\n",
      "loss at step 375: 0.024442\n",
      "loss at step 376: 0.024440\n",
      "loss at step 377: 0.024439\n",
      "loss at step 378: 0.024438\n",
      "loss at step 379: 0.024436\n",
      "loss at step 380: 0.024435\n",
      "loss at step 381: 0.024433\n",
      "loss at step 382: 0.024432\n",
      "loss at step 383: 0.024431\n",
      "loss at step 384: 0.024429\n",
      "loss at step 385: 0.024428\n",
      "loss at step 386: 0.024427\n",
      "loss at step 387: 0.024425\n",
      "loss at step 388: 0.024424\n",
      "loss at step 389: 0.024423\n",
      "loss at step 390: 0.024421\n",
      "loss at step 391: 0.024420\n",
      "loss at step 392: 0.024419\n",
      "loss at step 393: 0.024418\n",
      "loss at step 394: 0.024416\n",
      "loss at step 395: 0.024415\n",
      "loss at step 396: 0.024414\n",
      "loss at step 397: 0.024413\n",
      "loss at step 398: 0.024411\n",
      "loss at step 399: 0.024410\n"
     ]
    }
   ],
   "source": [
    "for step in range(400):\n",
    "    loss = training_step(inputs,targets)\n",
    "    print(f\"loss at step {step}: {loss:4f}\")"
   ]
  },
  {
   "cell_type": "code",
   "execution_count": 47,
   "id": "bd83b193",
   "metadata": {},
   "outputs": [
    {
     "data": {
      "image/png": "[encoded data removed]",
      "text/plain": [
       "<Figure size 432x288 with 1 Axes>"
      ]
     },
     "metadata": {
      "needs_background": "light"
     },
     "output_type": "display_data"
    }
   ],
   "source": [
    "predictions = model(inputs)\n",
    "x = np.linspace(-1,4,100)\n",
    "#y = - W [0]/ W [1]*x +(0.5- b )/ W [1]\n",
    "#plt.plot(x,y,\"-r\")\n",
    "#Classify as negative if model returns value > 1\n",
    "plt.scatter(inputs[:,0],inputs[:,1],c=predictions[:,0]>0.5) \n",
    "plt.show()"
   ]
  },
  {
   "cell_type": "markdown",
   "id": "9079318a",
   "metadata": {},
   "source": [
    "## Keras\n",
    "\n",
    "Keras is higherlevel than Tensorflow"
   ]
  },
  {
   "cell_type": "code",
   "execution_count": 50,
   "id": "ee162a4d",
   "metadata": {},
   "outputs": [
    {
     "name": "stdout",
     "output_type": "stream",
     "text": [
      "(2, 32)\n"
     ]
    }
   ],
   "source": [
    "from tensorflow import keras\n",
    "class SimpleDense(keras.layers.Layer):\n",
    "    def __init__(self, units, activation=None):\n",
    "        super().__init__()\n",
    "        self.units = units\n",
    "        self.activation = activation\n",
    "    def build(self, input_shape):\n",
    "        input_dim = input_shape[-1]\n",
    "        self.W = self.add_weight(shape=(input_dim, self.units),\n",
    "        initializer=\"random_normal\") ## cf. self.W = tf.Variable(tf.random.uniform(w_shape))\n",
    "        self.b = self.add_weight(shape=(self.units,),initializer=\"zeros\")\n",
    "    def call(self, inputs):\n",
    "        y = tf.matmul(inputs, self.W) + self.b\n",
    "        if self.activation is not None:\n",
    "            y = self.activation(y)\n",
    "        return y\n",
    "\n",
    "my_dense = SimpleDense(units=32, activation=tf.nn.relu) #Note it is not necessary to specify input size\n",
    "input_tensor = tf.ones(shape=(2, 784)) ## test input \n",
    "output_tensor = my_dense(input_tensor) \n",
    "print(output_tensor.shape)"
   ]
  },
  {
   "cell_type": "markdown",
   "id": "4fe27ef3",
   "metadata": {},
   "source": [
    "Automatic shape inference:\n",
    "* A layer can only accept input tensors of a certain shape and will return an output tensor of a certain shape"
   ]
  },
  {
   "cell_type": "code",
   "execution_count": 1,
   "id": "02811195",
   "metadata": {},
   "outputs": [
    {
     "name": "stdout",
     "output_type": "stream",
     "text": [
      "Metal device set to: Apple M1\n"
     ]
    },
    {
     "name": "stderr",
     "output_type": "stream",
     "text": [
      "2022-02-17 11:21:39.809337: I tensorflow/core/common_runtime/pluggable_device/pluggable_device_factory.cc:305] Could not identify NUMA node of platform GPU ID 0, defaulting to 0. Your kernel may not have been built with NUMA support.\n",
      "2022-02-17 11:21:39.809826: I tensorflow/core/common_runtime/pluggable_device/pluggable_device_factory.cc:271] Created TensorFlow device (/job:localhost/replica:0/task:0/device:GPU:0 with 0 MB memory) -> physical PluggableDevice (device: 0, name: METAL, pci bus id: <undefined>)\n"
     ]
    }
   ],
   "source": [
    "from tensorflow.keras import layers\n",
    "layer = layers.Dense(32, activation=\"relu\") ## Will output tensor of n_sample x 32\n",
    "## What about the input size?\n",
    "from tensorflow.keras import models\n",
    "from tensorflow.keras import layers\n",
    "\n",
    "model = models.Sequential([ layers.Dense(32, activation=\"relu\"), layers.Dense(32)\n",
    "])"
   ]
  },
  {
   "cell_type": "markdown",
   "id": "bc92b049",
   "metadata": {},
   "source": [
    "**Naive TensorFlow vs. keras**"
   ]
  },
  {
   "cell_type": "code",
   "execution_count": 53,
   "id": "618986df",
   "metadata": {},
   "outputs": [
    {
     "ename": "NameError",
     "evalue": "name 'NaiveSequential' is not defined",
     "output_type": "error",
     "traceback": [
      "\u001b[0;31m---------------------------------------------------------------------------\u001b[0m",
      "\u001b[0;31mNameError\u001b[0m                                 Traceback (most recent call last)",
      "Input \u001b[0;32mIn [53]\u001b[0m, in \u001b[0;36m<module>\u001b[0;34m\u001b[0m\n\u001b[1;32m      1\u001b[0m \u001b[38;5;66;03m## Naïve tf\u001b[39;00m\n\u001b[0;32m----> 2\u001b[0m model \u001b[38;5;241m=\u001b[39m \u001b[43mNaiveSequential\u001b[49m([\n\u001b[1;32m      3\u001b[0m NaiveDense(input_size\u001b[38;5;241m=\u001b[39m\u001b[38;5;241m784\u001b[39m, output_size\u001b[38;5;241m=\u001b[39m\u001b[38;5;241m32\u001b[39m, activation\u001b[38;5;241m=\u001b[39m\u001b[38;5;124m\"\u001b[39m\u001b[38;5;124mrelu\u001b[39m\u001b[38;5;124m\"\u001b[39m),\n\u001b[1;32m      4\u001b[0m NaiveDense(input_size\u001b[38;5;241m=\u001b[39m\u001b[38;5;241m32\u001b[39m, output_size\u001b[38;5;241m=\u001b[39m\u001b[38;5;241m64\u001b[39m, activation\u001b[38;5;241m=\u001b[39m\u001b[38;5;124m\"\u001b[39m\u001b[38;5;124mrelu\u001b[39m\u001b[38;5;124m\"\u001b[39m),\n\u001b[1;32m      5\u001b[0m NaiveDense(input_size\u001b[38;5;241m=\u001b[39m\u001b[38;5;241m64\u001b[39m, output_size\u001b[38;5;241m=\u001b[39m\u001b[38;5;241m32\u001b[39m, activation\u001b[38;5;241m=\u001b[39m\u001b[38;5;124m\"\u001b[39m\u001b[38;5;124mrelu\u001b[39m\u001b[38;5;124m\"\u001b[39m),\n\u001b[1;32m      6\u001b[0m NaiveDense(input_size\u001b[38;5;241m=\u001b[39m\u001b[38;5;241m32\u001b[39m, output_size\u001b[38;5;241m=\u001b[39m\u001b[38;5;241m10\u001b[39m, activation\u001b[38;5;241m=\u001b[39m\u001b[38;5;124m\"\u001b[39m\u001b[38;5;124msoftmax\u001b[39m\u001b[38;5;124m\"\u001b[39m) \n\u001b[1;32m      7\u001b[0m ])\n\u001b[1;32m      9\u001b[0m \u001b[38;5;66;03m## Keras\u001b[39;00m\n\u001b[1;32m     10\u001b[0m model \u001b[38;5;241m=\u001b[39m keras\u001b[38;5;241m.\u001b[39mSequential([\n\u001b[1;32m     11\u001b[0m SimpleDense(\u001b[38;5;241m32\u001b[39m, activation\u001b[38;5;241m=\u001b[39m\u001b[38;5;124m\"\u001b[39m\u001b[38;5;124mrelu\u001b[39m\u001b[38;5;124m\"\u001b[39m),\n\u001b[1;32m     12\u001b[0m SimpleDense(\u001b[38;5;241m64\u001b[39m, activation\u001b[38;5;241m=\u001b[39m\u001b[38;5;124m\"\u001b[39m\u001b[38;5;124mrelu\u001b[39m\u001b[38;5;124m\"\u001b[39m),\n\u001b[1;32m     13\u001b[0m SimpleDense(\u001b[38;5;241m32\u001b[39m, activation\u001b[38;5;241m=\u001b[39m\u001b[38;5;124m\"\u001b[39m\u001b[38;5;124mrelu\u001b[39m\u001b[38;5;124m\"\u001b[39m), \n\u001b[1;32m     14\u001b[0m SimpleDense(\u001b[38;5;241m10\u001b[39m, activation\u001b[38;5;241m=\u001b[39m\u001b[38;5;124m\"\u001b[39m\u001b[38;5;124msoftmax\u001b[39m\u001b[38;5;124m\"\u001b[39m)\n\u001b[1;32m     15\u001b[0m ])\n",
      "\u001b[0;31mNameError\u001b[0m: name 'NaiveSequential' is not defined"
     ]
    }
   ],
   "source": [
    "## Naïve tf (From lecture 2)\n",
    "model = NaiveSequential([\n",
    "NaiveDense(input_size=784, output_size=32, activation=\"relu\"),\n",
    "NaiveDense(input_size=32, output_size=64, activation=\"relu\"),\n",
    "NaiveDense(input_size=64, output_size=32, activation=\"relu\"),\n",
    "NaiveDense(input_size=32, output_size=10, activation=\"softmax\") \n",
    "])\n",
    "\n",
    "## Keras\n",
    "model = keras.Sequential([\n",
    "SimpleDense(32, activation=\"relu\"),\n",
    "SimpleDense(64, activation=\"relu\"),\n",
    "SimpleDense(32, activation=\"relu\"), \n",
    "SimpleDense(10, activation=\"softmax\")\n",
    "])"
   ]
  },
  {
   "cell_type": "markdown",
   "id": "2be323c4",
   "metadata": {},
   "source": [
    "**Notes on February 17 2022**\n",
    "\n",
    "Monitoring Loss on a Valuation Set"
   ]
  },
  {
   "cell_type": "code",
   "execution_count": 10,
   "id": "0906f4ed",
   "metadata": {},
   "outputs": [],
   "source": [
    "import numpy as np \n",
    "import tensorflow as tf\n",
    "num_samples_per_class = 1000\n",
    "negative_samples = np.random.multivariate_normal(mean=[0,3],cov=[[1,0.5],[0.5,1]],size = num_samples_per_class)\n",
    "positive_samples = np.random.multivariate_normal(mean=[3,0],cov=[[1,0.5],[0.5,1]],size = num_samples_per_class)\n",
    "\n",
    "inputs = np.vstack((negative_samples,positive_samples)).astype(np.float32)\n",
    "\n",
    "targets = np.vstack((np.zeros((num_samples_per_class,1),dtype=\"float32\"),np.ones((num_samples_per_class,1),dtype=\"float32\")))"
   ]
  },
  {
   "cell_type": "code",
   "execution_count": 13,
   "id": "ec91a3d1",
   "metadata": {},
   "outputs": [],
   "source": [
    "from tensorflow import keras\n",
    "model = keras.Sequential([keras.layers.Dense(1)])\n",
    "model.compile(optimizer=keras.optimizers.RMSprop(learning_rate=0.1),loss=keras.losses.MeanSquaredError(),metrics=[keras.metrics.BinaryAccuracy()])\n",
    "\n",
    "## Let’s first permute training data\n",
    "indices_permutation = np.random.permutation(len(inputs))\n",
    "shuffled_inputs = inputs[indices_permutation]\n",
    "shuffled_targets = targets[indices_permutation]"
   ]
  },
  {
   "cell_type": "code",
   "execution_count": 15,
   "id": "64032929",
   "metadata": {},
   "outputs": [
    {
     "name": "stdout",
     "output_type": "stream",
     "text": [
      "Epoch 1/5\n",
      "88/88 [==============================] - 0s 5ms/step - loss: 0.0663 - binary_accuracy: 0.9671 - val_loss: 0.2361 - val_binary_accuracy: 0.7133\n",
      "Epoch 2/5\n",
      "88/88 [==============================] - 0s 4ms/step - loss: 0.0700 - binary_accuracy: 0.9636 - val_loss: 0.0294 - val_binary_accuracy: 0.9967\n",
      "Epoch 3/5\n",
      "88/88 [==============================] - 0s 4ms/step - loss: 0.0687 - binary_accuracy: 0.9636 - val_loss: 0.0329 - val_binary_accuracy: 0.9983\n",
      "Epoch 4/5\n",
      "88/88 [==============================] - 0s 5ms/step - loss: 0.0707 - binary_accuracy: 0.9529 - val_loss: 0.1408 - val_binary_accuracy: 0.8033\n",
      "Epoch 5/5\n",
      "88/88 [==============================] - 0s 4ms/step - loss: 0.0719 - binary_accuracy: 0.9550 - val_loss: 0.0828 - val_binary_accuracy: 0.9517\n"
     ]
    },
    {
     "data": {
      "text/plain": [
       "<keras.callbacks.History at 0x133550e20>"
      ]
     },
     "execution_count": 15,
     "metadata": {},
     "output_type": "execute_result"
    }
   ],
   "source": [
    "num_validation_samples =int(0.3*len(inputs))\n",
    "val_inputs = shuffled_inputs[:num_validation_samples]\n",
    "val_targets = shuffled_targets[:num_validation_samples]\n",
    "training_inputs = shuffled_inputs[num_validation_samples:]\n",
    "training_targets = shuffled_targets[num_validation_samples:]\n",
    "\n",
    "model.fit(training_inputs,\n",
    "          training_targets,\n",
    "          epochs=5,\n",
    "          batch_size=16,\n",
    "          validation_data=(val_inputs,val_targets)) # Using keep track Validation data"
   ]
  },
  {
   "cell_type": "markdown",
   "id": "fd9f640a",
   "metadata": {},
   "source": [
    "After fitting a model we can make predictions and evaluate performance using:\n",
    "* `.predict()`\n",
    "* `.evaluate()`"
   ]
  },
  {
   "cell_type": "code",
   "execution_count": 19,
   "id": "66e614e8",
   "metadata": {},
   "outputs": [
    {
     "name": "stdout",
     "output_type": "stream",
     "text": [
      "5/5 [==============================] - 0s 4ms/step - loss: 0.0828 - binary_accuracy: 0.9517\n"
     ]
    },
    {
     "data": {
      "text/plain": [
       "array([[-0.06001595],\n",
       "       [-0.07197151],\n",
       "       [ 0.8540273 ],\n",
       "       [ 0.58210874],\n",
       "       [-0.4688023 ],\n",
       "       [ 0.5633357 ],\n",
       "       [ 0.8264022 ],\n",
       "       [-0.27616653],\n",
       "       [-0.1913161 ],\n",
       "       [-0.16757748]], dtype=float32)"
      ]
     },
     "execution_count": 19,
     "metadata": {},
     "output_type": "execute_result"
    }
   ],
   "source": [
    "loss_and_metrics = model.evaluate(val_inputs, val_targets,batch_size=128)\n",
    "predictions = model.predict(val_inputs,batch_size=128)\n",
    "predictions[:10]"
   ]
  },
  {
   "cell_type": "code",
   "execution_count": null,
   "id": "15ca323b",
   "metadata": {},
   "outputs": [],
   "source": []
  }
 ],
 "metadata": {
  "kernelspec": {
   "display_name": "Python 3 (ipykernel)",
   "language": "python",
   "name": "python3"
  },
  "language_info": {
   "codemirror_mode": {
    "name": "ipython",
    "version": 3
   },
   "file_extension": ".py",
   "mimetype": "text/x-python",
   "name": "python",
   "nbconvert_exporter": "python",
   "pygments_lexer": "ipython3",
   "version": "3.9.7"
  }
 },
 "nbformat": 4,
 "nbformat_minor": 5
}
