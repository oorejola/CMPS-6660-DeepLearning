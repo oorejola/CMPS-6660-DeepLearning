{
 "cells": [
  {
   "cell_type": "markdown",
   "id": "b6b9192e",
   "metadata": {},
   "source": [
    "# Lecture 3\n",
    "\n",
    "**Notes on February 10, 2022**\n",
    "\n",
    "Constant and random tensors"
   ]
  },
  {
   "cell_type": "code",
   "execution_count": 1,
   "id": "2da61885",
   "metadata": {},
   "outputs": [
    {
     "name": "stderr",
     "output_type": "stream",
     "text": [
      "2022-02-14 09:20:06.585919: I tensorflow/core/common_runtime/pluggable_device/pluggable_device_factory.cc:305] Could not identify NUMA node of platform GPU ID 0, defaulting to 0. Your kernel may not have been built with NUMA support.\n",
      "2022-02-14 09:20:06.586613: I tensorflow/core/common_runtime/pluggable_device/pluggable_device_factory.cc:271] Created TensorFlow device (/job:localhost/replica:0/task:0/device:GPU:0 with 0 MB memory) -> physical PluggableDevice (device: 0, name: METAL, pci bus id: <undefined>)\n"
     ]
    },
    {
     "name": "stdout",
     "output_type": "stream",
     "text": [
      "Metal device set to: Apple M1\n",
      "tf.Tensor(\n",
      "[[1.]\n",
      " [1.]], shape=(2, 1), dtype=float32)\n",
      "tf.Tensor(\n",
      "[[0.]\n",
      " [0.]], shape=(2, 1), dtype=float32)\n",
      "tf.Tensor(\n",
      "[[0.27782437]\n",
      " [0.5607336 ]\n",
      " [0.4312466 ]], shape=(3, 1), dtype=float32)\n",
      "tf.Tensor(\n",
      "[[0.11530221]\n",
      " [0.5780778 ]\n",
      " [0.82818615]], shape=(3, 1), dtype=float32)\n"
     ]
    }
   ],
   "source": [
    "##Constant tensors\n",
    "import tensorflow as tf\n",
    "x = tf.ones(shape=(2,1)) ## cf. np.ones((2,1))\n",
    "print(x)\n",
    "x = tf.zeros(shape=(2,1)) ## np.zeros((2,1))\n",
    "print(x)\n",
    "x = tf.random.normal(shape=(3,1),mean=0.,stddev=1.)\n",
    "print(x)\n",
    "x = tf.random.uniform(shape=(3,1),minval=0.,maxval=1.)\n",
    "print(x)"
   ]
  },
  {
   "cell_type": "markdown",
   "id": "d153b55f",
   "metadata": {},
   "source": [
    "NumPy tensors are assignable"
   ]
  },
  {
   "cell_type": "code",
   "execution_count": 6,
   "id": "1f3e2da1",
   "metadata": {},
   "outputs": [
    {
     "name": "stdout",
     "output_type": "stream",
     "text": [
      "x=array([[1., 1.],\n",
      "       [1., 1.]])\n",
      "x=array([[0., 1.],\n",
      "       [1., 1.]])\n"
     ]
    }
   ],
   "source": [
    "import numpy as np\n",
    "x = np.ones(shape=(2,2))\n",
    "print(f\"{x=}\")\n",
    "x[0,0]=0.\n",
    "print(f\"{x=}\")"
   ]
  },
  {
   "cell_type": "markdown",
   "id": "6b96855b",
   "metadata": {},
   "source": [
    "TensorFlow tensors are **note assignable**. See that the code below gives the error:\n",
    "\n",
    "`TypeError: 'tensorflow.python.framework.ops.EagerTensor' object does not support item assignment`"
   ]
  },
  {
   "cell_type": "code",
   "execution_count": 2,
   "id": "7bc9f3a5",
   "metadata": {},
   "outputs": [
    {
     "ename": "TypeError",
     "evalue": "'tensorflow.python.framework.ops.EagerTensor' object does not support item assignment",
     "output_type": "error",
     "traceback": [
      "\u001b[0;31m---------------------------------------------------------------------------\u001b[0m",
      "\u001b[0;31mTypeError\u001b[0m                                 Traceback (most recent call last)",
      "Input \u001b[0;32mIn [2]\u001b[0m, in \u001b[0;36m<module>\u001b[0;34m\u001b[0m\n\u001b[1;32m      3\u001b[0m x[\u001b[38;5;241m0\u001b[39m,\u001b[38;5;241m0\u001b[39m]\u001b[38;5;241m=\u001b[39m\u001b[38;5;241m0.\u001b[39m\n\u001b[1;32m      4\u001b[0m x \u001b[38;5;241m=\u001b[39m tf\u001b[38;5;241m.\u001b[39mones(shape\u001b[38;5;241m=\u001b[39m(\u001b[38;5;241m2\u001b[39m,\u001b[38;5;241m2\u001b[39m))\n\u001b[0;32m----> 5\u001b[0m x[\u001b[38;5;241m0\u001b[39m,\u001b[38;5;241m0\u001b[39m]\u001b[38;5;241m=\u001b[39m\u001b[38;5;241m0.\u001b[39m\n",
      "\u001b[0;31mTypeError\u001b[0m: 'tensorflow.python.framework.ops.EagerTensor' object does not support item assignment"
     ]
    }
   ],
   "source": [
    "x = tf.ones(shape=(2,2))\n",
    "x[0,0]=0."
   ]
  },
  {
   "cell_type": "markdown",
   "id": "cac9d014",
   "metadata": {},
   "source": [
    "A `tf.Variable` is assignable tensor"
   ]
  },
  {
   "cell_type": "code",
   "execution_count": 17,
   "id": "3e64fb65",
   "metadata": {},
   "outputs": [
    {
     "name": "stdout",
     "output_type": "stream",
     "text": [
      "v=<tf.Variable 'Variable:0' shape=(3, 1) dtype=float32, numpy=\n",
      "array([[ 0.9405165],\n",
      "       [-1.0810621],\n",
      "       [ 0.6207298]], dtype=float32)>\n",
      "v=<tf.Variable 'Variable:0' shape=(3, 1) dtype=float32, numpy=\n",
      "array([[1.],\n",
      "       [1.],\n",
      "       [1.]], dtype=float32)>\n",
      "X_var=<tf.Variable 'Variable:0' shape=(3, 1) dtype=float32, numpy=\n",
      "array([[9.],\n",
      "       [1.],\n",
      "       [1.]], dtype=float32)>\n"
     ]
    }
   ],
   "source": [
    "v = tf.Variable(initial_value=tf.random.normal(shape=(3,1)))\n",
    "print(f\"{v=}\")\n",
    "v.assign(tf.ones((3,1)))\n",
    "print(f\"{v=}\")\n",
    "\n",
    "with tf.device('/CPU:0'):\n",
    "    X_var = tf.Variable(v)\n",
    "    X_var[0, 0].assign(9)\n",
    "    \n",
    "print(f\"{X_var=}\")"
   ]
  },
  {
   "cell_type": "markdown",
   "id": "7204a833",
   "metadata": {},
   "source": [
    "`assign_add()` behaves like `+=`"
   ]
  },
  {
   "cell_type": "code",
   "execution_count": 23,
   "id": "526861e1",
   "metadata": {},
   "outputs": [
    {
     "name": "stdout",
     "output_type": "stream",
     "text": [
      "v=<tf.Variable 'Variable:0' shape=(3, 1) dtype=float32, numpy=\n",
      "array([[0.],\n",
      "       [0.],\n",
      "       [0.]], dtype=float32)>\n",
      "v=<tf.Variable 'Variable:0' shape=(3, 1) dtype=float32, numpy=\n",
      "array([[1.],\n",
      "       [1.],\n",
      "       [1.]], dtype=float32)>\n"
     ]
    }
   ],
   "source": [
    "v.assign(tf.zeros((3,1)))\n",
    "print(f\"{v=}\")\n",
    "\n",
    "v.assign_add(tf.ones((3,1))) \n",
    "print(f\"{v=}\")"
   ]
  },
  {
   "cell_type": "markdown",
   "id": "674c23f1",
   "metadata": {},
   "source": [
    "Basic math operations in TF.\n",
    "\n",
    "Many NumPy operations are already in TensorFlow"
   ]
  },
  {
   "cell_type": "code",
   "execution_count": 33,
   "id": "b705b3e1",
   "metadata": {},
   "outputs": [
    {
     "name": "stdout",
     "output_type": "stream",
     "text": [
      "a=<tf.Tensor: shape=(2, 2), dtype=float32, numpy=\n",
      "array([[1., 1.],\n",
      "       [1., 1.]], dtype=float32)>\n",
      "b=<tf.Tensor: shape=(2, 2), dtype=float32, numpy=\n",
      "array([[1., 1.],\n",
      "       [1., 1.]], dtype=float32)>\n",
      "c=<tf.Tensor: shape=(2, 2), dtype=float32, numpy=\n",
      "array([[1., 1.],\n",
      "       [1., 1.]], dtype=float32)>\n",
      "d=<tf.Tensor: shape=(2, 2), dtype=float32, numpy=\n",
      "array([[2., 2.],\n",
      "       [2., 2.]], dtype=float32)>\n",
      "e=<tf.Tensor: shape=(2, 2), dtype=float32, numpy=\n",
      "array([[2., 2.],\n",
      "       [2., 2.]], dtype=float32)>\n",
      "e=<tf.Tensor: shape=(2, 2), dtype=float32, numpy=\n",
      "array([[4., 4.],\n",
      "       [4., 4.]], dtype=float32)>\n"
     ]
    }
   ],
   "source": [
    "a = tf.ones((2,2)) # 2x2 matrix of ones\n",
    "print(f\"{a=}\")\n",
    "\n",
    "b = tf.square(a) # Element wise square\n",
    "print(f\"{b=}\")\n",
    "\n",
    "c = tf.sqrt(a) # Element wise squareroot\n",
    "print(f\"{c=}\")\n",
    "\n",
    "d = b + c # Element wise addition\n",
    "print(f\"{d=}\")\n",
    "\n",
    "e = tf.matmul(a,b) # Matrix multiplication\n",
    "print(f\"{e=}\")\n",
    "e *= d # Element wise Mulitiply AND i.e. e = e*d\n",
    "print(f\"{e=}\")"
   ]
  },
  {
   "cell_type": "markdown",
   "id": "a25f52c1",
   "metadata": {},
   "source": [
    "**More on the GradientTape API**"
   ]
  },
  {
   "cell_type": "markdown",
   "id": "7a1f7510",
   "metadata": {},
   "source": [
    "Gradient Tape with Variable"
   ]
  },
  {
   "cell_type": "code",
   "execution_count": 40,
   "id": "ae42c3b4",
   "metadata": {},
   "outputs": [
    {
     "name": "stdout",
     "output_type": "stream",
     "text": [
      "gradient=<tf.Tensor: shape=(), dtype=float32, numpy=6.0>\n"
     ]
    }
   ],
   "source": [
    "input_var = tf.Variable(initial_value=3.)\n",
    "with tf.GradientTape() as tape:\n",
    "    result = tf.square(input_var)\n",
    "gradient = tape.gradient(result,input_var)\n",
    "\n",
    "print(f\"{gradient=}\")"
   ]
  },
  {
   "cell_type": "markdown",
   "id": "4989fe2b",
   "metadata": {},
   "source": [
    "Gradient Tape with Constant. \n",
    "See that TF does not construct computational graph for `tf.constant`"
   ]
  },
  {
   "cell_type": "code",
   "execution_count": 42,
   "id": "12b9163e",
   "metadata": {},
   "outputs": [
    {
     "name": "stdout",
     "output_type": "stream",
     "text": [
      "gradient=None\n"
     ]
    }
   ],
   "source": [
    "\n",
    "input_const = tf.constant(3.)\n",
    "with tf.GradientTape() as tape:\n",
    "    tape.watch(input_const)\n",
    "gradient = tape.gradient(result,input_const)\n",
    "print(f\"{gradient=}\") #Gradient of a constant is None"
   ]
  },
  {
   "cell_type": "markdown",
   "id": "71376278",
   "metadata": {},
   "source": [
    "Use `tape.watch()` to construct computational graph for constant tensors"
   ]
  },
  {
   "cell_type": "code",
   "execution_count": 43,
   "id": "e9759e9c",
   "metadata": {},
   "outputs": [
    {
     "name": "stdout",
     "output_type": "stream",
     "text": [
      "gradient=<tf.Tensor: shape=(), dtype=float32, numpy=6.0>\n"
     ]
    }
   ],
   "source": [
    "input_const = tf.constant(3.)\n",
    "with tf.GradientTape() as tape:\n",
    "    tape.watch(input_const) #Build computational graph for input_const\n",
    "    result = tf.square(input_const)\n",
    "gradient = tape.gradient(result,input_const)\n",
    "print(f\"{gradient=}\")"
   ]
  },
  {
   "cell_type": "markdown",
   "id": "34d8f819",
   "metadata": {},
   "source": [
    "Use nested gradient tapes to compute second-order gradients"
   ]
  },
  {
   "cell_type": "code",
   "execution_count": 46,
   "id": "bd3f39d9",
   "metadata": {},
   "outputs": [
    {
     "name": "stdout",
     "output_type": "stream",
     "text": [
      "acceleration=<tf.Tensor: shape=(), dtype=float32, numpy=9.8>\n"
     ]
    }
   ],
   "source": [
    "time = tf.Variable(0.)\n",
    "\n",
    "with tf.GradientTape() as outer_tape:\n",
    "    with tf.GradientTape() as inner_tape:\n",
    "        position = 4.9*time**2\n",
    "    speed = inner_tape.gradient(position,time)\n",
    "acceleration = outer_tape.gradient(speed,time)\n",
    "\n",
    "print(f\"{acceleration=}\")"
   ]
  },
  {
   "cell_type": "markdown",
   "id": "4a912fa7",
   "metadata": {},
   "source": [
    "## End-to-end example: A linear classifier in pure TensorFlow"
   ]
  },
  {
   "cell_type": "markdown",
   "id": "5f7f7b22",
   "metadata": {},
   "source": [
    "Mock machine learning job interview question\n",
    "* Implement a linear classifier from scratch in TensorFlow using simple things like tensors, tensor operations, and gradients\n",
    "\n",
    "Details:\n",
    "* Generate two classes of random points in a 2D plane\n",
    "* Generate corresponding targest (0 and 1)\n",
    "* Plot the two-point classes \n",
    "* Define the linear classifier parameter variables\n",
    "* Define the model (=forward pass)\n",
    "* Define the mean squared error loss\n",
    "* Define the training step function\n",
    "* Run the training step for 40 times using all training data\n",
    "* Bonus: plot the learned classifier and predicted classes"
   ]
  },
  {
   "cell_type": "code",
   "execution_count": 48,
   "id": "21360685",
   "metadata": {},
   "outputs": [],
   "source": [
    "num_samples_per_class = 1000\n",
    "negative_samples = np.random.multivariate_normal(mean=[0,3],cov=[[1,0.5],[0.5,1]],size = num_samples_per_class)\n",
    "positive_samples = np.random.multivariate_normal(mean=[3,0],cov=[[1,0.5],[0.5,1]],size = num_samples_per_class)"
   ]
  },
  {
   "cell_type": "code",
   "execution_count": 51,
   "id": "087cc7ba",
   "metadata": {},
   "outputs": [],
   "source": [
    "inputs = np.vstack((negative_samples,positive_samples)).astype(np.float32)\n",
    "\n",
    "targets = np.vstack((np.zeros((num_samples_per_class,1),dtype=\"float32\"),np.ones((num_samples_per_class,1),dtype=\"float32\")))"
   ]
  },
  {
   "cell_type": "markdown",
   "id": "4c72b9e2",
   "metadata": {},
   "source": [
    "Plot the two-point classes"
   ]
  },
  {
   "cell_type": "code",
   "execution_count": 52,
   "id": "73b98cf5",
   "metadata": {},
   "outputs": [
    {
     "data": {
      "image/png": "[encoded data removed]",
      "text/plain": [
       "<Figure size 432x288 with 1 Axes>"
      ]
     },
     "metadata": {
      "needs_background": "light"
     },
     "output_type": "display_data"
    }
   ],
   "source": [
    "import matplotlib.pyplot as plt\n",
    "\n",
    "plt.scatter(inputs[:,0],inputs[:,1],c=targets[:,0])\n",
    "\n",
    "plt.show()"
   ]
  },
  {
   "cell_type": "markdown",
   "id": "fd09f237",
   "metadata": {},
   "source": [
    "Define the linear classifier parameter variables"
   ]
  },
  {
   "cell_type": "code",
   "execution_count": 55,
   "id": "c725db96",
   "metadata": {},
   "outputs": [],
   "source": [
    "input_dim = 2\n",
    "output_dim = 1\n",
    "W = tf.Variable(tf.random.uniform(shape=(input_dim,output_dim)))\n",
    "b = tf.Variable(tf.random.uniform(shape=(output_dim,)))"
   ]
  },
  {
   "cell_type": "markdown",
   "id": "5e3babc3",
   "metadata": {},
   "source": [
    "Define Model"
   ]
  },
  {
   "cell_type": "code",
   "execution_count": 57,
   "id": "ebb7fa35",
   "metadata": {},
   "outputs": [],
   "source": [
    "def model(inputs):\n",
    "    return tf.matmul(inputs,W)+b"
   ]
  },
  {
   "cell_type": "markdown",
   "id": "ae402d87",
   "metadata": {},
   "source": [
    "Define the mean squared error loss function"
   ]
  },
  {
   "cell_type": "code",
   "execution_count": 64,
   "id": "1559f4d2",
   "metadata": {},
   "outputs": [],
   "source": [
    "def square_loss(targets,predictions):\n",
    "    per_sample_losses = tf.square(targets-predictions) \n",
    "    return tf.reduce_mean(per_sample_losses)"
   ]
  },
  {
   "cell_type": "markdown",
   "id": "d996efc3",
   "metadata": {},
   "source": [
    "Define the training step function"
   ]
  },
  {
   "cell_type": "code",
   "execution_count": 65,
   "id": "7dcaf9e4",
   "metadata": {},
   "outputs": [],
   "source": [
    "learning_rate = 0.1\n",
    "\n",
    "def training_step(inputs,targets):\n",
    "    with tf.GradientTape() as tape:\n",
    "        predictions = model(inputs)\n",
    "        loss = square_loss(predictions,targets)\n",
    "    grad_loss_wrt_W, grad_loss_wrt_b = tape.gradient(loss,[W,b])\n",
    "    W.assign_sub(grad_loss_wrt_W * learning_rate)\n",
    "    b.assign_sub(grad_loss_wrt_b* learning_rate)\n",
    "    return loss"
   ]
  },
  {
   "cell_type": "markdown",
   "id": "d1b7e74d",
   "metadata": {},
   "source": [
    "Run the training step 40 times using all the training data"
   ]
  },
  {
   "cell_type": "code",
   "execution_count": 66,
   "id": "0d9a8a6b",
   "metadata": {},
   "outputs": [
    {
     "name": "stdout",
     "output_type": "stream",
     "text": [
      "loss at step 0: 2.284064\n",
      "loss at step 1: 0.201077\n",
      "loss at step 2: 0.096511\n",
      "loss at step 3: 0.077084\n",
      "loss at step 4: 0.070712\n",
      "loss at step 5: 0.066586\n",
      "loss at step 6: 0.063063\n",
      "loss at step 7: 0.059874\n",
      "loss at step 8: 0.056961\n",
      "loss at step 9: 0.054294\n",
      "loss at step 10: 0.051851\n",
      "loss at step 11: 0.049615\n",
      "loss at step 12: 0.047567\n",
      "loss at step 13: 0.045692\n",
      "loss at step 14: 0.043975\n",
      "loss at step 15: 0.042402\n",
      "loss at step 16: 0.040962\n",
      "loss at step 17: 0.039644\n",
      "loss at step 18: 0.038436\n",
      "loss at step 19: 0.037330\n",
      "loss at step 20: 0.036318\n",
      "loss at step 21: 0.035391\n",
      "loss at step 22: 0.034542\n",
      "loss at step 23: 0.033764\n",
      "loss at step 24: 0.033053\n",
      "loss at step 25: 0.032401\n",
      "loss at step 26: 0.031804\n",
      "loss at step 27: 0.031257\n",
      "loss at step 28: 0.030757\n",
      "loss at step 29: 0.030298\n",
      "loss at step 30: 0.029878\n",
      "loss at step 31: 0.029494\n",
      "loss at step 32: 0.029142\n",
      "loss at step 33: 0.028820\n",
      "loss at step 34: 0.028525\n",
      "loss at step 35: 0.028255\n",
      "loss at step 36: 0.028007\n",
      "loss at step 37: 0.027780\n",
      "loss at step 38: 0.027573\n",
      "loss at step 39: 0.027383\n"
     ]
    }
   ],
   "source": [
    "for step in range(40):\n",
    "    loss = training_step(inputs,targets)\n",
    "    print(f\"loss at step {step}: {loss:4f}\")"
   ]
  },
  {
   "cell_type": "markdown",
   "id": "572f837f",
   "metadata": {},
   "source": [
    "Bonus: Plot the learned classifier and predcted classes"
   ]
  },
  {
   "cell_type": "code",
   "execution_count": 70,
   "id": "0b0288ff",
   "metadata": {},
   "outputs": [
    {
     "data": {
      "image/png": "[encoded data removed]",
      "text/plain": [
       "<Figure size 432x288 with 1 Axes>"
      ]
     },
     "metadata": {
      "needs_background": "light"
     },
     "output_type": "display_data"
    }
   ],
   "source": [
    "predictions = model(inputs)\n",
    "x = np.linspace(-1,4,100)\n",
    "y = - W [0]/ W [1]*x +(0.5- b )/ W [1]\n",
    "plt.plot(x,y,\"-r\")\n",
    "#Classify as negative if model returns value > 1\n",
    "plt.scatter(inputs[:,0],inputs[:,1],c=predictions[:,0]>0.5) \n",
    "plt.show()"
   ]
  },
  {
   "cell_type": "code",
   "execution_count": null,
   "id": "8893a6b8",
   "metadata": {},
   "outputs": [],
   "source": []
  },
  {
   "cell_type": "code",
   "execution_count": null,
   "id": "6d97176f",
   "metadata": {},
   "outputs": [],
   "source": []
  }
 ],
 "metadata": {
  "kernelspec": {
   "display_name": "Python 3 (ipykernel)",
   "language": "python",
   "name": "python3"
  },
  "language_info": {
   "codemirror_mode": {
    "name": "ipython",
    "version": 3
   },
   "file_extension": ".py",
   "mimetype": "text/x-python",
   "name": "python",
   "nbconvert_exporter": "python",
   "pygments_lexer": "ipython3",
   "version": "3.9.7"
  }
 },
 "nbformat": 4,
 "nbformat_minor": 5
}
