{
 "cells": [
  {
   "cell_type": "markdown",
   "id": "b406a12c",
   "metadata": {},
   "source": [
    "# HW 4-1"
   ]
  },
  {
   "cell_type": "markdown",
   "id": "87f6f416",
   "metadata": {},
   "source": [
    "## Classifying Movie reviews"
   ]
  },
  {
   "cell_type": "markdown",
   "id": "990767fa",
   "metadata": {},
   "source": [
    "**Import and prepare IMDB dataset**"
   ]
  },
  {
   "cell_type": "code",
   "execution_count": 1,
   "id": "c4a1c8d8",
   "metadata": {},
   "outputs": [],
   "source": [
    "import numpy as np\n",
    "import matplotlib.pyplot as plt \n",
    "from tensorflow import keras\n",
    "from tensorflow.keras import layers\n",
    "import matplotlib.pyplot as plt \n",
    "from tensorflow.keras.datasets import imdb\n",
    "\n",
    "(train_data,train_labels), (test_data,test_labels)= imdb.load_data(num_words=10000)\n",
    "\n",
    "# Convert imdb review data to vectorized sequence\n",
    "# each dimension corresponds to a word in the dictionary \n",
    "# the value is words frequencey\n",
    "def vectorize_sequences(sequences, dimension=10000):\n",
    "    results = np.zeros((len(sequences), dimension)) \n",
    "    for i, sequence in enumerate(sequences):\n",
    "        for j in sequence:\n",
    "            results[i, j] += 1.\n",
    "    return results\n",
    "\n",
    "\n",
    "x_train = vectorize_sequences(train_data)\n",
    "x_test = vectorize_sequences(test_data) \n",
    "y_train = np.asarray(train_labels).astype(\"float32\")\n",
    "y_test = np.asarray(test_labels).astype(\"float32\")"
   ]
  },
  {
   "cell_type": "markdown",
   "id": "bc739519",
   "metadata": {},
   "source": [
    "**Split training data into validation and training set**"
   ]
  },
  {
   "cell_type": "code",
   "execution_count": 2,
   "id": "4a95226a",
   "metadata": {},
   "outputs": [],
   "source": [
    "# Validation Set\n",
    "x_val = x_train[:10000]  \n",
    "y_val = y_train[:10000] \n",
    "\n",
    "# Training Set\n",
    "partial_x_train = x_train[10000:]\n",
    "partial_y_train = y_train[10000:]\n"
   ]
  },
  {
   "cell_type": "markdown",
   "id": "9ee825c0",
   "metadata": {},
   "source": [
    "Check that the models used so far are reasonable.\n",
    "\n",
    "While keeping other parameters the same as before:\n",
    "* Try using one or three intermediate layers instead of two. See how doing \n",
    "so affects validation and test accuracy\n",
    "* Try using layers with more units or fewer units: 8 units vs 32 units\n",
    "* Try using the `mse` loss function instead of `binary_crossentropy`"
   ]
  },
  {
   "cell_type": "markdown",
   "id": "552de63f",
   "metadata": {},
   "source": [
    "## Summary\n",
    "\n",
    "The data in the table below summarizes the training, validation, and testing accuracy at the optimal number of epochs for the 5 models. Below these tables the code can be found along with training/validation accuracy plots for each model.\n",
    "\n",
    " Model |number of layers |nodes per layer |loss function | optimal number of epochs | training accuracy | validation accuracy | testing accuracy \n",
    ":---:|:---:|:---:|:---:|:---:|:---:|:---:|:---:\n",
    "Model 1| 1 | 16 | binary cross entropy | 4 | 0.944| 0.891| 0.877\n",
    "Model 2| 3 | 16 | binary cross entropy | 4 | 0.964| 0.895| 0.883\n",
    "Model 3| 2 | 8 | binary cross entropy | 5 | 0.954| 0.892| 0.883\n",
    "Model 4| 2 | 32 | binary cross entropy | 4 | 0.951| 0.880| 0.875\n",
    "Model 5| 2 | 16 | mse| 6 | 0.973| 0.891| 0.880"
   ]
  },
  {
   "cell_type": "markdown",
   "id": "37c4875c",
   "metadata": {},
   "source": [
    "## Models"
   ]
  },
  {
   "cell_type": "markdown",
   "id": "ce383397",
   "metadata": {},
   "source": [
    "**Model 1**\n",
    "* 1 Hidden Layers\n",
    "* 16 nodes (relu activation)\n",
    "* binary cross entropy loss"
   ]
  },
  {
   "cell_type": "code",
   "execution_count": 11,
   "id": "6013215d",
   "metadata": {
    "scrolled": true
   },
   "outputs": [
    {
     "name": "stdout",
     "output_type": "stream",
     "text": [
      "Epoch 1/20\n",
      " 7/30 [======>.......................] - ETA: 0s - loss: 0.6535 - accuracy: 0.6272"
     ]
    },
    {
     "name": "stderr",
     "output_type": "stream",
     "text": [
      "2022-03-05 14:05:09.687160: I tensorflow/core/grappler/optimizers/custom_graph_optimizer_registry.cc:112] Plugin optimizer for device_type GPU is enabled.\n"
     ]
    },
    {
     "name": "stdout",
     "output_type": "stream",
     "text": [
      "30/30 [==============================] - 1s 33ms/step - loss: 0.5371 - accuracy: 0.7551 - val_loss: 0.4088 - val_accuracy: 0.8658\n",
      "Epoch 2/20\n",
      " 1/30 [>.............................] - ETA: 0s - loss: 0.3551 - accuracy: 0.9043"
     ]
    },
    {
     "name": "stderr",
     "output_type": "stream",
     "text": [
      "2022-03-05 14:05:10.640070: I tensorflow/core/grappler/optimizers/custom_graph_optimizer_registry.cc:112] Plugin optimizer for device_type GPU is enabled.\n"
     ]
    },
    {
     "name": "stdout",
     "output_type": "stream",
     "text": [
      "30/30 [==============================] - 0s 14ms/step - loss: 0.3461 - accuracy: 0.8885 - val_loss: 0.3420 - val_accuracy: 0.8767\n",
      "Epoch 3/20\n",
      "30/30 [==============================] - 0s 12ms/step - loss: 0.2767 - accuracy: 0.9094 - val_loss: 0.2999 - val_accuracy: 0.8920\n",
      "Epoch 4/20\n",
      "30/30 [==============================] - 0s 12ms/step - loss: 0.2279 - accuracy: 0.9272 - val_loss: 0.2839 - val_accuracy: 0.8959\n",
      "Epoch 5/20\n",
      "30/30 [==============================] - 0s 12ms/step - loss: 0.1938 - accuracy: 0.9400 - val_loss: 0.2775 - val_accuracy: 0.8955\n",
      "Epoch 6/20\n",
      "30/30 [==============================] - 0s 12ms/step - loss: 0.1704 - accuracy: 0.9476 - val_loss: 0.2769 - val_accuracy: 0.8959\n",
      "Epoch 7/20\n",
      "30/30 [==============================] - 0s 11ms/step - loss: 0.1512 - accuracy: 0.9545 - val_loss: 0.2786 - val_accuracy: 0.8950\n",
      "Epoch 8/20\n",
      "30/30 [==============================] - 0s 11ms/step - loss: 0.1317 - accuracy: 0.9634 - val_loss: 0.2949 - val_accuracy: 0.8902\n",
      "Epoch 9/20\n",
      "30/30 [==============================] - 0s 11ms/step - loss: 0.1214 - accuracy: 0.9650 - val_loss: 0.3349 - val_accuracy: 0.8770\n",
      "Epoch 10/20\n",
      "30/30 [==============================] - 0s 12ms/step - loss: 0.1080 - accuracy: 0.9697 - val_loss: 0.3000 - val_accuracy: 0.8902\n",
      "Epoch 11/20\n",
      "30/30 [==============================] - 0s 11ms/step - loss: 0.0989 - accuracy: 0.9714 - val_loss: 0.3051 - val_accuracy: 0.8888\n",
      "Epoch 12/20\n",
      "30/30 [==============================] - 0s 12ms/step - loss: 0.0875 - accuracy: 0.9768 - val_loss: 0.3252 - val_accuracy: 0.8835\n",
      "Epoch 13/20\n",
      "30/30 [==============================] - 0s 11ms/step - loss: 0.0810 - accuracy: 0.9785 - val_loss: 0.3262 - val_accuracy: 0.8860\n",
      "Epoch 14/20\n",
      "30/30 [==============================] - 0s 11ms/step - loss: 0.0717 - accuracy: 0.9821 - val_loss: 0.3831 - val_accuracy: 0.8718\n",
      "Epoch 15/20\n",
      "30/30 [==============================] - 0s 11ms/step - loss: 0.0659 - accuracy: 0.9844 - val_loss: 0.3478 - val_accuracy: 0.8840\n",
      "Epoch 16/20\n",
      "30/30 [==============================] - 0s 12ms/step - loss: 0.0575 - accuracy: 0.9879 - val_loss: 0.4119 - val_accuracy: 0.8701\n",
      "Epoch 17/20\n",
      "30/30 [==============================] - 0s 12ms/step - loss: 0.0519 - accuracy: 0.9896 - val_loss: 0.3815 - val_accuracy: 0.8788\n",
      "Epoch 18/20\n",
      "30/30 [==============================] - 0s 11ms/step - loss: 0.0482 - accuracy: 0.9897 - val_loss: 0.3928 - val_accuracy: 0.8777\n",
      "Epoch 19/20\n",
      "30/30 [==============================] - 0s 11ms/step - loss: 0.0436 - accuracy: 0.9923 - val_loss: 0.4202 - val_accuracy: 0.8767\n",
      "Epoch 20/20\n",
      "30/30 [==============================] - 0s 12ms/step - loss: 0.0394 - accuracy: 0.9928 - val_loss: 0.4308 - val_accuracy: 0.8764\n"
     ]
    }
   ],
   "source": [
    "# Build Model\n",
    "model = keras.Sequential([ layers.Dense(16, activation=\"relu\"),\n",
    "                          layers.Dense(1, activation=\"sigmoid\")\n",
    "                         ])\n",
    "\n",
    "#Compile Model\n",
    "model.compile(optimizer=\"rmsprop\", loss=\"binary_crossentropy\",metrics=[\"accuracy\"])\n",
    "\n",
    "history = model.fit(partial_x_train, partial_y_train,epochs=20, batch_size=512, validation_data=(x_val, y_val))\n"
   ]
  },
  {
   "cell_type": "code",
   "execution_count": 12,
   "id": "b03cc766",
   "metadata": {},
   "outputs": [
    {
     "data": {
      "image/png": "[encoded data removed]",
      "text/plain": [
       "<Figure size 432x288 with 1 Axes>"
      ]
     },
     "metadata": {
      "needs_background": "light"
     },
     "output_type": "display_data"
    }
   ],
   "source": [
    "history_dict = history.history\n",
    "acc = history_dict[\"accuracy\"] \n",
    "val_acc = history_dict[\"val_accuracy\"]\n",
    "\n",
    "plt.plot(range(20), acc, \"bo\", label=\"Training acc\") \n",
    "plt.plot(range(20), val_acc, \"b\", label=\"Validation acc\") \n",
    "plt.title(\"Training and validation accuracy\") \n",
    "plt.xlabel(\"Epochs\")\n",
    "plt.ylabel(\"Accuracy\")\n",
    "plt.legend()\n",
    "plt.show()"
   ]
  },
  {
   "cell_type": "markdown",
   "id": "75364612",
   "metadata": {},
   "source": [
    "Based on the plot above the optimal number of epochs appears to be **4**"
   ]
  },
  {
   "cell_type": "code",
   "execution_count": 24,
   "id": "2b334c7f",
   "metadata": {},
   "outputs": [
    {
     "name": "stdout",
     "output_type": "stream",
     "text": [
      "Epoch 1/4\n"
     ]
    },
    {
     "name": "stderr",
     "output_type": "stream",
     "text": [
      "2022-03-05 14:10:54.716272: I tensorflow/core/grappler/optimizers/custom_graph_optimizer_registry.cc:112] Plugin optimizer for device_type GPU is enabled.\n"
     ]
    },
    {
     "name": "stdout",
     "output_type": "stream",
     "text": [
      "30/30 [==============================] - 2s 54ms/step - loss: 0.5374 - accuracy: 0.7633 - val_loss: 0.4115 - val_accuracy: 0.8621\n"
     ]
    },
    {
     "name": "stderr",
     "output_type": "stream",
     "text": [
      "2022-03-05 14:10:56.350876: I tensorflow/core/grappler/optimizers/custom_graph_optimizer_registry.cc:112] Plugin optimizer for device_type GPU is enabled.\n"
     ]
    },
    {
     "name": "stdout",
     "output_type": "stream",
     "text": [
      "Epoch 2/4\n",
      "30/30 [==============================] - 0s 15ms/step - loss: 0.3490 - accuracy: 0.8899 - val_loss: 0.3309 - val_accuracy: 0.8876\n",
      "Epoch 3/4\n",
      "30/30 [==============================] - 0s 13ms/step - loss: 0.2760 - accuracy: 0.9121 - val_loss: 0.3623 - val_accuracy: 0.8611\n",
      "Epoch 4/4\n",
      "30/30 [==============================] - 0s 12ms/step - loss: 0.2276 - accuracy: 0.9290 - val_loss: 0.2946 - val_accuracy: 0.8914\n"
     ]
    }
   ],
   "source": [
    "num_epochs = 4\n",
    "# Build Model\n",
    "model = keras.Sequential([ layers.Dense(16, activation=\"relu\"),\n",
    "                          layers.Dense(1, activation=\"sigmoid\")\n",
    "                         ])\n",
    "\n",
    "#Compile Model\n",
    "model.compile(optimizer=\"rmsprop\", loss=\"binary_crossentropy\",metrics=[\"accuracy\"])\n",
    "\n",
    "history = model.fit(partial_x_train, partial_y_train,epochs=num_epochs, batch_size=512, validation_data=(x_val, y_val))"
   ]
  },
  {
   "cell_type": "code",
   "execution_count": 25,
   "id": "14efdce3",
   "metadata": {},
   "outputs": [
    {
     "name": "stdout",
     "output_type": "stream",
     "text": [
      "469/469 [==============================] - 2s 4ms/step - loss: 0.1965 - accuracy: 0.9438\n",
      "313/313 [==============================] - 1s 3ms/step - loss: 0.2946 - accuracy: 0.8914\n",
      "782/782 [==============================] - 3s 4ms/step - loss: 0.3224 - accuracy: 0.8769\n",
      " Training accuracy: 0.9438000321388245\n",
      " Validation accuracy: 0.8914000391960144\n",
      " Testing accuracy: 0.8768800497055054\n"
     ]
    }
   ],
   "source": [
    "results_train = model.evaluate(partial_x_train, partial_y_train) \n",
    "results_val = model.evaluate(x_val, y_val) \n",
    "results_test = model.evaluate(x_test, y_test) \n",
    "print(f\" Training accuracy: {results_train[1]}\")\n",
    "print(f\" Validation accuracy: {results_val[1]}\")\n",
    "print(f\" Testing accuracy: {results_test[1]}\")"
   ]
  },
  {
   "cell_type": "markdown",
   "id": "2adddffc",
   "metadata": {},
   "source": [
    "**Model 2**\n",
    "* 3 Hidden Layers\n",
    "* 16 nodes (relu activation)\n",
    "* binary cross entropy loss"
   ]
  },
  {
   "cell_type": "code",
   "execution_count": 26,
   "id": "778af392",
   "metadata": {},
   "outputs": [
    {
     "name": "stdout",
     "output_type": "stream",
     "text": [
      "Epoch 1/20\n"
     ]
    },
    {
     "name": "stderr",
     "output_type": "stream",
     "text": [
      "2022-03-05 14:11:21.781015: I tensorflow/core/grappler/optimizers/custom_graph_optimizer_registry.cc:112] Plugin optimizer for device_type GPU is enabled.\n"
     ]
    },
    {
     "name": "stdout",
     "output_type": "stream",
     "text": [
      "30/30 [==============================] - 1s 37ms/step - loss: 0.5515 - accuracy: 0.7487 - val_loss: 0.4528 - val_accuracy: 0.8187\n"
     ]
    },
    {
     "name": "stderr",
     "output_type": "stream",
     "text": [
      "2022-03-05 14:11:22.907631: I tensorflow/core/grappler/optimizers/custom_graph_optimizer_registry.cc:112] Plugin optimizer for device_type GPU is enabled.\n"
     ]
    },
    {
     "name": "stdout",
     "output_type": "stream",
     "text": [
      "Epoch 2/20\n",
      "30/30 [==============================] - 0s 15ms/step - loss: 0.3408 - accuracy: 0.8850 - val_loss: 0.3472 - val_accuracy: 0.8684\n",
      "Epoch 3/20\n",
      "30/30 [==============================] - 0s 13ms/step - loss: 0.2534 - accuracy: 0.9132 - val_loss: 0.3186 - val_accuracy: 0.8782\n",
      "Epoch 4/20\n",
      "30/30 [==============================] - 0s 14ms/step - loss: 0.2039 - accuracy: 0.9309 - val_loss: 0.2858 - val_accuracy: 0.8958\n",
      "Epoch 5/20\n",
      "30/30 [==============================] - 0s 14ms/step - loss: 0.1584 - accuracy: 0.9497 - val_loss: 0.4436 - val_accuracy: 0.8467\n",
      "Epoch 6/20\n",
      "30/30 [==============================] - 0s 14ms/step - loss: 0.1446 - accuracy: 0.9517 - val_loss: 0.3360 - val_accuracy: 0.8836\n",
      "Epoch 7/20\n",
      "30/30 [==============================] - 0s 13ms/step - loss: 0.1246 - accuracy: 0.9592 - val_loss: 0.3300 - val_accuracy: 0.8863\n",
      "Epoch 8/20\n",
      "30/30 [==============================] - 0s 13ms/step - loss: 0.0954 - accuracy: 0.9716 - val_loss: 0.3430 - val_accuracy: 0.8858\n",
      "Epoch 9/20\n",
      "30/30 [==============================] - 0s 13ms/step - loss: 0.0816 - accuracy: 0.9766 - val_loss: 0.3932 - val_accuracy: 0.8765\n",
      "Epoch 10/20\n",
      "30/30 [==============================] - 0s 13ms/step - loss: 0.0708 - accuracy: 0.9781 - val_loss: 0.4073 - val_accuracy: 0.8822\n",
      "Epoch 11/20\n",
      "30/30 [==============================] - 0s 15ms/step - loss: 0.0664 - accuracy: 0.9826 - val_loss: 0.4156 - val_accuracy: 0.8785\n",
      "Epoch 12/20\n",
      "30/30 [==============================] - 0s 14ms/step - loss: 0.0618 - accuracy: 0.9846 - val_loss: 0.4308 - val_accuracy: 0.8778\n",
      "Epoch 13/20\n",
      "30/30 [==============================] - 0s 14ms/step - loss: 0.0269 - accuracy: 0.9956 - val_loss: 1.0255 - val_accuracy: 0.7889\n",
      "Epoch 14/20\n",
      "30/30 [==============================] - 0s 13ms/step - loss: 0.0300 - accuracy: 0.9935 - val_loss: 0.4965 - val_accuracy: 0.8764\n",
      "Epoch 15/20\n",
      "30/30 [==============================] - 0s 13ms/step - loss: 0.0554 - accuracy: 0.9874 - val_loss: 0.5144 - val_accuracy: 0.8764\n",
      "Epoch 16/20\n",
      "30/30 [==============================] - 0s 13ms/step - loss: 0.0103 - accuracy: 0.9987 - val_loss: 0.5504 - val_accuracy: 0.8754\n",
      "Epoch 17/20\n",
      "30/30 [==============================] - 0s 13ms/step - loss: 0.0386 - accuracy: 0.9911 - val_loss: 0.5833 - val_accuracy: 0.8744\n",
      "Epoch 18/20\n",
      "30/30 [==============================] - 0s 13ms/step - loss: 0.0062 - accuracy: 0.9993 - val_loss: 0.6197 - val_accuracy: 0.8708\n",
      "Epoch 19/20\n",
      "30/30 [==============================] - 0s 15ms/step - loss: 0.0352 - accuracy: 0.9921 - val_loss: 0.6295 - val_accuracy: 0.8737\n",
      "Epoch 20/20\n",
      "30/30 [==============================] - 0s 15ms/step - loss: 0.0033 - accuracy: 0.9997 - val_loss: 0.6654 - val_accuracy: 0.8731\n"
     ]
    }
   ],
   "source": [
    "# Build Model\n",
    "model = keras.Sequential([ layers.Dense(16, activation=\"relu\"),\n",
    "                          layers.Dense(16, activation=\"relu\"),\n",
    "                          layers.Dense(16, activation=\"relu\"),\n",
    "                          layers.Dense(1, activation=\"sigmoid\")\n",
    "                         ])\n",
    "\n",
    "#Compile Model\n",
    "model.compile(optimizer=\"rmsprop\", loss=\"binary_crossentropy\",metrics=[\"accuracy\"])\n",
    "\n",
    "history = model.fit(partial_x_train, partial_y_train,epochs=20, batch_size=512, validation_data=(x_val, y_val))"
   ]
  },
  {
   "cell_type": "code",
   "execution_count": 27,
   "id": "2aa5a2a2",
   "metadata": {},
   "outputs": [
    {
     "data": {
      "image/png": "[encoded data removed]",
      "text/plain": [
       "<Figure size 432x288 with 1 Axes>"
      ]
     },
     "metadata": {
      "needs_background": "light"
     },
     "output_type": "display_data"
    }
   ],
   "source": [
    "history_dict = history.history\n",
    "acc = history_dict[\"accuracy\"] \n",
    "val_acc = history_dict[\"val_accuracy\"]\n",
    "\n",
    "plt.plot(range(20), acc, \"bo\", label=\"Training acc\") \n",
    "plt.plot(range(20), val_acc, \"b\", label=\"Validation acc\") \n",
    "plt.title(\"Training and validation accuracy\") \n",
    "plt.xlabel(\"Epochs\")\n",
    "plt.ylabel(\"Accuracy\")\n",
    "plt.legend()\n",
    "plt.show()"
   ]
  },
  {
   "cell_type": "markdown",
   "id": "002e499a",
   "metadata": {},
   "source": [
    "Based on the plot above the optimal number of epochs appears to be **4**"
   ]
  },
  {
   "cell_type": "code",
   "execution_count": 28,
   "id": "c8f6037d",
   "metadata": {},
   "outputs": [
    {
     "name": "stdout",
     "output_type": "stream",
     "text": [
      "Epoch 1/4\n"
     ]
    },
    {
     "name": "stderr",
     "output_type": "stream",
     "text": [
      "2022-03-05 14:11:46.483611: I tensorflow/core/grappler/optimizers/custom_graph_optimizer_registry.cc:112] Plugin optimizer for device_type GPU is enabled.\n"
     ]
    },
    {
     "name": "stdout",
     "output_type": "stream",
     "text": [
      "30/30 [==============================] - 1s 36ms/step - loss: 0.5591 - accuracy: 0.7402 - val_loss: 0.4088 - val_accuracy: 0.8613\n"
     ]
    },
    {
     "name": "stderr",
     "output_type": "stream",
     "text": [
      "2022-03-05 14:11:47.621649: I tensorflow/core/grappler/optimizers/custom_graph_optimizer_registry.cc:112] Plugin optimizer for device_type GPU is enabled.\n"
     ]
    },
    {
     "name": "stdout",
     "output_type": "stream",
     "text": [
      "Epoch 2/4\n",
      "30/30 [==============================] - 0s 14ms/step - loss: 0.3417 - accuracy: 0.8842 - val_loss: 0.3718 - val_accuracy: 0.8573\n",
      "Epoch 3/4\n",
      "30/30 [==============================] - 0s 16ms/step - loss: 0.2428 - accuracy: 0.9197 - val_loss: 0.4142 - val_accuracy: 0.8405\n",
      "Epoch 4/4\n",
      "30/30 [==============================] - 0s 14ms/step - loss: 0.2054 - accuracy: 0.9313 - val_loss: 0.2842 - val_accuracy: 0.8952\n"
     ]
    }
   ],
   "source": [
    "num_epochs = 4\n",
    "# Build Model\n",
    "model = keras.Sequential([ layers.Dense(16, activation=\"relu\"),\n",
    "                          layers.Dense(16, activation=\"relu\"),\n",
    "                          layers.Dense(16, activation=\"relu\"),\n",
    "                          layers.Dense(1, activation=\"sigmoid\")\n",
    "                         ])\n",
    "\n",
    "#Compile Model\n",
    "model.compile(optimizer=\"rmsprop\", loss=\"binary_crossentropy\",metrics=[\"accuracy\"])\n",
    "\n",
    "history = model.fit(partial_x_train, partial_y_train,epochs=num_epochs, batch_size=512, validation_data=(x_val, y_val))"
   ]
  },
  {
   "cell_type": "code",
   "execution_count": 29,
   "id": "1c7c5897",
   "metadata": {},
   "outputs": [
    {
     "name": "stdout",
     "output_type": "stream",
     "text": [
      "469/469 [==============================] - 2s 4ms/step - loss: 0.1348 - accuracy: 0.9635\n",
      "313/313 [==============================] - 1s 4ms/step - loss: 0.2842 - accuracy: 0.8952\n",
      "782/782 [==============================] - 3s 4ms/step - loss: 0.3102 - accuracy: 0.8823\n",
      " Training accuracy: 0.963533341884613\n",
      " Validation accuracy: 0.8952000141143799\n",
      " Testing accuracy: 0.8822800517082214\n"
     ]
    }
   ],
   "source": [
    "results_train = model.evaluate(partial_x_train, partial_y_train) \n",
    "results_val = model.evaluate(x_val, y_val) \n",
    "results_test = model.evaluate(x_test, y_test) \n",
    "print(f\" Training accuracy: {results_train[1]}\")\n",
    "print(f\" Validation accuracy: {results_val[1]}\")\n",
    "print(f\" Testing accuracy: {results_test[1]}\")"
   ]
  },
  {
   "cell_type": "markdown",
   "id": "b06fc351",
   "metadata": {},
   "source": [
    "**Model 3**\n",
    "* 2 Hidden Layers\n",
    "* 8 nodes (relu activation)\n",
    "* binary cross entropy loss"
   ]
  },
  {
   "cell_type": "code",
   "execution_count": 30,
   "id": "e5d8b3d0",
   "metadata": {},
   "outputs": [
    {
     "name": "stdout",
     "output_type": "stream",
     "text": [
      "Epoch 1/20\n"
     ]
    },
    {
     "name": "stderr",
     "output_type": "stream",
     "text": [
      "2022-03-05 14:12:12.251632: I tensorflow/core/grappler/optimizers/custom_graph_optimizer_registry.cc:112] Plugin optimizer for device_type GPU is enabled.\n"
     ]
    },
    {
     "name": "stdout",
     "output_type": "stream",
     "text": [
      "30/30 [==============================] - ETA: 0s - loss: 0.5758 - accuracy: 0.7441"
     ]
    },
    {
     "name": "stderr",
     "output_type": "stream",
     "text": [
      "2022-03-05 14:12:13.457321: I tensorflow/core/grappler/optimizers/custom_graph_optimizer_registry.cc:112] Plugin optimizer for device_type GPU is enabled.\n"
     ]
    },
    {
     "name": "stdout",
     "output_type": "stream",
     "text": [
      "30/30 [==============================] - 2s 41ms/step - loss: 0.5758 - accuracy: 0.7441 - val_loss: 0.4737 - val_accuracy: 0.8373\n",
      "Epoch 2/20\n",
      "30/30 [==============================] - 1s 19ms/step - loss: 0.4116 - accuracy: 0.8779 - val_loss: 0.4114 - val_accuracy: 0.8423\n",
      "Epoch 3/20\n",
      "30/30 [==============================] - 1s 17ms/step - loss: 0.3243 - accuracy: 0.9043 - val_loss: 0.3349 - val_accuracy: 0.8838\n",
      "Epoch 4/20\n",
      "30/30 [==============================] - 0s 16ms/step - loss: 0.2636 - accuracy: 0.9222 - val_loss: 0.3064 - val_accuracy: 0.8909\n",
      "Epoch 5/20\n",
      "30/30 [==============================] - 0s 17ms/step - loss: 0.2233 - accuracy: 0.9364 - val_loss: 0.2927 - val_accuracy: 0.8923\n",
      "Epoch 6/20\n",
      "30/30 [==============================] - 1s 17ms/step - loss: 0.1909 - accuracy: 0.9461 - val_loss: 0.3027 - val_accuracy: 0.8825\n",
      "Epoch 7/20\n",
      "30/30 [==============================] - 0s 17ms/step - loss: 0.1670 - accuracy: 0.9511 - val_loss: 0.2843 - val_accuracy: 0.8931\n",
      "Epoch 8/20\n",
      "30/30 [==============================] - 0s 17ms/step - loss: 0.1496 - accuracy: 0.9561 - val_loss: 0.2858 - val_accuracy: 0.8924\n",
      "Epoch 9/20\n",
      "30/30 [==============================] - 1s 17ms/step - loss: 0.1279 - accuracy: 0.9653 - val_loss: 0.3024 - val_accuracy: 0.8888\n",
      "Epoch 10/20\n",
      "30/30 [==============================] - 0s 17ms/step - loss: 0.1142 - accuracy: 0.9693 - val_loss: 0.3005 - val_accuracy: 0.8899\n",
      "Epoch 11/20\n",
      "30/30 [==============================] - 0s 17ms/step - loss: 0.1055 - accuracy: 0.9701 - val_loss: 0.3512 - val_accuracy: 0.8750\n",
      "Epoch 12/20\n",
      "30/30 [==============================] - 0s 16ms/step - loss: 0.0909 - accuracy: 0.9768 - val_loss: 0.3230 - val_accuracy: 0.8863\n",
      "Epoch 13/20\n",
      "30/30 [==============================] - 1s 17ms/step - loss: 0.0832 - accuracy: 0.9789 - val_loss: 0.3301 - val_accuracy: 0.8846\n",
      "Epoch 14/20\n",
      "30/30 [==============================] - 1s 18ms/step - loss: 0.0745 - accuracy: 0.9821 - val_loss: 0.3397 - val_accuracy: 0.8847\n",
      "Epoch 15/20\n",
      "30/30 [==============================] - 0s 17ms/step - loss: 0.0675 - accuracy: 0.9845 - val_loss: 0.3574 - val_accuracy: 0.8813\n",
      "Epoch 16/20\n",
      "30/30 [==============================] - 1s 17ms/step - loss: 0.0610 - accuracy: 0.9867 - val_loss: 0.3693 - val_accuracy: 0.8826\n",
      "Epoch 17/20\n",
      "30/30 [==============================] - 1s 17ms/step - loss: 0.0509 - accuracy: 0.9905 - val_loss: 0.3852 - val_accuracy: 0.8811\n",
      "Epoch 18/20\n",
      "30/30 [==============================] - 1s 17ms/step - loss: 0.0481 - accuracy: 0.9909 - val_loss: 0.4105 - val_accuracy: 0.8757\n",
      "Epoch 19/20\n",
      "30/30 [==============================] - 1s 18ms/step - loss: 0.0425 - accuracy: 0.9916 - val_loss: 0.4159 - val_accuracy: 0.8767\n",
      "Epoch 20/20\n",
      "30/30 [==============================] - 1s 17ms/step - loss: 0.0376 - accuracy: 0.9939 - val_loss: 0.4992 - val_accuracy: 0.8712\n"
     ]
    }
   ],
   "source": [
    "# Build Model\n",
    "model = keras.Sequential([ layers.Dense(8, activation=\"relu\"),\n",
    "                          layers.Dense(8, activation=\"relu\"),\n",
    "                          layers.Dense(1, activation=\"sigmoid\")\n",
    "                         ])\n",
    "\n",
    "#Compile Model\n",
    "model.compile(optimizer=\"rmsprop\", loss=\"binary_crossentropy\",metrics=[\"accuracy\"])\n",
    "\n",
    "history = model.fit(partial_x_train, partial_y_train,epochs=20, batch_size=512, validation_data=(x_val, y_val))"
   ]
  },
  {
   "cell_type": "code",
   "execution_count": 31,
   "id": "794d3822",
   "metadata": {},
   "outputs": [
    {
     "data": {
      "image/png": "[encoded data removed]",
      "text/plain": [
       "<Figure size 432x288 with 1 Axes>"
      ]
     },
     "metadata": {
      "needs_background": "light"
     },
     "output_type": "display_data"
    }
   ],
   "source": [
    "history_dict = history.history\n",
    "acc = history_dict[\"accuracy\"] \n",
    "val_acc = history_dict[\"val_accuracy\"]\n",
    "\n",
    "plt.plot(range(20), acc, \"bo\", label=\"Training acc\") \n",
    "plt.plot(range(20), val_acc, \"b\", label=\"Validation acc\") \n",
    "plt.title(\"Training and validation accuracy\") \n",
    "plt.xlabel(\"Epochs\")\n",
    "plt.ylabel(\"Accuracy\")\n",
    "plt.legend()\n",
    "plt.show()"
   ]
  },
  {
   "cell_type": "markdown",
   "id": "0a242a27",
   "metadata": {},
   "source": [
    "Based on the plot above the optimal number of epochs appears to be **5**"
   ]
  },
  {
   "cell_type": "code",
   "execution_count": 34,
   "id": "23f120cb",
   "metadata": {},
   "outputs": [
    {
     "name": "stdout",
     "output_type": "stream",
     "text": [
      "Epoch 1/5\n"
     ]
    },
    {
     "name": "stderr",
     "output_type": "stream",
     "text": [
      "2022-03-05 14:13:02.297163: I tensorflow/core/grappler/optimizers/custom_graph_optimizer_registry.cc:112] Plugin optimizer for device_type GPU is enabled.\n"
     ]
    },
    {
     "name": "stdout",
     "output_type": "stream",
     "text": [
      "30/30 [==============================] - ETA: 0s - loss: 0.5785 - accuracy: 0.7521"
     ]
    },
    {
     "name": "stderr",
     "output_type": "stream",
     "text": [
      "2022-03-05 14:13:03.594073: I tensorflow/core/grappler/optimizers/custom_graph_optimizer_registry.cc:112] Plugin optimizer for device_type GPU is enabled.\n"
     ]
    },
    {
     "name": "stdout",
     "output_type": "stream",
     "text": [
      "30/30 [==============================] - 2s 41ms/step - loss: 0.5785 - accuracy: 0.7521 - val_loss: 0.4781 - val_accuracy: 0.8457\n",
      "Epoch 2/5\n",
      "30/30 [==============================] - 1s 19ms/step - loss: 0.4097 - accuracy: 0.8810 - val_loss: 0.3819 - val_accuracy: 0.8760\n",
      "Epoch 3/5\n",
      "30/30 [==============================] - 1s 18ms/step - loss: 0.3161 - accuracy: 0.9081 - val_loss: 0.3302 - val_accuracy: 0.8874\n",
      "Epoch 4/5\n",
      "30/30 [==============================] - 1s 17ms/step - loss: 0.2533 - accuracy: 0.9275 - val_loss: 0.3437 - val_accuracy: 0.8653\n",
      "Epoch 5/5\n",
      "30/30 [==============================] - 1s 17ms/step - loss: 0.2138 - accuracy: 0.9363 - val_loss: 0.2912 - val_accuracy: 0.8919\n"
     ]
    }
   ],
   "source": [
    "num_epochs = 5\n",
    "# Build Model\n",
    "model = keras.Sequential([ layers.Dense(8, activation=\"relu\"),\n",
    "                          layers.Dense(8, activation=\"relu\"),\n",
    "                          layers.Dense(1, activation=\"sigmoid\")\n",
    "                         ])\n",
    "\n",
    "#Compile Model\n",
    "model.compile(optimizer=\"rmsprop\", loss=\"binary_crossentropy\",metrics=[\"accuracy\"])\n",
    "\n",
    "history = model.fit(partial_x_train, partial_y_train,epochs=num_epochs, batch_size=512, validation_data=(x_val, y_val))"
   ]
  },
  {
   "cell_type": "code",
   "execution_count": 35,
   "id": "4003f3a0",
   "metadata": {},
   "outputs": [
    {
     "name": "stdout",
     "output_type": "stream",
     "text": [
      "469/469 [==============================] - 2s 3ms/step - loss: 0.1782 - accuracy: 0.9539\n",
      "313/313 [==============================] - 1s 4ms/step - loss: 0.2912 - accuracy: 0.8919\n",
      "782/782 [==============================] - 3s 3ms/step - loss: 0.3111 - accuracy: 0.8832\n",
      " Training accuracy: 0.9539333581924438\n",
      " Validation accuracy: 0.8919000625610352\n",
      " Testing accuracy: 0.8831600546836853\n"
     ]
    }
   ],
   "source": [
    "results_train = model.evaluate(partial_x_train, partial_y_train) \n",
    "results_val = model.evaluate(x_val, y_val) \n",
    "results_test = model.evaluate(x_test, y_test) \n",
    "print(f\" Training accuracy: {results_train[1]}\")\n",
    "print(f\" Validation accuracy: {results_val[1]}\")\n",
    "print(f\" Testing accuracy: {results_test[1]}\")"
   ]
  },
  {
   "cell_type": "markdown",
   "id": "fe6d0e04",
   "metadata": {},
   "source": [
    "**Model 4**\n",
    "* 2 Hidden Layers\n",
    "* 32 nodes (relu activation)\n",
    "* binary cross entropy loss"
   ]
  },
  {
   "cell_type": "code",
   "execution_count": 36,
   "id": "9844ab92",
   "metadata": {},
   "outputs": [
    {
     "name": "stdout",
     "output_type": "stream",
     "text": [
      "Epoch 1/20\n"
     ]
    },
    {
     "name": "stderr",
     "output_type": "stream",
     "text": [
      "2022-03-05 14:13:26.070954: I tensorflow/core/grappler/optimizers/custom_graph_optimizer_registry.cc:112] Plugin optimizer for device_type GPU is enabled.\n"
     ]
    },
    {
     "name": "stdout",
     "output_type": "stream",
     "text": [
      "29/30 [============================>.] - ETA: 0s - loss: 0.5537 - accuracy: 0.7326"
     ]
    },
    {
     "name": "stderr",
     "output_type": "stream",
     "text": [
      "2022-03-05 14:13:27.325467: I tensorflow/core/grappler/optimizers/custom_graph_optimizer_registry.cc:112] Plugin optimizer for device_type GPU is enabled.\n"
     ]
    },
    {
     "name": "stdout",
     "output_type": "stream",
     "text": [
      "30/30 [==============================] - 2s 40ms/step - loss: 0.5515 - accuracy: 0.7343 - val_loss: 0.3769 - val_accuracy: 0.8701\n",
      "Epoch 2/20\n",
      "30/30 [==============================] - 0s 17ms/step - loss: 0.3325 - accuracy: 0.8821 - val_loss: 0.3258 - val_accuracy: 0.8739\n",
      "Epoch 3/20\n",
      "30/30 [==============================] - 1s 17ms/step - loss: 0.2420 - accuracy: 0.9157 - val_loss: 0.3024 - val_accuracy: 0.8871\n",
      "Epoch 4/20\n",
      "30/30 [==============================] - 0s 16ms/step - loss: 0.1927 - accuracy: 0.9331 - val_loss: 0.2860 - val_accuracy: 0.8939\n",
      "Epoch 5/20\n",
      "30/30 [==============================] - 0s 15ms/step - loss: 0.1619 - accuracy: 0.9443 - val_loss: 0.3858 - val_accuracy: 0.8630\n",
      "Epoch 6/20\n",
      "30/30 [==============================] - 0s 15ms/step - loss: 0.1293 - accuracy: 0.9567 - val_loss: 0.2945 - val_accuracy: 0.8915\n",
      "Epoch 7/20\n",
      "30/30 [==============================] - 0s 15ms/step - loss: 0.1139 - accuracy: 0.9634 - val_loss: 0.3176 - val_accuracy: 0.8849\n",
      "Epoch 8/20\n",
      "30/30 [==============================] - 0s 16ms/step - loss: 0.0911 - accuracy: 0.9734 - val_loss: 0.3315 - val_accuracy: 0.8865\n",
      "Epoch 9/20\n",
      "30/30 [==============================] - 0s 15ms/step - loss: 0.0747 - accuracy: 0.9772 - val_loss: 0.3791 - val_accuracy: 0.8760\n",
      "Epoch 10/20\n",
      "30/30 [==============================] - 0s 15ms/step - loss: 0.0667 - accuracy: 0.9825 - val_loss: 0.3685 - val_accuracy: 0.8829\n",
      "Epoch 11/20\n",
      "30/30 [==============================] - 0s 15ms/step - loss: 0.0280 - accuracy: 0.9949 - val_loss: 0.4134 - val_accuracy: 0.8802\n",
      "Epoch 12/20\n",
      "30/30 [==============================] - 0s 15ms/step - loss: 0.0571 - accuracy: 0.9863 - val_loss: 0.4275 - val_accuracy: 0.8801\n",
      "Epoch 13/20\n",
      "30/30 [==============================] - 0s 15ms/step - loss: 0.0468 - accuracy: 0.9871 - val_loss: 0.4422 - val_accuracy: 0.8794\n",
      "Epoch 14/20\n",
      "30/30 [==============================] - 0s 15ms/step - loss: 0.0122 - accuracy: 0.9986 - val_loss: 0.4865 - val_accuracy: 0.8764\n",
      "Epoch 15/20\n",
      "30/30 [==============================] - 0s 16ms/step - loss: 0.0458 - accuracy: 0.9895 - val_loss: 0.4940 - val_accuracy: 0.8777\n",
      "Epoch 16/20\n",
      "30/30 [==============================] - 0s 15ms/step - loss: 0.0073 - accuracy: 0.9995 - val_loss: 0.6044 - val_accuracy: 0.8663\n",
      "Epoch 17/20\n",
      "30/30 [==============================] - 0s 15ms/step - loss: 0.0301 - accuracy: 0.9923 - val_loss: 0.5445 - val_accuracy: 0.8772\n",
      "Epoch 18/20\n",
      "30/30 [==============================] - 0s 15ms/step - loss: 0.0362 - accuracy: 0.9917 - val_loss: 0.5594 - val_accuracy: 0.8755\n",
      "Epoch 19/20\n",
      "30/30 [==============================] - 0s 15ms/step - loss: 0.0038 - accuracy: 0.9999 - val_loss: 0.5906 - val_accuracy: 0.8781\n",
      "Epoch 20/20\n",
      "30/30 [==============================] - 0s 15ms/step - loss: 0.0028 - accuracy: 0.9999 - val_loss: 0.6299 - val_accuracy: 0.8761\n"
     ]
    }
   ],
   "source": [
    "# Build Model\n",
    "model = keras.Sequential([ layers.Dense(32, activation=\"relu\"),\n",
    "                          layers.Dense(32, activation=\"relu\"),\n",
    "                          layers.Dense(1, activation=\"sigmoid\")\n",
    "                         ])\n",
    "\n",
    "#Compile Model\n",
    "model.compile(optimizer=\"rmsprop\", loss=\"binary_crossentropy\",metrics=[\"accuracy\"])\n",
    "\n",
    "history = model.fit(partial_x_train, partial_y_train,epochs=20, batch_size=512, validation_data=(x_val, y_val))"
   ]
  },
  {
   "cell_type": "code",
   "execution_count": 37,
   "id": "1c10f63a",
   "metadata": {},
   "outputs": [
    {
     "data": {
      "image/png": "[encoded data removed]",
      "text/plain": [
       "<Figure size 432x288 with 1 Axes>"
      ]
     },
     "metadata": {
      "needs_background": "light"
     },
     "output_type": "display_data"
    }
   ],
   "source": [
    "history_dict = history.history\n",
    "acc = history_dict[\"accuracy\"] \n",
    "val_acc = history_dict[\"val_accuracy\"]\n",
    "\n",
    "plt.plot(range(20), acc, \"bo\", label=\"Training acc\") \n",
    "plt.plot(range(20), val_acc, \"b\", label=\"Validation acc\") \n",
    "plt.title(\"Training and validation accuracy\") \n",
    "plt.xlabel(\"Epochs\")\n",
    "plt.ylabel(\"Accuracy\")\n",
    "plt.legend()\n",
    "plt.show()"
   ]
  },
  {
   "cell_type": "markdown",
   "id": "fde26a87",
   "metadata": {},
   "source": [
    "Based on the plot above the optimal number of epochs appears to be **4**"
   ]
  },
  {
   "cell_type": "code",
   "execution_count": 40,
   "id": "b23e1bf9",
   "metadata": {},
   "outputs": [
    {
     "name": "stdout",
     "output_type": "stream",
     "text": [
      "Epoch 1/4\n"
     ]
    },
    {
     "name": "stderr",
     "output_type": "stream",
     "text": [
      "2022-03-05 14:14:12.047626: I tensorflow/core/grappler/optimizers/custom_graph_optimizer_registry.cc:112] Plugin optimizer for device_type GPU is enabled.\n"
     ]
    },
    {
     "name": "stdout",
     "output_type": "stream",
     "text": [
      "30/30 [==============================] - ETA: 0s - loss: 0.5451 - accuracy: 0.7453"
     ]
    },
    {
     "name": "stderr",
     "output_type": "stream",
     "text": [
      "2022-03-05 14:14:13.187607: I tensorflow/core/grappler/optimizers/custom_graph_optimizer_registry.cc:112] Plugin optimizer for device_type GPU is enabled.\n"
     ]
    },
    {
     "name": "stdout",
     "output_type": "stream",
     "text": [
      "30/30 [==============================] - 1s 37ms/step - loss: 0.5451 - accuracy: 0.7453 - val_loss: 0.3845 - val_accuracy: 0.8597\n",
      "Epoch 2/4\n",
      "30/30 [==============================] - 0s 14ms/step - loss: 0.3334 - accuracy: 0.8808 - val_loss: 0.2974 - val_accuracy: 0.8896\n",
      "Epoch 3/4\n",
      "30/30 [==============================] - 0s 15ms/step - loss: 0.2449 - accuracy: 0.9109 - val_loss: 0.2816 - val_accuracy: 0.8909\n",
      "Epoch 4/4\n",
      "30/30 [==============================] - 0s 13ms/step - loss: 0.1935 - accuracy: 0.9322 - val_loss: 0.3034 - val_accuracy: 0.8806\n"
     ]
    }
   ],
   "source": [
    "num_epochs = 4\n",
    "# Build Model\n",
    "model = keras.Sequential([ layers.Dense(32, activation=\"relu\"),\n",
    "                          layers.Dense(32, activation=\"relu\"),\n",
    "                          layers.Dense(1, activation=\"sigmoid\")\n",
    "                         ])\n",
    "\n",
    "#Compile Model\n",
    "model.compile(optimizer=\"rmsprop\", loss=\"binary_crossentropy\",metrics=[\"accuracy\"])\n",
    "\n",
    "history = model.fit(partial_x_train, partial_y_train,epochs=num_epochs, batch_size=512, validation_data=(x_val, y_val))"
   ]
  },
  {
   "cell_type": "code",
   "execution_count": 41,
   "id": "c2e40be7",
   "metadata": {},
   "outputs": [
    {
     "name": "stdout",
     "output_type": "stream",
     "text": [
      "469/469 [==============================] - 2s 4ms/step - loss: 0.1504 - accuracy: 0.9512\n",
      "313/313 [==============================] - 1s 4ms/step - loss: 0.3034 - accuracy: 0.8806\n",
      "782/782 [==============================] - 3s 4ms/step - loss: 0.3240 - accuracy: 0.8747\n",
      " Training accuracy: 0.951200008392334\n",
      " Validation accuracy: 0.8806000351905823\n",
      " Testing accuracy: 0.8746800422668457\n"
     ]
    }
   ],
   "source": [
    "results_train = model.evaluate(partial_x_train, partial_y_train) \n",
    "results_val = model.evaluate(x_val, y_val) \n",
    "results_test = model.evaluate(x_test, y_test) \n",
    "print(f\" Training accuracy: {results_train[1]}\")\n",
    "print(f\" Validation accuracy: {results_val[1]}\")\n",
    "print(f\" Testing accuracy: {results_test[1]}\")"
   ]
  },
  {
   "cell_type": "markdown",
   "id": "941ff3a8",
   "metadata": {},
   "source": [
    "**Model 5**\n",
    "* 2 Hidden Layers\n",
    "* 16 nodes (relu activation)\n",
    "* mean square error (mse) loss"
   ]
  },
  {
   "cell_type": "code",
   "execution_count": 42,
   "id": "063688af",
   "metadata": {},
   "outputs": [
    {
     "name": "stdout",
     "output_type": "stream",
     "text": [
      "Epoch 1/20\n"
     ]
    },
    {
     "name": "stderr",
     "output_type": "stream",
     "text": [
      "2022-03-05 14:14:40.226123: I tensorflow/core/grappler/optimizers/custom_graph_optimizer_registry.cc:112] Plugin optimizer for device_type GPU is enabled.\n"
     ]
    },
    {
     "name": "stdout",
     "output_type": "stream",
     "text": [
      "30/30 [==============================] - 1s 36ms/step - loss: 0.1846 - accuracy: 0.7449 - val_loss: 0.1431 - val_accuracy: 0.8228\n"
     ]
    },
    {
     "name": "stderr",
     "output_type": "stream",
     "text": [
      "2022-03-05 14:14:41.308360: I tensorflow/core/grappler/optimizers/custom_graph_optimizer_registry.cc:112] Plugin optimizer for device_type GPU is enabled.\n"
     ]
    },
    {
     "name": "stdout",
     "output_type": "stream",
     "text": [
      "Epoch 2/20\n",
      "30/30 [==============================] - 0s 16ms/step - loss: 0.1011 - accuracy: 0.8896 - val_loss: 0.1025 - val_accuracy: 0.8719\n",
      "Epoch 3/20\n",
      "30/30 [==============================] - 0s 17ms/step - loss: 0.0752 - accuracy: 0.9153 - val_loss: 0.1115 - val_accuracy: 0.8480\n",
      "Epoch 4/20\n",
      "30/30 [==============================] - 0s 15ms/step - loss: 0.0618 - accuracy: 0.9302 - val_loss: 0.0906 - val_accuracy: 0.8837\n",
      "Epoch 5/20\n",
      "30/30 [==============================] - 0s 15ms/step - loss: 0.0489 - accuracy: 0.9475 - val_loss: 0.0872 - val_accuracy: 0.8825\n",
      "Epoch 6/20\n",
      "30/30 [==============================] - 0s 15ms/step - loss: 0.0415 - accuracy: 0.9553 - val_loss: 0.0814 - val_accuracy: 0.8933\n",
      "Epoch 7/20\n",
      "30/30 [==============================] - 0s 16ms/step - loss: 0.0353 - accuracy: 0.9625 - val_loss: 0.0829 - val_accuracy: 0.8879\n",
      "Epoch 8/20\n",
      "30/30 [==============================] - 0s 15ms/step - loss: 0.0281 - accuracy: 0.9722 - val_loss: 0.0848 - val_accuracy: 0.8879\n",
      "Epoch 9/20\n",
      "30/30 [==============================] - 0s 15ms/step - loss: 0.0265 - accuracy: 0.9733 - val_loss: 0.0879 - val_accuracy: 0.8824\n",
      "Epoch 10/20\n",
      "30/30 [==============================] - 0s 15ms/step - loss: 0.0195 - accuracy: 0.9827 - val_loss: 0.0876 - val_accuracy: 0.8830\n",
      "Epoch 11/20\n",
      "30/30 [==============================] - 0s 14ms/step - loss: 0.0197 - accuracy: 0.9797 - val_loss: 0.0876 - val_accuracy: 0.8823\n",
      "Epoch 12/20\n",
      "30/30 [==============================] - 0s 14ms/step - loss: 0.0154 - accuracy: 0.9871 - val_loss: 0.0891 - val_accuracy: 0.8810\n",
      "Epoch 13/20\n",
      "30/30 [==============================] - 0s 14ms/step - loss: 0.0132 - accuracy: 0.9883 - val_loss: 0.0908 - val_accuracy: 0.8813\n",
      "Epoch 14/20\n",
      "30/30 [==============================] - 0s 14ms/step - loss: 0.0123 - accuracy: 0.9881 - val_loss: 0.0921 - val_accuracy: 0.8799\n",
      "Epoch 15/20\n",
      "30/30 [==============================] - 0s 16ms/step - loss: 0.0115 - accuracy: 0.9885 - val_loss: 0.0939 - val_accuracy: 0.8784\n",
      "Epoch 16/20\n",
      "30/30 [==============================] - 0s 14ms/step - loss: 0.0055 - accuracy: 0.9957 - val_loss: 0.0950 - val_accuracy: 0.8776\n",
      "Epoch 17/20\n",
      "30/30 [==============================] - 0s 14ms/step - loss: 0.0086 - accuracy: 0.9914 - val_loss: 0.0972 - val_accuracy: 0.8755\n",
      "Epoch 18/20\n",
      "30/30 [==============================] - 0s 15ms/step - loss: 0.0081 - accuracy: 0.9911 - val_loss: 0.0972 - val_accuracy: 0.8772\n",
      "Epoch 19/20\n",
      "30/30 [==============================] - 0s 15ms/step - loss: 0.0036 - accuracy: 0.9971 - val_loss: 0.0998 - val_accuracy: 0.8743\n",
      "Epoch 20/20\n",
      "30/30 [==============================] - 0s 14ms/step - loss: 0.0073 - accuracy: 0.9921 - val_loss: 0.0994 - val_accuracy: 0.8770\n"
     ]
    }
   ],
   "source": [
    "# Build Model\n",
    "model = keras.Sequential([ layers.Dense(16, activation=\"relu\"),\n",
    "                          layers.Dense(16, activation=\"relu\"),\n",
    "                          layers.Dense(1, activation=\"sigmoid\")\n",
    "                         ])\n",
    "\n",
    "#Compile Model\n",
    "model.compile(optimizer=\"rmsprop\", loss=\"mse\",metrics=[\"accuracy\"])\n",
    "\n",
    "history = model.fit(partial_x_train, partial_y_train,epochs=20, batch_size=512, validation_data=(x_val, y_val))"
   ]
  },
  {
   "cell_type": "code",
   "execution_count": 43,
   "id": "627757da",
   "metadata": {},
   "outputs": [
    {
     "data": {
      "image/png": "[encoded data removed]",
      "text/plain": [
       "<Figure size 432x288 with 1 Axes>"
      ]
     },
     "metadata": {
      "needs_background": "light"
     },
     "output_type": "display_data"
    }
   ],
   "source": [
    "history_dict = history.history\n",
    "acc = history_dict[\"accuracy\"] \n",
    "val_acc = history_dict[\"val_accuracy\"]\n",
    "\n",
    "plt.plot(range(20), acc, \"bo\", label=\"Training acc\") \n",
    "plt.plot(range(20), val_acc, \"b\", label=\"Validation acc\") \n",
    "plt.title(\"Training and validation accuracy\") \n",
    "plt.xlabel(\"Epochs\")\n",
    "plt.ylabel(\"Accuracy\")\n",
    "plt.legend()\n",
    "plt.show()"
   ]
  },
  {
   "cell_type": "markdown",
   "id": "1378b134",
   "metadata": {},
   "source": [
    "Based on the plot above the optimal number of epochs appears to be **6**"
   ]
  },
  {
   "cell_type": "code",
   "execution_count": 44,
   "id": "ac661b38",
   "metadata": {},
   "outputs": [
    {
     "name": "stdout",
     "output_type": "stream",
     "text": [
      "Epoch 1/6\n"
     ]
    },
    {
     "name": "stderr",
     "output_type": "stream",
     "text": [
      "2022-03-05 14:15:17.495434: I tensorflow/core/grappler/optimizers/custom_graph_optimizer_registry.cc:112] Plugin optimizer for device_type GPU is enabled.\n"
     ]
    },
    {
     "name": "stdout",
     "output_type": "stream",
     "text": [
      "30/30 [==============================] - 1s 35ms/step - loss: 0.1812 - accuracy: 0.7472 - val_loss: 0.1188 - val_accuracy: 0.8618\n"
     ]
    },
    {
     "name": "stderr",
     "output_type": "stream",
     "text": [
      "2022-03-05 14:15:18.563885: I tensorflow/core/grappler/optimizers/custom_graph_optimizer_registry.cc:112] Plugin optimizer for device_type GPU is enabled.\n"
     ]
    },
    {
     "name": "stdout",
     "output_type": "stream",
     "text": [
      "Epoch 2/6\n",
      "30/30 [==============================] - 0s 15ms/step - loss: 0.0994 - accuracy: 0.8850 - val_loss: 0.1084 - val_accuracy: 0.8604\n",
      "Epoch 3/6\n",
      "30/30 [==============================] - 0s 14ms/step - loss: 0.0732 - accuracy: 0.9163 - val_loss: 0.0889 - val_accuracy: 0.8909\n",
      "Epoch 4/6\n",
      "30/30 [==============================] - 0s 14ms/step - loss: 0.0609 - accuracy: 0.9312 - val_loss: 0.0828 - val_accuracy: 0.8954\n",
      "Epoch 5/6\n",
      "30/30 [==============================] - 0s 15ms/step - loss: 0.0507 - accuracy: 0.9421 - val_loss: 0.0850 - val_accuracy: 0.8888\n",
      "Epoch 6/6\n",
      "30/30 [==============================] - 0s 14ms/step - loss: 0.0433 - accuracy: 0.9516 - val_loss: 0.0826 - val_accuracy: 0.8913\n"
     ]
    }
   ],
   "source": [
    "num_epochs = 6\n",
    "# Build Model\n",
    "model = keras.Sequential([ layers.Dense(16, activation=\"relu\"),\n",
    "                          layers.Dense(16, activation=\"relu\"),\n",
    "                          layers.Dense(1, activation=\"sigmoid\")\n",
    "                         ])\n",
    "\n",
    "#Compile Model\n",
    "model.compile(optimizer=\"rmsprop\", loss=\"mse\",metrics=[\"accuracy\"])\n",
    "\n",
    "history = model.fit(partial_x_train, partial_y_train,epochs=num_epochs, batch_size=512, validation_data=(x_val, y_val))"
   ]
  },
  {
   "cell_type": "code",
   "execution_count": 45,
   "id": "d67f98b5",
   "metadata": {},
   "outputs": [
    {
     "name": "stdout",
     "output_type": "stream",
     "text": [
      "469/469 [==============================] - 2s 3ms/step - loss: 0.0293 - accuracy: 0.9731\n",
      "313/313 [==============================] - 1s 4ms/step - loss: 0.0826 - accuracy: 0.8913\n",
      "782/782 [==============================] - 3s 3ms/step - loss: 0.0904 - accuracy: 0.8800\n",
      " Training accuracy: 0.9731333255767822\n",
      " Validation accuracy: 0.8913000226020813\n",
      " Testing accuracy: 0.8799600601196289\n"
     ]
    }
   ],
   "source": [
    "results_train = model.evaluate(partial_x_train, partial_y_train) \n",
    "results_val = model.evaluate(x_val, y_val) \n",
    "results_test = model.evaluate(x_test, y_test) \n",
    "print(f\" Training accuracy: {results_train[1]}\")\n",
    "print(f\" Validation accuracy: {results_val[1]}\")\n",
    "print(f\" Testing accuracy: {results_test[1]}\")"
   ]
  }
 ],
 "metadata": {
  "kernelspec": {
   "display_name": "Python 3 (ipykernel)",
   "language": "python",
   "name": "python3"
  },
  "language_info": {
   "codemirror_mode": {
    "name": "ipython",
    "version": 3
   },
   "file_extension": ".py",
   "mimetype": "text/x-python",
   "name": "python",
   "nbconvert_exporter": "python",
   "pygments_lexer": "ipython3",
   "version": "3.9.7"
  }
 },
 "nbformat": 4,
 "nbformat_minor": 5
}
