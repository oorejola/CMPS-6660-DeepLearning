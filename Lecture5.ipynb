{
 "cells": [
  {
   "cell_type": "markdown",
   "id": "830f6785",
   "metadata": {},
   "source": [
    "# Lecture 5\n",
    "# Machine Learning Basics\n",
    "\n"
   ]
  },
  {
   "cell_type": "markdown",
   "id": "ddcb97dc",
   "metadata": {},
   "source": [
    "Too many training epochs can cause overfitting\n",
    "\n",
    "Noisy data can also cause overfitting\n",
    "\n",
    "Ambiguous features can cause overfitting\n",
    "  * “Noise” may be due to inherent ambiguity rather than by mistake (e.g., prediction of raining using atmospheric features)"
   ]
  },
  {
   "cell_type": "code",
   "execution_count": 8,
   "id": "f90bffda",
   "metadata": {},
   "outputs": [],
   "source": [
    "from tensorflow.keras.datasets import mnist \n",
    "import numpy as np\n",
    "(train_images, train_labels), _ = mnist.load_data() \n",
    "train_images = train_images.reshape((60000, 28 * 28)) \n",
    "train_images = train_images.astype(\"float32\") / 255\n",
    "\n",
    "#Bogus information\n",
    "train_images_with_noise_channels = np.concatenate(\n",
    "[train_images, np.random.random((len(train_images), 784))], axis=1)\n",
    "\n",
    "train_images_with_zeros_channels = np.concatenate( [train_images, np.zeros((len(train_images), 784))], axis=1)\n",
    "from tensorflow import keras\n",
    "from tensorflow.keras import layers"
   ]
  },
  {
   "cell_type": "code",
   "execution_count": 9,
   "id": "f176f8ba",
   "metadata": {},
   "outputs": [
    {
     "name": "stderr",
     "output_type": "stream",
     "text": [
      "2022-03-10 11:21:11.343438: W tensorflow/core/platform/profile_utils/cpu_utils.cc:128] Failed to get CPU frequency: 0 Hz\n",
      "2022-03-10 11:21:11.520197: I tensorflow/core/grappler/optimizers/custom_graph_optimizer_registry.cc:112] Plugin optimizer for device_type GPU is enabled.\n"
     ]
    },
    {
     "name": "stdout",
     "output_type": "stream",
     "text": [
      "Epoch 1/10\n",
      "375/375 [==============================] - ETA: 0s - loss: 0.6137 - accuracy: 0.8150"
     ]
    },
    {
     "name": "stderr",
     "output_type": "stream",
     "text": [
      "2022-03-10 11:21:14.208272: I tensorflow/core/grappler/optimizers/custom_graph_optimizer_registry.cc:112] Plugin optimizer for device_type GPU is enabled.\n"
     ]
    },
    {
     "name": "stdout",
     "output_type": "stream",
     "text": [
      "375/375 [==============================] - 3s 8ms/step - loss: 0.6137 - accuracy: 0.8150 - val_loss: 0.2847 - val_accuracy: 0.9081\n",
      "Epoch 2/10\n",
      "375/375 [==============================] - 2s 6ms/step - loss: 0.2476 - accuracy: 0.9234 - val_loss: 0.2205 - val_accuracy: 0.9286\n",
      "Epoch 3/10\n",
      "375/375 [==============================] - 2s 6ms/step - loss: 0.1583 - accuracy: 0.9506 - val_loss: 0.1488 - val_accuracy: 0.9550\n",
      "Epoch 4/10\n",
      "375/375 [==============================] - 2s 6ms/step - loss: 0.1113 - accuracy: 0.9656 - val_loss: 0.1290 - val_accuracy: 0.9606\n",
      "Epoch 5/10\n",
      "375/375 [==============================] - 2s 6ms/step - loss: 0.0820 - accuracy: 0.9727 - val_loss: 0.1390 - val_accuracy: 0.9613\n",
      "Epoch 6/10\n",
      "375/375 [==============================] - 2s 6ms/step - loss: 0.0606 - accuracy: 0.9808 - val_loss: 0.1326 - val_accuracy: 0.9625\n",
      "Epoch 7/10\n",
      "375/375 [==============================] - 2s 6ms/step - loss: 0.0449 - accuracy: 0.9853 - val_loss: 0.1370 - val_accuracy: 0.9629\n",
      "Epoch 8/10\n",
      "375/375 [==============================] - 2s 6ms/step - loss: 0.0336 - accuracy: 0.9884 - val_loss: 0.1509 - val_accuracy: 0.9618\n",
      "Epoch 9/10\n",
      "375/375 [==============================] - 2s 6ms/step - loss: 0.0258 - accuracy: 0.9917 - val_loss: 0.1613 - val_accuracy: 0.9647\n",
      "Epoch 10/10\n",
      "375/375 [==============================] - 2s 6ms/step - loss: 0.0210 - accuracy: 0.9929 - val_loss: 0.1270 - val_accuracy: 0.9708\n",
      "Epoch 1/10\n",
      " 20/375 [>.............................] - ETA: 1s - loss: 0.9392 - accuracy: 0.7121"
     ]
    },
    {
     "name": "stderr",
     "output_type": "stream",
     "text": [
      "2022-03-10 11:21:36.076939: I tensorflow/core/grappler/optimizers/custom_graph_optimizer_registry.cc:112] Plugin optimizer for device_type GPU is enabled.\n"
     ]
    },
    {
     "name": "stdout",
     "output_type": "stream",
     "text": [
      "371/375 [============================>.] - ETA: 0s - loss: 0.2886 - accuracy: 0.9154"
     ]
    },
    {
     "name": "stderr",
     "output_type": "stream",
     "text": [
      "2022-03-10 11:21:38.393027: I tensorflow/core/grappler/optimizers/custom_graph_optimizer_registry.cc:112] Plugin optimizer for device_type GPU is enabled.\n"
     ]
    },
    {
     "name": "stdout",
     "output_type": "stream",
     "text": [
      "375/375 [==============================] - 3s 7ms/step - loss: 0.2873 - accuracy: 0.9156 - val_loss: 0.1410 - val_accuracy: 0.9604\n",
      "Epoch 2/10\n",
      "375/375 [==============================] - 2s 6ms/step - loss: 0.1181 - accuracy: 0.9656 - val_loss: 0.1024 - val_accuracy: 0.9692\n",
      "Epoch 3/10\n",
      "375/375 [==============================] - 2s 6ms/step - loss: 0.0782 - accuracy: 0.9762 - val_loss: 0.1091 - val_accuracy: 0.9682\n",
      "Epoch 4/10\n",
      "375/375 [==============================] - 2s 6ms/step - loss: 0.0565 - accuracy: 0.9834 - val_loss: 0.0849 - val_accuracy: 0.9755\n",
      "Epoch 5/10\n",
      "375/375 [==============================] - 2s 6ms/step - loss: 0.0426 - accuracy: 0.9873 - val_loss: 0.0824 - val_accuracy: 0.9770\n",
      "Epoch 6/10\n",
      "375/375 [==============================] - 2s 6ms/step - loss: 0.0318 - accuracy: 0.9909 - val_loss: 0.0773 - val_accuracy: 0.9775\n",
      "Epoch 7/10\n",
      "375/375 [==============================] - 2s 6ms/step - loss: 0.0243 - accuracy: 0.9933 - val_loss: 0.0804 - val_accuracy: 0.9792\n",
      "Epoch 8/10\n",
      "375/375 [==============================] - 2s 6ms/step - loss: 0.0190 - accuracy: 0.9947 - val_loss: 0.0832 - val_accuracy: 0.9793\n",
      "Epoch 9/10\n",
      "375/375 [==============================] - 2s 6ms/step - loss: 0.0144 - accuracy: 0.9956 - val_loss: 0.0863 - val_accuracy: 0.9782\n",
      "Epoch 10/10\n",
      "375/375 [==============================] - 2s 6ms/step - loss: 0.0108 - accuracy: 0.9970 - val_loss: 0.0832 - val_accuracy: 0.9785\n"
     ]
    }
   ],
   "source": [
    "def get_model():\n",
    "    model = keras.Sequential([layers.Dense(512, activation=\"relu\"),layers.Dense(10, activation=\"softmax\")]) \n",
    "    model.compile(optimizer=\"rmsprop\",loss=\"sparse_categorical_crossentropy\",metrics=[\"accuracy\"])\n",
    "    return model\n",
    "\n",
    "model = get_model()\n",
    "history_noise = model.fit(\n",
    "train_images_with_noise_channels, train_labels, epochs=10,\n",
    "batch_size=128,\n",
    "validation_split=0.2)\n",
    "              \n",
    "model = get_model()\n",
    "history_zeros = model.fit(\n",
    "train_images_with_zeros_channels, train_labels, epochs=10,\n",
    "batch_size=128,\n",
    "validation_split=0.2)"
   ]
  },
  {
   "cell_type": "code",
   "execution_count": 10,
   "id": "3e3ff5f6",
   "metadata": {},
   "outputs": [
    {
     "data": {
      "text/plain": [
       "<matplotlib.legend.Legend at 0x2b6e45910>"
      ]
     },
     "execution_count": 10,
     "metadata": {},
     "output_type": "execute_result"
    },
    {
     "data": {
      "image/png": "[encoded data removed]",
      "text/plain": [
       "<Figure size 432x288 with 1 Axes>"
      ]
     },
     "metadata": {
      "needs_background": "light"
     },
     "output_type": "display_data"
    }
   ],
   "source": [
    "import matplotlib.pyplot as plt\n",
    "val_acc_noise = history_noise.history[\"val_accuracy\"]\n",
    "val_acc_zeros = history_zeros.history[\"val_accuracy\"] \n",
    "epochs = range(1, 11)\n",
    "\n",
    "plt.plot(epochs, val_acc_noise, \"b-\",label=\"Validation accuracy with noise channels\")\n",
    "plt.plot(epochs, val_acc_zeros, \"b--\",label=\"Validation accuracy with zeros channels\") \n",
    "plt.title(\"Effect of noise channels on validation accuracy\") \n",
    "plt.xlabel(\"Epochs\")\n",
    "plt.ylabel(\"Accuracy\")\n",
    "plt.legend()"
   ]
  },
  {
   "cell_type": "markdown",
   "id": "133212a6",
   "metadata": {},
   "source": [
    "“Feature selection” required to discard noisy features before training"
   ]
  },
  {
   "cell_type": "markdown",
   "id": "fec3cf20",
   "metadata": {},
   "source": [
    "## The nature of generalization in deep learning\n",
    "* How well can a deep learning model fit noisy data?\n",
    "* Try fitting a MNIST model with randomly shuffled labels"
   ]
  },
  {
   "cell_type": "code",
   "execution_count": 5,
   "id": "1851bbd5",
   "metadata": {},
   "outputs": [
    {
     "ename": "NameError",
     "evalue": "name 'mnist' is not defined",
     "output_type": "error",
     "traceback": [
      "\u001b[0;31m---------------------------------------------------------------------------\u001b[0m",
      "\u001b[0;31mNameError\u001b[0m                                 Traceback (most recent call last)",
      "Input \u001b[0;32mIn [5]\u001b[0m, in \u001b[0;36m<module>\u001b[0;34m\u001b[0m\n\u001b[0;32m----> 1\u001b[0m (train_images, train_labels), _ \u001b[38;5;241m=\u001b[39m \u001b[43mmnist\u001b[49m\u001b[38;5;241m.\u001b[39mload_data() \n\u001b[1;32m      2\u001b[0m train_images \u001b[38;5;241m=\u001b[39m train_images\u001b[38;5;241m.\u001b[39mreshape((\u001b[38;5;241m60000\u001b[39m, \u001b[38;5;241m28\u001b[39m \u001b[38;5;241m*\u001b[39m \u001b[38;5;241m28\u001b[39m))\n\u001b[1;32m      3\u001b[0m train_images \u001b[38;5;241m=\u001b[39m train_images\u001b[38;5;241m.\u001b[39mastype(\u001b[38;5;124m\"\u001b[39m\u001b[38;5;124mfloat32\u001b[39m\u001b[38;5;124m\"\u001b[39m) \u001b[38;5;241m/\u001b[39m \u001b[38;5;241m255\u001b[39m\n",
      "\u001b[0;31mNameError\u001b[0m: name 'mnist' is not defined"
     ]
    }
   ],
   "source": [
    "(train_images, train_labels), _ = mnist.load_data() \n",
    "train_images = train_images.reshape((60000, 28 * 28))\n",
    "train_images = train_images.astype(\"float32\") / 255\n",
    "random_train_labels = train_labels[:] \n",
    "np.random.shuffle(random_train_labels)\n",
    "\n",
    "model = keras.Sequential([ layers.Dense(512, activation=\"relu\"),\n",
    "                          layers.Dense(10, activation=\"softmax\") ]) \n",
    "\n",
    "model.compile(optimizer=\"rmsprop\", \n",
    "              loss=\"sparse_categorical_crossentropy\", \n",
    "              metrics=[\"accuracy\"])"
   ]
  },
  {
   "cell_type": "code",
   "execution_count": 12,
   "id": "46b826f7",
   "metadata": {},
   "outputs": [
    {
     "name": "stdout",
     "output_type": "stream",
     "text": [
      "Epoch 1/100\n",
      " 11/375 [..............................] - ETA: 1s - loss: 2.3920 - accuracy: 0.1236  "
     ]
    },
    {
     "name": "stderr",
     "output_type": "stream",
     "text": [
      "2022-03-08 11:20:31.908468: I tensorflow/core/grappler/optimizers/custom_graph_optimizer_registry.cc:112] Plugin optimizer for device_type GPU is enabled.\n"
     ]
    },
    {
     "name": "stdout",
     "output_type": "stream",
     "text": [
      "375/375 [==============================] - ETA: 0s - loss: 2.3163 - accuracy: 0.1063"
     ]
    },
    {
     "name": "stderr",
     "output_type": "stream",
     "text": [
      "2022-03-08 11:20:33.806218: I tensorflow/core/grappler/optimizers/custom_graph_optimizer_registry.cc:112] Plugin optimizer for device_type GPU is enabled.\n"
     ]
    },
    {
     "name": "stdout",
     "output_type": "stream",
     "text": [
      "375/375 [==============================] - 2s 6ms/step - loss: 2.3163 - accuracy: 0.1063 - val_loss: 2.3065 - val_accuracy: 0.1027\n",
      "Epoch 2/100\n",
      "375/375 [==============================] - 2s 5ms/step - loss: 2.3011 - accuracy: 0.1162 - val_loss: 2.3126 - val_accuracy: 0.1001\n",
      "Epoch 3/100\n",
      "375/375 [==============================] - 2s 5ms/step - loss: 2.2921 - accuracy: 0.1251 - val_loss: 2.3217 - val_accuracy: 0.1022\n",
      "Epoch 4/100\n",
      "375/375 [==============================] - 2s 5ms/step - loss: 2.2795 - accuracy: 0.1378 - val_loss: 2.3220 - val_accuracy: 0.1018\n",
      "Epoch 5/100\n",
      "375/375 [==============================] - 2s 5ms/step - loss: 2.2613 - accuracy: 0.1519 - val_loss: 2.3367 - val_accuracy: 0.1000\n",
      "Epoch 6/100\n",
      "375/375 [==============================] - 2s 6ms/step - loss: 2.2401 - accuracy: 0.1679 - val_loss: 2.3562 - val_accuracy: 0.0975\n",
      "Epoch 7/100\n",
      "375/375 [==============================] - 2s 5ms/step - loss: 2.2146 - accuracy: 0.1827 - val_loss: 2.3731 - val_accuracy: 0.0987\n",
      "Epoch 8/100\n",
      "375/375 [==============================] - 2s 5ms/step - loss: 2.1880 - accuracy: 0.2011 - val_loss: 2.3862 - val_accuracy: 0.0975\n",
      "Epoch 9/100\n",
      "375/375 [==============================] - 2s 5ms/step - loss: 2.1553 - accuracy: 0.2151 - val_loss: 2.4202 - val_accuracy: 0.1007\n",
      "Epoch 10/100\n",
      "375/375 [==============================] - 2s 5ms/step - loss: 2.1228 - accuracy: 0.2335 - val_loss: 2.4396 - val_accuracy: 0.1027\n",
      "Epoch 11/100\n",
      "375/375 [==============================] - 2s 5ms/step - loss: 2.0881 - accuracy: 0.2505 - val_loss: 2.4652 - val_accuracy: 0.0955\n",
      "Epoch 12/100\n",
      "375/375 [==============================] - 2s 5ms/step - loss: 2.0547 - accuracy: 0.2678 - val_loss: 2.4837 - val_accuracy: 0.0956\n",
      "Epoch 13/100\n",
      "375/375 [==============================] - 2s 5ms/step - loss: 2.0176 - accuracy: 0.2828 - val_loss: 2.5215 - val_accuracy: 0.0978\n",
      "Epoch 14/100\n",
      "375/375 [==============================] - 2s 5ms/step - loss: 1.9820 - accuracy: 0.2958 - val_loss: 2.5482 - val_accuracy: 0.0976\n",
      "Epoch 15/100\n",
      "375/375 [==============================] - 2s 6ms/step - loss: 1.9466 - accuracy: 0.3131 - val_loss: 2.5802 - val_accuracy: 0.0979\n",
      "Epoch 16/100\n",
      "375/375 [==============================] - 2s 5ms/step - loss: 1.9112 - accuracy: 0.3278 - val_loss: 2.6167 - val_accuracy: 0.1001\n",
      "Epoch 17/100\n",
      "375/375 [==============================] - 2s 5ms/step - loss: 1.8760 - accuracy: 0.3420 - val_loss: 2.6602 - val_accuracy: 0.0923\n",
      "Epoch 18/100\n",
      "375/375 [==============================] - 2s 5ms/step - loss: 1.8399 - accuracy: 0.3545 - val_loss: 2.6893 - val_accuracy: 0.0965\n",
      "Epoch 19/100\n",
      "375/375 [==============================] - 2s 6ms/step - loss: 1.8067 - accuracy: 0.3683 - val_loss: 2.7172 - val_accuracy: 0.0962\n",
      "Epoch 20/100\n",
      "375/375 [==============================] - 2s 6ms/step - loss: 1.7709 - accuracy: 0.3860 - val_loss: 2.7591 - val_accuracy: 0.0952\n",
      "Epoch 21/100\n",
      "375/375 [==============================] - 2s 5ms/step - loss: 1.7382 - accuracy: 0.3959 - val_loss: 2.7930 - val_accuracy: 0.0976\n",
      "Epoch 22/100\n",
      "375/375 [==============================] - 2s 5ms/step - loss: 1.7070 - accuracy: 0.4082 - val_loss: 2.8261 - val_accuracy: 0.0992\n",
      "Epoch 23/100\n",
      "375/375 [==============================] - 2s 5ms/step - loss: 1.6743 - accuracy: 0.4211 - val_loss: 2.8848 - val_accuracy: 0.0991\n",
      "Epoch 24/100\n",
      "375/375 [==============================] - 2s 5ms/step - loss: 1.6460 - accuracy: 0.4311 - val_loss: 2.9249 - val_accuracy: 0.0943\n",
      "Epoch 25/100\n",
      "375/375 [==============================] - 2s 6ms/step - loss: 1.6136 - accuracy: 0.4447 - val_loss: 2.9705 - val_accuracy: 0.0960\n",
      "Epoch 26/100\n",
      "375/375 [==============================] - 2s 5ms/step - loss: 1.5865 - accuracy: 0.4537 - val_loss: 3.0021 - val_accuracy: 0.0975\n",
      "Epoch 27/100\n",
      "375/375 [==============================] - 2s 5ms/step - loss: 1.5566 - accuracy: 0.4639 - val_loss: 3.0532 - val_accuracy: 0.0975\n",
      "Epoch 28/100\n",
      "375/375 [==============================] - 2s 5ms/step - loss: 1.5259 - accuracy: 0.4749 - val_loss: 3.0886 - val_accuracy: 0.0978\n",
      "Epoch 29/100\n",
      "375/375 [==============================] - 2s 5ms/step - loss: 1.4997 - accuracy: 0.4852 - val_loss: 3.1437 - val_accuracy: 0.0992\n",
      "Epoch 30/100\n",
      "375/375 [==============================] - 2s 5ms/step - loss: 1.4723 - accuracy: 0.4938 - val_loss: 3.1878 - val_accuracy: 0.0958\n",
      "Epoch 31/100\n",
      "375/375 [==============================] - 2s 5ms/step - loss: 1.4483 - accuracy: 0.5020 - val_loss: 3.2140 - val_accuracy: 0.0970\n",
      "Epoch 32/100\n",
      "375/375 [==============================] - 2s 5ms/step - loss: 1.4216 - accuracy: 0.5158 - val_loss: 3.2724 - val_accuracy: 0.0973\n",
      "Epoch 33/100\n",
      "375/375 [==============================] - 2s 5ms/step - loss: 1.3945 - accuracy: 0.5254 - val_loss: 3.3068 - val_accuracy: 0.0974\n",
      "Epoch 34/100\n",
      "375/375 [==============================] - 2s 5ms/step - loss: 1.3709 - accuracy: 0.5353 - val_loss: 3.3882 - val_accuracy: 0.0976\n",
      "Epoch 35/100\n",
      "375/375 [==============================] - 2s 6ms/step - loss: 1.3473 - accuracy: 0.5424 - val_loss: 3.4321 - val_accuracy: 0.0946\n",
      "Epoch 36/100\n",
      "375/375 [==============================] - 2s 5ms/step - loss: 1.3232 - accuracy: 0.5503 - val_loss: 3.4827 - val_accuracy: 0.0974\n",
      "Epoch 37/100\n",
      "375/375 [==============================] - 2s 5ms/step - loss: 1.3001 - accuracy: 0.5579 - val_loss: 3.5114 - val_accuracy: 0.0994\n",
      "Epoch 38/100\n",
      "375/375 [==============================] - 2s 5ms/step - loss: 1.2784 - accuracy: 0.5671 - val_loss: 3.5640 - val_accuracy: 0.0972\n",
      "Epoch 39/100\n",
      "375/375 [==============================] - 2s 5ms/step - loss: 1.2560 - accuracy: 0.5744 - val_loss: 3.6441 - val_accuracy: 0.0952\n",
      "Epoch 40/100\n",
      "375/375 [==============================] - 2s 5ms/step - loss: 1.2339 - accuracy: 0.5841 - val_loss: 3.6666 - val_accuracy: 0.0978\n",
      "Epoch 41/100\n",
      "375/375 [==============================] - 2s 5ms/step - loss: 1.2129 - accuracy: 0.5892 - val_loss: 3.7247 - val_accuracy: 0.0971\n",
      "Epoch 42/100\n",
      "375/375 [==============================] - 2s 5ms/step - loss: 1.1925 - accuracy: 0.5989 - val_loss: 3.7713 - val_accuracy: 0.0952\n",
      "Epoch 43/100\n",
      "375/375 [==============================] - 2s 5ms/step - loss: 1.1709 - accuracy: 0.6062 - val_loss: 3.8361 - val_accuracy: 0.0980\n",
      "Epoch 44/100\n",
      "375/375 [==============================] - 2s 5ms/step - loss: 1.1505 - accuracy: 0.6136 - val_loss: 3.9298 - val_accuracy: 0.0962\n",
      "Epoch 45/100\n",
      "375/375 [==============================] - 2s 5ms/step - loss: 1.1314 - accuracy: 0.6211 - val_loss: 3.9288 - val_accuracy: 0.0964\n",
      "Epoch 46/100\n",
      "375/375 [==============================] - 2s 6ms/step - loss: 1.1134 - accuracy: 0.6272 - val_loss: 3.9926 - val_accuracy: 0.0957\n",
      "Epoch 47/100\n",
      "375/375 [==============================] - 2s 5ms/step - loss: 1.0941 - accuracy: 0.6328 - val_loss: 4.0551 - val_accuracy: 0.0936\n",
      "Epoch 48/100\n",
      "375/375 [==============================] - 2s 5ms/step - loss: 1.0753 - accuracy: 0.6401 - val_loss: 4.1164 - val_accuracy: 0.0938\n",
      "Epoch 49/100\n",
      "375/375 [==============================] - 2s 5ms/step - loss: 1.0586 - accuracy: 0.6447 - val_loss: 4.1453 - val_accuracy: 0.0954\n",
      "Epoch 50/100\n",
      "375/375 [==============================] - 2s 5ms/step - loss: 1.0400 - accuracy: 0.6521 - val_loss: 4.2583 - val_accuracy: 0.0985\n",
      "Epoch 51/100\n",
      "375/375 [==============================] - 2s 5ms/step - loss: 1.0249 - accuracy: 0.6554 - val_loss: 4.2934 - val_accuracy: 0.0957\n",
      "Epoch 52/100\n",
      "375/375 [==============================] - 2s 5ms/step - loss: 1.0070 - accuracy: 0.6647 - val_loss: 4.3888 - val_accuracy: 0.0968\n",
      "Epoch 53/100\n",
      "375/375 [==============================] - 2s 5ms/step - loss: 0.9905 - accuracy: 0.6705 - val_loss: 4.3845 - val_accuracy: 0.0967\n",
      "Epoch 54/100\n",
      "375/375 [==============================] - 2s 5ms/step - loss: 0.9750 - accuracy: 0.6768 - val_loss: 4.4348 - val_accuracy: 0.0967\n",
      "Epoch 55/100\n",
      "375/375 [==============================] - 2s 5ms/step - loss: 0.9590 - accuracy: 0.6825 - val_loss: 4.5131 - val_accuracy: 0.0961\n",
      "Epoch 56/100\n",
      "375/375 [==============================] - 2s 5ms/step - loss: 0.9437 - accuracy: 0.6860 - val_loss: 4.5884 - val_accuracy: 0.0964\n",
      "Epoch 57/100\n",
      "375/375 [==============================] - 2s 5ms/step - loss: 0.9290 - accuracy: 0.6927 - val_loss: 4.6327 - val_accuracy: 0.0922\n",
      "Epoch 58/100\n"
     ]
    },
    {
     "name": "stdout",
     "output_type": "stream",
     "text": [
      "375/375 [==============================] - 2s 5ms/step - loss: 0.9130 - accuracy: 0.6965 - val_loss: 4.7124 - val_accuracy: 0.0950\n",
      "Epoch 59/100\n",
      "375/375 [==============================] - 2s 5ms/step - loss: 0.8970 - accuracy: 0.7046 - val_loss: 4.7730 - val_accuracy: 0.0981\n",
      "Epoch 60/100\n",
      "375/375 [==============================] - 2s 5ms/step - loss: 0.8845 - accuracy: 0.7082 - val_loss: 4.8132 - val_accuracy: 0.0972\n",
      "Epoch 61/100\n",
      "375/375 [==============================] - 2s 5ms/step - loss: 0.8700 - accuracy: 0.7134 - val_loss: 4.8874 - val_accuracy: 0.0988\n",
      "Epoch 62/100\n",
      "375/375 [==============================] - 2s 5ms/step - loss: 0.8573 - accuracy: 0.7168 - val_loss: 4.9545 - val_accuracy: 0.0959\n",
      "Epoch 63/100\n",
      "375/375 [==============================] - 2s 5ms/step - loss: 0.8448 - accuracy: 0.7224 - val_loss: 4.9828 - val_accuracy: 0.0943\n",
      "Epoch 64/100\n",
      "375/375 [==============================] - 2s 5ms/step - loss: 0.8289 - accuracy: 0.7268 - val_loss: 5.0708 - val_accuracy: 0.0960\n",
      "Epoch 65/100\n",
      "375/375 [==============================] - 2s 5ms/step - loss: 0.8146 - accuracy: 0.7324 - val_loss: 5.1054 - val_accuracy: 0.0922\n",
      "Epoch 66/100\n",
      "375/375 [==============================] - 2s 5ms/step - loss: 0.8063 - accuracy: 0.7346 - val_loss: 5.1810 - val_accuracy: 0.0941\n",
      "Epoch 67/100\n",
      "375/375 [==============================] - 2s 5ms/step - loss: 0.7905 - accuracy: 0.7388 - val_loss: 5.2589 - val_accuracy: 0.0965\n",
      "Epoch 68/100\n",
      "375/375 [==============================] - 2s 5ms/step - loss: 0.7784 - accuracy: 0.7442 - val_loss: 5.3076 - val_accuracy: 0.0976\n",
      "Epoch 69/100\n",
      "375/375 [==============================] - 2s 5ms/step - loss: 0.7674 - accuracy: 0.7484 - val_loss: 5.3902 - val_accuracy: 0.0931\n",
      "Epoch 70/100\n",
      "375/375 [==============================] - 2s 5ms/step - loss: 0.7532 - accuracy: 0.7550 - val_loss: 5.4555 - val_accuracy: 0.0980\n",
      "Epoch 71/100\n",
      "375/375 [==============================] - 2s 5ms/step - loss: 0.7430 - accuracy: 0.7562 - val_loss: 5.4915 - val_accuracy: 0.0942\n",
      "Epoch 72/100\n",
      "375/375 [==============================] - 2s 5ms/step - loss: 0.7319 - accuracy: 0.7606 - val_loss: 5.5421 - val_accuracy: 0.0964\n",
      "Epoch 73/100\n",
      "375/375 [==============================] - 2s 5ms/step - loss: 0.7211 - accuracy: 0.7651 - val_loss: 5.5909 - val_accuracy: 0.0959\n",
      "Epoch 74/100\n",
      "375/375 [==============================] - 2s 5ms/step - loss: 0.7071 - accuracy: 0.7703 - val_loss: 5.6824 - val_accuracy: 0.0930\n",
      "Epoch 75/100\n",
      "375/375 [==============================] - 2s 5ms/step - loss: 0.7003 - accuracy: 0.7710 - val_loss: 5.7236 - val_accuracy: 0.0989\n",
      "Epoch 76/100\n",
      "375/375 [==============================] - 2s 5ms/step - loss: 0.6865 - accuracy: 0.7770 - val_loss: 5.8053 - val_accuracy: 0.0982\n",
      "Epoch 77/100\n",
      "375/375 [==============================] - 2s 5ms/step - loss: 0.6754 - accuracy: 0.7819 - val_loss: 5.9150 - val_accuracy: 0.0938\n",
      "Epoch 78/100\n",
      "375/375 [==============================] - 2s 5ms/step - loss: 0.6661 - accuracy: 0.7836 - val_loss: 5.9569 - val_accuracy: 0.0936\n",
      "Epoch 79/100\n",
      "375/375 [==============================] - 2s 5ms/step - loss: 0.6564 - accuracy: 0.7868 - val_loss: 6.0170 - val_accuracy: 0.0960\n",
      "Epoch 80/100\n",
      "375/375 [==============================] - 2s 5ms/step - loss: 0.6460 - accuracy: 0.7892 - val_loss: 6.1028 - val_accuracy: 0.0967\n",
      "Epoch 81/100\n",
      "375/375 [==============================] - 2s 5ms/step - loss: 0.6372 - accuracy: 0.7919 - val_loss: 6.1269 - val_accuracy: 0.0973\n",
      "Epoch 82/100\n",
      "375/375 [==============================] - 2s 5ms/step - loss: 0.6267 - accuracy: 0.7966 - val_loss: 6.2476 - val_accuracy: 0.0993\n",
      "Epoch 83/100\n",
      "375/375 [==============================] - 2s 5ms/step - loss: 0.6179 - accuracy: 0.7988 - val_loss: 6.3015 - val_accuracy: 0.0947\n",
      "Epoch 84/100\n",
      "375/375 [==============================] - 2s 5ms/step - loss: 0.6056 - accuracy: 0.8056 - val_loss: 6.3884 - val_accuracy: 0.0943\n",
      "Epoch 85/100\n",
      "375/375 [==============================] - 2s 5ms/step - loss: 0.5991 - accuracy: 0.8075 - val_loss: 6.4445 - val_accuracy: 0.0952\n",
      "Epoch 86/100\n",
      "375/375 [==============================] - 2s 5ms/step - loss: 0.5890 - accuracy: 0.8103 - val_loss: 6.5011 - val_accuracy: 0.0957\n",
      "Epoch 87/100\n",
      "375/375 [==============================] - 2s 5ms/step - loss: 0.5811 - accuracy: 0.8144 - val_loss: 6.6034 - val_accuracy: 0.0939\n",
      "Epoch 88/100\n",
      "375/375 [==============================] - 2s 5ms/step - loss: 0.5716 - accuracy: 0.8149 - val_loss: 6.6499 - val_accuracy: 0.0974\n",
      "Epoch 89/100\n",
      "375/375 [==============================] - 2s 5ms/step - loss: 0.5639 - accuracy: 0.8168 - val_loss: 6.6723 - val_accuracy: 0.0978\n",
      "Epoch 90/100\n",
      "375/375 [==============================] - 2s 5ms/step - loss: 0.5559 - accuracy: 0.8210 - val_loss: 6.7537 - val_accuracy: 0.0958\n",
      "Epoch 91/100\n",
      "375/375 [==============================] - 2s 5ms/step - loss: 0.5473 - accuracy: 0.8256 - val_loss: 6.8198 - val_accuracy: 0.0966\n",
      "Epoch 92/100\n",
      "375/375 [==============================] - 2s 6ms/step - loss: 0.5370 - accuracy: 0.8291 - val_loss: 6.9760 - val_accuracy: 0.0967\n",
      "Epoch 93/100\n",
      "375/375 [==============================] - 2s 6ms/step - loss: 0.5309 - accuracy: 0.8319 - val_loss: 7.0211 - val_accuracy: 0.0936\n",
      "Epoch 94/100\n",
      "375/375 [==============================] - 2s 5ms/step - loss: 0.5234 - accuracy: 0.8314 - val_loss: 7.0513 - val_accuracy: 0.0952\n",
      "Epoch 95/100\n",
      "375/375 [==============================] - 2s 5ms/step - loss: 0.5161 - accuracy: 0.8356 - val_loss: 7.1663 - val_accuracy: 0.0969\n",
      "Epoch 96/100\n",
      "375/375 [==============================] - 2s 5ms/step - loss: 0.5084 - accuracy: 0.8374 - val_loss: 7.2276 - val_accuracy: 0.0979\n",
      "Epoch 97/100\n",
      "375/375 [==============================] - 2s 5ms/step - loss: 0.5007 - accuracy: 0.8394 - val_loss: 7.2449 - val_accuracy: 0.0967\n",
      "Epoch 98/100\n",
      "375/375 [==============================] - 2s 5ms/step - loss: 0.4939 - accuracy: 0.8436 - val_loss: 7.3110 - val_accuracy: 0.0953\n",
      "Epoch 99/100\n",
      "375/375 [==============================] - 2s 5ms/step - loss: 0.4861 - accuracy: 0.8445 - val_loss: 7.3976 - val_accuracy: 0.0958\n",
      "Epoch 100/100\n",
      "375/375 [==============================] - 2s 5ms/step - loss: 0.4777 - accuracy: 0.8476 - val_loss: 7.4668 - val_accuracy: 0.0968\n"
     ]
    },
    {
     "data": {
      "text/plain": [
       "<keras.callbacks.History at 0x16c4db910>"
      ]
     },
     "execution_count": 12,
     "metadata": {},
     "output_type": "execute_result"
    }
   ],
   "source": [
    "model.fit(train_images, random_train_labels, epochs=100, batch_size=128, validation_split=0.2)"
   ]
  },
  {
   "cell_type": "markdown",
   "id": "54a9bb39",
   "metadata": {},
   "source": [
    "Deep learning models can be trained to fit almost anything given enough representation power."
   ]
  },
  {
   "cell_type": "markdown",
   "id": "ff756ff0",
   "metadata": {},
   "source": [
    "* Nature of generalization\n",
    "    * has little to do with deep learning models themselves\n",
    "    * has much to do with the structure of information in the real world\n",
    "* MNIST example\n",
    "    * Total # of 28 x 28 uint8 images in a 784-dim space can be huge (256784), more than # of atoms in universe\n",
    "    * MNIST data (50K) occupy a tiny subspace\n",
    "    * Furthermore, MNIST data lie closely on a continuous manifold\n",
    "    \n",
    "* The manifold hypothesis of ML\n",
    "    * Machine learning models only have to fit relatively simple, low-dimensional, highly structured subspaces (=manifolds)\n",
    "    * Within one manifold, it’s always possible to interpolate between two inputs"
   ]
  },
  {
   "cell_type": "markdown",
   "id": "4e79195f",
   "metadata": {},
   "source": [
    "## Evaluating machine learning models\n",
    "* Training, validation, and test sets\n",
    "    * Training set to tune the parameters of the model (e.g., SGD on the loss)\n",
    "    * Validation set to tune the hyperparameters (e.g., learning rates) and select models (3 layer vs 5 layer model)\n",
    "    * Test set to evaluate the final performance of the model\n",
    "* Beating a common-sense baseline\n",
    "* Things to keep in mind about model evaluation"
   ]
  },
  {
   "cell_type": "markdown",
   "id": "13c659ed",
   "metadata": {},
   "source": [
    "## Improving model fit\n",
    "Three common problems you’ll encounter\n",
    "* Training doesn’t get started: your training loss doesn’t go down over time\n",
    "* Training gets started just fine, but your model doesn’t meaningfully generalize: you can’t beat the common-sense baseline\n",
    "* Training and validation loss both go down over time, and you can beat your baseline, but you cannot overfit"
   ]
  },
  {
   "cell_type": "markdown",
   "id": "0fffbe5b",
   "metadata": {},
   "source": [
    "Training doesn’t get started: your training loss doesn’t go\n",
    "down over time\n",
    "* Remember, even a relatively small model can be trained to fit pure noise (like randomly-shuffled labels)\n",
    "* The model does so by “memorizing the data” if necessary\n",
    "* As long as the model is not too small, this is the issue of **failed optimization**\n",
    "\n",
    "Optimization can fail due to wrong choices:\n",
    "* Optimizer type\n",
    "* Distribution of initial weights\n",
    "* Learning rate\n",
    "* Batch size"
   ]
  },
  {
   "cell_type": "markdown",
   "id": "fafd83b6",
   "metadata": {},
   "source": [
    "Use learning rate `1.0`, and observe it bad."
   ]
  },
  {
   "cell_type": "code",
   "execution_count": 16,
   "id": "3149402b",
   "metadata": {},
   "outputs": [
    {
     "name": "stdout",
     "output_type": "stream",
     "text": [
      "Epoch 1/10\n",
      " 10/375 [..............................] - ETA: 2s - loss: 25001.6113 - accuracy: 0.3102"
     ]
    },
    {
     "name": "stderr",
     "output_type": "stream",
     "text": [
      "2022-03-08 11:53:01.015269: I tensorflow/core/grappler/optimizers/custom_graph_optimizer_registry.cc:112] Plugin optimizer for device_type GPU is enabled.\n"
     ]
    },
    {
     "name": "stdout",
     "output_type": "stream",
     "text": [
      "367/375 [============================>.] - ETA: 0s - loss: 714.0737 - accuracy: 0.4108"
     ]
    },
    {
     "name": "stderr",
     "output_type": "stream",
     "text": [
      "2022-03-08 11:53:02.962060: I tensorflow/core/grappler/optimizers/custom_graph_optimizer_registry.cc:112] Plugin optimizer for device_type GPU is enabled.\n"
     ]
    },
    {
     "name": "stdout",
     "output_type": "stream",
     "text": [
      "375/375 [==============================] - 2s 6ms/step - loss: 698.8919 - accuracy: 0.4080 - val_loss: 3.6489 - val_accuracy: 0.2857\n",
      "Epoch 2/10\n",
      "375/375 [==============================] - 2s 5ms/step - loss: 4.0329 - accuracy: 0.2907 - val_loss: 5.3202 - val_accuracy: 0.3486\n",
      "Epoch 3/10\n",
      "375/375 [==============================] - 2s 6ms/step - loss: 3.2991 - accuracy: 0.2907 - val_loss: 2.2428 - val_accuracy: 0.3102\n",
      "Epoch 4/10\n",
      "375/375 [==============================] - 2s 6ms/step - loss: 2.7078 - accuracy: 0.2625 - val_loss: 2.1334 - val_accuracy: 0.2528\n",
      "Epoch 5/10\n",
      "375/375 [==============================] - 2s 5ms/step - loss: 2.6288 - accuracy: 0.2532 - val_loss: 2.2216 - val_accuracy: 0.2175\n",
      "Epoch 6/10\n",
      "375/375 [==============================] - 2s 5ms/step - loss: 2.4445 - accuracy: 0.2376 - val_loss: 3.1241 - val_accuracy: 0.2657\n",
      "Epoch 7/10\n",
      "375/375 [==============================] - 2s 5ms/step - loss: 2.3092 - accuracy: 0.2432 - val_loss: 2.5704 - val_accuracy: 0.2256\n",
      "Epoch 8/10\n",
      "375/375 [==============================] - 2s 5ms/step - loss: 2.5629 - accuracy: 0.2258 - val_loss: 3.4044 - val_accuracy: 0.2428\n",
      "Epoch 9/10\n",
      "375/375 [==============================] - 2s 6ms/step - loss: 2.4573 - accuracy: 0.2413 - val_loss: 2.0890 - val_accuracy: 0.2265\n",
      "Epoch 10/10\n",
      "375/375 [==============================] - 2s 5ms/step - loss: 2.3150 - accuracy: 0.2349 - val_loss: 2.1249 - val_accuracy: 0.2395\n"
     ]
    },
    {
     "data": {
      "text/plain": [
       "<keras.callbacks.History at 0x15b85a8e0>"
      ]
     },
     "execution_count": 16,
     "metadata": {},
     "output_type": "execute_result"
    }
   ],
   "source": [
    "(train_images, train_labels), _ = mnist.load_data() \n",
    "train_images = train_images.reshape((60000, 28 * 28)) \n",
    "train_images = train_images.astype(\"float32\") / 255\n",
    "model = keras.Sequential([ layers.Dense(512, activation=\"relu\"), \n",
    "                          layers.Dense(10, activation=\"softmax\")\n",
    "                         ]) \n",
    "model.compile(optimizer=keras.optimizers.RMSprop(learning_rate=1.),\n",
    "              loss=\"sparse_categorical_crossentropy\",\n",
    "              metrics=[\"accuracy\"]) \n",
    "model.fit(train_images, train_labels,\n",
    "epochs=10, batch_size=128, validation_split=0.2)"
   ]
  },
  {
   "cell_type": "markdown",
   "id": "8c4021d1",
   "metadata": {},
   "source": [
    "Use a learning rate of `0.01`"
   ]
  },
  {
   "cell_type": "code",
   "execution_count": 19,
   "id": "456a0382",
   "metadata": {},
   "outputs": [
    {
     "name": "stdout",
     "output_type": "stream",
     "text": [
      "Epoch 1/10\n",
      "  8/375 [..............................] - ETA: 2s - loss: 1.4718 - accuracy: 0.5723  "
     ]
    },
    {
     "name": "stderr",
     "output_type": "stream",
     "text": [
      "2022-03-08 11:57:40.715514: I tensorflow/core/grappler/optimizers/custom_graph_optimizer_registry.cc:112] Plugin optimizer for device_type GPU is enabled.\n"
     ]
    },
    {
     "name": "stdout",
     "output_type": "stream",
     "text": [
      "368/375 [============================>.] - ETA: 0s - loss: 0.2922 - accuracy: 0.9158"
     ]
    },
    {
     "name": "stderr",
     "output_type": "stream",
     "text": [
      "2022-03-08 11:57:42.724783: I tensorflow/core/grappler/optimizers/custom_graph_optimizer_registry.cc:112] Plugin optimizer for device_type GPU is enabled.\n"
     ]
    },
    {
     "name": "stdout",
     "output_type": "stream",
     "text": [
      "375/375 [==============================] - 2s 6ms/step - loss: 0.2891 - accuracy: 0.9166 - val_loss: 0.1439 - val_accuracy: 0.9580\n",
      "Epoch 2/10\n",
      "375/375 [==============================] - 2s 5ms/step - loss: 0.1181 - accuracy: 0.9651 - val_loss: 0.1164 - val_accuracy: 0.9654\n",
      "Epoch 3/10\n",
      "375/375 [==============================] - 2s 5ms/step - loss: 0.0767 - accuracy: 0.9772 - val_loss: 0.0898 - val_accuracy: 0.9735\n",
      "Epoch 4/10\n",
      "375/375 [==============================] - 2s 5ms/step - loss: 0.0554 - accuracy: 0.9834 - val_loss: 0.0840 - val_accuracy: 0.9750\n",
      "Epoch 5/10\n",
      "375/375 [==============================] - 2s 5ms/step - loss: 0.0412 - accuracy: 0.9879 - val_loss: 0.0875 - val_accuracy: 0.9747\n",
      "Epoch 6/10\n",
      "375/375 [==============================] - 2s 5ms/step - loss: 0.0313 - accuracy: 0.9904 - val_loss: 0.0782 - val_accuracy: 0.9778\n",
      "Epoch 7/10\n",
      "375/375 [==============================] - 2s 5ms/step - loss: 0.0233 - accuracy: 0.9933 - val_loss: 0.0845 - val_accuracy: 0.9781\n",
      "Epoch 8/10\n",
      "375/375 [==============================] - 2s 5ms/step - loss: 0.0171 - accuracy: 0.9952 - val_loss: 0.0812 - val_accuracy: 0.9796\n",
      "Epoch 9/10\n",
      "375/375 [==============================] - 2s 5ms/step - loss: 0.0135 - accuracy: 0.9962 - val_loss: 0.0828 - val_accuracy: 0.9797\n",
      "Epoch 10/10\n",
      "375/375 [==============================] - 2s 5ms/step - loss: 0.0103 - accuracy: 0.9971 - val_loss: 0.0900 - val_accuracy: 0.9786\n"
     ]
    },
    {
     "data": {
      "text/plain": [
       "<keras.callbacks.History at 0x31477e460>"
      ]
     },
     "execution_count": 19,
     "metadata": {},
     "output_type": "execute_result"
    }
   ],
   "source": [
    "model = keras.Sequential([ layers.Dense(512, activation=\"relu\"), \n",
    "                          layers.Dense(10, activation=\"softmax\")\n",
    "                         ]) \n",
    "model.compile(optimizer=keras.optimizers.RMSprop(learning_rate=0.01),\n",
    "              loss=\"sparse_categorical_crossentropy\",\n",
    "              metrics=[\"accuracy\"]) \n",
    "model.fit(train_images, train_labels,\n",
    "epochs=10, batch_size=128, validation_split=0.2)"
   ]
  },
  {
   "cell_type": "markdown",
   "id": "ebe97e2e",
   "metadata": {},
   "source": [
    "Training gets started just fine, but your model doesn’t meaningfully generalize\n",
    "* You can’t beat the common-sense baseline\n",
    "*  Something is **fundamentally wrong**\n",
    "\n",
    "Possible causes:\n",
    "\n",
    "* Input data simply doesn’t contain sufficient information to predict your targets: the problem is not solvable (e.g., MNIST with shuffled labels)\n",
    "* Model you’re using is not suited for the problem at hand. The best architectures to use can be different for data modalities—images, text, timeseries, and so on"
   ]
  },
  {
   "cell_type": "markdown",
   "id": "a3aacf44",
   "metadata": {},
   "source": [
    "If you manage to have validation metrics are going down, we are almost there. We need to start increasing the model capacity.\n",
    "\n",
    "\n",
    "**Example:** Try fitting a simple zero-hidden layer model (called logistic regression) on MNIST"
   ]
  },
  {
   "cell_type": "code",
   "execution_count": 20,
   "id": "1b96a534",
   "metadata": {},
   "outputs": [
    {
     "name": "stdout",
     "output_type": "stream",
     "text": [
      "Epoch 1/20\n"
     ]
    },
    {
     "name": "stderr",
     "output_type": "stream",
     "text": [
      "2022-03-08 12:04:43.320249: I tensorflow/core/grappler/optimizers/custom_graph_optimizer_registry.cc:112] Plugin optimizer for device_type GPU is enabled.\n"
     ]
    },
    {
     "name": "stdout",
     "output_type": "stream",
     "text": [
      "362/375 [===========================>..] - ETA: 0s - loss: 0.6779 - accuracy: 0.8342"
     ]
    },
    {
     "name": "stderr",
     "output_type": "stream",
     "text": [
      "2022-03-08 12:04:45.148409: I tensorflow/core/grappler/optimizers/custom_graph_optimizer_registry.cc:112] Plugin optimizer for device_type GPU is enabled.\n"
     ]
    },
    {
     "name": "stdout",
     "output_type": "stream",
     "text": [
      "375/375 [==============================] - 2s 5ms/step - loss: 0.6669 - accuracy: 0.8367 - val_loss: 0.3613 - val_accuracy: 0.9002\n",
      "Epoch 2/20\n",
      "375/375 [==============================] - 2s 4ms/step - loss: 0.3514 - accuracy: 0.9041 - val_loss: 0.3088 - val_accuracy: 0.9159\n",
      "Epoch 3/20\n",
      "375/375 [==============================] - 2s 4ms/step - loss: 0.3158 - accuracy: 0.9116 - val_loss: 0.2908 - val_accuracy: 0.9197\n",
      "Epoch 4/20\n",
      "375/375 [==============================] - 2s 4ms/step - loss: 0.2997 - accuracy: 0.9159 - val_loss: 0.2805 - val_accuracy: 0.9216\n",
      "Epoch 5/20\n",
      "375/375 [==============================] - 2s 4ms/step - loss: 0.2896 - accuracy: 0.9186 - val_loss: 0.2770 - val_accuracy: 0.9217\n",
      "Epoch 6/20\n",
      "375/375 [==============================] - 2s 4ms/step - loss: 0.2831 - accuracy: 0.9207 - val_loss: 0.2721 - val_accuracy: 0.9261\n",
      "Epoch 7/20\n",
      "375/375 [==============================] - 2s 4ms/step - loss: 0.2781 - accuracy: 0.9217 - val_loss: 0.2701 - val_accuracy: 0.9263\n",
      "Epoch 8/20\n",
      "375/375 [==============================] - 2s 4ms/step - loss: 0.2743 - accuracy: 0.9232 - val_loss: 0.2681 - val_accuracy: 0.9269\n",
      "Epoch 9/20\n",
      "375/375 [==============================] - 2s 4ms/step - loss: 0.2713 - accuracy: 0.9251 - val_loss: 0.2665 - val_accuracy: 0.9260\n",
      "Epoch 10/20\n",
      "375/375 [==============================] - 2s 4ms/step - loss: 0.2687 - accuracy: 0.9253 - val_loss: 0.2645 - val_accuracy: 0.9289\n",
      "Epoch 11/20\n",
      "375/375 [==============================] - 2s 4ms/step - loss: 0.2666 - accuracy: 0.9263 - val_loss: 0.2638 - val_accuracy: 0.9301\n",
      "Epoch 12/20\n",
      "375/375 [==============================] - 2s 5ms/step - loss: 0.2649 - accuracy: 0.9266 - val_loss: 0.2652 - val_accuracy: 0.9281\n",
      "Epoch 13/20\n",
      "375/375 [==============================] - 2s 4ms/step - loss: 0.2634 - accuracy: 0.9273 - val_loss: 0.2630 - val_accuracy: 0.9297\n",
      "Epoch 14/20\n",
      "375/375 [==============================] - 2s 4ms/step - loss: 0.2617 - accuracy: 0.9279 - val_loss: 0.2621 - val_accuracy: 0.9304\n",
      "Epoch 15/20\n",
      "375/375 [==============================] - 2s 4ms/step - loss: 0.2604 - accuracy: 0.9288 - val_loss: 0.2635 - val_accuracy: 0.9301\n",
      "Epoch 16/20\n",
      "375/375 [==============================] - 2s 4ms/step - loss: 0.2592 - accuracy: 0.9290 - val_loss: 0.2622 - val_accuracy: 0.9308\n",
      "Epoch 17/20\n",
      "375/375 [==============================] - 2s 4ms/step - loss: 0.2581 - accuracy: 0.9290 - val_loss: 0.2607 - val_accuracy: 0.9306\n",
      "Epoch 18/20\n",
      "375/375 [==============================] - 2s 4ms/step - loss: 0.2572 - accuracy: 0.9294 - val_loss: 0.2619 - val_accuracy: 0.9306\n",
      "Epoch 19/20\n",
      "375/375 [==============================] - 2s 4ms/step - loss: 0.2565 - accuracy: 0.9295 - val_loss: 0.2600 - val_accuracy: 0.9305\n",
      "Epoch 20/20\n",
      "375/375 [==============================] - 2s 4ms/step - loss: 0.2558 - accuracy: 0.9299 - val_loss: 0.2623 - val_accuracy: 0.9307\n"
     ]
    }
   ],
   "source": [
    "model = keras.Sequential([layers.Dense(10, activation=\"softmax\")])\n",
    "model.compile(optimizer=\"rmsprop\",\n",
    "              loss=\"sparse_categorical_crossentropy\",\n",
    "              metrics=[\"accuracy\"]) \n",
    "\n",
    "history_small_model = model.fit(train_images, train_labels, epochs=20, batch_size=128, validation_split=0.2)"
   ]
  },
  {
   "cell_type": "code",
   "execution_count": 22,
   "id": "c40ad5b2",
   "metadata": {},
   "outputs": [
    {
     "data": {
      "text/plain": [
       "<matplotlib.legend.Legend at 0x314657b50>"
      ]
     },
     "execution_count": 22,
     "metadata": {},
     "output_type": "execute_result"
    },
    {
     "data": {
      "image/png": "[encoded data removed]",
      "text/plain": [
       "<Figure size 432x288 with 1 Axes>"
      ]
     },
     "metadata": {
      "needs_background": "light"
     },
     "output_type": "display_data"
    }
   ],
   "source": [
    "import matplotlib.pyplot as plt\n",
    "val_loss = history_small_model.history[\"val_loss\"]\n",
    "epochs = range(1, 21)\n",
    "\n",
    "plt.plot(epochs, val_loss, \"b--\",label=\"Validation loss\")\n",
    "plt.title(\"Effect of insufficient model capacity on validation loss\")\n",
    "plt.xlabel(\"Epochs\")\n",
    "plt.ylabel(\"Loss\")\n",
    "plt.legend()"
   ]
  },
  {
   "cell_type": "markdown",
   "id": "6217ad7d",
   "metadata": {},
   "source": [
    "Try a bigger model"
   ]
  },
  {
   "cell_type": "code",
   "execution_count": 23,
   "id": "abe913cd",
   "metadata": {},
   "outputs": [
    {
     "name": "stdout",
     "output_type": "stream",
     "text": [
      "Epoch 1/20\n"
     ]
    },
    {
     "name": "stderr",
     "output_type": "stream",
     "text": [
      "2022-03-08 12:13:04.581746: I tensorflow/core/grappler/optimizers/custom_graph_optimizer_registry.cc:112] Plugin optimizer for device_type GPU is enabled.\n"
     ]
    },
    {
     "name": "stdout",
     "output_type": "stream",
     "text": [
      "367/375 [============================>.] - ETA: 0s - loss: 0.3659 - accuracy: 0.8994"
     ]
    },
    {
     "name": "stderr",
     "output_type": "stream",
     "text": [
      "2022-03-08 12:13:06.949603: I tensorflow/core/grappler/optimizers/custom_graph_optimizer_registry.cc:112] Plugin optimizer for device_type GPU is enabled.\n"
     ]
    },
    {
     "name": "stdout",
     "output_type": "stream",
     "text": [
      "375/375 [==============================] - 3s 6ms/step - loss: 0.3629 - accuracy: 0.9002 - val_loss: 0.1957 - val_accuracy: 0.9439\n",
      "Epoch 2/20\n",
      "375/375 [==============================] - 2s 5ms/step - loss: 0.1629 - accuracy: 0.9516 - val_loss: 0.1435 - val_accuracy: 0.9565\n",
      "Epoch 3/20\n",
      "375/375 [==============================] - 2s 5ms/step - loss: 0.1166 - accuracy: 0.9658 - val_loss: 0.1172 - val_accuracy: 0.9657\n",
      "Epoch 4/20\n",
      "375/375 [==============================] - 2s 5ms/step - loss: 0.0893 - accuracy: 0.9740 - val_loss: 0.1179 - val_accuracy: 0.9660\n",
      "Epoch 5/20\n",
      "375/375 [==============================] - 2s 5ms/step - loss: 0.0726 - accuracy: 0.9786 - val_loss: 0.0961 - val_accuracy: 0.9722\n",
      "Epoch 6/20\n",
      "375/375 [==============================] - 2s 5ms/step - loss: 0.0602 - accuracy: 0.9819 - val_loss: 0.0935 - val_accuracy: 0.9719\n",
      "Epoch 7/20\n",
      "375/375 [==============================] - 2s 5ms/step - loss: 0.0489 - accuracy: 0.9853 - val_loss: 0.1076 - val_accuracy: 0.9692\n",
      "Epoch 8/20\n",
      "375/375 [==============================] - 2s 5ms/step - loss: 0.0415 - accuracy: 0.9871 - val_loss: 0.0913 - val_accuracy: 0.9744\n",
      "Epoch 9/20\n",
      "375/375 [==============================] - 2s 5ms/step - loss: 0.0353 - accuracy: 0.9894 - val_loss: 0.0980 - val_accuracy: 0.9728\n",
      "Epoch 10/20\n",
      "375/375 [==============================] - 2s 5ms/step - loss: 0.0292 - accuracy: 0.9909 - val_loss: 0.1003 - val_accuracy: 0.9737\n",
      "Epoch 11/20\n",
      "375/375 [==============================] - 2s 5ms/step - loss: 0.0244 - accuracy: 0.9928 - val_loss: 0.1161 - val_accuracy: 0.9709\n",
      "Epoch 12/20\n",
      "375/375 [==============================] - 2s 5ms/step - loss: 0.0212 - accuracy: 0.9932 - val_loss: 0.0989 - val_accuracy: 0.9757\n",
      "Epoch 13/20\n",
      "375/375 [==============================] - 2s 5ms/step - loss: 0.0173 - accuracy: 0.9950 - val_loss: 0.1091 - val_accuracy: 0.9756\n",
      "Epoch 14/20\n",
      "375/375 [==============================] - 2s 5ms/step - loss: 0.0154 - accuracy: 0.9952 - val_loss: 0.1104 - val_accuracy: 0.9755\n",
      "Epoch 15/20\n",
      "375/375 [==============================] - 2s 5ms/step - loss: 0.0129 - accuracy: 0.9964 - val_loss: 0.1201 - val_accuracy: 0.9738\n",
      "Epoch 16/20\n",
      "375/375 [==============================] - 2s 6ms/step - loss: 0.0113 - accuracy: 0.9965 - val_loss: 0.1244 - val_accuracy: 0.9751\n",
      "Epoch 17/20\n",
      "375/375 [==============================] - 2s 5ms/step - loss: 0.0095 - accuracy: 0.9969 - val_loss: 0.1206 - val_accuracy: 0.9761\n",
      "Epoch 18/20\n",
      "375/375 [==============================] - 2s 6ms/step - loss: 0.0084 - accuracy: 0.9973 - val_loss: 0.1226 - val_accuracy: 0.9762\n",
      "Epoch 19/20\n",
      "375/375 [==============================] - 2s 6ms/step - loss: 0.0066 - accuracy: 0.9980 - val_loss: 0.1292 - val_accuracy: 0.9750\n",
      "Epoch 20/20\n",
      "375/375 [==============================] - 2s 6ms/step - loss: 0.0062 - accuracy: 0.9980 - val_loss: 0.1358 - val_accuracy: 0.9750\n"
     ]
    },
    {
     "data": {
      "text/plain": [
       "<matplotlib.legend.Legend at 0x2b4f46820>"
      ]
     },
     "execution_count": 23,
     "metadata": {},
     "output_type": "execute_result"
    },
    {
     "data": {
      "image/png": "[encoded data removed]",
      "text/plain": [
       "<Figure size 432x288 with 1 Axes>"
      ]
     },
     "metadata": {
      "needs_background": "light"
     },
     "output_type": "display_data"
    }
   ],
   "source": [
    "model = keras.Sequential([ layers.Dense(96, activation=\"relu\"),\n",
    "                          layers.Dense(96, activation=\"relu\"), \n",
    "                          layers.Dense(10, activation=\"softmax\"),\n",
    "                         ]) \n",
    "model.compile(optimizer=\"rmsprop\",\n",
    "              loss=\"sparse_categorical_crossentropy\",\n",
    "              metrics=[\"accuracy\"]) \n",
    "history_large_model = model.fit( train_images, train_labels, epochs=20, batch_size=128, validation_split=0.2)\n",
    "\n",
    "#import matplotlib.pyplot as plt\n",
    "val_loss = history_small_model.history[\"val_loss\"]\n",
    "epochs = range(1, 21)\n",
    "plt.plot(epochs, val_loss, \"b--\", label=\"Validation loss\") #plt.title(\"Effect of insufficient model capacity on validation loss\") plt.xlabel(\"Epochs\")\n",
    "plt.ylabel(\"Loss\")\n",
    "plt.legend()"
   ]
  },
  {
   "cell_type": "markdown",
   "id": "47a16399",
   "metadata": {},
   "source": [
    "**Improving generalization**\n",
    "* Dataset curation\n",
    "* Feature engineering\n",
    "* Using early stopping\n",
    "* Regularizing your model"
   ]
  },
  {
   "cell_type": "markdown",
   "id": "6ac9aa7a",
   "metadata": {},
   "source": [
    "In deep learning, we always use models that are vastly \n",
    "overparameterized\n",
    "\n",
    "You will always interrupt training long before you’ve reached the \n",
    "minimum possible training loss\n",
    "*  Previously, we’ve done it manually\n",
    "*  We can use an EarlyStopping callback in Keras, which will interrupt \n",
    "training as soon as validation metrics stop improving (Lecture 7)"
   ]
  },
  {
   "cell_type": "markdown",
   "id": "9c449e2d",
   "metadata": {},
   "source": [
    "Regularization by reducing the network size \n",
    "* Original vs lower capacity vs higher capacity"
   ]
  },
  {
   "cell_type": "markdown",
   "id": "a622d7fc",
   "metadata": {},
   "source": [
    "Weight regularization: $min_w loss(w) + \\lambda \\|w\\|^2 2$\n",
    "* Adding L2 weight regularization to the model"
   ]
  },
  {
   "cell_type": "code",
   "execution_count": 10,
   "id": "1bf46892",
   "metadata": {},
   "outputs": [
    {
     "name": "stdout",
     "output_type": "stream",
     "text": [
      "Epoch 1/20\n"
     ]
    },
    {
     "name": "stderr",
     "output_type": "stream",
     "text": [
      "2022-03-10 11:22:06.136671: I tensorflow/core/grappler/optimizers/custom_graph_optimizer_registry.cc:112] Plugin optimizer for device_type GPU is enabled.\n"
     ]
    },
    {
     "name": "stdout",
     "output_type": "stream",
     "text": [
      "70/71 [============================>.] - ETA: 0s - loss: -45.9566 - accuracy: 0.1133"
     ]
    },
    {
     "name": "stderr",
     "output_type": "stream",
     "text": [
      "2022-03-10 11:22:07.094207: I tensorflow/core/grappler/optimizers/custom_graph_optimizer_registry.cc:112] Plugin optimizer for device_type GPU is enabled.\n"
     ]
    },
    {
     "name": "stdout",
     "output_type": "stream",
     "text": [
      "71/71 [==============================] - 1s 11ms/step - loss: -46.3429 - accuracy: 0.1131 - val_loss: -119.2476 - val_accuracy: 0.1095\n",
      "Epoch 2/20\n",
      "71/71 [==============================] - 1s 10ms/step - loss: -245.6793 - accuracy: 0.1143 - val_loss: -412.3319 - val_accuracy: 0.1095\n",
      "Epoch 3/20\n",
      "71/71 [==============================] - 1s 11ms/step - loss: -658.3376 - accuracy: 0.1143 - val_loss: -953.1919 - val_accuracy: 0.1095\n",
      "Epoch 4/20\n",
      "71/71 [==============================] - 1s 9ms/step - loss: -1350.9567 - accuracy: 0.1143 - val_loss: -1804.2240 - val_accuracy: 0.1095\n",
      "Epoch 5/20\n",
      "71/71 [==============================] - 1s 9ms/step - loss: -2382.2969 - accuracy: 0.1143 - val_loss: -3023.9465 - val_accuracy: 0.1095\n",
      "Epoch 6/20\n",
      "71/71 [==============================] - 1s 11ms/step - loss: -3817.5710 - accuracy: 0.1143 - val_loss: -4674.0317 - val_accuracy: 0.1095\n",
      "Epoch 7/20\n",
      "71/71 [==============================] - 1s 10ms/step - loss: -5716.1782 - accuracy: 0.1143 - val_loss: -6808.1240 - val_accuracy: 0.1095\n",
      "Epoch 8/20\n",
      "71/71 [==============================] - 1s 9ms/step - loss: -8131.1226 - accuracy: 0.1143 - val_loss: -9496.3770 - val_accuracy: 0.1095\n",
      "Epoch 9/20\n",
      "71/71 [==============================] - 1s 9ms/step - loss: -11135.5029 - accuracy: 0.1143 - val_loss: -12801.1211 - val_accuracy: 0.1095\n",
      "Epoch 10/20\n",
      "71/71 [==============================] - 1s 8ms/step - loss: -14760.7920 - accuracy: 0.1143 - val_loss: -16751.9160 - val_accuracy: 0.1095\n",
      "Epoch 11/20\n",
      "71/71 [==============================] - 1s 8ms/step - loss: -19100.5078 - accuracy: 0.1143 - val_loss: -21433.9570 - val_accuracy: 0.1095\n",
      "Epoch 12/20\n",
      "71/71 [==============================] - 1s 8ms/step - loss: -24217.1992 - accuracy: 0.1143 - val_loss: -26920.4316 - val_accuracy: 0.1095\n",
      "Epoch 13/20\n",
      "71/71 [==============================] - 1s 8ms/step - loss: -30115.1191 - accuracy: 0.1143 - val_loss: -33215.1484 - val_accuracy: 0.1095\n",
      "Epoch 14/20\n",
      "71/71 [==============================] - 1s 8ms/step - loss: -36913.5820 - accuracy: 0.1143 - val_loss: -40424.3398 - val_accuracy: 0.1095\n",
      "Epoch 15/20\n",
      "71/71 [==============================] - 1s 8ms/step - loss: -44641.9766 - accuracy: 0.1143 - val_loss: -48616.8906 - val_accuracy: 0.1095\n",
      "Epoch 16/20\n",
      "71/71 [==============================] - 1s 8ms/step - loss: -53378.0234 - accuracy: 0.1143 - val_loss: -57808.9023 - val_accuracy: 0.1095\n",
      "Epoch 17/20\n",
      "71/71 [==============================] - 1s 8ms/step - loss: -63178.0898 - accuracy: 0.1143 - val_loss: -68110.9297 - val_accuracy: 0.1095\n",
      "Epoch 18/20\n",
      "71/71 [==============================] - 1s 8ms/step - loss: -74059.9375 - accuracy: 0.1143 - val_loss: -79511.8281 - val_accuracy: 0.1095\n",
      "Epoch 19/20\n",
      "71/71 [==============================] - 1s 8ms/step - loss: -86143.8438 - accuracy: 0.1143 - val_loss: -92134.0547 - val_accuracy: 0.1095\n",
      "Epoch 20/20\n",
      "71/71 [==============================] - 1s 8ms/step - loss: -99461.1016 - accuracy: 0.1143 - val_loss: -106016.8438 - val_accuracy: 0.1095\n"
     ]
    }
   ],
   "source": [
    "from tensorflow.keras import regularizers\n",
    "from tensorflow import keras\n",
    "from tensorflow.keras import layers\n",
    "\n",
    "model = keras.Sequential([layers.Dense(16, kernel_regularizer=regularizers.l2(0.002),activation=\"relu\"),\n",
    "                          layers.Dense(16, kernel_regularizer=regularizers.l2(0.002),activation=\"relu\"),\n",
    "                          layers.Dense(1, activation=\"sigmoid\")\n",
    "                         ])\n",
    "model.compile(optimizer=\"rmsprop\",\n",
    "              loss=\"binary_crossentropy\",\n",
    "              metrics=[\"accuracy\"])\n",
    "\n",
    "history_l2_reg = model.fit(train_images, train_labels,epochs=20, batch_size=512, validation_split=0.4)"
   ]
  },
  {
   "cell_type": "markdown",
   "id": "1627939d",
   "metadata": {},
   "source": [
    "Alternative Method of Regularization"
   ]
  },
  {
   "cell_type": "code",
   "execution_count": 11,
   "id": "1626f212",
   "metadata": {},
   "outputs": [
    {
     "data": {
      "text/plain": [
       "<keras.regularizers.L1L2 at 0x130949a30>"
      ]
     },
     "execution_count": 11,
     "metadata": {},
     "output_type": "execute_result"
    }
   ],
   "source": [
    "from tensorflow.keras import regularizers\n",
    "regularizers.l1(0.001)\n",
    "regularizers.l1_l2(l1=0.001, l2=0.001)"
   ]
  },
  {
   "cell_type": "markdown",
   "id": "d9badaa7",
   "metadata": {},
   "source": [
    "Adding dropout\n",
    "* During training (not testing), drop the outputs of randomly chosen nodes, changing at each forward propagation\n",
    "* known to make the cost function more convex (i.e., easier to minimize) and reduce dependence on few nodes"
   ]
  },
  {
   "cell_type": "markdown",
   "id": "08fb1ab0",
   "metadata": {},
   "source": [
    "**Practice**\n",
    "\n",
    "Adding dropout to the IMDB model"
   ]
  },
  {
   "cell_type": "code",
   "execution_count": 14,
   "id": "1b22d7c8",
   "metadata": {},
   "outputs": [],
   "source": [
    "import numpy as np\n",
    "import matplotlib.pyplot as plt \n",
    "from tensorflow import keras\n",
    "from tensorflow.keras import layers\n",
    "import matplotlib.pyplot as plt \n",
    "from tensorflow.keras.datasets import imdb\n",
    "\n",
    "(train_data,train_labels), (test_data,test_labels)= imdb.load_data(num_words=10000)\n",
    "\n",
    "# Convert imdb review data to vectorized sequence\n",
    "# each dimension corresponds to a word in the dictionary \n",
    "# the value is words frequencey\n",
    "def vectorize_sequences(sequences, dimension=10000):\n",
    "    results = np.zeros((len(sequences), dimension)) \n",
    "    for i, sequence in enumerate(sequences):\n",
    "        for j in sequence:\n",
    "            results[i, j] += 1.\n",
    "    return results\n",
    "\n",
    "\n",
    "x_train = vectorize_sequences(train_data)\n",
    "x_test = vectorize_sequences(test_data) \n",
    "y_train = np.asarray(train_labels).astype(\"float32\")\n",
    "y_test = np.asarray(test_labels).astype(\"float32\")"
   ]
  },
  {
   "cell_type": "code",
   "execution_count": 16,
   "id": "2c7e0fb0",
   "metadata": {},
   "outputs": [
    {
     "name": "stdout",
     "output_type": "stream",
     "text": [
      "Epoch 1/20\n"
     ]
    },
    {
     "name": "stderr",
     "output_type": "stream",
     "text": [
      "2022-03-10 11:27:38.110999: I tensorflow/core/grappler/optimizers/custom_graph_optimizer_registry.cc:112] Plugin optimizer for device_type GPU is enabled.\n"
     ]
    },
    {
     "name": "stdout",
     "output_type": "stream",
     "text": [
      "30/30 [==============================] - 2s 35ms/step - loss: 0.6655 - accuracy: 0.5961 - val_loss: 0.5477 - val_accuracy: 0.8140\n"
     ]
    },
    {
     "name": "stderr",
     "output_type": "stream",
     "text": [
      "2022-03-10 11:27:39.264655: I tensorflow/core/grappler/optimizers/custom_graph_optimizer_registry.cc:112] Plugin optimizer for device_type GPU is enabled.\n"
     ]
    },
    {
     "name": "stdout",
     "output_type": "stream",
     "text": [
      "Epoch 2/20\n",
      "30/30 [==============================] - 1s 17ms/step - loss: 0.5532 - accuracy: 0.7379 - val_loss: 0.4599 - val_accuracy: 0.8272\n",
      "Epoch 3/20\n",
      "30/30 [==============================] - 0s 13ms/step - loss: 0.4673 - accuracy: 0.8056 - val_loss: 0.3592 - val_accuracy: 0.8750\n",
      "Epoch 4/20\n",
      "30/30 [==============================] - 0s 13ms/step - loss: 0.4040 - accuracy: 0.8458 - val_loss: 0.3258 - val_accuracy: 0.8842\n",
      "Epoch 5/20\n",
      "30/30 [==============================] - 0s 13ms/step - loss: 0.3518 - accuracy: 0.8713 - val_loss: 0.3090 - val_accuracy: 0.8857\n",
      "Epoch 6/20\n",
      "30/30 [==============================] - 0s 13ms/step - loss: 0.3084 - accuracy: 0.8918 - val_loss: 0.2885 - val_accuracy: 0.8918\n",
      "Epoch 7/20\n",
      "30/30 [==============================] - 0s 13ms/step - loss: 0.2785 - accuracy: 0.9003 - val_loss: 0.2799 - val_accuracy: 0.8925\n",
      "Epoch 8/20\n",
      "30/30 [==============================] - 0s 14ms/step - loss: 0.2496 - accuracy: 0.9148 - val_loss: 0.2915 - val_accuracy: 0.8943\n",
      "Epoch 9/20\n",
      "30/30 [==============================] - 0s 13ms/step - loss: 0.2207 - accuracy: 0.9229 - val_loss: 0.3000 - val_accuracy: 0.8891\n",
      "Epoch 10/20\n",
      "30/30 [==============================] - 0s 13ms/step - loss: 0.2021 - accuracy: 0.9315 - val_loss: 0.2980 - val_accuracy: 0.8939\n",
      "Epoch 11/20\n",
      "30/30 [==============================] - 0s 13ms/step - loss: 0.1867 - accuracy: 0.9384 - val_loss: 0.3919 - val_accuracy: 0.8804\n",
      "Epoch 12/20\n",
      "30/30 [==============================] - 0s 13ms/step - loss: 0.1708 - accuracy: 0.9425 - val_loss: 0.3456 - val_accuracy: 0.8911\n",
      "Epoch 13/20\n",
      "30/30 [==============================] - 0s 13ms/step - loss: 0.1578 - accuracy: 0.9487 - val_loss: 0.3458 - val_accuracy: 0.8916\n",
      "Epoch 14/20\n",
      "30/30 [==============================] - 0s 13ms/step - loss: 0.1467 - accuracy: 0.9509 - val_loss: 0.4531 - val_accuracy: 0.8808\n",
      "Epoch 15/20\n",
      "30/30 [==============================] - 0s 14ms/step - loss: 0.1374 - accuracy: 0.9538 - val_loss: 0.3788 - val_accuracy: 0.8891\n",
      "Epoch 16/20\n",
      "30/30 [==============================] - 0s 13ms/step - loss: 0.1256 - accuracy: 0.9588 - val_loss: 0.4454 - val_accuracy: 0.8892\n",
      "Epoch 17/20\n",
      "30/30 [==============================] - 0s 14ms/step - loss: 0.1222 - accuracy: 0.9609 - val_loss: 0.4480 - val_accuracy: 0.8889\n",
      "Epoch 18/20\n",
      "30/30 [==============================] - 0s 13ms/step - loss: 0.1139 - accuracy: 0.9625 - val_loss: 0.4897 - val_accuracy: 0.8886\n",
      "Epoch 19/20\n",
      "30/30 [==============================] - 0s 14ms/step - loss: 0.1062 - accuracy: 0.9662 - val_loss: 0.4814 - val_accuracy: 0.8893\n",
      "Epoch 20/20\n",
      "30/30 [==============================] - 0s 14ms/step - loss: 0.1054 - accuracy: 0.9666 - val_loss: 0.5489 - val_accuracy: 0.8843\n"
     ]
    }
   ],
   "source": [
    "model = keras.Sequential([layers.Dense(16, activation=\"relu\"),\n",
    "                          layers.Dropout(0.5), ## New layer after Dense\n",
    "                          layers.Dense(16, activation=\"relu\"),\n",
    "                          layers.Dropout(0.5), ## New layer after Dense\n",
    "                          layers.Dense(1, activation=\"sigmoid\")\n",
    "                         ])\n",
    "\n",
    "model.compile(optimizer=\"rmsprop\",\n",
    "              loss=\"binary_crossentropy\",\n",
    "              metrics=[\"accuracy\"])\n",
    "\n",
    "history_dropout = model.fit(x_train, y_train,epochs=20, batch_size=512, validation_split=0.4)"
   ]
  },
  {
   "cell_type": "code",
   "execution_count": 22,
   "id": "338d97df",
   "metadata": {},
   "outputs": [
    {
     "data": {
      "text/plain": [
       "<matplotlib.legend.Legend at 0x3738961c0>"
      ]
     },
     "execution_count": 22,
     "metadata": {},
     "output_type": "execute_result"
    },
    {
     "data": {
      "image/png": "[encoded data removed]",
      "text/plain": [
       "<Figure size 432x288 with 1 Axes>"
      ]
     },
     "metadata": {
      "needs_background": "light"
     },
     "output_type": "display_data"
    }
   ],
   "source": [
    "import matplotlib.pyplot as plt\n",
    "val_loss = history_dropout.history[\"val_loss\"]\n",
    "train_loss= history_dropout.history[\"loss\"]\n",
    "epochs = range(1, 21)\n",
    "plt.plot(epochs, val_loss, \"b--\", label=\"Validation loss\") \n",
    "plt.plot(epochs, train_loss, \"bo\", label=\"Training loss\") \n",
    "plt.title(\"Effect of dropout on validation loss\")\n",
    "plt.xlabel(\"Epochs\")\n",
    "plt.ylabel(\"Loss\")\n",
    "plt.legend()"
   ]
  },
  {
   "cell_type": "code",
   "execution_count": 31,
   "id": "06399951",
   "metadata": {},
   "outputs": [
    {
     "data": {
      "text/plain": [
       "[array([[ 0.00396975, -0.01668397, -0.02113782, ...,  0.00819423,\n",
       "         -0.01526925,  0.00455373],\n",
       "        [ 0.00785729,  0.00163613,  0.0239944 , ..., -0.00706953,\n",
       "          0.02135699,  0.05078248],\n",
       "        [-0.02128046, -0.03010509, -0.01464837, ..., -0.01884518,\n",
       "         -0.00204101, -0.00010479],\n",
       "        ...,\n",
       "        [ 0.02245342,  0.02701382,  0.01502116, ..., -0.01590209,\n",
       "         -0.01485339,  0.03533897],\n",
       "        [ 0.02451502,  0.02497038,  0.01235987, ...,  0.00486548,\n",
       "          0.0505278 ,  0.01852792],\n",
       "        [ 0.0819525 ,  0.08743663, -0.00451046, ..., -0.00150972,\n",
       "          0.01299121, -0.02619789]], dtype=float32),\n",
       " array([ 0.00695657,  0.01006572,  0.03329627,  0.03698868,  0.03910755,\n",
       "         0.01382935,  0.04096008,  0.03256616,  0.03717541,  0.03351788,\n",
       "         0.03362135, -0.01504394,  0.04480902, -0.01922049,  0.04065627,\n",
       "         0.03104679], dtype=float32),\n",
       " array([[ 0.52461344, -0.23809244, -0.3798526 , -0.2839861 ,  0.56342745,\n",
       "          0.52087975, -0.25508025, -0.40070766, -0.24865797, -0.22925761,\n",
       "          0.55616933, -0.181849  ,  0.51118594,  0.4877912 , -0.34572032,\n",
       "          0.5074856 ],\n",
       "        [ 0.47815067, -0.14004363, -0.13993852, -0.2263684 ,  0.3227038 ,\n",
       "          0.16794151, -0.2505765 , -0.05091605, -0.13748163, -0.21753383,\n",
       "          0.41602096, -0.2027991 ,  0.4337828 ,  0.541063  , -0.3582259 ,\n",
       "          0.7184763 ],\n",
       "        [-0.07674913,  0.14522491, -0.04855641,  0.40024775, -0.07081472,\n",
       "         -0.52254057,  0.1670585 ,  0.63566107,  0.32954833,  0.6587826 ,\n",
       "          0.03673584,  0.11476959, -0.50129825, -0.3890226 ,  0.5278051 ,\n",
       "         -0.04900989],\n",
       "        [-0.4784452 ,  0.27966994,  0.5021281 ,  0.38760358, -0.3444378 ,\n",
       "         -0.41964433,  0.31686562,  0.41967762,  0.53317237,  0.25215235,\n",
       "         -0.06206634,  0.36336625,  0.01065423, -0.13074271,  0.7202058 ,\n",
       "         -0.3705215 ],\n",
       "        [-0.32889828,  0.4435822 ,  0.5968583 , -0.0152012 , -0.30499035,\n",
       "         -0.3957709 ,  0.20132793, -0.02977639,  0.6288629 ,  0.54215556,\n",
       "         -0.15801269,  0.5767959 , -0.47023672, -0.4379265 ,  0.5528423 ,\n",
       "         -0.32017457],\n",
       "        [-0.06485066,  0.4167646 , -0.05397245,  0.24073361, -0.08354032,\n",
       "         -0.4505143 ,  0.4617475 ,  0.41976002,  0.1759054 ,  0.06579408,\n",
       "         -0.472369  ,  0.1466507 , -0.10732253, -0.04610693,  0.43790832,\n",
       "         -0.02916424],\n",
       "        [-0.05722084,  0.18738882, -0.06322019,  0.49102375,  0.08926602,\n",
       "         -0.3478176 ,  0.5666063 ,  0.1622577 ,  0.32292578,  0.06718276,\n",
       "         -0.3256959 ,  0.3648311 , -0.3560286 , -0.18758868,  0.16604224,\n",
       "         -0.43142524],\n",
       "        [-0.29505673,  0.23359482,  0.3582356 ,  0.03006868, -0.40724272,\n",
       "          0.06729539,  0.21206613,  0.55952686,  0.24227978,  0.56467605,\n",
       "         -0.46090025,  0.5451359 , -0.2040547 , -0.17573376,  0.3292701 ,\n",
       "         -0.05498888],\n",
       "        [ 0.00857597,  0.61439204,  0.4831333 , -0.019432  , -0.4142968 ,\n",
       "         -0.08118303,  0.5560395 ,  0.31008205,  0.21030965,  0.27023858,\n",
       "         -0.44091174, -0.01981135,  0.00833446, -0.37811056,  0.4974747 ,\n",
       "         -0.30398685],\n",
       "        [ 0.47373638, -0.11594227, -0.18603753, -0.30814606,  0.48602274,\n",
       "          0.6813022 , -0.28705412, -0.18798198, -0.135365  , -0.06446469,\n",
       "          0.45181224, -0.31467015,  0.51089936,  0.46582904, -0.04696391,\n",
       "         -0.03616032],\n",
       "        [-0.23616286,  0.18750693,  0.2755666 ,  0.49714893,  0.04750665,\n",
       "          0.09105182,  0.12294233,  0.05162698,  0.44306228,  0.2564738 ,\n",
       "         -0.15428086,  0.60553354, -0.02452552, -0.19821887,  0.55003035,\n",
       "         -0.01906521],\n",
       "        [ 0.06335485, -0.3019767 ,  0.06809473,  0.24312463, -0.08026493,\n",
       "          0.00762177, -0.26308644,  0.3302588 ,  0.37786704, -0.11599707,\n",
       "         -0.01134449, -0.0723325 ,  0.31185365, -0.32354167,  0.01091827,\n",
       "         -0.31228197],\n",
       "        [-0.4479718 ,  0.04659515,  0.36004487,  0.57252043, -0.45323586,\n",
       "         -0.23759542,  0.60405684,  0.44338077,  0.46286553,  0.35123593,\n",
       "         -0.01159901,  0.3022076 , -0.28664273, -0.28323266,  0.13486516,\n",
       "         -0.498259  ],\n",
       "        [-0.13509159, -0.11206351,  0.3213066 , -0.4174519 , -0.42852286,\n",
       "          0.38390183,  0.12094053,  0.03994294,  0.3783152 , -0.2485648 ,\n",
       "         -0.1375498 , -0.29573974,  0.08954078, -0.01222949, -0.25732118,\n",
       "          0.41718516],\n",
       "        [-0.27627778,  0.26521805,  0.29613754,  0.5421942 , -0.35046384,\n",
       "         -0.25996643,  0.19501212,  0.57550055,  0.41006196, -0.00159485,\n",
       "         -0.23668438,  0.5529239 , -0.54435635, -0.01052439,  0.01224555,\n",
       "         -0.04533246],\n",
       "        [-0.0913194 , -0.05803254,  0.4289988 ,  0.50478935, -0.34072915,\n",
       "         -0.22031224,  0.01430358,  0.06028003,  0.3276021 ,  0.64504695,\n",
       "         -0.05542939,  0.5611572 , -0.32953992, -0.19548903,  0.5127341 ,\n",
       "         -0.22919713]], dtype=float32),\n",
       " array([ 0.32045138,  0.00089753, -0.00264426,  0.00298853,  0.2816985 ,\n",
       "         0.2585584 ,  0.00072814,  0.00342746, -0.00042516, -0.00084835,\n",
       "         0.26357415,  0.00088402,  0.30346122,  0.35301942, -0.00082459,\n",
       "         0.34880644], dtype=float32),\n",
       " array([[ 0.5182302 ],\n",
       "        [-0.76975006],\n",
       "        [-0.745261  ],\n",
       "        [-0.72417235],\n",
       "        [ 0.68553877],\n",
       "        [ 0.63548756],\n",
       "        [-0.6286396 ],\n",
       "        [-0.8310532 ],\n",
       "        [-0.6273406 ],\n",
       "        [-0.560551  ],\n",
       "        [ 0.83272696],\n",
       "        [-0.40915892],\n",
       "        [ 0.79427207],\n",
       "        [ 0.6444329 ],\n",
       "        [-0.63428277],\n",
       "        [ 0.54345196]], dtype=float32),\n",
       " array([0.3096957], dtype=float32)]"
      ]
     },
     "execution_count": 31,
     "metadata": {},
     "output_type": "execute_result"
    }
   ],
   "source": [
    "len(model.get_weights())\n",
    "model.get_weights()"
   ]
  },
  {
   "cell_type": "code",
   "execution_count": 40,
   "id": "5e8fc215",
   "metadata": {},
   "outputs": [
    {
     "name": "stdout",
     "output_type": "stream",
     "text": [
      "[[0. 1.]\n",
      " [2. 3.]\n",
      " [4. 5.]\n",
      " [6. 7.]\n",
      " [8. 9.]]\n",
      "tf.Tensor(\n",
      "[[0. 1.]\n",
      " [2. 3.]\n",
      " [4. 5.]\n",
      " [6. 7.]\n",
      " [8. 9.]], shape=(5, 2), dtype=float32)\n",
      "tf.Tensor(\n",
      "[[ 0.    0.  ]\n",
      " [ 0.    0.  ]\n",
      " [ 5.    6.25]\n",
      " [ 7.5   0.  ]\n",
      " [10.   11.25]], shape=(5, 2), dtype=float32)\n",
      "tf.Tensor(\n",
      "[[ 0.    0.  ]\n",
      " [ 0.    0.  ]\n",
      " [ 5.    6.25]\n",
      " [ 7.5   0.  ]\n",
      " [10.   11.25]], shape=(5, 2), dtype=float32)\n",
      "tf.Tensor(\n",
      "[[ 0.    0.  ]\n",
      " [ 0.    0.  ]\n",
      " [ 5.    6.25]\n",
      " [ 7.5   0.  ]\n",
      " [10.   11.25]], shape=(5, 2), dtype=float32)\n"
     ]
    }
   ],
   "source": [
    "import tensorflow as tf\n",
    "#tf.random.set_seed(0)\n",
    "import numpy as np\n",
    "layer = tf.keras.layers.Dropout(.2, input_shape=(2,))\n",
    "data = np.arange(10).reshape(5, 2).astype(np.float32)\n",
    "\n",
    "print(data)\n",
    "outputs = layer(data, training=False)\n",
    "print(outputs)\n",
    "outputs = layer(data, training=True)\n",
    "print(outputs)\n",
    "outputs = layer(data, training=True)\n",
    "print(outputs)\n",
    "outputs = layer(data, training=True)\n",
    "print(outputs)"
   ]
  },
  {
   "cell_type": "code",
   "execution_count": null,
   "id": "68e61219",
   "metadata": {},
   "outputs": [],
   "source": []
  }
 ],
 "metadata": {
  "kernelspec": {
   "display_name": "Python 3 (ipykernel)",
   "language": "python",
   "name": "python3"
  },
  "language_info": {
   "codemirror_mode": {
    "name": "ipython",
    "version": 3
   },
   "file_extension": ".py",
   "mimetype": "text/x-python",
   "name": "python",
   "nbconvert_exporter": "python",
   "pygments_lexer": "ipython3",
   "version": "3.9.7"
  }
 },
 "nbformat": 4,
 "nbformat_minor": 5
}
