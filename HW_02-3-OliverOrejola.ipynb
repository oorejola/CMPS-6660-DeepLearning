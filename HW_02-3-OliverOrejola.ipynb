{
 "cells": [
  {
   "cell_type": "markdown",
   "id": "14d61355",
   "metadata": {},
   "source": [
    "# HW 2-3"
   ]
  },
  {
   "cell_type": "markdown",
   "id": "cb897cec",
   "metadata": {},
   "source": [
    "## Load Libraries\n"
   ]
  },
  {
   "cell_type": "code",
   "execution_count": 1,
   "id": "a9b289a9",
   "metadata": {},
   "outputs": [],
   "source": [
    "import tensorflow as tf"
   ]
  },
  {
   "cell_type": "markdown",
   "id": "b7494fd7",
   "metadata": {},
   "source": [
    "## Load and process data"
   ]
  },
  {
   "cell_type": "code",
   "execution_count": 2,
   "id": "be3a163a",
   "metadata": {},
   "outputs": [],
   "source": [
    "from tensorflow.keras.datasets import mnist\n",
    "(train_images, train_labels), (test_images, test_labels) = mnist.load_data()\n",
    "\n",
    "train_images = train_images.reshape((60000, 28 * 28)) #Flatting 2 dim image data to vector\n",
    "train_images = train_images.astype(\"float32\") / 255\n",
    "test_images = test_images.reshape((10000, 28 * 28))\n",
    "test_images = test_images.astype(\"float32\") / 255"
   ]
  },
  {
   "cell_type": "markdown",
   "id": "f8ace05f",
   "metadata": {},
   "source": [
    "## Model from Keras\n",
    "\n",
    "Train simple Keras model. "
   ]
  },
  {
   "cell_type": "code",
   "execution_count": 3,
   "id": "47a2f2f2",
   "metadata": {},
   "outputs": [
    {
     "name": "stdout",
     "output_type": "stream",
     "text": [
      "Metal device set to: Apple M1\n"
     ]
    },
    {
     "name": "stderr",
     "output_type": "stream",
     "text": [
      "2022-10-07 13:37:50.700846: I tensorflow/core/common_runtime/pluggable_device/pluggable_device_factory.cc:305] Could not identify NUMA node of platform GPU ID 0, defaulting to 0. Your kernel may not have been built with NUMA support.\n",
      "2022-10-07 13:37:50.700952: I tensorflow/core/common_runtime/pluggable_device/pluggable_device_factory.cc:271] Created TensorFlow device (/job:localhost/replica:0/task:0/device:GPU:0 with 0 MB memory) -> physical PluggableDevice (device: 0, name: METAL, pci bus id: <undefined>)\n"
     ]
    }
   ],
   "source": [
    "from tensorflow import keras\n",
    "from tensorflow.keras import layers\n",
    "\n",
    "model = keras.Sequential([layers.Dense(512,activation=\"relu\"),layers.Dense(10,activation=\"softmax\")]);"
   ]
  },
  {
   "cell_type": "markdown",
   "id": "7c306f78",
   "metadata": {},
   "source": [
    "Compile Model. Defines model **loss function**, **optimizer** and **metrics** which is necessary for training."
   ]
  },
  {
   "cell_type": "code",
   "execution_count": 4,
   "id": "45691eb3",
   "metadata": {},
   "outputs": [],
   "source": [
    "model.compile(optimizer=\"rmsprop\",\n",
    "              loss=\"sparse_categorical_crossentropy\",\n",
    "              metrics=[\"accuracy\"])"
   ]
  },
  {
   "cell_type": "code",
   "execution_count": 5,
   "id": "de151af3",
   "metadata": {},
   "outputs": [
    {
     "name": "stderr",
     "output_type": "stream",
     "text": [
      "2022-10-07 13:37:50.855406: W tensorflow/core/platform/profile_utils/cpu_utils.cc:128] Failed to get CPU frequency: 0 Hz\n"
     ]
    },
    {
     "name": "stdout",
     "output_type": "stream",
     "text": [
      "Epoch 1/5\n"
     ]
    },
    {
     "name": "stderr",
     "output_type": "stream",
     "text": [
      "2022-10-07 13:37:50.989330: I tensorflow/core/grappler/optimizers/custom_graph_optimizer_registry.cc:112] Plugin optimizer for device_type GPU is enabled.\n"
     ]
    },
    {
     "name": "stdout",
     "output_type": "stream",
     "text": [
      "469/469 [==============================] - 3s 6ms/step - loss: 0.2576 - accuracy: 0.9262\n",
      "Epoch 2/5\n",
      "469/469 [==============================] - 3s 5ms/step - loss: 0.1039 - accuracy: 0.9692\n",
      "Epoch 3/5\n",
      "469/469 [==============================] - 2s 5ms/step - loss: 0.0687 - accuracy: 0.9793\n",
      "Epoch 4/5\n",
      "469/469 [==============================] - 2s 5ms/step - loss: 0.0499 - accuracy: 0.9850\n",
      "Epoch 5/5\n",
      "469/469 [==============================] - 2s 5ms/step - loss: 0.0381 - accuracy: 0.9888\n",
      " 44/313 [===>..........................] - ETA: 0s - loss: 0.0925 - accuracy: 0.9723"
     ]
    },
    {
     "name": "stderr",
     "output_type": "stream",
     "text": [
      "2022-10-07 13:38:03.370801: I tensorflow/core/grappler/optimizers/custom_graph_optimizer_registry.cc:112] Plugin optimizer for device_type GPU is enabled.\n"
     ]
    },
    {
     "name": "stdout",
     "output_type": "stream",
     "text": [
      "313/313 [==============================] - 1s 4ms/step - loss: 0.0698 - accuracy: 0.9790\n",
      "test_acc: 0.9790000319480896 test_loss: 0.06980685144662857\n"
     ]
    }
   ],
   "source": [
    "model.fit(train_images, train_labels, epochs=5, batch_size=128)\n",
    "test_loss, test_acc = model.evaluate(test_images, test_labels)\n",
    "\n",
    "print(f\"test_acc: {test_acc} test_loss: {test_loss}\")"
   ]
  },
  {
   "cell_type": "markdown",
   "id": "4445fe05",
   "metadata": {},
   "source": [
    "**Keras Model Performance** \n",
    "\n",
    "```\n",
    "Test accuracy = 0.9790\n",
    "Test loss = 0.06980\n",
    "```\n",
    "\n",
    "**Model Summary**"
   ]
  },
  {
   "cell_type": "code",
   "execution_count": 6,
   "id": "65640097",
   "metadata": {},
   "outputs": [
    {
     "name": "stdout",
     "output_type": "stream",
     "text": [
      "Model: \"sequential\"\n",
      "_________________________________________________________________\n",
      " Layer (type)                Output Shape              Param #   \n",
      "=================================================================\n",
      " dense (Dense)               (None, 512)               401920    \n",
      "                                                                 \n",
      " dense_1 (Dense)             (None, 10)                5130      \n",
      "                                                                 \n",
      "=================================================================\n",
      "Total params: 407,050\n",
      "Trainable params: 407,050\n",
      "Non-trainable params: 0\n",
      "_________________________________________________________________\n"
     ]
    }
   ],
   "source": [
    "model.summary()"
   ]
  },
  {
   "cell_type": "markdown",
   "id": "597ebcad",
   "metadata": {},
   "source": [
    "## Naive Model"
   ]
  },
  {
   "cell_type": "markdown",
   "id": "0a177db2",
   "metadata": {},
   "source": [
    "We build a naive model from 'scratch' using tensorflow. \n",
    "\n",
    "* `NaiveDense` stores the dense connections (fully connected layers)\n",
    "* `NaiveSequential` builds a sequential model.\n",
    "\n",
    "This Naive model attempts to mimic `keras.Sequential([layers.Dense(512,activation=\"relu\"),layers.Dense(10,activation=\"softmax\")]);`\n"
   ]
  },
  {
   "cell_type": "code",
   "execution_count": 7,
   "id": "9d4823b3",
   "metadata": {},
   "outputs": [],
   "source": [
    "class NaiveDense:\n",
    "    def __init__(self, input_size, output_size, activation):\n",
    "        self.activation = activation\n",
    "        w_shape = (input_size, output_size)\n",
    "        w_initial_value = tf.random.uniform(w_shape, minval=0, maxval=1e-1) \n",
    "        self.W = tf.Variable(w_initial_value)\n",
    "        b_shape = (output_size,)\n",
    "        b_initial_value = tf.zeros(b_shape)\n",
    "        self.b = tf.Variable(b_initial_value)\n",
    "    def __call__(self, inputs):\n",
    "        return self.activation(tf.matmul(inputs, self.W) + self.b)\n",
    "    \n",
    "    @property\n",
    "    def weights(self):\n",
    "        return [self.W, self.b]\n"
   ]
  },
  {
   "cell_type": "code",
   "execution_count": 8,
   "id": "2440ea9c",
   "metadata": {},
   "outputs": [],
   "source": [
    "class NaiveSequential:\n",
    "    def __init__(self, layers):\n",
    "        self.layers = layers\n",
    "    def __call__(self, inputs):\n",
    "        x = inputs\n",
    "        for layer in self.layers:\n",
    "            x = layer(x)\n",
    "        return x\n",
    "    \n",
    "    @property\n",
    "    def weights(self):\n",
    "        weights = []\n",
    "        for layer in self.layers:\n",
    "            weights += layer.weights\n",
    "        return weights"
   ]
  },
  {
   "cell_type": "markdown",
   "id": "17178b3a",
   "metadata": {},
   "source": [
    "`BatchGenerator` creates batches to be used in the computation of the loss as in the stochastic gradient descent algorithm. "
   ]
  },
  {
   "cell_type": "code",
   "execution_count": 9,
   "id": "294cd84d",
   "metadata": {},
   "outputs": [],
   "source": [
    "import math\n",
    "class BatchGenerator:\n",
    "    def __init__(self, images, labels, batch_size=128):\n",
    "        assert len(images) == len(labels)\n",
    "        self.index = 0\n",
    "        self.images = images\n",
    "        self.labels = labels\n",
    "        self.batch_size = batch_size\n",
    "        self.num_batches = math.ceil(len(images) / batch_size)\n",
    "    def next(self):\n",
    "        images = self.images[self.index : self.index + self.batch_size]\n",
    "        labels = self.labels[self.index : self.index + self.batch_size]\n",
    "        self.index += self.batch_size\n",
    "        return images, labels"
   ]
  },
  {
   "cell_type": "markdown",
   "id": "e70a4f50",
   "metadata": {},
   "source": [
    "We now define the learning proceedure. \n",
    "\n",
    "* `update_weights` updates the weights computed from the gradient of the loss\n",
    "* `one_training_step` computes the gradient of the loss over the batch and updates the weights of the model accordingly."
   ]
  },
  {
   "cell_type": "code",
   "execution_count": 10,
   "id": "2268784a",
   "metadata": {},
   "outputs": [],
   "source": [
    "from tensorflow.keras import optimizers\n",
    "\n",
    "#optimizer = optimizers.SGD(learning_rate=1e-3)\n",
    "# Use RMSprop optimzer as was used for keras model\n",
    "optimizer = optimizers.RMSprop() \n",
    "\n",
    "def update_weights(gradients, weights): \n",
    "    optimizer.apply_gradients(zip(gradients, weights))"
   ]
  },
  {
   "cell_type": "code",
   "execution_count": 11,
   "id": "3ac9c5d9",
   "metadata": {},
   "outputs": [],
   "source": [
    "def one_training_step(model, images_batch, labels_batch): \n",
    "    with tf.GradientTape() as tape:\n",
    "        predictions = model(images_batch)\n",
    "        per_sample_losses = tf.keras.losses.sparse_categorical_crossentropy(labels_batch, predictions)\n",
    "        average_loss = tf.reduce_mean(per_sample_losses)\n",
    "        \n",
    "    gradients = tape.gradient(average_loss, model.weights) \n",
    "    update_weights(gradients, model.weights)\n",
    "    return average_loss"
   ]
  },
  {
   "cell_type": "markdown",
   "id": "7c6d0748",
   "metadata": {},
   "source": [
    "Here we now define the fitting proceedure. We loop through multiple epochs, and for each loop generate a batch and perform a training step."
   ]
  },
  {
   "cell_type": "code",
   "execution_count": 12,
   "id": "f85b9316",
   "metadata": {},
   "outputs": [],
   "source": [
    "def fit(model, images, labels, epochs, batch_size=128): \n",
    "    for epoch_counter in range(epochs):\n",
    "        print(f\"Epoch {epoch_counter}\")\n",
    "        batch_generator = BatchGenerator(images, labels)\n",
    "        for batch_counter in range(batch_generator.num_batches):\n",
    "            images_batch, labels_batch = batch_generator.next() \n",
    "            loss = one_training_step(model, images_batch, labels_batch)\n",
    "            if batch_counter % 100 == 0:\n",
    "                print(f\"loss at batch {batch_counter}: {loss:.2f} \")"
   ]
  },
  {
   "cell_type": "markdown",
   "id": "edde9469",
   "metadata": {},
   "source": [
    "Define `evaluate` function which takes computes the accuracy and loss for a model given testing data\n",
    "\n",
    "Inputs:\n",
    "\n",
    "* `model` naive neural network model as defined interms of `naivedense` and `naivesequental`\n",
    "* `images` image data\n",
    "* `labels` corresponding labels for image data\n",
    "\n",
    "Outputs:\n",
    "\n",
    "* `accuracy` percentage of testing images correctly classified by `model`\n",
    "* `loss` crossentropy loss of `model` on the testing data \n"
   ]
  },
  {
   "cell_type": "code",
   "execution_count": 13,
   "id": "c5222446",
   "metadata": {},
   "outputs": [],
   "source": [
    "def evaluate(model, images,labels):\n",
    "    predictions = model(images).numpy()\n",
    "    count = 0\n",
    "    for idx,val in enumerate(labels):\n",
    "        if predictions[idx].argmax() == val:\n",
    "            count+= 1\n",
    "    accuracy = count / len(labels)\n",
    "    losses = tf.reduce_mean(tf.keras.losses.sparse_categorical_crossentropy(labels, predictions))\n",
    "    return accuracy, losses\n",
    "   "
   ]
  },
  {
   "cell_type": "markdown",
   "id": "302e5a33",
   "metadata": {},
   "source": [
    "**Initialize model**"
   ]
  },
  {
   "cell_type": "code",
   "execution_count": 14,
   "id": "3d57a1ec",
   "metadata": {},
   "outputs": [],
   "source": [
    "model = NaiveSequential([NaiveDense(input_size=28 * 28, output_size=512, activation=tf.nn.relu),\n",
    "                         NaiveDense(input_size=512, output_size=10, activation=tf.nn.softmax) ])"
   ]
  },
  {
   "cell_type": "markdown",
   "id": "8c7900ce",
   "metadata": {},
   "source": [
    "**Fit model**"
   ]
  },
  {
   "cell_type": "code",
   "execution_count": 15,
   "id": "2ce4a5e9",
   "metadata": {},
   "outputs": [
    {
     "name": "stdout",
     "output_type": "stream",
     "text": [
      "Epoch 0\n",
      "loss at batch 0: 5.00 \n",
      "loss at batch 100: 0.76 \n",
      "loss at batch 200: 0.48 \n",
      "loss at batch 300: 0.34 \n",
      "loss at batch 400: 0.52 \n",
      "Epoch 1\n",
      "loss at batch 0: 0.25 \n",
      "loss at batch 100: 0.41 \n",
      "loss at batch 200: 0.22 \n",
      "loss at batch 300: 0.31 \n",
      "loss at batch 400: 0.41 \n",
      "Epoch 2\n",
      "loss at batch 0: 0.18 \n",
      "loss at batch 100: 0.19 \n",
      "loss at batch 200: 0.21 \n",
      "loss at batch 300: 0.24 \n",
      "loss at batch 400: 0.30 \n",
      "Epoch 3\n",
      "loss at batch 0: 0.13 \n",
      "loss at batch 100: 0.12 \n",
      "loss at batch 200: 0.14 \n",
      "loss at batch 300: 0.14 \n",
      "loss at batch 400: 0.21 \n",
      "Epoch 4\n",
      "loss at batch 0: 0.08 \n",
      "loss at batch 100: 0.09 \n",
      "loss at batch 200: 0.08 \n",
      "loss at batch 300: 0.11 \n",
      "loss at batch 400: 0.16 \n",
      "Epoch 5\n",
      "loss at batch 0: 0.05 \n",
      "loss at batch 100: 0.06 \n",
      "loss at batch 200: 0.06 \n",
      "loss at batch 300: 0.09 \n",
      "loss at batch 400: 0.13 \n",
      "Epoch 6\n",
      "loss at batch 0: 0.03 \n",
      "loss at batch 100: 0.05 \n",
      "loss at batch 200: 0.04 \n",
      "loss at batch 300: 0.07 \n",
      "loss at batch 400: 0.11 \n",
      "Epoch 7\n",
      "loss at batch 0: 0.02 \n",
      "loss at batch 100: 0.04 \n",
      "loss at batch 200: 0.03 \n",
      "loss at batch 300: 0.05 \n",
      "loss at batch 400: 0.10 \n",
      "Epoch 8\n",
      "loss at batch 0: 0.01 \n",
      "loss at batch 100: 0.03 \n",
      "loss at batch 200: 0.02 \n",
      "loss at batch 300: 0.04 \n",
      "loss at batch 400: 0.09 \n",
      "Epoch 9\n",
      "loss at batch 0: 0.01 \n",
      "loss at batch 100: 0.03 \n",
      "loss at batch 200: 0.01 \n",
      "loss at batch 300: 0.02 \n",
      "loss at batch 400: 0.09 \n"
     ]
    }
   ],
   "source": [
    "fit(model, train_images, train_labels, epochs=10, batch_size=128)"
   ]
  },
  {
   "cell_type": "markdown",
   "id": "ba5c9414",
   "metadata": {},
   "source": [
    "**Evaluate model performace**"
   ]
  },
  {
   "cell_type": "code",
   "execution_count": 16,
   "id": "d78ac22f",
   "metadata": {},
   "outputs": [],
   "source": [
    "accuracy, losses = evaluate(model, test_images,test_labels)"
   ]
  },
  {
   "cell_type": "code",
   "execution_count": 17,
   "id": "e9d2f89d",
   "metadata": {},
   "outputs": [
    {
     "name": "stdout",
     "output_type": "stream",
     "text": [
      "test accuracy: 0.9771 test losses: 0.09\n"
     ]
    }
   ],
   "source": [
    "print(f\"test accuracy: {accuracy} test losses: {losses:.2f}\")"
   ]
  },
  {
   "cell_type": "markdown",
   "id": "c63d2c44",
   "metadata": {},
   "source": [
    "**Naive Model Performance**\n",
    "\n",
    "```\n",
    "Test accuracy = 0.9771\n",
    "Test loss = 0.09\n",
    "```\n",
    "\n",
    "**Comparison between Keras and Naive Model**\n",
    "\n",
    "We see that both models have comparable accuracy. From the Keras model we obtained an accuracy of `0.9790` and our naive model has an accuracy of `0.9771`."
   ]
  },
  {
   "cell_type": "code",
   "execution_count": null,
   "id": "f4d83e59",
   "metadata": {},
   "outputs": [],
   "source": []
  }
 ],
 "metadata": {
  "kernelspec": {
   "display_name": "Python 3 (ipykernel)",
   "language": "python",
   "name": "python3"
  },
  "language_info": {
   "codemirror_mode": {
    "name": "ipython",
    "version": 3
   },
   "file_extension": ".py",
   "mimetype": "text/x-python",
   "name": "python",
   "nbconvert_exporter": "python",
   "pygments_lexer": "ipython3",
   "version": "3.9.7"
  }
 },
 "nbformat": 4,
 "nbformat_minor": 5
}
