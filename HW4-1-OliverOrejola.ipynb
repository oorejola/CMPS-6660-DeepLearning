{
 "cells": [
  {
   "cell_type": "markdown",
   "id": "b406a12c",
   "metadata": {},
   "source": [
    "# HW 4-1"
   ]
  },
  {
   "cell_type": "markdown",
   "id": "87f6f416",
   "metadata": {},
   "source": [
    "## Classifying Movie reviews"
   ]
  },
  {
   "cell_type": "markdown",
   "id": "990767fa",
   "metadata": {},
   "source": [
    "**Import and prepare IMDB dataset**"
   ]
  },
  {
   "cell_type": "code",
   "execution_count": 5,
   "id": "c4a1c8d8",
   "metadata": {},
   "outputs": [],
   "source": [
    "import numpy as np\n",
    "import matplotlib.pyplot as plt \n",
    "from tensorflow import keras\n",
    "from tensorflow.keras import layers\n",
    "import matplotlib.pyplot as plt \n",
    "from tensorflow.keras.datasets import imdb\n",
    "\n",
    "(train_data,train_labels), (test_data,test_labels)= imdb.load_data(num_words=10000)\n",
    "\n",
    "# Convert imdb review data to vectorized sequence\n",
    "# each dimension corresponds to a word in the dictionary \n",
    "# the value is words frequencey\n",
    "def vectorize_sequences(sequences, dimension=10000):\n",
    "    results = np.zeros((len(sequences), dimension)) \n",
    "    for i, sequence in enumerate(sequences):\n",
    "        for j in sequence:\n",
    "            results[i, j] += 1.\n",
    "    return results\n",
    "\n",
    "\n",
    "x_train = vectorize_sequences(train_data)\n",
    "x_test = vectorize_sequences(test_data) \n",
    "y_train = np.asarray(train_labels).astype(\"float32\")\n",
    "y_test = np.asarray(test_labels).astype(\"float32\")"
   ]
  },
  {
   "cell_type": "markdown",
   "id": "bc739519",
   "metadata": {},
   "source": [
    "**Split training data into validation and training set**"
   ]
  },
  {
   "cell_type": "code",
   "execution_count": 6,
   "id": "4a95226a",
   "metadata": {},
   "outputs": [],
   "source": [
    "# Validation Set\n",
    "x_val = x_train[:10000]  \n",
    "y_val = y_train[:10000] \n",
    "\n",
    "# Training Set\n",
    "partial_x_train = x_train[10000:]\n",
    "partial_y_train = y_train[10000:]\n"
   ]
  },
  {
   "cell_type": "markdown",
   "id": "9ee825c0",
   "metadata": {},
   "source": [
    "Check that the models used so far are reasonable.\n",
    "\n",
    "While keeping other parameters the same as before:\n",
    "* Try using one, two or three intermediate layers instead of two. See how doing \n",
    "so affects validation and test accuracy\n",
    "* Try using layers with more units or fewer units: 8 units vs 16 units vs 32 units\n",
    "* Try using the mse loss function instead of binary_crossentropy"
   ]
  },
  {
   "cell_type": "markdown",
   "id": "552de63f",
   "metadata": {},
   "source": [
    "## Summary\n",
    "\n",
    "The data in the table below summarizes the training, validation, and testing accuracy at the optimal number of epochs for the 9 models. For each of the models we consider \"relu\" actiavtion functions as well as \"mse\" loss.\n",
    "Below these tables the code can be found along with training/validation accuracy plots for each model.\n",
    "\n",
    "**8** nodes per layer |1 Hidden Layer |2 Hidden Layers |3 Hidden Layers\n",
    ":---:|:---:|:---:|:---:\n",
    "Optimal Number of Epochs |3|5|5\n",
    "Training Accuracy |0.933|0.950|0.943\n",
    "Validation Accuracy |0.892|0.887|0.879\n",
    "Testing Accuracy |0.878|0.880|0.859\n",
    "\n",
    "16 nodes per layer |1 Hidden Layer |2 Hidden Layers |3 Hidden Layers\n",
    ":---:|:---:|:---:|:---:\n",
    "Optimal Number of Epochs |4|3|4\n",
    "Training Accuracy |0.950|0.918|0.953\n",
    "Validation Accuracy |0.889|0.867|0.886\n",
    "Testing Accuracy |0.882|0.852|0.877\n",
    "\n",
    "**32** nodes per layer |1 Hidden Layer |2 Hidden Layers |3 Hidden Layers\n",
    ":---:|:---:|:---:|:---:\n",
    "Optimal Number of Epochs |4|3|4\n",
    "Training Accuracy |0.958|0.948|0.966\n",
    "Validation Accuracy |0.894|0.887|0.891\n",
    "Testing Accuracy |0.886|0.879|0.876"
   ]
  },
  {
   "cell_type": "markdown",
   "id": "37c4875c",
   "metadata": {},
   "source": [
    "## Models"
   ]
  },
  {
   "cell_type": "markdown",
   "id": "ce383397",
   "metadata": {},
   "source": [
    "**Model 1**\n",
    "* 2 Hidden Layers\n",
    "* 16 nodes (relu activation)\n",
    "* mean square error (mse) loss"
   ]
  },
  {
   "cell_type": "code",
   "execution_count": 92,
   "id": "6013215d",
   "metadata": {
    "scrolled": true
   },
   "outputs": [
    {
     "name": "stdout",
     "output_type": "stream",
     "text": [
      "Epoch 1/20\n"
     ]
    },
    {
     "name": "stderr",
     "output_type": "stream",
     "text": [
      "2022-03-03 10:02:58.217355: I tensorflow/core/grappler/optimizers/custom_graph_optimizer_registry.cc:112] Plugin optimizer for device_type GPU is enabled.\n"
     ]
    },
    {
     "name": "stdout",
     "output_type": "stream",
     "text": [
      "30/30 [==============================] - ETA: 0s - loss: 0.1831 - accuracy: 0.7655"
     ]
    },
    {
     "name": "stderr",
     "output_type": "stream",
     "text": [
      "2022-03-03 10:02:59.664417: I tensorflow/core/grappler/optimizers/custom_graph_optimizer_registry.cc:112] Plugin optimizer for device_type GPU is enabled.\n"
     ]
    },
    {
     "name": "stdout",
     "output_type": "stream",
     "text": [
      "30/30 [==============================] - 2s 42ms/step - loss: 0.1831 - accuracy: 0.7655 - val_loss: 0.1302 - val_accuracy: 0.8606\n",
      "Epoch 2/20\n",
      "30/30 [==============================] - 1s 18ms/step - loss: 0.1087 - accuracy: 0.8816 - val_loss: 0.1055 - val_accuracy: 0.8705\n",
      "Epoch 3/20\n",
      "30/30 [==============================] - 0s 16ms/step - loss: 0.0792 - accuracy: 0.9129 - val_loss: 0.0887 - val_accuracy: 0.8905\n",
      "Epoch 4/20\n",
      "30/30 [==============================] - 0s 15ms/step - loss: 0.0620 - accuracy: 0.9330 - val_loss: 0.0913 - val_accuracy: 0.8806\n",
      "Epoch 5/20\n",
      "30/30 [==============================] - 0s 16ms/step - loss: 0.0514 - accuracy: 0.9437 - val_loss: 0.0832 - val_accuracy: 0.8929\n",
      "Epoch 6/20\n",
      "30/30 [==============================] - 0s 14ms/step - loss: 0.0406 - accuracy: 0.9574 - val_loss: 0.1017 - val_accuracy: 0.8647\n",
      "Epoch 7/20\n",
      "30/30 [==============================] - 0s 16ms/step - loss: 0.0348 - accuracy: 0.9646 - val_loss: 0.0848 - val_accuracy: 0.8879\n",
      "Epoch 8/20\n",
      "30/30 [==============================] - 0s 15ms/step - loss: 0.0302 - accuracy: 0.9684 - val_loss: 0.0889 - val_accuracy: 0.8820\n",
      "Epoch 9/20\n",
      "30/30 [==============================] - 0s 15ms/step - loss: 0.0233 - accuracy: 0.9784 - val_loss: 0.0912 - val_accuracy: 0.8783\n",
      "Epoch 10/20\n",
      "30/30 [==============================] - 0s 14ms/step - loss: 0.0223 - accuracy: 0.9776 - val_loss: 0.0886 - val_accuracy: 0.8810\n",
      "Epoch 11/20\n",
      "30/30 [==============================] - 0s 15ms/step - loss: 0.0190 - accuracy: 0.9822 - val_loss: 0.0918 - val_accuracy: 0.8781\n",
      "Epoch 12/20\n",
      "30/30 [==============================] - 0s 15ms/step - loss: 0.0152 - accuracy: 0.9863 - val_loss: 0.0904 - val_accuracy: 0.8805\n",
      "Epoch 13/20\n",
      "30/30 [==============================] - 0s 16ms/step - loss: 0.0126 - accuracy: 0.9892 - val_loss: 0.0933 - val_accuracy: 0.8788\n",
      "Epoch 14/20\n",
      "30/30 [==============================] - 0s 15ms/step - loss: 0.0133 - accuracy: 0.9867 - val_loss: 0.0936 - val_accuracy: 0.8783\n",
      "Epoch 15/20\n",
      "30/30 [==============================] - 0s 15ms/step - loss: 0.0091 - accuracy: 0.9918 - val_loss: 0.0960 - val_accuracy: 0.8763\n",
      "Epoch 16/20\n",
      "30/30 [==============================] - 0s 15ms/step - loss: 0.0093 - accuracy: 0.9914 - val_loss: 0.0967 - val_accuracy: 0.8752\n",
      "Epoch 17/20\n",
      "30/30 [==============================] - 0s 16ms/step - loss: 0.0048 - accuracy: 0.9965 - val_loss: 0.0986 - val_accuracy: 0.8753\n",
      "Epoch 18/20\n",
      "30/30 [==============================] - 0s 16ms/step - loss: 0.0087 - accuracy: 0.9903 - val_loss: 0.0992 - val_accuracy: 0.8745\n",
      "Epoch 19/20\n",
      "30/30 [==============================] - 0s 15ms/step - loss: 0.0038 - accuracy: 0.9971 - val_loss: 0.1004 - val_accuracy: 0.8747\n",
      "Epoch 20/20\n",
      "30/30 [==============================] - 0s 15ms/step - loss: 0.0073 - accuracy: 0.9921 - val_loss: 0.1016 - val_accuracy: 0.8739\n"
     ]
    }
   ],
   "source": [
    "# Build Model\n",
    "model = keras.Sequential([ layers.Dense(16, activation=\"relu\"),\n",
    "                          layers.Dense(16, activation=\"relu\"),\n",
    "                          layers.Dense(1, activation=\"sigmoid\")\n",
    "                         ])\n",
    "\n",
    "#Compile Model\n",
    "model.compile(optimizer=\"rmsprop\", loss=\"mse\",metrics=[\"accuracy\"])\n",
    "\n",
    "history = model.fit(partial_x_train, partial_y_train,epochs=20, batch_size=512, validation_data=(x_val, y_val))\n"
   ]
  },
  {
   "cell_type": "code",
   "execution_count": 93,
   "id": "b03cc766",
   "metadata": {},
   "outputs": [
    {
     "data": {
      "image/png": "[encoded data removed]",
      "text/plain": [
       "<Figure size 432x288 with 1 Axes>"
      ]
     },
     "metadata": {
      "needs_background": "light"
     },
     "output_type": "display_data"
    }
   ],
   "source": [
    "history_dict = history.history\n",
    "acc = history_dict[\"accuracy\"] \n",
    "val_acc = history_dict[\"val_accuracy\"]\n",
    "\n",
    "plt.plot(range(20), acc, \"bo\", label=\"Training acc\") \n",
    "plt.plot(range(20), val_acc, \"b\", label=\"Validation acc\") \n",
    "plt.title(\"Training and validation accuracy\") \n",
    "plt.xlabel(\"Epochs\")\n",
    "plt.ylabel(\"Accuracy\")\n",
    "plt.legend()\n",
    "plt.show()"
   ]
  },
  {
   "cell_type": "markdown",
   "id": "75364612",
   "metadata": {},
   "source": [
    "Based on the plot above the optimal number of epochs appears to be **3**"
   ]
  },
  {
   "cell_type": "code",
   "execution_count": null,
   "id": "2b334c7f",
   "metadata": {},
   "outputs": [],
   "source": [
    "num_epochs = 3\n",
    "# Build Model\n",
    "model = keras.Sequential([ layers.Dense(16, activation=\"relu\"),\n",
    "                          layers.Dense(16, activation=\"relu\"),\n",
    "                          layers.Dense(1, activation=\"sigmoid\")\n",
    "                         ])\n",
    "\n",
    "#Compile Model\n",
    "model.compile(optimizer=\"rmsprop\", loss=\"mse\",metrics=[\"accuracy\"])\n",
    "\n",
    "history = model.fit(partial_x_train, partial_y_train,epochs=num_epochs, batch_size=512, validation_data=(x_val, y_val))"
   ]
  },
  {
   "cell_type": "code",
   "execution_count": 16,
   "id": "14efdce3",
   "metadata": {},
   "outputs": [
    {
     "name": "stdout",
     "output_type": "stream",
     "text": [
      "469/469 [==============================] - 2s 3ms/step - loss: 0.0735 - accuracy: 0.9183\n",
      "313/313 [==============================] - 1s 3ms/step - loss: 0.1065 - accuracy: 0.8666\n",
      "782/782 [==============================] - 3s 3ms/step - loss: 0.1146 - accuracy: 0.8520\n",
      " Training accuracy: 0.9182666540145874\n",
      " Validation accuracy: 0.8666000366210938\n",
      " Testing accuracy: 0.8520000576972961\n"
     ]
    }
   ],
   "source": [
    "results_train = model.evaluate(partial_x_train, partial_y_train) \n",
    "results_val = model.evaluate(x_val, y_val) \n",
    "results_test = model.evaluate(x_test, y_test) \n",
    "print(f\" Training accuracy: {results_train[1]}\")\n",
    "print(f\" Validation accuracy: {results_val[1]}\")\n",
    "print(f\" Testing accuracy: {results_test[1]}\")"
   ]
  },
  {
   "cell_type": "markdown",
   "id": "2adddffc",
   "metadata": {},
   "source": [
    "**Model 2**\n",
    "* 3 Hidden Layers\n",
    "* 16 nodes (relu activation)\n",
    "* mean square error (mse) loss"
   ]
  },
  {
   "cell_type": "code",
   "execution_count": 17,
   "id": "778af392",
   "metadata": {},
   "outputs": [
    {
     "name": "stdout",
     "output_type": "stream",
     "text": [
      "Epoch 1/20\n"
     ]
    },
    {
     "name": "stderr",
     "output_type": "stream",
     "text": [
      "2022-03-03 09:11:34.740633: I tensorflow/core/grappler/optimizers/custom_graph_optimizer_registry.cc:112] Plugin optimizer for device_type GPU is enabled.\n"
     ]
    },
    {
     "name": "stdout",
     "output_type": "stream",
     "text": [
      "30/30 [==============================] - 1s 34ms/step - loss: 0.1913 - accuracy: 0.7365 - val_loss: 0.1343 - val_accuracy: 0.8493\n",
      "Epoch 2/20\n",
      " 1/30 [>.............................] - ETA: 0s - loss: 0.1108 - accuracy: 0.9023"
     ]
    },
    {
     "name": "stderr",
     "output_type": "stream",
     "text": [
      "2022-03-03 09:11:35.852771: I tensorflow/core/grappler/optimizers/custom_graph_optimizer_registry.cc:112] Plugin optimizer for device_type GPU is enabled.\n"
     ]
    },
    {
     "name": "stdout",
     "output_type": "stream",
     "text": [
      "30/30 [==============================] - 0s 15ms/step - loss: 0.1095 - accuracy: 0.8745 - val_loss: 0.0999 - val_accuracy: 0.8798\n",
      "Epoch 3/20\n",
      "30/30 [==============================] - 0s 13ms/step - loss: 0.0757 - accuracy: 0.9129 - val_loss: 0.0870 - val_accuracy: 0.8905\n",
      "Epoch 4/20\n",
      "30/30 [==============================] - 0s 12ms/step - loss: 0.0620 - accuracy: 0.9269 - val_loss: 0.0838 - val_accuracy: 0.8953\n",
      "Epoch 5/20\n",
      "30/30 [==============================] - 0s 12ms/step - loss: 0.0487 - accuracy: 0.9451 - val_loss: 0.0956 - val_accuracy: 0.8734\n",
      "Epoch 6/20\n",
      "30/30 [==============================] - 0s 12ms/step - loss: 0.0420 - accuracy: 0.9522 - val_loss: 0.0965 - val_accuracy: 0.8714\n",
      "Epoch 7/20\n",
      "30/30 [==============================] - 0s 12ms/step - loss: 0.0340 - accuracy: 0.9608 - val_loss: 0.0843 - val_accuracy: 0.8879\n",
      "Epoch 8/20\n",
      "30/30 [==============================] - 0s 12ms/step - loss: 0.0277 - accuracy: 0.9700 - val_loss: 0.0868 - val_accuracy: 0.8857\n",
      "Epoch 9/20\n",
      "30/30 [==============================] - 0s 12ms/step - loss: 0.0257 - accuracy: 0.9718 - val_loss: 0.1001 - val_accuracy: 0.8710\n",
      "Epoch 10/20\n",
      "30/30 [==============================] - 0s 12ms/step - loss: 0.0197 - accuracy: 0.9789 - val_loss: 0.0920 - val_accuracy: 0.8808\n",
      "Epoch 11/20\n",
      "30/30 [==============================] - 0s 12ms/step - loss: 0.0171 - accuracy: 0.9827 - val_loss: 0.0931 - val_accuracy: 0.8817\n",
      "Epoch 12/20\n",
      "30/30 [==============================] - 0s 12ms/step - loss: 0.0148 - accuracy: 0.9849 - val_loss: 0.0938 - val_accuracy: 0.8816\n",
      "Epoch 13/20\n",
      "30/30 [==============================] - 0s 12ms/step - loss: 0.0148 - accuracy: 0.9837 - val_loss: 0.0975 - val_accuracy: 0.8768\n",
      "Epoch 14/20\n",
      "30/30 [==============================] - 0s 12ms/step - loss: 0.0133 - accuracy: 0.9850 - val_loss: 0.0976 - val_accuracy: 0.8781\n",
      "Epoch 15/20\n",
      "30/30 [==============================] - 0s 12ms/step - loss: 0.0061 - accuracy: 0.9946 - val_loss: 0.1138 - val_accuracy: 0.8620\n",
      "Epoch 16/20\n",
      "30/30 [==============================] - 0s 12ms/step - loss: 0.0123 - accuracy: 0.9861 - val_loss: 0.1004 - val_accuracy: 0.8766\n",
      "Epoch 17/20\n",
      "30/30 [==============================] - 0s 12ms/step - loss: 0.0122 - accuracy: 0.9865 - val_loss: 0.1274 - val_accuracy: 0.8481\n",
      "Epoch 18/20\n",
      "30/30 [==============================] - 0s 12ms/step - loss: 0.0065 - accuracy: 0.9935 - val_loss: 0.1025 - val_accuracy: 0.8757\n",
      "Epoch 19/20\n",
      "30/30 [==============================] - 0s 12ms/step - loss: 0.0104 - accuracy: 0.9883 - val_loss: 0.1037 - val_accuracy: 0.8751\n",
      "Epoch 20/20\n",
      "30/30 [==============================] - 0s 12ms/step - loss: 0.0099 - accuracy: 0.9885 - val_loss: 0.1049 - val_accuracy: 0.8729\n"
     ]
    }
   ],
   "source": [
    "# Build Model\n",
    "model = keras.Sequential([ layers.Dense(16, activation=\"relu\"),\n",
    "                          layers.Dense(16, activation=\"relu\"),\n",
    "                          layers.Dense(16, activation=\"relu\"),\n",
    "                          layers.Dense(1, activation=\"sigmoid\")\n",
    "                         ])\n",
    "\n",
    "#Compile Model\n",
    "model.compile(optimizer=\"rmsprop\", loss=\"mse\",metrics=[\"accuracy\"])\n",
    "\n",
    "history = model.fit(partial_x_train, partial_y_train,epochs=20, batch_size=512, validation_data=(x_val, y_val))"
   ]
  },
  {
   "cell_type": "code",
   "execution_count": 18,
   "id": "2aa5a2a2",
   "metadata": {},
   "outputs": [
    {
     "data": {
      "image/png": "[encoded data removed]",
      "text/plain": [
       "<Figure size 432x288 with 1 Axes>"
      ]
     },
     "metadata": {
      "needs_background": "light"
     },
     "output_type": "display_data"
    }
   ],
   "source": [
    "history_dict = history.history\n",
    "acc = history_dict[\"accuracy\"] \n",
    "val_acc = history_dict[\"val_accuracy\"]\n",
    "\n",
    "plt.plot(range(20), acc, \"bo\", label=\"Training acc\") \n",
    "plt.plot(range(20), val_acc, \"b\", label=\"Validation acc\") \n",
    "plt.title(\"Training and validation accuracy\") \n",
    "plt.xlabel(\"Epochs\")\n",
    "plt.ylabel(\"Accuracy\")\n",
    "plt.legend()\n",
    "plt.show()"
   ]
  },
  {
   "cell_type": "markdown",
   "id": "002e499a",
   "metadata": {},
   "source": [
    "Based on the plot above the optimal number of epochs appears to be **4**"
   ]
  },
  {
   "cell_type": "code",
   "execution_count": 20,
   "id": "c8f6037d",
   "metadata": {},
   "outputs": [
    {
     "name": "stdout",
     "output_type": "stream",
     "text": [
      "Epoch 1/4\n"
     ]
    },
    {
     "name": "stderr",
     "output_type": "stream",
     "text": [
      "2022-03-03 09:15:00.957911: I tensorflow/core/grappler/optimizers/custom_graph_optimizer_registry.cc:112] Plugin optimizer for device_type GPU is enabled.\n"
     ]
    },
    {
     "name": "stdout",
     "output_type": "stream",
     "text": [
      "30/30 [==============================] - 1s 33ms/step - loss: 0.1907 - accuracy: 0.7397 - val_loss: 0.1341 - val_accuracy: 0.8502\n",
      "Epoch 2/4\n",
      " 1/30 [>.............................] - ETA: 0s - loss: 0.1263 - accuracy: 0.8809"
     ]
    },
    {
     "name": "stderr",
     "output_type": "stream",
     "text": [
      "2022-03-03 09:15:02.003763: I tensorflow/core/grappler/optimizers/custom_graph_optimizer_registry.cc:112] Plugin optimizer for device_type GPU is enabled.\n"
     ]
    },
    {
     "name": "stdout",
     "output_type": "stream",
     "text": [
      "30/30 [==============================] - 0s 15ms/step - loss: 0.1082 - accuracy: 0.8792 - val_loss: 0.1024 - val_accuracy: 0.8754\n",
      "Epoch 3/4\n",
      "30/30 [==============================] - 0s 15ms/step - loss: 0.0770 - accuracy: 0.9124 - val_loss: 0.0889 - val_accuracy: 0.8879\n",
      "Epoch 4/4\n",
      "30/30 [==============================] - 0s 14ms/step - loss: 0.0608 - accuracy: 0.9312 - val_loss: 0.0875 - val_accuracy: 0.8859\n"
     ]
    }
   ],
   "source": [
    "num_epochs = 4\n",
    "# Build Model\n",
    "model = keras.Sequential([ layers.Dense(16, activation=\"relu\"),\n",
    "                          layers.Dense(16, activation=\"relu\"),\n",
    "                          layers.Dense(16, activation=\"relu\"),\n",
    "                          layers.Dense(1, activation=\"sigmoid\")\n",
    "                         ])\n",
    "\n",
    "#Compile Model\n",
    "model.compile(optimizer=\"rmsprop\", loss=\"mse\",metrics=[\"accuracy\"])\n",
    "\n",
    "history = model.fit(partial_x_train, partial_y_train,epochs=num_epochs, batch_size=512, validation_data=(x_val, y_val))"
   ]
  },
  {
   "cell_type": "code",
   "execution_count": 21,
   "id": "1c7c5897",
   "metadata": {},
   "outputs": [
    {
     "name": "stdout",
     "output_type": "stream",
     "text": [
      "469/469 [==============================] - 2s 4ms/step - loss: 0.0460 - accuracy: 0.9534\n",
      "313/313 [==============================] - 1s 4ms/step - loss: 0.0875 - accuracy: 0.8859\n",
      "782/782 [==============================] - 3s 3ms/step - loss: 0.0938 - accuracy: 0.8765\n",
      " Training accuracy: 0.9534000158309937\n",
      " Validation accuracy: 0.8859000205993652\n",
      " Testing accuracy: 0.876520037651062\n"
     ]
    }
   ],
   "source": [
    "results_train = model.evaluate(partial_x_train, partial_y_train) \n",
    "results_val = model.evaluate(x_val, y_val) \n",
    "results_test = model.evaluate(x_test, y_test) \n",
    "print(f\" Training accuracy: {results_train[1]}\")\n",
    "print(f\" Validation accuracy: {results_val[1]}\")\n",
    "print(f\" Testing accuracy: {results_test[1]}\")"
   ]
  },
  {
   "cell_type": "markdown",
   "id": "b06fc351",
   "metadata": {},
   "source": [
    "**Model 3**\n",
    "* 1 Hidden Layers\n",
    "* 16 nodes (relu activation)\n",
    "* mean square error (mse) loss"
   ]
  },
  {
   "cell_type": "code",
   "execution_count": 26,
   "id": "e5d8b3d0",
   "metadata": {},
   "outputs": [
    {
     "name": "stdout",
     "output_type": "stream",
     "text": [
      "Epoch 1/20\n",
      " 7/30 [======>.......................] - ETA: 0s - loss: 0.2343 - accuracy: 0.6336"
     ]
    },
    {
     "name": "stderr",
     "output_type": "stream",
     "text": [
      "2022-03-03 09:17:44.106395: I tensorflow/core/grappler/optimizers/custom_graph_optimizer_registry.cc:112] Plugin optimizer for device_type GPU is enabled.\n"
     ]
    },
    {
     "name": "stdout",
     "output_type": "stream",
     "text": [
      "30/30 [==============================] - 1s 32ms/step - loss: 0.1858 - accuracy: 0.7483 - val_loss: 0.1326 - val_accuracy: 0.8542\n",
      "Epoch 2/20\n",
      " 1/30 [>.............................] - ETA: 0s - loss: 0.1193 - accuracy: 0.8984"
     ]
    },
    {
     "name": "stderr",
     "output_type": "stream",
     "text": [
      "2022-03-03 09:17:45.035131: I tensorflow/core/grappler/optimizers/custom_graph_optimizer_registry.cc:112] Plugin optimizer for device_type GPU is enabled.\n"
     ]
    },
    {
     "name": "stdout",
     "output_type": "stream",
     "text": [
      "30/30 [==============================] - 0s 13ms/step - loss: 0.1050 - accuracy: 0.8907 - val_loss: 0.1034 - val_accuracy: 0.8825\n",
      "Epoch 3/20\n",
      "30/30 [==============================] - 0s 11ms/step - loss: 0.0810 - accuracy: 0.9157 - val_loss: 0.0906 - val_accuracy: 0.8932\n",
      "Epoch 4/20\n",
      "30/30 [==============================] - 0s 11ms/step - loss: 0.0670 - accuracy: 0.9306 - val_loss: 0.0854 - val_accuracy: 0.8965\n",
      "Epoch 5/20\n",
      "30/30 [==============================] - 0s 11ms/step - loss: 0.0554 - accuracy: 0.9443 - val_loss: 0.0836 - val_accuracy: 0.8945\n",
      "Epoch 6/20\n",
      "30/30 [==============================] - 0s 11ms/step - loss: 0.0477 - accuracy: 0.9529 - val_loss: 0.0956 - val_accuracy: 0.8764\n",
      "Epoch 7/20\n",
      "30/30 [==============================] - 0s 11ms/step - loss: 0.0431 - accuracy: 0.9577 - val_loss: 0.0895 - val_accuracy: 0.8795\n",
      "Epoch 8/20\n",
      "30/30 [==============================] - 0s 11ms/step - loss: 0.0366 - accuracy: 0.9655 - val_loss: 0.1032 - val_accuracy: 0.8588\n",
      "Epoch 9/20\n",
      "30/30 [==============================] - 0s 11ms/step - loss: 0.0343 - accuracy: 0.9675 - val_loss: 0.0828 - val_accuracy: 0.8905\n",
      "Epoch 10/20\n",
      "30/30 [==============================] - 0s 11ms/step - loss: 0.0287 - accuracy: 0.9752 - val_loss: 0.0866 - val_accuracy: 0.8863\n",
      "Epoch 11/20\n",
      "30/30 [==============================] - 0s 11ms/step - loss: 0.0263 - accuracy: 0.9777 - val_loss: 0.0877 - val_accuracy: 0.8825\n",
      "Epoch 12/20\n",
      "30/30 [==============================] - 0s 11ms/step - loss: 0.0233 - accuracy: 0.9814 - val_loss: 0.0874 - val_accuracy: 0.8837\n",
      "Epoch 13/20\n",
      "30/30 [==============================] - 0s 11ms/step - loss: 0.0213 - accuracy: 0.9829 - val_loss: 0.0946 - val_accuracy: 0.8743\n",
      "Epoch 14/20\n",
      "30/30 [==============================] - 0s 12ms/step - loss: 0.0193 - accuracy: 0.9855 - val_loss: 0.0959 - val_accuracy: 0.8722\n",
      "Epoch 15/20\n",
      "30/30 [==============================] - 0s 12ms/step - loss: 0.0170 - accuracy: 0.9872 - val_loss: 0.0892 - val_accuracy: 0.8807\n",
      "Epoch 16/20\n",
      "30/30 [==============================] - 0s 11ms/step - loss: 0.0169 - accuracy: 0.9869 - val_loss: 0.0991 - val_accuracy: 0.8693\n",
      "Epoch 17/20\n",
      "30/30 [==============================] - 0s 11ms/step - loss: 0.0143 - accuracy: 0.9898 - val_loss: 0.0923 - val_accuracy: 0.8805\n",
      "Epoch 18/20\n",
      "30/30 [==============================] - 0s 12ms/step - loss: 0.0140 - accuracy: 0.9888 - val_loss: 0.0929 - val_accuracy: 0.8779\n",
      "Epoch 19/20\n",
      "30/30 [==============================] - 0s 12ms/step - loss: 0.0121 - accuracy: 0.9915 - val_loss: 0.1031 - val_accuracy: 0.8668\n",
      "Epoch 20/20\n",
      "30/30 [==============================] - 0s 12ms/step - loss: 0.0098 - accuracy: 0.9938 - val_loss: 0.0949 - val_accuracy: 0.8767\n"
     ]
    }
   ],
   "source": [
    "# Build Model\n",
    "model = keras.Sequential([ layers.Dense(16, activation=\"relu\"),\n",
    "                          layers.Dense(1, activation=\"sigmoid\")\n",
    "                         ])\n",
    "\n",
    "#Compile Model\n",
    "model.compile(optimizer=\"rmsprop\", loss=\"mse\",metrics=[\"accuracy\"])\n",
    "\n",
    "history = model.fit(partial_x_train, partial_y_train,epochs=20, batch_size=512, validation_data=(x_val, y_val))"
   ]
  },
  {
   "cell_type": "code",
   "execution_count": 27,
   "id": "794d3822",
   "metadata": {},
   "outputs": [
    {
     "data": {
      "image/png": "[encoded data removed]",
      "text/plain": [
       "<Figure size 432x288 with 1 Axes>"
      ]
     },
     "metadata": {
      "needs_background": "light"
     },
     "output_type": "display_data"
    }
   ],
   "source": [
    "history_dict = history.history\n",
    "acc = history_dict[\"accuracy\"] \n",
    "val_acc = history_dict[\"val_accuracy\"]\n",
    "\n",
    "plt.plot(range(20), acc, \"bo\", label=\"Training acc\") \n",
    "plt.plot(range(20), val_acc, \"b\", label=\"Validation acc\") \n",
    "plt.title(\"Training and validation accuracy\") \n",
    "plt.xlabel(\"Epochs\")\n",
    "plt.ylabel(\"Accuracy\")\n",
    "plt.legend()\n",
    "plt.show()"
   ]
  },
  {
   "cell_type": "markdown",
   "id": "0a242a27",
   "metadata": {},
   "source": [
    "Based on the plot above the optimal number of epochs appears to be **4**"
   ]
  },
  {
   "cell_type": "code",
   "execution_count": 28,
   "id": "23f120cb",
   "metadata": {},
   "outputs": [
    {
     "name": "stdout",
     "output_type": "stream",
     "text": [
      "Epoch 1/4\n",
      " 1/30 [>.............................] - ETA: 7s - loss: 0.2600 - accuracy: 0.4902"
     ]
    },
    {
     "name": "stderr",
     "output_type": "stream",
     "text": [
      "2022-03-03 09:18:36.212075: I tensorflow/core/grappler/optimizers/custom_graph_optimizer_registry.cc:112] Plugin optimizer for device_type GPU is enabled.\n"
     ]
    },
    {
     "name": "stdout",
     "output_type": "stream",
     "text": [
      "30/30 [==============================] - 1s 34ms/step - loss: 0.1815 - accuracy: 0.7569 - val_loss: 0.1388 - val_accuracy: 0.8382\n",
      "Epoch 2/4\n",
      " 1/30 [>.............................] - ETA: 0s - loss: 0.1279 - accuracy: 0.8652"
     ]
    },
    {
     "name": "stderr",
     "output_type": "stream",
     "text": [
      "2022-03-03 09:18:37.198044: I tensorflow/core/grappler/optimizers/custom_graph_optimizer_registry.cc:112] Plugin optimizer for device_type GPU is enabled.\n"
     ]
    },
    {
     "name": "stdout",
     "output_type": "stream",
     "text": [
      "30/30 [==============================] - 0s 16ms/step - loss: 0.1058 - accuracy: 0.8895 - val_loss: 0.1001 - val_accuracy: 0.8881\n",
      "Epoch 3/4\n",
      "30/30 [==============================] - 0s 15ms/step - loss: 0.0795 - accuracy: 0.9185 - val_loss: 0.0913 - val_accuracy: 0.8903\n",
      "Epoch 4/4\n",
      "30/30 [==============================] - 0s 13ms/step - loss: 0.0661 - accuracy: 0.9305 - val_loss: 0.0878 - val_accuracy: 0.8894\n"
     ]
    }
   ],
   "source": [
    "num_epochs = 4\n",
    "# Build Model\n",
    "model = keras.Sequential([ layers.Dense(16, activation=\"relu\"),\n",
    "                          layers.Dense(1, activation=\"sigmoid\")\n",
    "                         ])\n",
    "\n",
    "#Compile Model\n",
    "model.compile(optimizer=\"rmsprop\", loss=\"mse\",metrics=[\"accuracy\"])\n",
    "\n",
    "history = model.fit(partial_x_train, partial_y_train,epochs=num_epochs, batch_size=512, validation_data=(x_val, y_val))"
   ]
  },
  {
   "cell_type": "code",
   "execution_count": 29,
   "id": "4003f3a0",
   "metadata": {},
   "outputs": [
    {
     "name": "stdout",
     "output_type": "stream",
     "text": [
      "469/469 [==============================] - 2s 3ms/step - loss: 0.0541 - accuracy: 0.9497\n",
      "313/313 [==============================] - 1s 3ms/step - loss: 0.0878 - accuracy: 0.8894\n",
      "782/782 [==============================] - 3s 3ms/step - loss: 0.0938 - accuracy: 0.8818\n",
      " Training accuracy: 0.949733316898346\n",
      " Validation accuracy: 0.889400064945221\n",
      " Testing accuracy: 0.8817600607872009\n"
     ]
    }
   ],
   "source": [
    "results_train = model.evaluate(partial_x_train, partial_y_train) \n",
    "results_val = model.evaluate(x_val, y_val) \n",
    "results_test = model.evaluate(x_test, y_test) \n",
    "print(f\" Training accuracy: {results_train[1]}\")\n",
    "print(f\" Validation accuracy: {results_val[1]}\")\n",
    "print(f\" Testing accuracy: {results_test[1]}\")"
   ]
  },
  {
   "cell_type": "markdown",
   "id": "fe6d0e04",
   "metadata": {},
   "source": [
    "**Model 4**\n",
    "* 2 Hidden Layers\n",
    "* 8 nodes (relu activation)\n",
    "* mean square error (mse) loss"
   ]
  },
  {
   "cell_type": "code",
   "execution_count": 30,
   "id": "9844ab92",
   "metadata": {},
   "outputs": [
    {
     "name": "stdout",
     "output_type": "stream",
     "text": [
      "Epoch 1/20\n"
     ]
    },
    {
     "name": "stderr",
     "output_type": "stream",
     "text": [
      "2022-03-03 09:20:18.582671: I tensorflow/core/grappler/optimizers/custom_graph_optimizer_registry.cc:112] Plugin optimizer for device_type GPU is enabled.\n"
     ]
    },
    {
     "name": "stdout",
     "output_type": "stream",
     "text": [
      "30/30 [==============================] - 2s 38ms/step - loss: 0.1862 - accuracy: 0.7631 - val_loss: 0.1443 - val_accuracy: 0.8541\n",
      "Epoch 2/20\n",
      " 1/30 [>.............................] - ETA: 0s - loss: 0.1341 - accuracy: 0.8633"
     ]
    },
    {
     "name": "stderr",
     "output_type": "stream",
     "text": [
      "2022-03-03 09:20:20.127326: I tensorflow/core/grappler/optimizers/custom_graph_optimizer_registry.cc:112] Plugin optimizer for device_type GPU is enabled.\n"
     ]
    },
    {
     "name": "stdout",
     "output_type": "stream",
     "text": [
      "30/30 [==============================] - 1s 18ms/step - loss: 0.1183 - accuracy: 0.8795 - val_loss: 0.1161 - val_accuracy: 0.8701\n",
      "Epoch 3/20\n",
      "30/30 [==============================] - 0s 17ms/step - loss: 0.0867 - accuracy: 0.9122 - val_loss: 0.1042 - val_accuracy: 0.8792\n",
      "Epoch 4/20\n",
      "30/30 [==============================] - 0s 15ms/step - loss: 0.0718 - accuracy: 0.9242 - val_loss: 0.0921 - val_accuracy: 0.8832\n",
      "Epoch 5/20\n",
      "30/30 [==============================] - 0s 15ms/step - loss: 0.0600 - accuracy: 0.9389 - val_loss: 0.0856 - val_accuracy: 0.8927\n",
      "Epoch 6/20\n",
      "30/30 [==============================] - 0s 15ms/step - loss: 0.0514 - accuracy: 0.9489 - val_loss: 0.0842 - val_accuracy: 0.8936\n",
      "Epoch 7/20\n",
      "30/30 [==============================] - 1s 17ms/step - loss: 0.0446 - accuracy: 0.9571 - val_loss: 0.0840 - val_accuracy: 0.8924\n",
      "Epoch 8/20\n",
      "30/30 [==============================] - 0s 16ms/step - loss: 0.0387 - accuracy: 0.9624 - val_loss: 0.0884 - val_accuracy: 0.8847\n",
      "Epoch 9/20\n",
      "30/30 [==============================] - 0s 15ms/step - loss: 0.0340 - accuracy: 0.9682 - val_loss: 0.0979 - val_accuracy: 0.8716\n",
      "Epoch 10/20\n",
      "30/30 [==============================] - 0s 15ms/step - loss: 0.0309 - accuracy: 0.9713 - val_loss: 0.0842 - val_accuracy: 0.8865\n",
      "Epoch 11/20\n",
      "30/30 [==============================] - 0s 15ms/step - loss: 0.0264 - accuracy: 0.9763 - val_loss: 0.0861 - val_accuracy: 0.8824\n",
      "Epoch 12/20\n",
      "30/30 [==============================] - 0s 15ms/step - loss: 0.0228 - accuracy: 0.9819 - val_loss: 0.0954 - val_accuracy: 0.8728\n",
      "Epoch 13/20\n",
      "30/30 [==============================] - 0s 15ms/step - loss: 0.0209 - accuracy: 0.9836 - val_loss: 0.0888 - val_accuracy: 0.8818\n",
      "Epoch 14/20\n",
      "30/30 [==============================] - 0s 16ms/step - loss: 0.0185 - accuracy: 0.9855 - val_loss: 0.0898 - val_accuracy: 0.8803\n",
      "Epoch 15/20\n",
      "30/30 [==============================] - 0s 16ms/step - loss: 0.0167 - accuracy: 0.9863 - val_loss: 0.0915 - val_accuracy: 0.8776\n",
      "Epoch 16/20\n",
      "30/30 [==============================] - 0s 15ms/step - loss: 0.0144 - accuracy: 0.9891 - val_loss: 0.0926 - val_accuracy: 0.8766\n",
      "Epoch 17/20\n",
      "30/30 [==============================] - 0s 15ms/step - loss: 0.0127 - accuracy: 0.9911 - val_loss: 0.0934 - val_accuracy: 0.8770\n",
      "Epoch 18/20\n",
      "30/30 [==============================] - 0s 15ms/step - loss: 0.0114 - accuracy: 0.9921 - val_loss: 0.0996 - val_accuracy: 0.8712\n",
      "Epoch 19/20\n",
      "30/30 [==============================] - 0s 16ms/step - loss: 0.0102 - accuracy: 0.9932 - val_loss: 0.0954 - val_accuracy: 0.8759\n",
      "Epoch 20/20\n",
      "30/30 [==============================] - 0s 16ms/step - loss: 0.0097 - accuracy: 0.9926 - val_loss: 0.0970 - val_accuracy: 0.8755\n"
     ]
    }
   ],
   "source": [
    "# Build Model\n",
    "model = keras.Sequential([ layers.Dense(8, activation=\"relu\"),\n",
    "                          layers.Dense(8, activation=\"relu\"),\n",
    "                          layers.Dense(1, activation=\"sigmoid\")\n",
    "                         ])\n",
    "\n",
    "#Compile Model\n",
    "model.compile(optimizer=\"rmsprop\", loss=\"mse\",metrics=[\"accuracy\"])\n",
    "\n",
    "history = model.fit(partial_x_train, partial_y_train,epochs=20, batch_size=512, validation_data=(x_val, y_val))"
   ]
  },
  {
   "cell_type": "code",
   "execution_count": 31,
   "id": "1c10f63a",
   "metadata": {},
   "outputs": [
    {
     "data": {
      "image/png": "[encoded data removed]",
      "text/plain": [
       "<Figure size 432x288 with 1 Axes>"
      ]
     },
     "metadata": {
      "needs_background": "light"
     },
     "output_type": "display_data"
    }
   ],
   "source": [
    "history_dict = history.history\n",
    "acc = history_dict[\"accuracy\"] \n",
    "val_acc = history_dict[\"val_accuracy\"]\n",
    "\n",
    "plt.plot(range(20), acc, \"bo\", label=\"Training acc\") \n",
    "plt.plot(range(20), val_acc, \"b\", label=\"Validation acc\") \n",
    "plt.title(\"Training and validation accuracy\") \n",
    "plt.xlabel(\"Epochs\")\n",
    "plt.ylabel(\"Accuracy\")\n",
    "plt.legend()\n",
    "plt.show()"
   ]
  },
  {
   "cell_type": "markdown",
   "id": "fde26a87",
   "metadata": {},
   "source": [
    "Based on the plot above the optimal number of epochs appears to be **5**"
   ]
  },
  {
   "cell_type": "code",
   "execution_count": 38,
   "id": "b23e1bf9",
   "metadata": {},
   "outputs": [
    {
     "name": "stdout",
     "output_type": "stream",
     "text": [
      "Epoch 1/5\n"
     ]
    },
    {
     "name": "stderr",
     "output_type": "stream",
     "text": [
      "2022-03-03 09:26:39.306718: I tensorflow/core/grappler/optimizers/custom_graph_optimizer_registry.cc:112] Plugin optimizer for device_type GPU is enabled.\n"
     ]
    },
    {
     "name": "stdout",
     "output_type": "stream",
     "text": [
      "30/30 [==============================] - 1s 37ms/step - loss: 0.1848 - accuracy: 0.7556 - val_loss: 0.1459 - val_accuracy: 0.8314\n"
     ]
    },
    {
     "name": "stderr",
     "output_type": "stream",
     "text": [
      "2022-03-03 09:26:40.400235: I tensorflow/core/grappler/optimizers/custom_graph_optimizer_registry.cc:112] Plugin optimizer for device_type GPU is enabled.\n"
     ]
    },
    {
     "name": "stdout",
     "output_type": "stream",
     "text": [
      "Epoch 2/5\n",
      "30/30 [==============================] - 1s 18ms/step - loss: 0.1159 - accuracy: 0.8816 - val_loss: 0.1111 - val_accuracy: 0.8810\n",
      "Epoch 3/5\n",
      "30/30 [==============================] - 0s 16ms/step - loss: 0.0864 - accuracy: 0.9129 - val_loss: 0.1001 - val_accuracy: 0.8781\n",
      "Epoch 4/5\n",
      "30/30 [==============================] - 0s 15ms/step - loss: 0.0710 - accuracy: 0.9273 - val_loss: 0.0962 - val_accuracy: 0.8829\n",
      "Epoch 5/5\n",
      "30/30 [==============================] - 0s 15ms/step - loss: 0.0600 - accuracy: 0.9397 - val_loss: 0.0885 - val_accuracy: 0.8866\n"
     ]
    }
   ],
   "source": [
    "num_epochs = 5\n",
    "# Build Model\n",
    "model = keras.Sequential([ layers.Dense(8, activation=\"relu\"),\n",
    "                          layers.Dense(8, activation=\"relu\"),\n",
    "                          layers.Dense(1, activation=\"sigmoid\")\n",
    "                         ])\n",
    "\n",
    "#Compile Model\n",
    "model.compile(optimizer=\"rmsprop\", loss=\"mse\",metrics=[\"accuracy\"])\n",
    "\n",
    "history = model.fit(partial_x_train, partial_y_train,epochs=num_epochs, batch_size=512, validation_data=(x_val, y_val))"
   ]
  },
  {
   "cell_type": "code",
   "execution_count": 39,
   "id": "c2e40be7",
   "metadata": {},
   "outputs": [
    {
     "name": "stdout",
     "output_type": "stream",
     "text": [
      "469/469 [==============================] - 2s 3ms/step - loss: 0.0520 - accuracy: 0.9501\n",
      "313/313 [==============================] - 1s 3ms/step - loss: 0.0885 - accuracy: 0.8866\n",
      "782/782 [==============================] - 2s 3ms/step - loss: 0.0943 - accuracy: 0.8800\n",
      " Training accuracy: 0.9501333236694336\n",
      " Validation accuracy: 0.8866000175476074\n",
      " Testing accuracy: 0.8800000548362732\n"
     ]
    }
   ],
   "source": [
    "results_train = model.evaluate(partial_x_train, partial_y_train) \n",
    "results_val = model.evaluate(x_val, y_val) \n",
    "results_test = model.evaluate(x_test, y_test) \n",
    "print(f\" Training accuracy: {results_train[1]}\")\n",
    "print(f\" Validation accuracy: {results_val[1]}\")\n",
    "print(f\" Testing accuracy: {results_test[1]}\")"
   ]
  },
  {
   "cell_type": "markdown",
   "id": "941ff3a8",
   "metadata": {},
   "source": [
    "**Model 5**\n",
    "* 3 Hidden Layers\n",
    "* 8 nodes (relu activation)\n",
    "* mean square error (mse) loss"
   ]
  },
  {
   "cell_type": "code",
   "execution_count": 42,
   "id": "063688af",
   "metadata": {},
   "outputs": [
    {
     "name": "stdout",
     "output_type": "stream",
     "text": [
      "Epoch 1/20\n"
     ]
    },
    {
     "name": "stderr",
     "output_type": "stream",
     "text": [
      "2022-03-03 09:27:23.198798: I tensorflow/core/grappler/optimizers/custom_graph_optimizer_registry.cc:112] Plugin optimizer for device_type GPU is enabled.\n"
     ]
    },
    {
     "name": "stdout",
     "output_type": "stream",
     "text": [
      "30/30 [==============================] - ETA: 0s - loss: 0.2059 - accuracy: 0.7267"
     ]
    },
    {
     "name": "stderr",
     "output_type": "stream",
     "text": [
      "2022-03-03 09:27:24.328166: I tensorflow/core/grappler/optimizers/custom_graph_optimizer_registry.cc:112] Plugin optimizer for device_type GPU is enabled.\n"
     ]
    },
    {
     "name": "stdout",
     "output_type": "stream",
     "text": [
      "30/30 [==============================] - 1s 37ms/step - loss: 0.2059 - accuracy: 0.7267 - val_loss: 0.1506 - val_accuracy: 0.8537\n",
      "Epoch 2/20\n",
      "30/30 [==============================] - 1s 17ms/step - loss: 0.1257 - accuracy: 0.8796 - val_loss: 0.1210 - val_accuracy: 0.8722\n",
      "Epoch 3/20\n",
      "30/30 [==============================] - 0s 16ms/step - loss: 0.0905 - accuracy: 0.9123 - val_loss: 0.1041 - val_accuracy: 0.8807\n",
      "Epoch 4/20\n",
      "30/30 [==============================] - 0s 16ms/step - loss: 0.0722 - accuracy: 0.9267 - val_loss: 0.0923 - val_accuracy: 0.8846\n",
      "Epoch 5/20\n",
      "30/30 [==============================] - 0s 16ms/step - loss: 0.0578 - accuracy: 0.9420 - val_loss: 0.0870 - val_accuracy: 0.8920\n",
      "Epoch 6/20\n",
      "30/30 [==============================] - 0s 16ms/step - loss: 0.0515 - accuracy: 0.9444 - val_loss: 0.0898 - val_accuracy: 0.8818\n",
      "Epoch 7/20\n",
      "30/30 [==============================] - 0s 16ms/step - loss: 0.0409 - accuracy: 0.9595 - val_loss: 0.0849 - val_accuracy: 0.8872\n",
      "Epoch 8/20\n",
      "30/30 [==============================] - 0s 16ms/step - loss: 0.0387 - accuracy: 0.9608 - val_loss: 0.0970 - val_accuracy: 0.8730\n",
      "Epoch 9/20\n",
      "30/30 [==============================] - 0s 16ms/step - loss: 0.0330 - accuracy: 0.9687 - val_loss: 0.0868 - val_accuracy: 0.8880\n",
      "Epoch 10/20\n",
      "30/30 [==============================] - 0s 16ms/step - loss: 0.0287 - accuracy: 0.9735 - val_loss: 0.0938 - val_accuracy: 0.8771\n",
      "Epoch 11/20\n",
      "30/30 [==============================] - 1s 17ms/step - loss: 0.0265 - accuracy: 0.9762 - val_loss: 0.0875 - val_accuracy: 0.8823\n",
      "Epoch 12/20\n",
      "30/30 [==============================] - 0s 16ms/step - loss: 0.0218 - accuracy: 0.9810 - val_loss: 0.0891 - val_accuracy: 0.8807\n",
      "Epoch 13/20\n",
      "30/30 [==============================] - 1s 17ms/step - loss: 0.0211 - accuracy: 0.9805 - val_loss: 0.1042 - val_accuracy: 0.8631\n",
      "Epoch 14/20\n",
      "30/30 [==============================] - 0s 16ms/step - loss: 0.0193 - accuracy: 0.9827 - val_loss: 0.0921 - val_accuracy: 0.8795\n",
      "Epoch 15/20\n",
      "30/30 [==============================] - 0s 16ms/step - loss: 0.0169 - accuracy: 0.9847 - val_loss: 0.0918 - val_accuracy: 0.8801\n",
      "Epoch 16/20\n",
      "30/30 [==============================] - 0s 16ms/step - loss: 0.0155 - accuracy: 0.9863 - val_loss: 0.0929 - val_accuracy: 0.8783\n",
      "Epoch 17/20\n",
      "30/30 [==============================] - 0s 16ms/step - loss: 0.0137 - accuracy: 0.9879 - val_loss: 0.0947 - val_accuracy: 0.8773\n",
      "Epoch 18/20\n",
      "30/30 [==============================] - 0s 16ms/step - loss: 0.0130 - accuracy: 0.9886 - val_loss: 0.0963 - val_accuracy: 0.8758\n",
      "Epoch 19/20\n",
      "30/30 [==============================] - 0s 16ms/step - loss: 0.0107 - accuracy: 0.9915 - val_loss: 0.0976 - val_accuracy: 0.8748\n",
      "Epoch 20/20\n",
      "30/30 [==============================] - 0s 16ms/step - loss: 0.0089 - accuracy: 0.9931 - val_loss: 0.1010 - val_accuracy: 0.8723\n"
     ]
    }
   ],
   "source": [
    "# Build Model\n",
    "model = keras.Sequential([ layers.Dense(8, activation=\"relu\"),\n",
    "                          layers.Dense(8, activation=\"relu\"),\n",
    "                          layers.Dense(8, activation=\"relu\"),\n",
    "                          layers.Dense(1, activation=\"sigmoid\")\n",
    "                         ])\n",
    "\n",
    "#Compile Model\n",
    "model.compile(optimizer=\"rmsprop\", loss=\"mse\",metrics=[\"accuracy\"])\n",
    "\n",
    "history = model.fit(partial_x_train, partial_y_train,epochs=20, batch_size=512, validation_data=(x_val, y_val))"
   ]
  },
  {
   "cell_type": "code",
   "execution_count": 43,
   "id": "627757da",
   "metadata": {},
   "outputs": [
    {
     "data": {
      "image/png": "[encoded data removed]",
      "text/plain": [
       "<Figure size 432x288 with 1 Axes>"
      ]
     },
     "metadata": {
      "needs_background": "light"
     },
     "output_type": "display_data"
    }
   ],
   "source": [
    "history_dict = history.history\n",
    "acc = history_dict[\"accuracy\"] \n",
    "val_acc = history_dict[\"val_accuracy\"]\n",
    "\n",
    "plt.plot(range(20), acc, \"bo\", label=\"Training acc\") \n",
    "plt.plot(range(20), val_acc, \"b\", label=\"Validation acc\") \n",
    "plt.title(\"Training and validation accuracy\") \n",
    "plt.xlabel(\"Epochs\")\n",
    "plt.ylabel(\"Accuracy\")\n",
    "plt.legend()\n",
    "plt.show()"
   ]
  },
  {
   "cell_type": "markdown",
   "id": "1378b134",
   "metadata": {},
   "source": [
    "Based on the plot above the optimal number of epochs appears to be **5**"
   ]
  },
  {
   "cell_type": "code",
   "execution_count": 44,
   "id": "ac661b38",
   "metadata": {},
   "outputs": [
    {
     "name": "stdout",
     "output_type": "stream",
     "text": [
      "Epoch 1/5\n"
     ]
    },
    {
     "name": "stderr",
     "output_type": "stream",
     "text": [
      "2022-03-03 09:28:00.165463: I tensorflow/core/grappler/optimizers/custom_graph_optimizer_registry.cc:112] Plugin optimizer for device_type GPU is enabled.\n"
     ]
    },
    {
     "name": "stdout",
     "output_type": "stream",
     "text": [
      "30/30 [==============================] - ETA: 0s - loss: 0.2036 - accuracy: 0.7371"
     ]
    },
    {
     "name": "stderr",
     "output_type": "stream",
     "text": [
      "2022-03-03 09:28:01.409214: I tensorflow/core/grappler/optimizers/custom_graph_optimizer_registry.cc:112] Plugin optimizer for device_type GPU is enabled.\n"
     ]
    },
    {
     "name": "stdout",
     "output_type": "stream",
     "text": [
      "30/30 [==============================] - 2s 39ms/step - loss: 0.2036 - accuracy: 0.7371 - val_loss: 0.1767 - val_accuracy: 0.7952\n",
      "Epoch 2/5\n",
      "30/30 [==============================] - 1s 17ms/step - loss: 0.1231 - accuracy: 0.8829 - val_loss: 0.1122 - val_accuracy: 0.8827\n",
      "Epoch 3/5\n",
      "30/30 [==============================] - 0s 17ms/step - loss: 0.0927 - accuracy: 0.9075 - val_loss: 0.0979 - val_accuracy: 0.8912\n",
      "Epoch 4/5\n",
      "30/30 [==============================] - 1s 18ms/step - loss: 0.0718 - accuracy: 0.9297 - val_loss: 0.0976 - val_accuracy: 0.8726\n",
      "Epoch 5/5\n",
      "30/30 [==============================] - 0s 17ms/step - loss: 0.0593 - accuracy: 0.9409 - val_loss: 0.0969 - val_accuracy: 0.8791\n"
     ]
    }
   ],
   "source": [
    "num_epochs = 5\n",
    "# Build Model\n",
    "model = keras.Sequential([ layers.Dense(8, activation=\"relu\"),\n",
    "                          layers.Dense(8, activation=\"relu\"),\n",
    "                          layers.Dense(8, activation=\"relu\"),\n",
    "                          layers.Dense(1, activation=\"sigmoid\")\n",
    "                         ])\n",
    "\n",
    "#Compile Model\n",
    "model.compile(optimizer=\"rmsprop\", loss=\"mse\",metrics=[\"accuracy\"])\n",
    "\n",
    "history = model.fit(partial_x_train, partial_y_train,epochs=num_epochs, batch_size=512, validation_data=(x_val, y_val))"
   ]
  },
  {
   "cell_type": "code",
   "execution_count": 45,
   "id": "d67f98b5",
   "metadata": {},
   "outputs": [
    {
     "name": "stdout",
     "output_type": "stream",
     "text": [
      "469/469 [==============================] - 2s 3ms/step - loss: 0.0571 - accuracy: 0.9430\n",
      "313/313 [==============================] - 1s 3ms/step - loss: 0.0969 - accuracy: 0.8791\n",
      "782/782 [==============================] - 2s 3ms/step - loss: 0.1079 - accuracy: 0.8590\n",
      " Training accuracy: 0.9430000185966492\n",
      " Validation accuracy: 0.8791000247001648\n",
      " Testing accuracy: 0.8589600324630737\n"
     ]
    }
   ],
   "source": [
    "results_train = model.evaluate(partial_x_train, partial_y_train) \n",
    "results_val = model.evaluate(x_val, y_val) \n",
    "results_test = model.evaluate(x_test, y_test) \n",
    "print(f\" Training accuracy: {results_train[1]}\")\n",
    "print(f\" Validation accuracy: {results_val[1]}\")\n",
    "print(f\" Testing accuracy: {results_test[1]}\")"
   ]
  },
  {
   "cell_type": "markdown",
   "id": "a0c7a004",
   "metadata": {},
   "source": [
    "**Model 6**\n",
    "* 1 Hidden Layers\n",
    "* 8 nodes (relu activation)\n",
    "* mean square error (mse) loss"
   ]
  },
  {
   "cell_type": "code",
   "execution_count": 46,
   "id": "656790e2",
   "metadata": {},
   "outputs": [
    {
     "name": "stdout",
     "output_type": "stream",
     "text": [
      "Epoch 1/20\n"
     ]
    },
    {
     "name": "stderr",
     "output_type": "stream",
     "text": [
      "2022-03-03 09:28:34.538157: I tensorflow/core/grappler/optimizers/custom_graph_optimizer_registry.cc:112] Plugin optimizer for device_type GPU is enabled.\n"
     ]
    },
    {
     "name": "stdout",
     "output_type": "stream",
     "text": [
      "29/30 [============================>.] - ETA: 0s - loss: 0.1907 - accuracy: 0.7622"
     ]
    },
    {
     "name": "stderr",
     "output_type": "stream",
     "text": [
      "2022-03-03 09:28:35.640130: I tensorflow/core/grappler/optimizers/custom_graph_optimizer_registry.cc:112] Plugin optimizer for device_type GPU is enabled.\n"
     ]
    },
    {
     "name": "stdout",
     "output_type": "stream",
     "text": [
      "30/30 [==============================] - 1s 38ms/step - loss: 0.1902 - accuracy: 0.7626 - val_loss: 0.1540 - val_accuracy: 0.8263\n",
      "Epoch 2/20\n",
      "30/30 [==============================] - 0s 16ms/step - loss: 0.1232 - accuracy: 0.8774 - val_loss: 0.1153 - val_accuracy: 0.8721\n",
      "Epoch 3/20\n",
      "30/30 [==============================] - 0s 16ms/step - loss: 0.0937 - accuracy: 0.9027 - val_loss: 0.0983 - val_accuracy: 0.8920\n",
      "Epoch 4/20\n",
      "30/30 [==============================] - 0s 16ms/step - loss: 0.0753 - accuracy: 0.9224 - val_loss: 0.0918 - val_accuracy: 0.8890\n",
      "Epoch 5/20\n",
      "30/30 [==============================] - 0s 15ms/step - loss: 0.0628 - accuracy: 0.9378 - val_loss: 0.1045 - val_accuracy: 0.8661\n",
      "Epoch 6/20\n",
      "30/30 [==============================] - 0s 15ms/step - loss: 0.0554 - accuracy: 0.9440 - val_loss: 0.0869 - val_accuracy: 0.8924\n",
      "Epoch 7/20\n",
      "30/30 [==============================] - 0s 14ms/step - loss: 0.0483 - accuracy: 0.9529 - val_loss: 0.0910 - val_accuracy: 0.8789\n",
      "Epoch 8/20\n",
      "30/30 [==============================] - 0s 16ms/step - loss: 0.0426 - accuracy: 0.9605 - val_loss: 0.0825 - val_accuracy: 0.8925\n",
      "Epoch 9/20\n",
      "30/30 [==============================] - 0s 16ms/step - loss: 0.0390 - accuracy: 0.9647 - val_loss: 0.0954 - val_accuracy: 0.8742\n",
      "Epoch 10/20\n",
      "30/30 [==============================] - 0s 15ms/step - loss: 0.0344 - accuracy: 0.9700 - val_loss: 0.0830 - val_accuracy: 0.8911\n",
      "Epoch 11/20\n",
      "30/30 [==============================] - 0s 15ms/step - loss: 0.0316 - accuracy: 0.9725 - val_loss: 0.0885 - val_accuracy: 0.8810\n",
      "Epoch 12/20\n",
      "30/30 [==============================] - 0s 15ms/step - loss: 0.0293 - accuracy: 0.9751 - val_loss: 0.0853 - val_accuracy: 0.8863\n",
      "Epoch 13/20\n",
      "30/30 [==============================] - 0s 16ms/step - loss: 0.0260 - accuracy: 0.9795 - val_loss: 0.0848 - val_accuracy: 0.8881\n",
      "Epoch 14/20\n",
      "30/30 [==============================] - 0s 16ms/step - loss: 0.0234 - accuracy: 0.9815 - val_loss: 0.0875 - val_accuracy: 0.8830\n",
      "Epoch 15/20\n",
      "30/30 [==============================] - 0s 15ms/step - loss: 0.0218 - accuracy: 0.9826 - val_loss: 0.0885 - val_accuracy: 0.8806\n",
      "Epoch 16/20\n",
      "30/30 [==============================] - 0s 15ms/step - loss: 0.0192 - accuracy: 0.9863 - val_loss: 0.0891 - val_accuracy: 0.8808\n",
      "Epoch 17/20\n",
      "30/30 [==============================] - 0s 15ms/step - loss: 0.0182 - accuracy: 0.9867 - val_loss: 0.0892 - val_accuracy: 0.8813\n",
      "Epoch 18/20\n",
      "30/30 [==============================] - 0s 16ms/step - loss: 0.0164 - accuracy: 0.9885 - val_loss: 0.0904 - val_accuracy: 0.8798\n",
      "Epoch 19/20\n",
      "30/30 [==============================] - 0s 16ms/step - loss: 0.0153 - accuracy: 0.9898 - val_loss: 0.0907 - val_accuracy: 0.8788\n",
      "Epoch 20/20\n",
      "30/30 [==============================] - 0s 15ms/step - loss: 0.0139 - accuracy: 0.9914 - val_loss: 0.0922 - val_accuracy: 0.8778\n"
     ]
    }
   ],
   "source": [
    "# Build Model\n",
    "model = keras.Sequential([ layers.Dense(8, activation=\"relu\"),\n",
    "                          layers.Dense(1, activation=\"sigmoid\")\n",
    "                         ])\n",
    "\n",
    "#Compile Model\n",
    "model.compile(optimizer=\"rmsprop\", loss=\"mse\",metrics=[\"accuracy\"])\n",
    "\n",
    "history = model.fit(partial_x_train, partial_y_train,epochs=20, batch_size=512, validation_data=(x_val, y_val))"
   ]
  },
  {
   "cell_type": "code",
   "execution_count": 47,
   "id": "a298713a",
   "metadata": {},
   "outputs": [
    {
     "data": {
      "image/png": "[encoded data removed]",
      "text/plain": [
       "<Figure size 432x288 with 1 Axes>"
      ]
     },
     "metadata": {
      "needs_background": "light"
     },
     "output_type": "display_data"
    }
   ],
   "source": [
    "history_dict = history.history\n",
    "acc = history_dict[\"accuracy\"] \n",
    "val_acc = history_dict[\"val_accuracy\"]\n",
    "\n",
    "plt.plot(range(20), acc, \"bo\", label=\"Training acc\") \n",
    "plt.plot(range(20), val_acc, \"b\", label=\"Validation acc\") \n",
    "plt.title(\"Training and validation accuracy\") \n",
    "plt.xlabel(\"Epochs\")\n",
    "plt.ylabel(\"Accuracy\")\n",
    "plt.legend()\n",
    "plt.show()"
   ]
  },
  {
   "cell_type": "markdown",
   "id": "d726130f",
   "metadata": {},
   "source": [
    "Based on the plot above the optimal number of epochs appears to be **3**"
   ]
  },
  {
   "cell_type": "code",
   "execution_count": 48,
   "id": "b54ae86c",
   "metadata": {},
   "outputs": [
    {
     "name": "stdout",
     "output_type": "stream",
     "text": [
      "Epoch 1/3\n"
     ]
    },
    {
     "name": "stderr",
     "output_type": "stream",
     "text": [
      "2022-03-03 09:29:26.085034: I tensorflow/core/grappler/optimizers/custom_graph_optimizer_registry.cc:112] Plugin optimizer for device_type GPU is enabled.\n"
     ]
    },
    {
     "name": "stdout",
     "output_type": "stream",
     "text": [
      "30/30 [==============================] - 1s 37ms/step - loss: 0.1886 - accuracy: 0.7576 - val_loss: 0.1420 - val_accuracy: 0.8601\n"
     ]
    },
    {
     "name": "stderr",
     "output_type": "stream",
     "text": [
      "2022-03-03 09:29:27.173468: I tensorflow/core/grappler/optimizers/custom_graph_optimizer_registry.cc:112] Plugin optimizer for device_type GPU is enabled.\n"
     ]
    },
    {
     "name": "stdout",
     "output_type": "stream",
     "text": [
      "Epoch 2/3\n",
      "30/30 [==============================] - 0s 16ms/step - loss: 0.1192 - accuracy: 0.8812 - val_loss: 0.1129 - val_accuracy: 0.8729\n",
      "Epoch 3/3\n",
      "30/30 [==============================] - 0s 15ms/step - loss: 0.0905 - accuracy: 0.9073 - val_loss: 0.0975 - val_accuracy: 0.8918\n"
     ]
    }
   ],
   "source": [
    "num_epochs = 3\n",
    "# Build Model\n",
    "model = keras.Sequential([ layers.Dense(8, activation=\"relu\"),\n",
    "                          layers.Dense(1, activation=\"sigmoid\")\n",
    "                         ])\n",
    "\n",
    "#Compile Model\n",
    "model.compile(optimizer=\"rmsprop\", loss=\"mse\",metrics=[\"accuracy\"])\n",
    "\n",
    "history = model.fit(partial_x_train, partial_y_train,epochs=num_epochs, batch_size=512, validation_data=(x_val, y_val))"
   ]
  },
  {
   "cell_type": "code",
   "execution_count": 49,
   "id": "e35bb75f",
   "metadata": {},
   "outputs": [
    {
     "name": "stdout",
     "output_type": "stream",
     "text": [
      "469/469 [==============================] - 1s 3ms/step - loss: 0.0731 - accuracy: 0.9334\n",
      "313/313 [==============================] - 1s 3ms/step - loss: 0.0975 - accuracy: 0.8918\n",
      "782/782 [==============================] - 2s 3ms/step - loss: 0.1050 - accuracy: 0.8779\n",
      " Training accuracy: 0.93340003490448\n",
      " Validation accuracy: 0.891800045967102\n",
      " Testing accuracy: 0.8778800368309021\n"
     ]
    }
   ],
   "source": [
    "results_train = model.evaluate(partial_x_train, partial_y_train) \n",
    "results_val = model.evaluate(x_val, y_val) \n",
    "results_test = model.evaluate(x_test, y_test) \n",
    "print(f\" Training accuracy: {results_train[1]}\")\n",
    "print(f\" Validation accuracy: {results_val[1]}\")\n",
    "print(f\" Testing accuracy: {results_test[1]}\")"
   ]
  },
  {
   "cell_type": "markdown",
   "id": "c8f07993",
   "metadata": {},
   "source": [
    "**Model 7**\n",
    "* 2 Hidden Layers\n",
    "* 32 nodes (relu activation)\n",
    "* mean square error (mse) loss"
   ]
  },
  {
   "cell_type": "code",
   "execution_count": 56,
   "id": "83b03216",
   "metadata": {},
   "outputs": [
    {
     "name": "stdout",
     "output_type": "stream",
     "text": [
      "Epoch 1/20\n"
     ]
    },
    {
     "name": "stderr",
     "output_type": "stream",
     "text": [
      "2022-03-03 09:37:04.828335: I tensorflow/core/grappler/optimizers/custom_graph_optimizer_registry.cc:112] Plugin optimizer for device_type GPU is enabled.\n"
     ]
    },
    {
     "name": "stdout",
     "output_type": "stream",
     "text": [
      "30/30 [==============================] - 1s 36ms/step - loss: 0.1776 - accuracy: 0.7525 - val_loss: 0.1358 - val_accuracy: 0.8261\n",
      "Epoch 2/20\n",
      " 1/30 [>.............................] - ETA: 0s - loss: 0.1206 - accuracy: 0.8574"
     ]
    },
    {
     "name": "stderr",
     "output_type": "stream",
     "text": [
      "2022-03-03 09:37:05.938000: I tensorflow/core/grappler/optimizers/custom_graph_optimizer_registry.cc:112] Plugin optimizer for device_type GPU is enabled.\n"
     ]
    },
    {
     "name": "stdout",
     "output_type": "stream",
     "text": [
      "30/30 [==============================] - 0s 15ms/step - loss: 0.0966 - accuracy: 0.8839 - val_loss: 0.0912 - val_accuracy: 0.8885\n",
      "Epoch 3/20\n",
      "30/30 [==============================] - 0s 13ms/step - loss: 0.0721 - accuracy: 0.9123 - val_loss: 0.0831 - val_accuracy: 0.8938\n",
      "Epoch 4/20\n",
      "30/30 [==============================] - 0s 12ms/step - loss: 0.0569 - accuracy: 0.9326 - val_loss: 0.0912 - val_accuracy: 0.8805\n",
      "Epoch 5/20\n",
      "30/30 [==============================] - 0s 12ms/step - loss: 0.0476 - accuracy: 0.9447 - val_loss: 0.0856 - val_accuracy: 0.8868\n",
      "Epoch 6/20\n",
      "30/30 [==============================] - 0s 12ms/step - loss: 0.0370 - accuracy: 0.9591 - val_loss: 0.0822 - val_accuracy: 0.8914\n",
      "Epoch 7/20\n",
      "30/30 [==============================] - 0s 12ms/step - loss: 0.0349 - accuracy: 0.9599 - val_loss: 0.0848 - val_accuracy: 0.8887\n",
      "Epoch 8/20\n",
      "30/30 [==============================] - 0s 14ms/step - loss: 0.0249 - accuracy: 0.9747 - val_loss: 0.1060 - val_accuracy: 0.8604\n",
      "Epoch 9/20\n",
      "30/30 [==============================] - 0s 13ms/step - loss: 0.0229 - accuracy: 0.9751 - val_loss: 0.0891 - val_accuracy: 0.8829\n",
      "Epoch 10/20\n",
      "30/30 [==============================] - 0s 13ms/step - loss: 0.0171 - accuracy: 0.9829 - val_loss: 0.0889 - val_accuracy: 0.8856\n",
      "Epoch 11/20\n",
      "30/30 [==============================] - 0s 13ms/step - loss: 0.0167 - accuracy: 0.9829 - val_loss: 0.0916 - val_accuracy: 0.8817\n",
      "Epoch 12/20\n",
      "30/30 [==============================] - 0s 12ms/step - loss: 0.0145 - accuracy: 0.9842 - val_loss: 0.0922 - val_accuracy: 0.8826\n",
      "Epoch 13/20\n",
      "30/30 [==============================] - 0s 12ms/step - loss: 0.0101 - accuracy: 0.9899 - val_loss: 0.0940 - val_accuracy: 0.8801\n",
      "Epoch 14/20\n",
      "30/30 [==============================] - 0s 12ms/step - loss: 0.0119 - accuracy: 0.9873 - val_loss: 0.0955 - val_accuracy: 0.8798\n",
      "Epoch 15/20\n",
      "30/30 [==============================] - 0s 12ms/step - loss: 0.0043 - accuracy: 0.9965 - val_loss: 0.0974 - val_accuracy: 0.8769\n",
      "Epoch 16/20\n",
      "30/30 [==============================] - 0s 12ms/step - loss: 0.0107 - accuracy: 0.9883 - val_loss: 0.0988 - val_accuracy: 0.8764\n",
      "Epoch 17/20\n",
      "30/30 [==============================] - 0s 12ms/step - loss: 0.0113 - accuracy: 0.9863 - val_loss: 0.0998 - val_accuracy: 0.8752\n",
      "Epoch 18/20\n",
      "30/30 [==============================] - 0s 12ms/step - loss: 0.0027 - accuracy: 0.9977 - val_loss: 0.1008 - val_accuracy: 0.8753\n",
      "Epoch 19/20\n",
      "30/30 [==============================] - 0s 13ms/step - loss: 0.0025 - accuracy: 0.9977 - val_loss: 0.1085 - val_accuracy: 0.8674\n",
      "Epoch 20/20\n",
      "30/30 [==============================] - 0s 13ms/step - loss: 0.0096 - accuracy: 0.9887 - val_loss: 0.1019 - val_accuracy: 0.8765\n"
     ]
    }
   ],
   "source": [
    "# Build Model\n",
    "model = keras.Sequential([ layers.Dense(32, activation=\"relu\"),\n",
    "                          layers.Dense(32, activation=\"relu\"),\n",
    "                          layers.Dense(1, activation=\"sigmoid\")\n",
    "                         ])\n",
    "\n",
    "#Compile Model\n",
    "model.compile(optimizer=\"rmsprop\", loss=\"mse\",metrics=[\"accuracy\"])\n",
    "\n",
    "history = model.fit(partial_x_train, partial_y_train,epochs=20, batch_size=512, validation_data=(x_val, y_val))"
   ]
  },
  {
   "cell_type": "code",
   "execution_count": 57,
   "id": "8340bad7",
   "metadata": {},
   "outputs": [
    {
     "data": {
      "image/png": "[encoded data removed]",
      "text/plain": [
       "<Figure size 432x288 with 1 Axes>"
      ]
     },
     "metadata": {
      "needs_background": "light"
     },
     "output_type": "display_data"
    }
   ],
   "source": [
    "history_dict = history.history\n",
    "acc = history_dict[\"accuracy\"] \n",
    "val_acc = history_dict[\"val_accuracy\"]\n",
    "\n",
    "plt.plot(range(20), acc, \"bo\", label=\"Training acc\") \n",
    "plt.plot(range(20), val_acc, \"b\", label=\"Validation acc\") \n",
    "plt.title(\"Training and validation accuracy\") \n",
    "plt.xlabel(\"Epochs\")\n",
    "plt.ylabel(\"Accuracy\")\n",
    "plt.legend()\n",
    "plt.show()"
   ]
  },
  {
   "cell_type": "markdown",
   "id": "15e0ad7d",
   "metadata": {},
   "source": [
    "Based on the plot above the optimal number of epochs appears to be **3**"
   ]
  },
  {
   "cell_type": "code",
   "execution_count": 58,
   "id": "1b7d77c6",
   "metadata": {},
   "outputs": [
    {
     "name": "stdout",
     "output_type": "stream",
     "text": [
      "Epoch 1/3\n"
     ]
    },
    {
     "name": "stderr",
     "output_type": "stream",
     "text": [
      "2022-03-03 09:37:54.381321: I tensorflow/core/grappler/optimizers/custom_graph_optimizer_registry.cc:112] Plugin optimizer for device_type GPU is enabled.\n"
     ]
    },
    {
     "name": "stdout",
     "output_type": "stream",
     "text": [
      "30/30 [==============================] - 1s 36ms/step - loss: 0.1798 - accuracy: 0.7431 - val_loss: 0.1553 - val_accuracy: 0.7858\n",
      "Epoch 2/3\n",
      " 1/30 [>.............................] - ETA: 0s - loss: 0.1273 - accuracy: 0.8340"
     ]
    },
    {
     "name": "stderr",
     "output_type": "stream",
     "text": [
      "2022-03-03 09:37:55.498553: I tensorflow/core/grappler/optimizers/custom_graph_optimizer_registry.cc:112] Plugin optimizer for device_type GPU is enabled.\n"
     ]
    },
    {
     "name": "stdout",
     "output_type": "stream",
     "text": [
      "30/30 [==============================] - 0s 15ms/step - loss: 0.0958 - accuracy: 0.8835 - val_loss: 0.1040 - val_accuracy: 0.8683\n",
      "Epoch 3/3\n",
      "30/30 [==============================] - 0s 12ms/step - loss: 0.0714 - accuracy: 0.9144 - val_loss: 0.0865 - val_accuracy: 0.8871\n"
     ]
    }
   ],
   "source": [
    "num_epochs = 3\n",
    "# Build Model\n",
    "model = keras.Sequential([ layers.Dense(32, activation=\"relu\"),\n",
    "                          layers.Dense(32, activation=\"relu\"),\n",
    "                          layers.Dense(1, activation=\"sigmoid\")\n",
    "                         ])\n",
    "\n",
    "#Compile Model\n",
    "model.compile(optimizer=\"rmsprop\", loss=\"mse\",metrics=[\"accuracy\"])\n",
    "\n",
    "history = model.fit(partial_x_train, partial_y_train,epochs=num_epochs, batch_size=512, validation_data=(x_val, y_val))"
   ]
  },
  {
   "cell_type": "code",
   "execution_count": 59,
   "id": "27bfd5ba",
   "metadata": {},
   "outputs": [
    {
     "name": "stdout",
     "output_type": "stream",
     "text": [
      "469/469 [==============================] - 2s 3ms/step - loss: 0.0488 - accuracy: 0.9481\n",
      "313/313 [==============================] - 1s 3ms/step - loss: 0.0865 - accuracy: 0.8871\n",
      "782/782 [==============================] - 3s 3ms/step - loss: 0.0924 - accuracy: 0.8792\n",
      " Training accuracy: 0.9481333494186401\n",
      " Validation accuracy: 0.8871000409126282\n",
      " Testing accuracy: 0.8792400360107422\n"
     ]
    }
   ],
   "source": [
    "results_train = model.evaluate(partial_x_train, partial_y_train) \n",
    "results_val = model.evaluate(x_val, y_val) \n",
    "results_test = model.evaluate(x_test, y_test) \n",
    "print(f\" Training accuracy: {results_train[1]}\")\n",
    "print(f\" Validation accuracy: {results_val[1]}\")\n",
    "print(f\" Testing accuracy: {results_test[1]}\")"
   ]
  },
  {
   "cell_type": "markdown",
   "id": "f03d2724",
   "metadata": {},
   "source": [
    "**Model 8**\n",
    "* 3 Hidden Layers\n",
    "* 32 nodes (relu activation)\n",
    "* mean square error (mse) loss"
   ]
  },
  {
   "cell_type": "code",
   "execution_count": 79,
   "id": "6f13ba25",
   "metadata": {},
   "outputs": [
    {
     "name": "stdout",
     "output_type": "stream",
     "text": [
      "Epoch 1/20\n"
     ]
    },
    {
     "name": "stderr",
     "output_type": "stream",
     "text": [
      "2022-03-03 09:43:00.422804: I tensorflow/core/grappler/optimizers/custom_graph_optimizer_registry.cc:112] Plugin optimizer for device_type GPU is enabled.\n"
     ]
    },
    {
     "name": "stdout",
     "output_type": "stream",
     "text": [
      "30/30 [==============================] - 2s 37ms/step - loss: 0.1788 - accuracy: 0.7495 - val_loss: 0.1304 - val_accuracy: 0.8343\n",
      "Epoch 2/20\n",
      " 1/30 [>.............................] - ETA: 0s - loss: 0.1115 - accuracy: 0.8613"
     ]
    },
    {
     "name": "stderr",
     "output_type": "stream",
     "text": [
      "2022-03-03 09:43:01.626027: I tensorflow/core/grappler/optimizers/custom_graph_optimizer_registry.cc:112] Plugin optimizer for device_type GPU is enabled.\n"
     ]
    },
    {
     "name": "stdout",
     "output_type": "stream",
     "text": [
      "30/30 [==============================] - 0s 15ms/step - loss: 0.0934 - accuracy: 0.8853 - val_loss: 0.1262 - val_accuracy: 0.8274\n",
      "Epoch 3/20\n",
      "30/30 [==============================] - 0s 13ms/step - loss: 0.0707 - accuracy: 0.9099 - val_loss: 0.0955 - val_accuracy: 0.8708\n",
      "Epoch 4/20\n",
      "30/30 [==============================] - 0s 13ms/step - loss: 0.0541 - accuracy: 0.9343 - val_loss: 0.0812 - val_accuracy: 0.8937\n",
      "Epoch 5/20\n",
      "30/30 [==============================] - 0s 13ms/step - loss: 0.0412 - accuracy: 0.9517 - val_loss: 0.1684 - val_accuracy: 0.7842\n",
      "Epoch 6/20\n",
      "30/30 [==============================] - 0s 13ms/step - loss: 0.0340 - accuracy: 0.9592 - val_loss: 0.0913 - val_accuracy: 0.8805\n",
      "Epoch 7/20\n",
      "30/30 [==============================] - 0s 13ms/step - loss: 0.0333 - accuracy: 0.9599 - val_loss: 0.0853 - val_accuracy: 0.8872\n",
      "Epoch 8/20\n",
      "30/30 [==============================] - 0s 13ms/step - loss: 0.0230 - accuracy: 0.9745 - val_loss: 0.0886 - val_accuracy: 0.8862\n",
      "Epoch 9/20\n",
      "30/30 [==============================] - 0s 13ms/step - loss: 0.0200 - accuracy: 0.9785 - val_loss: 0.0902 - val_accuracy: 0.8843\n",
      "Epoch 10/20\n",
      "30/30 [==============================] - 0s 13ms/step - loss: 0.0183 - accuracy: 0.9789 - val_loss: 0.0916 - val_accuracy: 0.8840\n",
      "Epoch 11/20\n",
      "30/30 [==============================] - 0s 13ms/step - loss: 0.0159 - accuracy: 0.9819 - val_loss: 0.0930 - val_accuracy: 0.8823\n",
      "Epoch 12/20\n",
      "30/30 [==============================] - 0s 13ms/step - loss: 0.0055 - accuracy: 0.9951 - val_loss: 0.0987 - val_accuracy: 0.8786\n",
      "Epoch 13/20\n",
      "30/30 [==============================] - 0s 13ms/step - loss: 0.0153 - accuracy: 0.9834 - val_loss: 0.0964 - val_accuracy: 0.8810\n",
      "Epoch 14/20\n",
      "30/30 [==============================] - 0s 13ms/step - loss: 0.0038 - accuracy: 0.9963 - val_loss: 0.0989 - val_accuracy: 0.8798\n",
      "Epoch 15/20\n",
      "30/30 [==============================] - 0s 13ms/step - loss: 0.0161 - accuracy: 0.9811 - val_loss: 0.0988 - val_accuracy: 0.8796\n",
      "Epoch 16/20\n",
      "30/30 [==============================] - 0s 13ms/step - loss: 0.0031 - accuracy: 0.9969 - val_loss: 0.1002 - val_accuracy: 0.8790\n",
      "Epoch 17/20\n",
      "30/30 [==============================] - 0s 13ms/step - loss: 0.0132 - accuracy: 0.9849 - val_loss: 0.1007 - val_accuracy: 0.8788\n",
      "Epoch 18/20\n",
      "30/30 [==============================] - 0s 13ms/step - loss: 0.0024 - accuracy: 0.9977 - val_loss: 0.1016 - val_accuracy: 0.8791\n",
      "Epoch 19/20\n",
      "30/30 [==============================] - 0s 13ms/step - loss: 0.0023 - accuracy: 0.9977 - val_loss: 0.1033 - val_accuracy: 0.8781\n",
      "Epoch 20/20\n",
      "30/30 [==============================] - 0s 13ms/step - loss: 0.0123 - accuracy: 0.9865 - val_loss: 0.1032 - val_accuracy: 0.8769\n"
     ]
    }
   ],
   "source": [
    "# Build Model\n",
    "model = keras.Sequential([ layers.Dense(32, activation=\"relu\"),\n",
    "                          layers.Dense(32, activation=\"relu\"),\n",
    "                          layers.Dense(32, activation=\"relu\"),\n",
    "                          layers.Dense(1, activation=\"sigmoid\")\n",
    "                         ])\n",
    "\n",
    "#Compile Model\n",
    "model.compile(optimizer=\"rmsprop\", loss=\"mse\",metrics=[\"accuracy\"])\n",
    "\n",
    "history = model.fit(partial_x_train, partial_y_train,epochs=20, batch_size=512, validation_data=(x_val, y_val))"
   ]
  },
  {
   "cell_type": "code",
   "execution_count": 81,
   "id": "444b8c92",
   "metadata": {
    "scrolled": true
   },
   "outputs": [
    {
     "data": {
      "image/png": "[encoded data removed]",
      "text/plain": [
       "<Figure size 432x288 with 1 Axes>"
      ]
     },
     "metadata": {
      "needs_background": "light"
     },
     "output_type": "display_data"
    }
   ],
   "source": [
    "history_dict = history.history\n",
    "acc = history_dict[\"accuracy\"] \n",
    "val_acc = history_dict[\"val_accuracy\"]\n",
    "\n",
    "plt.plot(range(20), acc, \"bo\", label=\"Training acc\") \n",
    "plt.plot(range(20), val_acc, \"b\", label=\"Validation acc\") \n",
    "plt.title(\"Training and validation accuracy\") \n",
    "plt.xlabel(\"Epochs\")\n",
    "plt.ylabel(\"Accuracy\")\n",
    "plt.legend()\n",
    "plt.show()"
   ]
  },
  {
   "cell_type": "markdown",
   "id": "f3b13030",
   "metadata": {},
   "source": [
    "Based on the plot above the optimal number of epochs appears to be **4**"
   ]
  },
  {
   "cell_type": "code",
   "execution_count": 82,
   "id": "c41703ea",
   "metadata": {},
   "outputs": [
    {
     "name": "stdout",
     "output_type": "stream",
     "text": [
      "Epoch 1/4\n"
     ]
    },
    {
     "name": "stderr",
     "output_type": "stream",
     "text": [
      "2022-03-03 09:46:41.846436: I tensorflow/core/grappler/optimizers/custom_graph_optimizer_registry.cc:112] Plugin optimizer for device_type GPU is enabled.\n"
     ]
    },
    {
     "name": "stdout",
     "output_type": "stream",
     "text": [
      "30/30 [==============================] - 2s 36ms/step - loss: 0.1827 - accuracy: 0.7438 - val_loss: 0.1321 - val_accuracy: 0.8279\n"
     ]
    },
    {
     "name": "stderr",
     "output_type": "stream",
     "text": [
      "2022-03-03 09:46:43.049930: I tensorflow/core/grappler/optimizers/custom_graph_optimizer_registry.cc:112] Plugin optimizer for device_type GPU is enabled.\n"
     ]
    },
    {
     "name": "stdout",
     "output_type": "stream",
     "text": [
      "Epoch 2/4\n",
      "30/30 [==============================] - 0s 16ms/step - loss: 0.0966 - accuracy: 0.8821 - val_loss: 0.1331 - val_accuracy: 0.8167\n",
      "Epoch 3/4\n",
      "30/30 [==============================] - 0s 14ms/step - loss: 0.0686 - accuracy: 0.9157 - val_loss: 0.1318 - val_accuracy: 0.8244\n",
      "Epoch 4/4\n",
      "30/30 [==============================] - 0s 13ms/step - loss: 0.0544 - accuracy: 0.9333 - val_loss: 0.0833 - val_accuracy: 0.8912\n"
     ]
    }
   ],
   "source": [
    "num_epochs = 4\n",
    "# Build Model\n",
    "model = keras.Sequential([ layers.Dense(32, activation=\"relu\"),\n",
    "                          layers.Dense(32, activation=\"relu\"),\n",
    "                          layers.Dense(32, activation=\"relu\"),\n",
    "                          layers.Dense(1, activation=\"sigmoid\")\n",
    "                         ])\n",
    "\n",
    "#Compile Model\n",
    "model.compile(optimizer=\"rmsprop\", loss=\"mse\",metrics=[\"accuracy\"])\n",
    "\n",
    "history = model.fit(partial_x_train, partial_y_train,epochs=num_epochs, batch_size=512, validation_data=(x_val, y_val))"
   ]
  },
  {
   "cell_type": "code",
   "execution_count": 83,
   "id": "6790f29c",
   "metadata": {},
   "outputs": [
    {
     "name": "stdout",
     "output_type": "stream",
     "text": [
      "469/469 [==============================] - 2s 3ms/step - loss: 0.0324 - accuracy: 0.9657\n",
      "313/313 [==============================] - 1s 4ms/step - loss: 0.0833 - accuracy: 0.8912\n",
      "782/782 [==============================] - 3s 3ms/step - loss: 0.0928 - accuracy: 0.8761\n",
      " Training accuracy: 0.9657333493232727\n",
      " Validation accuracy: 0.891200065612793\n",
      " Testing accuracy: 0.8760800361633301\n"
     ]
    }
   ],
   "source": [
    "results_train = model.evaluate(partial_x_train, partial_y_train) \n",
    "results_val = model.evaluate(x_val, y_val) \n",
    "results_test = model.evaluate(x_test, y_test) \n",
    "print(f\" Training accuracy: {results_train[1]}\")\n",
    "print(f\" Validation accuracy: {results_val[1]}\")\n",
    "print(f\" Testing accuracy: {results_test[1]}\")"
   ]
  },
  {
   "cell_type": "markdown",
   "id": "c33f3850",
   "metadata": {},
   "source": [
    "**Model 9**\n",
    "* 1 Hidden Layers\n",
    "* 32 nodes (relu activation)\n",
    "* mean square error (mse) loss"
   ]
  },
  {
   "cell_type": "code",
   "execution_count": 84,
   "id": "0b46c931",
   "metadata": {},
   "outputs": [
    {
     "name": "stdout",
     "output_type": "stream",
     "text": [
      "Epoch 1/20\n"
     ]
    },
    {
     "name": "stderr",
     "output_type": "stream",
     "text": [
      "2022-03-03 09:47:51.969371: I tensorflow/core/grappler/optimizers/custom_graph_optimizer_registry.cc:112] Plugin optimizer for device_type GPU is enabled.\n"
     ]
    },
    {
     "name": "stdout",
     "output_type": "stream",
     "text": [
      "30/30 [==============================] - 1s 38ms/step - loss: 0.1771 - accuracy: 0.7557 - val_loss: 0.1216 - val_accuracy: 0.8641\n"
     ]
    },
    {
     "name": "stderr",
     "output_type": "stream",
     "text": [
      "2022-03-03 09:47:53.117198: I tensorflow/core/grappler/optimizers/custom_graph_optimizer_registry.cc:112] Plugin optimizer for device_type GPU is enabled.\n"
     ]
    },
    {
     "name": "stdout",
     "output_type": "stream",
     "text": [
      "Epoch 2/20\n",
      "30/30 [==============================] - 1s 17ms/step - loss: 0.0970 - accuracy: 0.8948 - val_loss: 0.1157 - val_accuracy: 0.8535\n",
      "Epoch 3/20\n",
      "30/30 [==============================] - 0s 14ms/step - loss: 0.0743 - accuracy: 0.9168 - val_loss: 0.0865 - val_accuracy: 0.8951\n",
      "Epoch 4/20\n",
      "30/30 [==============================] - 0s 14ms/step - loss: 0.0603 - accuracy: 0.9345 - val_loss: 0.0822 - val_accuracy: 0.8973\n",
      "Epoch 5/20\n",
      "30/30 [==============================] - 0s 14ms/step - loss: 0.0494 - accuracy: 0.9478 - val_loss: 0.0938 - val_accuracy: 0.8766\n",
      "Epoch 6/20\n",
      "30/30 [==============================] - 0s 14ms/step - loss: 0.0445 - accuracy: 0.9518 - val_loss: 0.0808 - val_accuracy: 0.8947\n",
      "Epoch 7/20\n",
      "30/30 [==============================] - 0s 14ms/step - loss: 0.0354 - accuracy: 0.9655 - val_loss: 0.1019 - val_accuracy: 0.8629\n",
      "Epoch 8/20\n",
      "30/30 [==============================] - 0s 13ms/step - loss: 0.0324 - accuracy: 0.9689 - val_loss: 0.0907 - val_accuracy: 0.8818\n",
      "Epoch 9/20\n",
      "30/30 [==============================] - 0s 14ms/step - loss: 0.0276 - accuracy: 0.9735 - val_loss: 0.0842 - val_accuracy: 0.8863\n",
      "Epoch 10/20\n",
      "30/30 [==============================] - 0s 15ms/step - loss: 0.0236 - accuracy: 0.9788 - val_loss: 0.0858 - val_accuracy: 0.8854\n",
      "Epoch 11/20\n",
      "30/30 [==============================] - 0s 16ms/step - loss: 0.0210 - accuracy: 0.9817 - val_loss: 0.0906 - val_accuracy: 0.8797\n",
      "Epoch 12/20\n",
      "30/30 [==============================] - 0s 14ms/step - loss: 0.0203 - accuracy: 0.9814 - val_loss: 0.0890 - val_accuracy: 0.8803\n",
      "Epoch 13/20\n",
      "30/30 [==============================] - 0s 14ms/step - loss: 0.0157 - accuracy: 0.9871 - val_loss: 0.0888 - val_accuracy: 0.8819\n",
      "Epoch 14/20\n",
      "30/30 [==============================] - 0s 14ms/step - loss: 0.0137 - accuracy: 0.9897 - val_loss: 0.0911 - val_accuracy: 0.8773\n",
      "Epoch 15/20\n",
      "30/30 [==============================] - 0s 15ms/step - loss: 0.0135 - accuracy: 0.9893 - val_loss: 0.0934 - val_accuracy: 0.8756\n",
      "Epoch 16/20\n",
      "30/30 [==============================] - 0s 16ms/step - loss: 0.0110 - accuracy: 0.9917 - val_loss: 0.0939 - val_accuracy: 0.8764\n",
      "Epoch 17/20\n",
      "30/30 [==============================] - 0s 14ms/step - loss: 0.0102 - accuracy: 0.9920 - val_loss: 0.0938 - val_accuracy: 0.8768\n",
      "Epoch 18/20\n",
      "30/30 [==============================] - 0s 14ms/step - loss: 0.0096 - accuracy: 0.9915 - val_loss: 0.0950 - val_accuracy: 0.8762\n",
      "Epoch 19/20\n",
      "30/30 [==============================] - 0s 14ms/step - loss: 0.0087 - accuracy: 0.9928 - val_loss: 0.0965 - val_accuracy: 0.8766\n",
      "Epoch 20/20\n",
      "30/30 [==============================] - 0s 13ms/step - loss: 0.0053 - accuracy: 0.9967 - val_loss: 0.1018 - val_accuracy: 0.8701\n"
     ]
    }
   ],
   "source": [
    "# Build Model\n",
    "model = keras.Sequential([ layers.Dense(32, activation=\"relu\"),\n",
    "                          layers.Dense(1, activation=\"sigmoid\")\n",
    "                         ])\n",
    "\n",
    "#Compile Model\n",
    "model.compile(optimizer=\"rmsprop\", loss=\"mse\",metrics=[\"accuracy\"])\n",
    "\n",
    "history = model.fit(partial_x_train, partial_y_train,epochs=20, batch_size=512, validation_data=(x_val, y_val))"
   ]
  },
  {
   "cell_type": "code",
   "execution_count": 85,
   "id": "c921cd26",
   "metadata": {},
   "outputs": [
    {
     "data": {
      "image/png": "[encoded data removed]",
      "text/plain": [
       "<Figure size 432x288 with 1 Axes>"
      ]
     },
     "metadata": {
      "needs_background": "light"
     },
     "output_type": "display_data"
    }
   ],
   "source": [
    "history_dict = history.history\n",
    "acc = history_dict[\"accuracy\"] \n",
    "val_acc = history_dict[\"val_accuracy\"]\n",
    "\n",
    "plt.plot(range(20), acc, \"bo\", label=\"Training acc\") \n",
    "plt.plot(range(20), val_acc, \"b\", label=\"Validation acc\") \n",
    "plt.title(\"Training and validation accuracy\") \n",
    "plt.xlabel(\"Epochs\")\n",
    "plt.ylabel(\"Accuracy\")\n",
    "plt.legend()\n",
    "plt.show()"
   ]
  },
  {
   "cell_type": "markdown",
   "id": "9a67454e",
   "metadata": {},
   "source": [
    "Based on the plot above the optimal number of epochs appears to be **4**"
   ]
  },
  {
   "cell_type": "code",
   "execution_count": 90,
   "id": "9f21382c",
   "metadata": {},
   "outputs": [
    {
     "name": "stdout",
     "output_type": "stream",
     "text": [
      "Epoch 1/4\n"
     ]
    },
    {
     "name": "stderr",
     "output_type": "stream",
     "text": [
      "2022-03-03 09:49:34.085035: I tensorflow/core/grappler/optimizers/custom_graph_optimizer_registry.cc:112] Plugin optimizer for device_type GPU is enabled.\n"
     ]
    },
    {
     "name": "stdout",
     "output_type": "stream",
     "text": [
      "26/30 [=========================>....] - ETA: 0s - loss: 0.1863 - accuracy: 0.7400"
     ]
    },
    {
     "name": "stderr",
     "output_type": "stream",
     "text": [
      "2022-03-03 09:49:35.141419: I tensorflow/core/grappler/optimizers/custom_graph_optimizer_registry.cc:112] Plugin optimizer for device_type GPU is enabled.\n"
     ]
    },
    {
     "name": "stdout",
     "output_type": "stream",
     "text": [
      "30/30 [==============================] - 1s 35ms/step - loss: 0.1799 - accuracy: 0.7529 - val_loss: 0.1189 - val_accuracy: 0.8704\n",
      "Epoch 2/4\n",
      "30/30 [==============================] - 0s 15ms/step - loss: 0.1012 - accuracy: 0.8842 - val_loss: 0.1034 - val_accuracy: 0.8766\n",
      "Epoch 3/4\n",
      "30/30 [==============================] - 0s 15ms/step - loss: 0.0742 - accuracy: 0.9185 - val_loss: 0.0924 - val_accuracy: 0.8876\n",
      "Epoch 4/4\n",
      "30/30 [==============================] - 0s 14ms/step - loss: 0.0619 - accuracy: 0.9322 - val_loss: 0.0833 - val_accuracy: 0.8938\n"
     ]
    }
   ],
   "source": [
    "num_epochs = 4\n",
    "# Build Model\n",
    "model = keras.Sequential([ layers.Dense(32, activation=\"relu\"),\n",
    "                          layers.Dense(1, activation=\"sigmoid\")\n",
    "                         ])\n",
    "\n",
    "#Compile Model\n",
    "model.compile(optimizer=\"rmsprop\", loss=\"mse\",metrics=[\"accuracy\"])\n",
    "\n",
    "history = model.fit(partial_x_train, partial_y_train,epochs=num_epochs, batch_size=512, validation_data=(x_val, y_val))"
   ]
  },
  {
   "cell_type": "code",
   "execution_count": 91,
   "id": "f2b37b48",
   "metadata": {},
   "outputs": [
    {
     "name": "stdout",
     "output_type": "stream",
     "text": [
      "469/469 [==============================] - 2s 3ms/step - loss: 0.0450 - accuracy: 0.9579\n",
      "313/313 [==============================] - 1s 3ms/step - loss: 0.0833 - accuracy: 0.8938\n",
      "782/782 [==============================] - 3s 3ms/step - loss: 0.0899 - accuracy: 0.8859\n",
      " Training accuracy: 0.9579333662986755\n",
      " Validation accuracy: 0.8938000202178955\n",
      " Testing accuracy: 0.8858800530433655\n"
     ]
    }
   ],
   "source": [
    "results_train = model.evaluate(partial_x_train, partial_y_train) \n",
    "results_val = model.evaluate(x_val, y_val) \n",
    "results_test = model.evaluate(x_test, y_test) \n",
    "print(f\" Training accuracy: {results_train[1]}\")\n",
    "print(f\" Validation accuracy: {results_val[1]}\")\n",
    "print(f\" Testing accuracy: {results_test[1]}\")"
   ]
  },
  {
   "cell_type": "code",
   "execution_count": null,
   "id": "97df1ba0",
   "metadata": {},
   "outputs": [],
   "source": []
  }
 ],
 "metadata": {
  "kernelspec": {
   "display_name": "Python 3 (ipykernel)",
   "language": "python",
   "name": "python3"
  },
  "language_info": {
   "codemirror_mode": {
    "name": "ipython",
    "version": 3
   },
   "file_extension": ".py",
   "mimetype": "text/x-python",
   "name": "python",
   "nbconvert_exporter": "python",
   "pygments_lexer": "ipython3",
   "version": "3.9.7"
  }
 },
 "nbformat": 4,
 "nbformat_minor": 5
}
